{
 "cells": [
  {
   "cell_type": "code",
   "execution_count": 1,
   "id": "02d032f3-56a2-48f8-b4f8-feab537ee8e5",
   "metadata": {},
   "outputs": [],
   "source": [
    "# Reuse DSA code from previous\n",
    "\n",
    "q = 0xf4f47f05794b256174bba6e9b396a7707e563c5b\n",
    "p_hex = '800000000000000089e1855218a0e7dac38136ffafa72eda7' \\\n",
    "        '859f2171e25e65eac698c1702578b07dc2a1076da241c76c6' \\\n",
    "        '2d374d8389ea5aeffd3226a0530cc565f3bf6b50929139ebe' \\\n",
    "        'ac04f48c3c84afb796d61e5a4f9a8fda812ab59494232c7d2' \\\n",
    "        'b4deb50aa18ee9e132bfa85ac4374d7f9091abc3d015efc87' \\\n",
    "        '1a584471bb1'\n",
    "g_hex = '5958c9d3898b224b12672c0b98e06c60df923cb8bc999d119' \\\n",
    "        '458fef538b8fa4046c8db53039db620c094c9fa077ef389b5' \\\n",
    "        '322a559946a71903f990f1f7e0e025e2d7f7cf494aff1a047' \\\n",
    "        '0f5b64c36b625a097f1651fe775323556fe00b3608c887892' \\\n",
    "        '878480e99041be601a62166ca6894bdd41a7054ec89f756ba' \\\n",
    "        '9fc95302291'\n",
    "\n",
    "p = int(p_hex, base = 16)\n",
    "g = int(g_hex, base = 16)\n",
    "\n",
    "N = 40*4\n",
    "L = len(p_hex)*4\n",
    "assert (p-1) % q == 0"
   ]
  },
  {
   "cell_type": "code",
   "execution_count": 2,
   "id": "530e4c59-35e9-4064-8053-228a26b14649",
   "metadata": {},
   "outputs": [],
   "source": [
    "from hashlib import sha256\n",
    "\n",
    "# Create a hash function with |H| = N bits output\n",
    "def Hash(x: bytes, N = N):\n",
    "    assert type(x) is bytes\n",
    "    assert N <= 256\n",
    "    digest_bytes = sha256(x).digest()\n",
    "    digest_int = int.from_bytes(digest_bytes, byteorder = 'big')\n",
    "    return digest_int & ( ( 0b1 << N ) - 1 )\n",
    "\n",
    "assert Hash(b'abc') < 2**N"
   ]
  },
  {
   "cell_type": "code",
   "execution_count": 3,
   "id": "32ca999e-1999-4756-b1a1-a4defd0684f5",
   "metadata": {},
   "outputs": [],
   "source": [
    "from random import randint\n",
    "\n",
    "# Commenting out some assert statments because I think that's the point of the attack\n",
    "\n",
    "def DSAGeneratePrivateKey(p = p, q = q, g = g):\n",
    "    return randint(1, q-1)\n",
    "\n",
    "def DSAGeneratePublicKey(x, p = p, q = q, g = g ):\n",
    "    assert type(x) is int and 1 <= x <= q-1\n",
    "    return pow(g, x, p)\n",
    "\n",
    "def DSASign(message, x, p = p, q = q, g = g, H = Hash):\n",
    "    # x is the privkey\n",
    "    assert type(message) is bytes\n",
    "    assert type(x) is int and 1 <= x <= q-1\n",
    "    \n",
    "    k = randint(1, q-1)\n",
    "    r = pow(g, k, p) % q\n",
    "    \n",
    "    k_inv = pow(k, q-2, q) # https://en.wikipedia.org/wiki/Fermat%27s_little_theorem\n",
    "    assert (k*k_inv) % q == 1\n",
    "    s = ( k_inv*( H(message) + x*r  ) ) % q\n",
    "    # assert s != 0 and r != 0\n",
    "    \n",
    "    \n",
    "    signature = dict(r = r, s = s)\n",
    "    return signature\n",
    "    \n",
    "\n",
    "def DSAVerify(message, r, s, y, p = p, q = q, g = g, H = Hash):\n",
    "    # y is the pubkey\n",
    "    assert type(message) is bytes\n",
    "    # assert 0 < r < q \n",
    "    # assert 0 < s < q\n",
    "    \n",
    "    w  = pow(s, q-2, q) # w is s inverse, again using FLT\n",
    "    assert w*s % q == 1\n",
    "    u1 = w*H(message) % q\n",
    "    u2 = w*r % q\n",
    "    \n",
    "    # Using property (A * B) mod C = (A mod C * B mod C) mod C\n",
    "    v  = pow(g, u1, p) * pow(y, u2, p)\n",
    "    v %= p\n",
    "    v %= q\n",
    "    \n",
    "    return True if v == r else False\n",
    "\n",
    "def ModInv(x, p):\n",
    "    # Using Fermat's little theorem\n",
    "    y = pow(x, p-2, p)\n",
    "    assert ( x*y ) % p == 1\n",
    "    return y"
   ]
  },
  {
   "cell_type": "code",
   "execution_count": 4,
   "id": "220818e3-0435-438a-a653-6bd17e74050e",
   "metadata": {},
   "outputs": [
    {
     "name": "stdout",
     "output_type": "stream",
     "text": [
      "Signature: r = 0, s = 7506716411092445803742951501475697472135831025\n"
     ]
    }
   ],
   "source": [
    "# Now, execute the attack with g = 0\n",
    "\n",
    "privkey = DSAGeneratePrivateKey(g = 0)\n",
    "pubkey  = DSAGeneratePublicKey(privkey, g = 0)\n",
    "\n",
    "message = b'Hello, world!'\n",
    "signature = DSASign(message, privkey, g = 0)\n",
    "\n",
    "# r = 0 in this signature, which breaks a lot of the important mathematic properties\n",
    "print('Signature: r = {r}, s = {s}'.format(**signature))\n",
    "\n",
    "# The signature verifies...\n",
    "assert DSAVerify(message, y = pubkey, **signature, g = 0)\n",
    "\n",
    "# But it also verifies any other string!!!\n",
    "assert DSAVerify(message = b'Goodbye, world.', y = pubkey, **signature, g = 0)\n"
   ]
  },
  {
   "cell_type": "code",
   "execution_count": 5,
   "id": "1d548fa1-9d72-4972-8f89-173ecd062747",
   "metadata": {},
   "outputs": [],
   "source": [
    "# Now, execute the attack with g = p+1\n",
    "\n",
    "privkey = DSAGeneratePrivateKey(g = p+1)\n",
    "pubkey  = DSAGeneratePublicKey(privkey, g = p+1)\n",
    "\n",
    "# Generate an arbitrary message\n",
    "message = b'sdkfjalskdjflaksdjfl'\n",
    "\n",
    "# Now forge a signature... delete the privkey to prove it's not being used\n",
    "del(privkey)\n",
    "\n",
    "z = Hash(message)\n",
    "r = pow(pubkey, z, p) % q\n",
    "s = ( r * ModInv(z, p) ) % q\n",
    "\n",
    "# Show that it validates\n",
    "assert DSAVerify(message, y = pubkey, r = r, s = s, g = p+1)"
   ]
  },
  {
   "cell_type": "code",
   "execution_count": null,
   "id": "ba4e5031-b051-4248-966e-fd1a396bea1a",
   "metadata": {},
   "outputs": [],
   "source": []
  }
 ],
 "metadata": {
  "kernelspec": {
   "display_name": "Python 3 (ipykernel)",
   "language": "python",
   "name": "python3"
  },
  "language_info": {
   "codemirror_mode": {
    "name": "ipython",
    "version": 3
   },
   "file_extension": ".py",
   "mimetype": "text/x-python",
   "name": "python",
   "nbconvert_exporter": "python",
   "pygments_lexer": "ipython3",
   "version": "3.10.6"
  }
 },
 "nbformat": 4,
 "nbformat_minor": 5
}
