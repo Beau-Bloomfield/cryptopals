{
 "cells": [
  {
   "cell_type": "code",
   "execution_count": 1,
   "id": "02d032f3-56a2-48f8-b4f8-feab537ee8e5",
   "metadata": {},
   "outputs": [],
   "source": [
    "# Implement DSA. I'll use the provided parameters\n",
    "\n",
    "q = 0xf4f47f05794b256174bba6e9b396a7707e563c5b\n",
    "p_hex = '800000000000000089e1855218a0e7dac38136ffafa72eda7' \\\n",
    "        '859f2171e25e65eac698c1702578b07dc2a1076da241c76c6' \\\n",
    "        '2d374d8389ea5aeffd3226a0530cc565f3bf6b50929139ebe' \\\n",
    "        'ac04f48c3c84afb796d61e5a4f9a8fda812ab59494232c7d2' \\\n",
    "        'b4deb50aa18ee9e132bfa85ac4374d7f9091abc3d015efc87' \\\n",
    "        '1a584471bb1'\n",
    "g_hex = '5958c9d3898b224b12672c0b98e06c60df923cb8bc999d119' \\\n",
    "        '458fef538b8fa4046c8db53039db620c094c9fa077ef389b5' \\\n",
    "        '322a559946a71903f990f1f7e0e025e2d7f7cf494aff1a047' \\\n",
    "        '0f5b64c36b625a097f1651fe775323556fe00b3608c887892' \\\n",
    "        '878480e99041be601a62166ca6894bdd41a7054ec89f756ba' \\\n",
    "        '9fc95302291'\n",
    "\n",
    "p = int(p_hex, base = 16)\n",
    "g = int(g_hex, base = 16)\n",
    "\n",
    "N = 40*4\n",
    "L = len(p_hex)*4\n",
    "assert (p-1) % q == 0"
   ]
  },
  {
   "cell_type": "code",
   "execution_count": 2,
   "id": "530e4c59-35e9-4064-8053-228a26b14649",
   "metadata": {},
   "outputs": [],
   "source": [
    "# Now implement the algorithm\n",
    "# I'm largely following wikipedia https://en.wikipedia.org/wiki/Digital_Signature_Algorithm\n",
    "\n",
    "from hashlib import sha256\n",
    "\n",
    "# Create a hash function with |H| = N bits output\n",
    "def Hash(x: bytes, N = N):\n",
    "    assert type(x) is bytes\n",
    "    assert N <= 256\n",
    "    digest_bytes = sha256(x).digest()\n",
    "    digest_int = int.from_bytes(digest_bytes, byteorder = 'big')\n",
    "    return digest_int & ( ( 0b1 << N ) - 1 )\n",
    "\n",
    "assert Hash(b'abc') < 2**N"
   ]
  },
  {
   "cell_type": "code",
   "execution_count": 3,
   "id": "32ca999e-1999-4756-b1a1-a4defd0684f5",
   "metadata": {},
   "outputs": [],
   "source": [
    "from random import randint\n",
    "\n",
    "def DSAGeneratePrivateKey(p = p, q = q, g = g):\n",
    "    return randint(1, q-1)\n",
    "\n",
    "def DSAGeneratePublicKey(x, p = p, q = q, g = g ):\n",
    "    assert type(x) is int and 1 <= x <= q-1\n",
    "    return pow(g, x, p)\n",
    "\n",
    "def DSASign(message, x, p = p, q = q, g = g, H = Hash, leaky = False):\n",
    "    # x is the privkey\n",
    "    # If leaky, this will return the value of k, which can be used in an attack.\n",
    "    # Don't be leaky!  That's only for demonstrating the attack.\n",
    "    assert type(message) is bytes\n",
    "    assert type(x) is int and 1 <= x <= q-1\n",
    "    \n",
    "    k = randint(1, q-1)\n",
    "    r = pow(g, k, p) % q\n",
    "    \n",
    "    k_inv = pow(k, q-2, q) # https://en.wikipedia.org/wiki/Fermat%27s_little_theorem\n",
    "    assert (k*k_inv) % q == 1\n",
    "    s = ( k_inv*( H(message) + x*r  ) ) % q\n",
    "    \n",
    "    assert s != 0 and r != 0\n",
    "    signature = dict(r = r, s = s)\n",
    "    signature.update(k = k) if leaky else None\n",
    "    return signature\n",
    "    \n",
    "\n",
    "def DSAVerify(message, r, s, y, p = p, q = q, g = g, H = Hash):\n",
    "    # y is the pubkey\n",
    "    assert type(message) is bytes\n",
    "    assert 0 < r < q \n",
    "    assert 0 < s < q\n",
    "    \n",
    "    w  = pow(s, q-2, q) # w is s inverse, again using FLT\n",
    "    assert w*s % q == 1\n",
    "    u1 = w*H(message) % q\n",
    "    u2 = w*r % q\n",
    "    \n",
    "    # Using property (A * B) mod C = (A mod C * B mod C) mod C\n",
    "    v  = pow(g, u1, p) * pow(y, u2, p)\n",
    "    v %= p\n",
    "    v %= q\n",
    "    \n",
    "    return True if v == r else False"
   ]
  },
  {
   "cell_type": "code",
   "execution_count": 4,
   "id": "220818e3-0435-438a-a653-6bd17e74050e",
   "metadata": {},
   "outputs": [],
   "source": [
    "# Now test it\n",
    "\n",
    "# Alice generates a keypair and signs a message\n",
    "message = b'Hello, world!'\n",
    "privkey = DSAGeneratePrivateKey()\n",
    "pubkey = DSAGeneratePublicKey(privkey)\n",
    "signature = DSASign(message, privkey)\n",
    "\n",
    "# Bob verifies the message using the signature and Alice's pubkey\n",
    "assert DSAVerify(message, y = pubkey, **signature)"
   ]
  },
  {
   "cell_type": "code",
   "execution_count": 11,
   "id": "ba8cfbdd-b3ef-41c8-87ad-2310dc2d1ec8",
   "metadata": {},
   "outputs": [],
   "source": [
    "# Ok now practice private key recovery from k\n",
    "\n",
    "def AttackPrivateKey(r, s, k, message):\n",
    "    r_inv = pow(r, q-2, q) # FLT\n",
    "    x = ( ( (s*k) - Hash(message) ) * r_inv ) % q\n",
    "    return x\n",
    "\n",
    "signature = DSASign(message, privkey, leaky = True)\n",
    "x = AttackPrivateKey(**signature, message = message)\n",
    "assert x == privkey"
   ]
  },
  {
   "cell_type": "code",
   "execution_count": 20,
   "id": "87dad0f7-8090-44f0-a243-4a7adef4bfef",
   "metadata": {},
   "outputs": [],
   "source": [
    "# Ok, now practice using this on a version of DSASign that doesn't leak k...\n",
    "# But does have the flaw that it chooses k from a narrow range\n",
    "\n",
    "def DSASignBroken(message, x, p = p, q = q, g = g, H = Hash):\n",
    "    # x is the privkey\n",
    "    assert type(message) is bytes\n",
    "    assert type(x) is int and 1 <= x <= q-1\n",
    "    \n",
    "    k = randint(1, 2**16-1)\n",
    "    r = pow(g, k, p) % q\n",
    "    \n",
    "    k_inv = pow(k, q-2, q) # https://en.wikipedia.org/wiki/Fermat%27s_little_theorem\n",
    "    assert (k*k_inv) % q == 1\n",
    "    s = ( k_inv*( H(message) + x*r  ) ) % q\n",
    "    \n",
    "    assert s != 0 and r != 0\n",
    "    signature = dict(r = r, s = s)\n",
    "    return signature\n",
    "\n",
    "def DSASignWithk(message, x, k, p = p, q = q, g = g, H = Hash):\n",
    "    # x is the privkey\n",
    "    assert type(message) is bytes\n",
    "    assert type(x) is int and 1 <= x <= q-1\n",
    "    \n",
    "    r = pow(g, k, p) % q\n",
    "    \n",
    "    k_inv = pow(k, q-2, q) # https://en.wikipedia.org/wiki/Fermat%27s_little_theorem\n",
    "    # assert (k*k_inv) % q == 1\n",
    "    s = ( k_inv*( H(message) + x*r  ) ) % q\n",
    "    \n",
    "    # assert s != 0 and r != 0\n",
    "    signature = dict(r = r, s = s)\n",
    "    return signature\n",
    "\n",
    "signature = DSASignBroken(message, privkey)"
   ]
  },
  {
   "cell_type": "code",
   "execution_count": 21,
   "id": "a9e7c1b8-7acb-4ed6-868d-873f6abbd169",
   "metadata": {},
   "outputs": [
    {
     "name": "stdout",
     "output_type": "stream",
     "text": [
      "privkey = 303744735491515564103918382730084723110655543882\n"
     ]
    }
   ],
   "source": [
    "# Now as the attacker I can recover the privkey by force\n",
    "\n",
    "for k in range(2**16):\n",
    "    privkey_guess = AttackPrivateKey(**signature, k = k, message = message)\n",
    "    if signature == DSASignWithk(message, privkey_guess, k = k):\n",
    "        assert privkey_guess == privkey\n",
    "        print('privkey =', privkey_guess)\n",
    "        break"
   ]
  },
  {
   "cell_type": "code",
   "execution_count": null,
   "id": "ddbd2735-9aa8-43fa-a6e8-7ac00b7f3efc",
   "metadata": {},
   "outputs": [],
   "source": []
  },
  {
   "cell_type": "code",
   "execution_count": null,
   "id": "17ad9149-0e90-4f95-bb8f-1ad74aea9753",
   "metadata": {},
   "outputs": [],
   "source": []
  }
 ],
 "metadata": {
  "kernelspec": {
   "display_name": "Python 3 (ipykernel)",
   "language": "python",
   "name": "python3"
  },
  "language_info": {
   "codemirror_mode": {
    "name": "ipython",
    "version": 3
   },
   "file_extension": ".py",
   "mimetype": "text/x-python",
   "name": "python",
   "nbconvert_exporter": "python",
   "pygments_lexer": "ipython3",
   "version": "3.10.6"
  }
 },
 "nbformat": 4,
 "nbformat_minor": 5
}
