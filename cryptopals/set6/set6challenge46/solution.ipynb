{
 "cells": [
  {
   "cell_type": "code",
   "execution_count": 1,
   "id": "6a75d9df-8159-467e-8e0c-a378620f83db",
   "metadata": {},
   "outputs": [],
   "source": [
    "# The RSA.py file implements the RSA code from challenge 41, which I'll reuse here\n",
    "\n",
    "from RSA import RSAClient, RSAServer"
   ]
  },
  {
   "cell_type": "code",
   "execution_count": 2,
   "id": "4741e1fa-ac7f-459b-bb72-747206717217",
   "metadata": {},
   "outputs": [],
   "source": [
    "# First just verify everything is working...\n",
    "\n",
    "message = b'Hello, world!'\n",
    "\n",
    "server = RSAServer()\n",
    "pubkey = server.GetPubkey()\n",
    "client = RSAClient(**pubkey)\n",
    "\n",
    "ciphertext = client.Encrypt(message)\n",
    "\n",
    "assert server.Decrypt(ciphertext) == message"
   ]
  },
  {
   "cell_type": "code",
   "execution_count": 3,
   "id": "e9e5edad-c51b-4c4a-ac54-62f2d150ef8e",
   "metadata": {},
   "outputs": [
    {
     "data": {
      "text/plain": [
       "False"
      ]
     },
     "execution_count": 3,
     "metadata": {},
     "output_type": "execute_result"
    }
   ],
   "source": [
    "# Now make the oracle\n",
    "\n",
    "class Oracle(RSAServer):\n",
    "    def IsMessageEven(self, c):\n",
    "        m = self.DecryptInt(c)\n",
    "        return False if m%2 else True\n",
    "    \n",
    "server = Oracle()\n",
    "pubkey = server.GetPubkey()\n",
    "client = RSAClient(**pubkey)\n",
    "\n",
    "ciphertext = client.Encrypt(message)\n",
    "server.IsMessageEven(ciphertext)"
   ]
  },
  {
   "cell_type": "code",
   "execution_count": 4,
   "id": "7b87babf-5f7e-45ed-9d53-d6578f01f70d",
   "metadata": {},
   "outputs": [],
   "source": [
    "# Now get the secret message\n",
    "\n",
    "import base64\n",
    "\n",
    "message = base64.decodebytes(b'VGhhdCdzIHdoeSBJIGZvdW5kIHlvdSBkb24ndCBwbGF5IGFyb3VuZCB3aXRoIHRoZSBGdW5reSBDb2xkIE1lZGluYQ==')\n",
    "ciphertext = client.Encrypt(message)"
   ]
  },
  {
   "cell_type": "code",
   "execution_count": 44,
   "id": "e9ed111d-61ab-4782-8297-3ce2db909f41",
   "metadata": {},
   "outputs": [
    {
     "name": "stdout",
     "output_type": "stream",
     "text": [
      "53855340626974444514605165184933525584662217621281995159088968472495597531686315540337196346707476232706118722799640697425016683899614948273444003990638230020163322872938265799565877302449470723628038496529885699086272681545862091668395197683896741423059026890295444880855538404776155142341645012052094959689\n"
     ]
    }
   ],
   "source": [
    "# The modulus is prime, which means it must be odd\n",
    "# If I'm multiplying by powers of two... the result must be even\n",
    "# UNTIL it wraps the modulus, at which point it MUST be odd\n",
    "\n",
    "p = server.p\n",
    "upper_bound = p\n",
    "lower_bound = 0\n",
    "\n",
    "\n",
    "for n in range(1024):\n",
    "    multiplier = ( upper_bound + lower_bound ) // 2\n",
    "    product = ciphertext * client.Encrypt(multiplier) % p\n",
    "    \n",
    "    if server.IsMessageEven(product):\n",
    "        # We have not yet wrapped the modulus\n",
    "        # So the multiplier is too small\n",
    "        lower_bound = multiplier\n",
    "    else:\n",
    "        # We have wrapped the modulus\n",
    "        # so the multiplier is too big\n",
    "        upper_bound = multiplier\n",
    "        \n",
    "print(multiplier)\n",
    "    "
   ]
  },
  {
   "cell_type": "code",
   "execution_count": 45,
   "id": "784c6bfa-e49e-4783-bbc6-fc790c96262e",
   "metadata": {},
   "outputs": [
    {
     "data": {
      "text/plain": [
       "1"
      ]
     },
     "execution_count": 45,
     "metadata": {},
     "output_type": "execute_result"
    }
   ],
   "source": [
    "p//multiplier"
   ]
  },
  {
   "cell_type": "code",
   "execution_count": null,
   "id": "a0a1434c-da2a-4584-b504-1e581d925548",
   "metadata": {},
   "outputs": [],
   "source": []
  }
 ],
 "metadata": {
  "kernelspec": {
   "display_name": "Python 3 (ipykernel)",
   "language": "python",
   "name": "python3"
  },
  "language_info": {
   "codemirror_mode": {
    "name": "ipython",
    "version": 3
   },
   "file_extension": ".py",
   "mimetype": "text/x-python",
   "name": "python",
   "nbconvert_exporter": "python",
   "pygments_lexer": "ipython3",
   "version": "3.10.6"
  }
 },
 "nbformat": 4,
 "nbformat_minor": 5
}
