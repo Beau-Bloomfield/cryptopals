{
 "cells": [
  {
   "cell_type": "code",
   "execution_count": 1,
   "id": "0f90d4a5-97ab-4dd3-a0ed-a1a32b7516be",
   "metadata": {},
   "outputs": [],
   "source": [
    "# This is alternate solution to this challenge\n",
    "# My original solution did work... but for some reason only with RSA BIT_STRENGTH <= 32\n",
    "# I have no idea why this is.\n",
    "# I'm re-solving this challenge, but more closely following Dr. Paccagnella's code, which is confirmed to work.\n",
    "# The first solution is largely my own code, working directly from Bleichenbacher's paper, with only incidental\n",
    "# references to Dr. Paccanella's code, whereas this solution will be more of a translation of Dr. Paccanella's\n",
    "# code in my own style.\n",
    "\n",
    "from RSA import RSAClient, RSAServer, BIT_STRENGTH\n",
    "from Crypto import Random\n",
    "\n",
    "server = RSAServer()\n",
    "client = RSAClient(**server.GetPubkey())"
   ]
  },
  {
   "cell_type": "code",
   "execution_count": 2,
   "id": "00ae67d3-aacd-4cdc-bb8d-0babb6235d80",
   "metadata": {},
   "outputs": [
    {
     "name": "stdout",
     "output_type": "stream",
     "text": [
      "b'AAAAAAAAAAAAAAAAAAAAAAAAAAAAAAAA'\n",
      "32\n"
     ]
    }
   ],
   "source": [
    "# First make sure all the RSA code is working\n",
    "\n",
    "message = b'A'*(BIT_STRENGTH//8)\n",
    "ciphertext = client.Encrypt(message)\n",
    "result = server.DecryptBytes(ciphertext)\n",
    "\n",
    "print(result)\n",
    "print(len(result))\n",
    "assert result[-len(message):] == message"
   ]
  },
  {
   "cell_type": "code",
   "execution_count": 3,
   "id": "1f7729b8-e63b-4022-b66d-699430c03008",
   "metadata": {},
   "outputs": [],
   "source": [
    "Ceil  = lambda numerator, denominator: (numerator + denominator - 1) // denominator\n",
    "Floor = lambda numerator, denominator: Ceil(numerator, denominator) - 1\n",
    "\n",
    "assert  Ceil(10, 3) == 4\n",
    "assert Floor(10, 3) == 3"
   ]
  },
  {
   "cell_type": "code",
   "execution_count": 4,
   "id": "17d64afc-ec1d-43e4-9849-08ac121324e0",
   "metadata": {},
   "outputs": [
    {
     "data": {
      "text/plain": [
       "b'\\x00\\x02\\xf7\\xb2\\xa0=5\\xa6/\\x9e\\xf2jNx\\xcc=R\\xcc\\x00Hello, world!'"
      ]
     },
     "execution_count": 4,
     "metadata": {},
     "output_type": "execute_result"
    }
   ],
   "source": [
    "class Oracle(RSAServer):\n",
    "    def IsPaddingCorrect(self, encrypted_int_data):\n",
    "        plaintext = self.DecryptBytes(encrypted_int_data)\n",
    "        return len(plaintext) == Ceil(self.n.bit_length(), 8) and plaintext[:2] == b'\\x00\\x02'\n",
    "    \n",
    "def Pad(binary_data, length = BIT_STRENGTH//8):\n",
    "    padding_string = Random.new().read(length - 3 - len(binary_data))\n",
    "    return b'\\x00\\x02' + padding_string + b'\\x00' + binary_data\n",
    "\n",
    "Pad(b'Hello, world!')"
   ]
  },
  {
   "cell_type": "code",
   "execution_count": 5,
   "id": "856c7c2b-d7bf-4bb8-9963-40766eab6e45",
   "metadata": {},
   "outputs": [],
   "source": [
    "# Set up the attack\n",
    "oracle = Oracle()\n",
    "pubkey = oracle.GetPubkey()\n",
    "e, n = pubkey['e'], pubkey['n']\n",
    "client = RSAClient(**pubkey)\n",
    "message = b'Hello, world!'\n",
    "ciphertext = client.Encrypt(Pad(message))\n",
    "\n",
    "B = 2**(BIT_STRENGTH-2*8)"
   ]
  },
  {
   "cell_type": "code",
   "execution_count": 6,
   "id": "2ded9f24-d37a-4461-8271-476ee6c4e113",
   "metadata": {},
   "outputs": [],
   "source": [
    "# Do the attack\n",
    "\n",
    "c_0 = ciphertext\n",
    "M = [(2 * B, 3 * B - 1)]\n",
    "i = 1\n",
    "\n",
    "if not oracle.IsPaddingCorrect(c_0):\n",
    "    # This shouldn't happen\n",
    "    assert False\n",
    "    while True:\n",
    "        s = randint(0, n - 1)\n",
    "        c_0 = (ciphertext * pow(s, e, n)) % n\n",
    "        if oracle.IsPaddingCorrect(c_0):\n",
    "            break"
   ]
  },
  {
   "cell_type": "code",
   "execution_count": 7,
   "id": "605a8293-4633-44d8-a9fa-28503d107e2b",
   "metadata": {},
   "outputs": [],
   "source": [
    "def CalculateNewM(intervals, lower_bound, upper_bound):\n",
    "\n",
    "    for i, (a, b) in enumerate(intervals):\n",
    "\n",
    "        # If there is an overlap, then replace the boundaries of the overlapping\n",
    "        # interval with the wider (or equal) boundaries of the new merged interval\n",
    "        if not (b < lower_bound or a > upper_bound):\n",
    "            new_a = min(lower_bound, a)\n",
    "            new_b = max(upper_bound, b)\n",
    "            intervals[i] = new_a, new_b\n",
    "            return\n",
    "\n",
    "    # If there was no interval overlapping with the one we want to add, add\n",
    "    # the new interval as a standalone interval to the list\n",
    "    intervals.append((lower_bound, upper_bound))\n",
    "\n",
    "while True:\n",
    "\n",
    "    # Step 2.a: Starting the search\n",
    "    if i == 1:\n",
    "        s = Ceil(n, 3 * B)\n",
    "        while True:\n",
    "\n",
    "            c = (c_0 * pow(s, e, n)) % n\n",
    "            if oracle.IsPaddingCorrect(c):\n",
    "                break\n",
    "\n",
    "            s += 1\n",
    "\n",
    "    # Step 2.b: Searching with more than one interval left\n",
    "    elif len(M) >= 2:\n",
    "        while True:\n",
    "            s += 1\n",
    "            c = (c_0 * pow(s, e, n)) % n\n",
    "\n",
    "            if oracle.IsPaddingCorrect(c):\n",
    "                break\n",
    "\n",
    "    # Step 2.c: Searching with one interval left\n",
    "    elif len(M) == 1:\n",
    "        a, b = M[0]\n",
    "\n",
    "        # Check if the interval contains the solution\n",
    "        if a == b:\n",
    "            solution = a\n",
    "            break\n",
    "\n",
    "        r = Ceil(2 * (b * s - 2 * B), n)\n",
    "        s = Ceil(2 * B + r * n, b)\n",
    "\n",
    "        while True:\n",
    "            c = (c_0 * pow(s, e, n)) % n\n",
    "            if oracle.IsPaddingCorrect(c):\n",
    "                break\n",
    "\n",
    "            s += 1\n",
    "            if s > (3 * B + r * n) // a:\n",
    "                r += 1\n",
    "                s = Ceil((2 * B + r * n), b)\n",
    "\n",
    "    # Step 3: Narrowing the set of solutions\n",
    "    M_new = []\n",
    "\n",
    "    for a, b in M:\n",
    "        min_r = Ceil(a * s - 3 * B + 1, n)\n",
    "        max_r = (b * s - 2 * B) // n\n",
    "\n",
    "        for r in range(min_r, max_r + 1):\n",
    "            l = max(a, Ceil(2 * B + r * n, s))\n",
    "            u = min(b, (3 * B - 1 + r * n) // s)\n",
    "\n",
    "            if l > u:\n",
    "                raise Exception('Unexpected error: l > u in step 3')\n",
    "\n",
    "            # Do append and merge\n",
    "            CalculateNewM(M_new, l, u)\n",
    "\n",
    "    if len(M_new) == 0:\n",
    "        raise Exception('Unexpected error: there are 0 intervals.')\n",
    "\n",
    "    M = M_new\n",
    "    i += 1"
   ]
  },
  {
   "cell_type": "code",
   "execution_count": 8,
   "id": "3784a656-0e98-4fff-802e-6c50f7e99abd",
   "metadata": {},
   "outputs": [
    {
     "data": {
      "text/plain": [
       "3589675748917653109152975854075669722762603212638742011209542056436065313"
      ]
     },
     "execution_count": 8,
     "metadata": {},
     "output_type": "execute_result"
    }
   ],
   "source": [
    "solution"
   ]
  },
  {
   "cell_type": "code",
   "execution_count": 9,
   "id": "9fabc63e-db8a-4f1f-afd9-30ba246fc480",
   "metadata": {},
   "outputs": [
    {
     "name": "stdout",
     "output_type": "stream",
     "text": [
      "b'\\x00\\x02\\x08\\x1cyBX8\\x17\\nxT;g_z\\xccb\\x00Hello, world!'\n",
      "b'Hello, world!'\n"
     ]
    }
   ],
   "source": [
    "cracked_message = solution.to_bytes(byteorder='big', length = BIT_STRENGTH//8)\n",
    "print(cracked_message)\n",
    "print(message)"
   ]
  },
  {
   "cell_type": "code",
   "execution_count": null,
   "id": "5e461668-374e-4ff3-b9cf-a890fa39f9bd",
   "metadata": {},
   "outputs": [],
   "source": []
  }
 ],
 "metadata": {
  "kernelspec": {
   "display_name": "Python 3 (ipykernel)",
   "language": "python",
   "name": "python3"
  },
  "language_info": {
   "codemirror_mode": {
    "name": "ipython",
    "version": 3
   },
   "file_extension": ".py",
   "mimetype": "text/x-python",
   "name": "python",
   "nbconvert_exporter": "python",
   "pygments_lexer": "ipython3",
   "version": "3.10.12"
  }
 },
 "nbformat": 4,
 "nbformat_minor": 5
}
