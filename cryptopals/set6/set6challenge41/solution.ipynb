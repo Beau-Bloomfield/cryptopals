{
 "cells": [
  {
   "cell_type": "code",
   "execution_count": 1,
   "id": "88fbdc1b-0cd3-4c62-a996-126056904d9f",
   "metadata": {},
   "outputs": [],
   "source": [
    "# Ok so first of all the instructions here (https://cryptopals.com/sets/5/challenges/39) leave a lot out\n",
    "# And the exercise doesn't work if you follow the instructions specifically... they leave out a lot about the totient function\n",
    "# I followed Wikipedia instead (https://en.m.wikipedia.org/wiki/RSA_(cryptosystem))\n",
    "\n",
    "\n",
    "from Crypto.Util.number import getPrime\n",
    "Prime = lambda : getPrime(1024)"
   ]
  },
  {
   "cell_type": "code",
   "execution_count": 2,
   "id": "d104b65b-51e3-468b-a257-49b7549f51db",
   "metadata": {},
   "outputs": [],
   "source": [
    "# Using implementations from https://github.com/ricpacca/cryptopals/blob/master/S5C39.py\n",
    "\n",
    "def GCD(a, b):\n",
    "    \"\"\"Computes the greatest common divisor between a and b using the Euclidean algorithm.\"\"\"\n",
    "    while b != 0:\n",
    "        a, b = b, a % b\n",
    "\n",
    "    return a\n",
    "\n",
    "\n",
    "def LCM(a, b):\n",
    "    \"\"\"Computes the lowest common multiple between a and b using the GCD method.\"\"\"\n",
    "    return a // GCD(a, b) * b\n",
    "\n",
    "\n",
    "def ModInv(a, n):\n",
    "    \"\"\"Computes the multiplicative inverse of a modulo n using the extended Euclidean algorithm.\"\"\"\n",
    "    t, r = 0, n\n",
    "    new_t, new_r = 1, a\n",
    "\n",
    "    while new_r != 0:\n",
    "        quotient = r // new_r\n",
    "        t, new_t = new_t, t - quotient * new_t\n",
    "        r, new_r = new_r, r - quotient * new_r\n",
    "\n",
    "    if r > 1:\n",
    "        raise Exception(\"a is not invertible\")\n",
    "    if t < 0:\n",
    "        t = t + n\n",
    "\n",
    "    return t\n",
    "\n",
    "assert ModInv(17, 3120) == 2753"
   ]
  },
  {
   "cell_type": "code",
   "execution_count": 3,
   "id": "1f07ec9b-62b6-47ba-bf5f-8924c7d3d97c",
   "metadata": {},
   "outputs": [],
   "source": [
    "# Let e be 3\n",
    "e = 3"
   ]
  },
  {
   "cell_type": "code",
   "execution_count": 4,
   "id": "f7dea8e3-2731-4559-8bef-ccf7ca8420ec",
   "metadata": {},
   "outputs": [],
   "source": [
    "# The requirement regarding GCD is specified in Wikipedia, NOT the challenge itself\n",
    "\n",
    "def GeneratePrimes(e = e):\n",
    "    while True:\n",
    "        p, q = Prime(), Prime()\n",
    "        n = p*q\n",
    "        et = LCM(p-1, q-1) % n\n",
    "\n",
    "        if 2 < e < et and GCD(e, et) == 1:\n",
    "            return p, q, et\n",
    "\n",
    "p, q, et = GeneratePrimes()"
   ]
  },
  {
   "cell_type": "code",
   "execution_count": 5,
   "id": "a7359dd0-0469-415f-a0e7-e7ce489ae06c",
   "metadata": {},
   "outputs": [
    {
     "name": "stdout",
     "output_type": "stream",
     "text": [
      "3219221005856495333921099762039309480734372935606363146810030965888147328947196291071784343573752458823727729365310603650046007783264616605138783886765595935283130244799412678139136689684681801007907037775200389020153621665390203682972544849825679115851482056163240623209287602818955490919894841793774459637848623022959013429540826697945180681351458557343144412782559065666573415999936312592502199627425580440623408731690049015182794453925482069894558788097173658690266056579289674655883244141394847964364015222191551446796948591471942772262295577208330202029176577700219626490446240500715867480139512751152792209051\n"
     ]
    }
   ],
   "source": [
    "d = ModInv(e, et)\n",
    "print(d)\n",
    "\n",
    "assert (d*e) % et == 1"
   ]
  },
  {
   "cell_type": "code",
   "execution_count": 6,
   "id": "a9ec8afd-8716-49d8-8318-a2da8ebb0035",
   "metadata": {},
   "outputs": [],
   "source": [
    "class RSAServer(object):\n",
    "    def __init__(self, e = 3):\n",
    "        self.e = e\n",
    "        p, q, et = GeneratePrimes(e)\n",
    "        self.p = p\n",
    "        self.q = q\n",
    "        self.d = ModInv(e, et)\n",
    "        self.n = p*q\n",
    "        \n",
    "    def GetPubkey(self):\n",
    "        return self.e, self.n\n",
    "    \n",
    "    def DecryptBytes(self, c):\n",
    "        m = pow(c, self.d, self.n)\n",
    "        return m.to_bytes(byteorder='big', length = 2*1024//8)\n",
    "    \n",
    "    def DecryptInt(self, c):\n",
    "        m = pow(c, self.d, self.n)\n",
    "        return m\n",
    "\n",
    "class RSAClient(object):\n",
    "    def __init__(self, e, n):\n",
    "        self.e = e\n",
    "        self.n = n\n",
    "        \n",
    "    def Encrypt(self, message):\n",
    "        m = message if type(message) is int else int.from_bytes(message, byteorder = 'big')\n",
    "        assert m < self.n\n",
    "        return pow(m, self.e, self.n)\n",
    "        \n",
    "class Oracle(RSAServer):\n",
    "    cache = set()\n",
    "    \n",
    "    def Decrypt(self, c):\n",
    "        if hash(c) in self.cache:\n",
    "            return None\n",
    "        \n",
    "        self.cache = { hash(c), *self.cache }\n",
    "        m = self.DecryptInt(c)\n",
    "        return m\n",
    "        \n",
    "        "
   ]
  },
  {
   "cell_type": "code",
   "execution_count": 7,
   "id": "98996d7f-7f57-4e45-ae5a-b8f145a33d91",
   "metadata": {},
   "outputs": [],
   "source": [
    "server = Oracle()\n",
    "e, n = server.GetPubkey()\n",
    "client = RSAClient(e = e, n = n)"
   ]
  },
  {
   "cell_type": "code",
   "execution_count": 8,
   "id": "f448f803-7223-4d74-95fe-119b1f594fdd",
   "metadata": {},
   "outputs": [
    {
     "name": "stdout",
     "output_type": "stream",
     "text": [
      "b'\\nBut, soft! what light through yonder window breaks? \\nIt is the east, and Juliet is the sun.  \\nArise, fair sun, and kill the envious moon,\\nWho is already sick and pale with grief,\\nThat thou her maid art far more fair than she.\\n'\n"
     ]
    }
   ],
   "source": [
    "# Ok say I'm the first person who is supposed to be decrypting this message\n",
    "\n",
    "message = b\"\"\"\n",
    "But, soft! what light through yonder window breaks? \n",
    "It is the east, and Juliet is the sun.  \n",
    "Arise, fair sun, and kill the envious moon,\n",
    "Who is already sick and pale with grief,\n",
    "That thou her maid art far more fair than she.\n",
    "\"\"\"\n",
    "\n",
    "ciphertext = client.Encrypt(message)\n",
    "p = server.Decrypt(ciphertext)\n",
    "assert type(p) is int\n",
    "decrypted = p.to_bytes(byteorder='big', length = 2*1024//8).replace(b'\\0', b'')\n",
    "del(p) # To prove I'm not reusing this later in the attack\n",
    "assert decrypted == message\n",
    "print(decrypted)"
   ]
  },
  {
   "cell_type": "code",
   "execution_count": 9,
   "id": "48fec678-9d68-49ef-b2f2-5c20d5c7d252",
   "metadata": {},
   "outputs": [],
   "source": [
    "# Now pretend to be an attacker.  Show that the oracle won't decrypt the same message again\n",
    "p = server.Decrypt(ciphertext)\n",
    "assert p is None"
   ]
  },
  {
   "cell_type": "code",
   "execution_count": 10,
   "id": "d616ef3e-4782-4f38-9fce-9df3b4b80194",
   "metadata": {},
   "outputs": [
    {
     "name": "stdout",
     "output_type": "stream",
     "text": [
      "b'\\nBut, soft! what light through yonder window breaks? \\nIt is the east, and Juliet is the sun.  \\nArise, fair sun, and kill the envious moon,\\nWho is already sick and pale with grief,\\nThat thou her maid art far more fair than she.\\n'\n"
     ]
    }
   ],
   "source": [
    "# Now do the attack\n",
    "\n",
    "s = 123\n",
    "ciphertext2 = ( pow(s, e, n) * ciphertext ) % n\n",
    "p2 = server.Decrypt(ciphertext2)\n",
    "\n",
    "p = ( p2 // s ) % n\n",
    "decrypted = p.to_bytes(byteorder='big', length = 2*1024//8).replace(b'\\0', b'')\n",
    "assert decrypted == message\n",
    "print(decrypted)"
   ]
  }
 ],
 "metadata": {
  "kernelspec": {
   "display_name": "Python 3 (ipykernel)",
   "language": "python",
   "name": "python3"
  },
  "language_info": {
   "codemirror_mode": {
    "name": "ipython",
    "version": 3
   },
   "file_extension": ".py",
   "mimetype": "text/x-python",
   "name": "python",
   "nbconvert_exporter": "python",
   "pygments_lexer": "ipython3",
   "version": "3.10.6"
  }
 },
 "nbformat": 4,
 "nbformat_minor": 5
}
