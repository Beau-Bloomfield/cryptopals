{
 "cells": [
  {
   "cell_type": "code",
   "execution_count": 1,
   "id": "35cbc907-dda4-4f7b-a62d-af9b30dcf4e9",
   "metadata": {},
   "outputs": [],
   "source": [
    "N_RSA_BITS = 1024\n",
    "ASN1_SHA1 = b'\\x30\\x21\\x30\\x09\\x06\\x05\\x2b\\x0e\\x03\\x02\\x1a\\x05\\x00\\x04\\x14'\n",
    "\n",
    "from hashlib import sha1\n",
    "from Crypto.Util.number import getPrime\n",
    "\n",
    "Prime = lambda : getPrime(N_RSA_BITS//2)\n",
    "\n",
    "class RSASigner(object):\n",
    "    def __init__(self, e = 3):\n",
    "        self.e = e\n",
    "        p, q, et = GeneratePrimes(e)\n",
    "        self.p = p\n",
    "        self.q = q\n",
    "        self.d = ModInv(e, et)\n",
    "        self.n = p*q\n",
    "        \n",
    "    def GetPubkey(self):\n",
    "        return self.e, self.n\n",
    "    \n",
    "    def DecryptBytes(self, c):\n",
    "        m = pow(c, self.d, self.n)\n",
    "        return m.to_bytes(byteorder='big', length = N_RSA_BITS//8)\n",
    "    \n",
    "    def DecryptInt(self, c):\n",
    "        m = pow(c, self.d, self.n)\n",
    "        return m\n",
    "    \n",
    "    def Sign(self, message: bytes):\n",
    "        digest = sha1(message).digest()\n",
    "        npad = N_RSA_BITS//8 - 2 - len(ASN1_SHA1) - len(digest)\n",
    "        x = b'\\x00\\x01' + b'\\xFF'*npad + ASN1_SHA1 + digest\n",
    "        assert len(x) == N_RSA_BITS//8\n",
    "        return self.DecryptInt( int.from_bytes(x, byteorder='big') )\n",
    "        \n",
    "\n",
    "class RSAVerifier(object):\n",
    "    def __init__(self, e, n):\n",
    "        self.e = e\n",
    "        self.n = n\n",
    "        \n",
    "    def Encrypt(self, message):\n",
    "        m = message if type(message) is int else int.from_bytes(message, byteorder = 'big')\n",
    "        assert m < self.n\n",
    "        return pow(m, self.e, self.n)\n",
    "    \n",
    "    def Verify(self, message: bytes, signature: int):\n",
    "        digest = sha1(message).digest()\n",
    "        x = pow(signature, self.e, self.n)\n",
    "        assert x.to_bytes(byteorder='big', length = N_RSA_BITS//8).endswith(digest)\n",
    "    \n",
    "# Using implementations from https://github.com/ricpacca/cryptopals/blob/master/S5C39.py\n",
    "\n",
    "def GCD(a, b):\n",
    "    \"\"\"Computes the greatest common divisor between a and b using the Euclidean algorithm.\"\"\"\n",
    "    while b != 0:\n",
    "        a, b = b, a % b\n",
    "\n",
    "    return a\n",
    "\n",
    "\n",
    "def LCM(a, b):\n",
    "    \"\"\"Computes the lowest common multiple between a and b using the GCD method.\"\"\"\n",
    "    return a // GCD(a, b) * b\n",
    "\n",
    "\n",
    "def ModInv(a, n):\n",
    "    \"\"\"Computes the multiplicative inverse of a modulo n using the extended Euclidean algorithm.\"\"\"\n",
    "    t, r = 0, n\n",
    "    new_t, new_r = 1, a\n",
    "\n",
    "    while new_r != 0:\n",
    "        quotient = r // new_r\n",
    "        t, new_t = new_t, t - quotient * new_t\n",
    "        r, new_r = new_r, r - quotient * new_r\n",
    "\n",
    "    if r > 1:\n",
    "        raise Exception(\"a is not invertible\")\n",
    "    if t < 0:\n",
    "        t = t + n\n",
    "\n",
    "    return t\n",
    "\n",
    "def GeneratePrimes(e = 3):\n",
    "    while True:\n",
    "        p, q = Prime(), Prime()\n",
    "        n = p*q\n",
    "        et = LCM(p-1, q-1) % n\n",
    "\n",
    "        if 2 < e < et and GCD(e, et) == 1:\n",
    "            return p, q, et\n",
    "\n",
    "assert ModInv(17, 3120) == 2753"
   ]
  },
  {
   "cell_type": "code",
   "execution_count": 2,
   "id": "d2761384-b34f-4ba8-9bd5-d49f18b0947e",
   "metadata": {},
   "outputs": [],
   "source": [
    "signer = RSASigner()\n",
    "pubkey = signer.GetPubkey()\n",
    "verifier = RSAVerifier(*pubkey)"
   ]
  },
  {
   "cell_type": "code",
   "execution_count": 3,
   "id": "b2810f1f-62bc-4fa6-9771-e347e6f38ea2",
   "metadata": {},
   "outputs": [
    {
     "name": "stdout",
     "output_type": "stream",
     "text": [
      "72372505392292995953870657782337420035744586597900550646974001036808223151679809974646438084912360454561080783027119302999911397589496984765742129096992320745123818726361648563754898404995445380421624995367369003010842704842466640363340171862270111444722366788801706279005776937827751702971986770256506428900\n"
     ]
    }
   ],
   "source": [
    "message = b'hi mom'\n",
    "\n",
    "signature = signer.Sign(message)\n",
    "print(signature)"
   ]
  },
  {
   "cell_type": "code",
   "execution_count": 4,
   "id": "e0d2fac5-c796-4fc2-bec0-01d125dfbe23",
   "metadata": {},
   "outputs": [],
   "source": [
    "verifier.Verify(message, signature)"
   ]
  },
  {
   "cell_type": "code",
   "execution_count": null,
   "id": "05a30f35-688b-4d5d-a8b9-7457d41ecb86",
   "metadata": {},
   "outputs": [],
   "source": []
  }
 ],
 "metadata": {
  "kernelspec": {
   "display_name": "Python 3 (ipykernel)",
   "language": "python",
   "name": "python3"
  },
  "language_info": {
   "codemirror_mode": {
    "name": "ipython",
    "version": 3
   },
   "file_extension": ".py",
   "mimetype": "text/x-python",
   "name": "python",
   "nbconvert_exporter": "python",
   "pygments_lexer": "ipython3",
   "version": "3.10.6"
  }
 },
 "nbformat": 4,
 "nbformat_minor": 5
}
