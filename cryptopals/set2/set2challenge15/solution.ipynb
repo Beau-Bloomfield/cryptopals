{
 "cells": [
  {
   "cell_type": "code",
   "execution_count": 3,
   "id": "1d3f919d-95fe-4491-92b3-9e0953115b60",
   "metadata": {},
   "outputs": [],
   "source": [
    "def Unpad(s: bytes):\n",
    "    assert type(s) is bytes\n",
    "    last = s[-1]\n",
    "    assert all( char == last for char in s[-last:] )\n",
    "    return s[:-last]"
   ]
  },
  {
   "cell_type": "code",
   "execution_count": 4,
   "id": "10f9532d-c7b8-4d03-8a72-5ff1b0b717d4",
   "metadata": {},
   "outputs": [
    {
     "data": {
      "text/plain": [
       "b'ICE ICE BABY'"
      ]
     },
     "execution_count": 4,
     "metadata": {},
     "output_type": "execute_result"
    }
   ],
   "source": [
    "Unpad(b\"ICE ICE BABY\\x04\\x04\\x04\\x04\")"
   ]
  },
  {
   "cell_type": "code",
   "execution_count": 5,
   "id": "d35f527e-38a3-41f4-8709-8447c9c38a17",
   "metadata": {},
   "outputs": [
    {
     "ename": "AssertionError",
     "evalue": "",
     "output_type": "error",
     "traceback": [
      "\u001b[0;31m---------------------------------------------------------------------------\u001b[0m",
      "\u001b[0;31mAssertionError\u001b[0m                            Traceback (most recent call last)",
      "Cell \u001b[0;32mIn [5], line 1\u001b[0m\n\u001b[0;32m----> 1\u001b[0m \u001b[43mUnpad\u001b[49m\u001b[43m(\u001b[49m\u001b[38;5;124;43mb\u001b[39;49m\u001b[38;5;124;43m\"\u001b[39;49m\u001b[38;5;124;43mICE ICE BABY\u001b[39;49m\u001b[38;5;130;43;01m\\x05\u001b[39;49;00m\u001b[38;5;130;43;01m\\x05\u001b[39;49;00m\u001b[38;5;130;43;01m\\x05\u001b[39;49;00m\u001b[38;5;130;43;01m\\x05\u001b[39;49;00m\u001b[38;5;124;43m\"\u001b[39;49m\u001b[43m)\u001b[49m\n",
      "Cell \u001b[0;32mIn [3], line 4\u001b[0m, in \u001b[0;36mUnpad\u001b[0;34m(s)\u001b[0m\n\u001b[1;32m      2\u001b[0m \u001b[38;5;28;01massert\u001b[39;00m \u001b[38;5;28mtype\u001b[39m(s) \u001b[38;5;129;01mis\u001b[39;00m \u001b[38;5;28mbytes\u001b[39m\n\u001b[1;32m      3\u001b[0m last \u001b[38;5;241m=\u001b[39m s[\u001b[38;5;241m-\u001b[39m\u001b[38;5;241m1\u001b[39m]\n\u001b[0;32m----> 4\u001b[0m \u001b[38;5;28;01massert\u001b[39;00m \u001b[38;5;28mall\u001b[39m( char \u001b[38;5;241m==\u001b[39m last \u001b[38;5;28;01mfor\u001b[39;00m char \u001b[38;5;129;01min\u001b[39;00m s[\u001b[38;5;241m-\u001b[39mlast:] )\n\u001b[1;32m      5\u001b[0m \u001b[38;5;28;01mreturn\u001b[39;00m s[:\u001b[38;5;241m-\u001b[39mlast]\n",
      "\u001b[0;31mAssertionError\u001b[0m: "
     ]
    }
   ],
   "source": [
    "Unpad(b\"ICE ICE BABY\\x05\\x05\\x05\\x05\")"
   ]
  },
  {
   "cell_type": "code",
   "execution_count": 6,
   "id": "f2222010-4b9d-481b-9d86-e8fade35c711",
   "metadata": {},
   "outputs": [
    {
     "ename": "AssertionError",
     "evalue": "",
     "output_type": "error",
     "traceback": [
      "\u001b[0;31m---------------------------------------------------------------------------\u001b[0m",
      "\u001b[0;31mAssertionError\u001b[0m                            Traceback (most recent call last)",
      "Cell \u001b[0;32mIn [6], line 1\u001b[0m\n\u001b[0;32m----> 1\u001b[0m \u001b[43mUnpad\u001b[49m\u001b[43m(\u001b[49m\u001b[38;5;124;43mb\u001b[39;49m\u001b[38;5;124;43m\"\u001b[39;49m\u001b[38;5;124;43mICE ICE BABY\u001b[39;49m\u001b[38;5;130;43;01m\\x01\u001b[39;49;00m\u001b[38;5;130;43;01m\\x02\u001b[39;49;00m\u001b[38;5;130;43;01m\\x03\u001b[39;49;00m\u001b[38;5;130;43;01m\\x04\u001b[39;49;00m\u001b[38;5;124;43m\"\u001b[39;49m\u001b[43m)\u001b[49m\n",
      "Cell \u001b[0;32mIn [3], line 4\u001b[0m, in \u001b[0;36mUnpad\u001b[0;34m(s)\u001b[0m\n\u001b[1;32m      2\u001b[0m \u001b[38;5;28;01massert\u001b[39;00m \u001b[38;5;28mtype\u001b[39m(s) \u001b[38;5;129;01mis\u001b[39;00m \u001b[38;5;28mbytes\u001b[39m\n\u001b[1;32m      3\u001b[0m last \u001b[38;5;241m=\u001b[39m s[\u001b[38;5;241m-\u001b[39m\u001b[38;5;241m1\u001b[39m]\n\u001b[0;32m----> 4\u001b[0m \u001b[38;5;28;01massert\u001b[39;00m \u001b[38;5;28mall\u001b[39m( char \u001b[38;5;241m==\u001b[39m last \u001b[38;5;28;01mfor\u001b[39;00m char \u001b[38;5;129;01min\u001b[39;00m s[\u001b[38;5;241m-\u001b[39mlast:] )\n\u001b[1;32m      5\u001b[0m \u001b[38;5;28;01mreturn\u001b[39;00m s[:\u001b[38;5;241m-\u001b[39mlast]\n",
      "\u001b[0;31mAssertionError\u001b[0m: "
     ]
    }
   ],
   "source": [
    "Unpad(b\"ICE ICE BABY\\x01\\x02\\x03\\x04\")"
   ]
  },
  {
   "cell_type": "code",
   "execution_count": null,
   "id": "50bf5e3e-d407-4b3d-adc1-87dad720b4b1",
   "metadata": {},
   "outputs": [],
   "source": []
  }
 ],
 "metadata": {
  "kernelspec": {
   "display_name": "Python 3 (ipykernel)",
   "language": "python",
   "name": "python3"
  },
  "language_info": {
   "codemirror_mode": {
    "name": "ipython",
    "version": 3
   },
   "file_extension": ".py",
   "mimetype": "text/x-python",
   "name": "python",
   "nbconvert_exporter": "python",
   "pygments_lexer": "ipython3",
   "version": "3.10.6"
  }
 },
 "nbformat": 4,
 "nbformat_minor": 5
}
