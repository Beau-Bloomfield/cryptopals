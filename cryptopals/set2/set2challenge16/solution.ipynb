{
 "cells": [
  {
   "cell_type": "code",
   "execution_count": 1,
   "id": "80dc1f62-f52f-464a-bceb-3d2b1b87feca",
   "metadata": {},
   "outputs": [],
   "source": [
    "BLOCKSIZE = 16\n",
    "\n",
    "def Unpad(s: bytes, blocksize = BLOCKSIZE):\n",
    "    assert type(s) is bytes and len(s) % blocksize == 0\n",
    "    last = s[-1]\n",
    "    assert all( char == last for char in s[-last:] )\n",
    "    return s[:-last]\n",
    "\n",
    "def Pad(s: bytes, blocksize = BLOCKSIZE):\n",
    "    assert type(s) is bytes\n",
    "    npad = blocksize - len(s) % blocksize\n",
    "    s += bytes( [npad] * npad )\n",
    "    assert len(s) % blocksize == 0\n",
    "    return s"
   ]
  },
  {
   "cell_type": "code",
   "execution_count": 2,
   "id": "8dd8e860-39d2-48ff-b5c7-74d737c449f9",
   "metadata": {},
   "outputs": [
    {
     "data": {
      "text/plain": [
       "b'Hello world\\x05\\x05\\x05\\x05\\x05'"
      ]
     },
     "execution_count": 2,
     "metadata": {},
     "output_type": "execute_result"
    }
   ],
   "source": [
    "Pad(b'Hello world')"
   ]
  },
  {
   "cell_type": "code",
   "execution_count": 3,
   "id": "4c44df00-d1e1-46ee-b0e7-8e073cb950d0",
   "metadata": {},
   "outputs": [],
   "source": [
    "ORACLE_KEY = b'\\xe7\\xef\\x1e\\x7f\\xd7\\x87\\xa4\\xeb\\x10<\\xd9\\x9f\\x8b\\xec\\x03\\x8f'\n",
    "ORACLE_INITIALIZATION = b'\\x04\\xcfNb\\x1eV4d\\xbb\\xb7)\\xee\\x94@\\xe6\\xa3'\n",
    "\n",
    "def Oracle(s: bytes):\n",
    "    key = ORACLE_KEY\n",
    "    initialization = ORACLE_INITIALIZATION\n",
    "    assert type(s) is bytes\n",
    "    prefix = b\"comment1=cooking%20MCs;userdata=\"\n",
    "    suffix = b\";comment2=%20like%20a%20pound%20of%20bacon\"\n",
    "    plaintext = prefix + s.replace(b';', b'\\;').replace(b'=', b'\\=') + suffix \n",
    "    assert b';admin=true;' not in plaintext\n",
    "    \n",
    "    return EncryptCBC(Pad(plaintext), key, initialization)\n",
    "\n",
    "def IsAdmin(ciphertext):\n",
    "    key = ORACLE_KEY\n",
    "    initialization = ORACLE_INITIALIZATION\n",
    "    plaintext = DecryptCBC(ciphertext, key, initialization)\n",
    "    return b';admin=true;' in plaintext\n",
    "\n",
    "def DecryptOracle(ciphertext: bytes): # This is just to view and verify the final result\n",
    "    key = ORACLE_KEY\n",
    "    initialization = ORACLE_INITIALIZATION\n",
    "    plaintext = DecryptCBC(ciphertext, key, initialization)\n",
    "    return plaintext"
   ]
  },
  {
   "cell_type": "code",
   "execution_count": 4,
   "id": "a877732e-4c01-4c1b-a043-3d7f4dcd34f6",
   "metadata": {},
   "outputs": [],
   "source": [
    "from Crypto.Cipher import AES\n",
    "\n",
    "def XOR(X: bytes, Y: bytes) -> bytes:\n",
    "    assert type(X) is bytes and type(Y) is bytes and len(X) == len(Y)\n",
    "    return bytes([ x^y for x, y in zip(X, Y) ])\n",
    "\n",
    "def Chunkerize(x, chunksize, strict = True):\n",
    "    x = list(x)\n",
    "    assert len(x) % chunksize == 0 if strict else True\n",
    "    for n in range( len(x) // chunksize ):\n",
    "        yield x[ n*chunksize : (n+1)*chunksize ]\n",
    "\n",
    "def EncryptCBC(plaintext, key, initialization):\n",
    "    cipher = AES.new(key, AES.MODE_CBC, iv = initialization)\n",
    "    ciphertext = cipher.encrypt(Pad(plaintext))\n",
    "    return ciphertext\n",
    "\n",
    "def DecryptCBC(ciphertext, key, initialization):\n",
    "    cipher = AES.new(key, AES.MODE_CBC, iv = initialization)\n",
    "    plaintext = cipher.decrypt(ciphertext)\n",
    "    return Unpad(plaintext)"
   ]
  },
  {
   "cell_type": "code",
   "execution_count": 5,
   "id": "80732d6b-d84d-4349-af1c-e07367ca004a",
   "metadata": {},
   "outputs": [
    {
     "data": {
      "text/plain": [
       "b'Cookin MCs like a pound of '"
      ]
     },
     "execution_count": 5,
     "metadata": {},
     "output_type": "execute_result"
    }
   ],
   "source": [
    "from random import choices\n",
    "\n",
    "key = bytes( choices(range(256), k = 16) )\n",
    "initialization = bytes( choices(range(256), k = 16) )\n",
    "\n",
    "plaintext = b'Cookin MCs like a pound of '\n",
    "ciphertext = EncryptCBC(plaintext, key, initialization)\n",
    "DecryptCBC(ciphertext, key, initialization)"
   ]
  },
  {
   "cell_type": "code",
   "execution_count": 6,
   "id": "336214e1-24c3-4cff-9904-5bad7b895201",
   "metadata": {},
   "outputs": [],
   "source": [
    "# Ok, so I'm going to assume the attacker knows the prefix and suffix values...\n",
    "# Nothing in the instructions says the attacker can't know this\n",
    "# and I don't see how this could be possible otherwise\n",
    "\n",
    "prefix = b\"comment1=cooking%20MCs;userdata=\"\n",
    "suffix = b\";comment2=%20like%20a%20pound%20of%20bacon\"\n",
    "\n",
    "prefix_len = len(prefix)\n",
    "suffix_len = len(suffix)\n",
    "\n",
    "assert prefix_len % BLOCKSIZE == 0"
   ]
  },
  {
   "cell_type": "code",
   "execution_count": 7,
   "id": "0f8bf6ae-1c66-4fd6-a774-0f55234efd74",
   "metadata": {},
   "outputs": [
    {
     "data": {
      "text/plain": [
       "b'\\x17\\xfbFl~\\x93\\x1a\\xce\\xc9\\xde\\xbe\\x90e3\\xff\\x06\\x88\\xbd\\x05\\xef\\xc4q9\\xb3\\xc4op9\\x93:\\x16\\x96\\x0e8\\x17\\xb1\\x80<\\x96\\xadT\\xc3E1\\x16\\n\\xe9\\t\\xb2V\\xd3x\\xd1:|\\x7fui\\xeeL\\xdb\\xfcsK\\x98\\xfeC\\x94\\x87\\xc2\\xa7~sO\\xb0F\\x9e\\r\\xa6\\xb3\\xa2\\x12[\\x8c/\\x0f\\x93\\xea\\xe0\\xc9Ba\\xa3\\x1a\\xbc{@\\x9e\\x8d\\x15\\xb5\\xd0\\xfdU\\xe7\\xca\\x96 \\x1a\\x1f\\xa6]2\\x9ePC\\x97H\\x80\\x8c\\x07\\x80\\xcd\\xf5C\\t\\xd2\\x8a'"
      ]
     },
     "execution_count": 7,
     "metadata": {},
     "output_type": "execute_result"
    }
   ],
   "source": [
    "# I want to get something to decrypt to ;admin=true;\n",
    "# but the oracle will escape any ; and = characters I try to pass in so I'll replace them wil nulls\n",
    "# then try to manipulate those nulls back into ; and = characters\n",
    "\n",
    "plaintext_block = b'A'*BLOCKSIZE + b';admin=true;'.replace(b';', b'\\0').replace(b'=', b'\\0')\n",
    "ciphertext = Oracle(plaintext_block) \n",
    "ciphertext"
   ]
  },
  {
   "cell_type": "code",
   "execution_count": 8,
   "id": "a713715c-ee5d-4a4e-b1bd-69dfd831e536",
   "metadata": {},
   "outputs": [
    {
     "name": "stdout",
     "output_type": "stream",
     "text": [
      "0\n",
      "1000000\n",
      "2000000\n",
      "3000000\n",
      "53 171 10\n"
     ]
    }
   ],
   "source": [
    "from itertools import product as CartesianProduct\n",
    "\n",
    "for n, [byte1, byte2, byte3] in enumerate(CartesianProduct(range(0xFF), range(0xFF), range(0xFF))):\n",
    "    print(n) if n % 1e6 == 0 else None\n",
    "    new_ciphertext = list(ciphertext)\n",
    "    variable_block = new_ciphertext[ prefix_len : prefix_len+BLOCKSIZE ]\n",
    "    # Positions 0, 6, and 11 of my ciphertext contain the nulls that I am trying to turn into ; and =\n",
    "    variable_block[0] = byte1\n",
    "    variable_block[6] = byte2\n",
    "    variable_block[11] = byte3\n",
    "    new_ciphertext[ prefix_len : prefix_len+BLOCKSIZE ] = variable_block\n",
    "    if IsAdmin(bytes(new_ciphertext)):\n",
    "        print(byte1, byte2, byte3)\n",
    "        break"
   ]
  },
  {
   "cell_type": "code",
   "execution_count": 9,
   "id": "1840b519-0b6a-4b78-aeaf-ad717259246b",
   "metadata": {},
   "outputs": [
    {
     "data": {
      "text/plain": [
       "b'comment1=cooking%20MCs;userdata=Y\\xd4\\xfb\\x03\\xc3P\\x8e\\x90\\x96\\xe211\\x89\\x00\\x07\\x94;admin=true;;comment2=%20like%20a%20pound%20of%20bacon\\n\\n\\n\\n\\n\\n\\n\\n\\n\\n'"
      ]
     },
     "execution_count": 9,
     "metadata": {},
     "output_type": "execute_result"
    }
   ],
   "source": [
    "DecryptOracle(bytes(new_ciphertext))"
   ]
  }
 ],
 "metadata": {
  "kernelspec": {
   "display_name": "Python 3 (ipykernel)",
   "language": "python",
   "name": "python3"
  },
  "language_info": {
   "codemirror_mode": {
    "name": "ipython",
    "version": 3
   },
   "file_extension": ".py",
   "mimetype": "text/x-python",
   "name": "python",
   "nbconvert_exporter": "python",
   "pygments_lexer": "ipython3",
   "version": "3.10.6"
  }
 },
 "nbformat": 4,
 "nbformat_minor": 5
}
