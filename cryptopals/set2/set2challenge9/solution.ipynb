{
 "cells": [
  {
   "cell_type": "code",
   "execution_count": 4,
   "id": "485d1382-74ae-4df0-bbdc-5684146cee39",
   "metadata": {},
   "outputs": [],
   "source": [
    "def PadFreetext(freetext: bytes, blocksize = 16):\n",
    "    npad = blocksize - len(freetext) % blocksize\n",
    "    return freetext + bytes([npad]) * ( npad % blocksize )"
   ]
  },
  {
   "cell_type": "code",
   "execution_count": 5,
   "id": "4b059dc6-19bb-46a7-9d4d-02ed7c6a0673",
   "metadata": {},
   "outputs": [
    {
     "data": {
      "text/plain": [
       "b'YELLOW SUBMARINE\\x04\\x04\\x04\\x04'"
      ]
     },
     "execution_count": 5,
     "metadata": {},
     "output_type": "execute_result"
    }
   ],
   "source": [
    "PadFreetext(b\"YELLOW SUBMARINE\", 20)"
   ]
  },
  {
   "cell_type": "code",
   "execution_count": null,
   "id": "f67c7726-9e63-43a2-91fb-6e56a28a5e5e",
   "metadata": {},
   "outputs": [],
   "source": []
  }
 ],
 "metadata": {
  "kernelspec": {
   "display_name": "Python 3 (ipykernel)",
   "language": "python",
   "name": "python3"
  },
  "language_info": {
   "codemirror_mode": {
    "name": "ipython",
    "version": 3
   },
   "file_extension": ".py",
   "mimetype": "text/x-python",
   "name": "python",
   "nbconvert_exporter": "python",
   "pygments_lexer": "ipython3",
   "version": "3.10.6"
  }
 },
 "nbformat": 4,
 "nbformat_minor": 5
}
