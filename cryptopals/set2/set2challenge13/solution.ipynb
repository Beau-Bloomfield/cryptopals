{
 "cells": [
  {
   "cell_type": "code",
   "execution_count": 91,
   "id": "ad593b1f-ffe2-4945-8ec6-b20fd2d2f1da",
   "metadata": {},
   "outputs": [],
   "source": [
    "from random import choices, choice\n",
    "import base64\n",
    "from Crypto.Cipher import AES\n",
    "\n",
    "def Chunkerize(x, chunksize, strict = True):\n",
    "    x = list(x)\n",
    "    assert len(x) % chunksize == 0 if strict else True\n",
    "    for n in range( len(x) // chunksize ):\n",
    "        yield x[ n*chunksize : (n+1)*chunksize ]\n",
    "        \n",
    "def PadPlaintext(plaintext: bytes, blocksize = 16):\n",
    "    npad = blocksize - len(plaintext) % blocksize\n",
    "    return plaintext + bytes([npad]) * npad\n",
    "\n",
    "def UnPadPlaintext(plaintext: bytes, blocksize = 16):\n",
    "    assert type(plaintext) is bytes and len(plaintext) % blocksize == 0\n",
    "    final = plaintext[-1]\n",
    "    assert all( char == final for char in plaintext[-final:])\n",
    "    return plaintext[:-final]\n",
    "\n",
    "def EncryptECB(plaintext, key):\n",
    "    BLOCKSIZE = 16\n",
    "    assert len(key) == BLOCKSIZE\n",
    "    plaintext = PadPlaintext(plaintext, BLOCKSIZE)\n",
    "    ECBcipher = AES.new(key, AES.MODE_ECB)\n",
    "    blocks = [ bytes(block) for block in Chunkerize(plaintext, BLOCKSIZE) ]\n",
    "    cypher_blocks = [ ECBcipher.encrypt(block) for block in blocks ]\n",
    "    return b''.join( ECBcipher.encrypt(block) for block in blocks )\n",
    "\n",
    "def DecryptECB(ciphertext, key):\n",
    "    ECBcipher = AES.new(key, AES.MODE_ECB)\n",
    "    blocks = [ bytes(block) for block in Chunkerize(ciphertext, BLOCKSIZE) ]\n",
    "    plaintext = b''.join( ECBcipher.decrypt(block) for block in blocks )\n",
    "    return UnPadPlaintext(plaintext)\n",
    "\n",
    "KEYSIZE = 16"
   ]
  },
  {
   "cell_type": "code",
   "execution_count": 44,
   "id": "f40efe61-8c04-48b6-ae1f-b10f3e6b952c",
   "metadata": {},
   "outputs": [],
   "source": [
    "def Parser(s: bytes):\n",
    "    out = dict()\n",
    "    for pair in s.split(b'&'):\n",
    "        key, value = pair.split(b'=')\n",
    "        out[key] = value\n",
    "    return out"
   ]
  },
  {
   "cell_type": "code",
   "execution_count": 45,
   "id": "a9db34f0-2143-4936-9967-70c23713e3d7",
   "metadata": {},
   "outputs": [
    {
     "data": {
      "text/plain": [
       "{b'foo': b'bar', b'baz': b'qux', b'zap': b'zazzle'}"
      ]
     },
     "execution_count": 45,
     "metadata": {},
     "output_type": "execute_result"
    }
   ],
   "source": [
    "Parser(b'foo=bar&baz=qux&zap=zazzle')"
   ]
  },
  {
   "cell_type": "code",
   "execution_count": 46,
   "id": "b5e37f6e-fa10-4948-b8e9-f939ae84bb15",
   "metadata": {},
   "outputs": [],
   "source": [
    "def profile_for(email: bytes):\n",
    "    assert type(email) is bytes and b'&' not in email and b'=' not in email\n",
    "    uid = bytes( choices(range(48, 58), k = 6) )\n",
    "    role = b'user'\n",
    "    return b'email=' + email + b'&uid=' + uid + b'&role=' + role"
   ]
  },
  {
   "cell_type": "code",
   "execution_count": 47,
   "id": "944ec69c-988f-4285-82d8-4a96599aedcb",
   "metadata": {},
   "outputs": [
    {
     "data": {
      "text/plain": [
       "b'email=foo@bar.com&uid=824078&role=user'"
      ]
     },
     "execution_count": 47,
     "metadata": {},
     "output_type": "execute_result"
    }
   ],
   "source": [
    "email = b'foo@bar.com'\n",
    "profile_for(email)"
   ]
  },
  {
   "cell_type": "code",
   "execution_count": 80,
   "id": "e8e1c173-53b6-4083-a059-dfb9a6d2f902",
   "metadata": {},
   "outputs": [],
   "source": [
    "# Make functions to create encrypted profile\n",
    "# And decrypt it\n",
    "\n",
    "def encrypted_profile_for(email: bytes):\n",
    "    # This function will be available to the attacker, but we will pretend they can only use the function\n",
    "    # but not see the key used inside it\n",
    "    key = bytes([195, 179, 239, 34, 91, 179, 74, 150, 151, 38, 120, 53, 134, 233, 178, 193])  # a random static key\n",
    "    plaintext = profile_for(email)\n",
    "    return EncryptECB(plaintext, key)\n",
    "\n",
    "def decrypt_profile(ciphertext: bytes):\n",
    "    assert type(ciphertext) is bytes\n",
    "    key = bytes([195, 179, 239, 34, 91, 179, 74, 150, 151, 38, 120, 53, 134, 233, 178, 193])  # a random static key\n",
    "    return DecryptECB(ciphertext, key = key)"
   ]
  },
  {
   "cell_type": "code",
   "execution_count": 38,
   "id": "eff5772b-f98f-4c74-9d66-722780f2fdc5",
   "metadata": {},
   "outputs": [],
   "source": [
    "# The instructions are a little unclear here... but here is my interpretation\n",
    "# From here on out the code will be from the perspective of the \"attacker\"\n",
    "# They will be able to use `profile_for` and `encrypted_profile_for`\n",
    "# BUT they will NOT be able to see inside the funtions and see what key is being used"
   ]
  },
  {
   "cell_type": "code",
   "execution_count": 50,
   "id": "fb59b530-8cc6-47d4-992b-4a0f6f602316",
   "metadata": {},
   "outputs": [
    {
     "data": {
      "text/plain": [
       "<function __main__.profile_for(email: bytes)>"
      ]
     },
     "execution_count": 50,
     "metadata": {},
     "output_type": "execute_result"
    }
   ],
   "source": [
    "# This is all that's available, not the interior\n",
    "profile_for"
   ]
  },
  {
   "cell_type": "code",
   "execution_count": 53,
   "id": "050f03e7-a4c9-4037-8cfd-0bf0136e98dc",
   "metadata": {},
   "outputs": [
    {
     "data": {
      "text/plain": [
       "<function __main__.encrypted_profile_for(email: bytes)>"
      ]
     },
     "execution_count": 53,
     "metadata": {},
     "output_type": "execute_result"
    }
   ],
   "source": [
    "# This is all that's available, not the interior\n",
    "encrypted_profile_for"
   ]
  },
  {
   "cell_type": "code",
   "execution_count": 59,
   "id": "bb1b1188-a394-49b3-9296-c27a010b3155",
   "metadata": {},
   "outputs": [
    {
     "name": "stdout",
     "output_type": "stream",
     "text": [
      "b'email=foo@bar.com&uid=286020&role=user'\n",
      "b'email=foo@bar.com&uid=877491&role=user'\n",
      "b'email=foo@bar.com&uid=690723&role=user'\n",
      "b'email=foo@bar.com&uid=460796&role=user'\n",
      "b'email=foo@bar.com&uid=352246&role=user'\n",
      "b'email=foo@bar.com&uid=855241&role=user'\n",
      "b'email=foo@bar.com&uid=520518&role=user'\n",
      "b'email=foo@bar.com&uid=336084&role=user'\n",
      "b'email=foo@bar.com&uid=438639&role=user'\n",
      "b'email=foo@bar.com&uid=879660&role=user'\n"
     ]
    }
   ],
   "source": [
    "# Ok so from the perspective of the attacker, I don't know how this function works\n",
    "\n",
    "for n in range(10):\n",
    "    print(profile_for(b'foo@bar.com'))\n"
   ]
  },
  {
   "cell_type": "code",
   "execution_count": 60,
   "id": "6ac96ec3-3873-4038-946c-eb55c2e0cf6c",
   "metadata": {},
   "outputs": [],
   "source": [
    "# So, looks like the order is always email, uid, role\n",
    "# And the uid is always a six-digit number"
   ]
  },
  {
   "cell_type": "code",
   "execution_count": 66,
   "id": "97f1effa-98a7-4e4a-990f-fd373c475bfc",
   "metadata": {},
   "outputs": [
    {
     "name": "stdout",
     "output_type": "stream",
     "text": [
      "b'AAAAAAAAAAadmin\\x0b\\x0b\\x0b\\x0b\\x0b\\x0b\\x0b\\x0b\\x0b\\x0b\\x0b@bar.com'\n"
     ]
    }
   ],
   "source": [
    "# So first I need to get a cipherblock for just \"admin\" (padded)\n",
    "# \"email=\" has 6 chars\n",
    "# \"admin\" has 5 chars\n",
    "# so I need an email that has 10 chars preceding admin, and then 11 chars padding after admin\n",
    "\n",
    "BLOCKSIZE = 16 # As the attacker I think I can fairly safely assume this blocksize\n",
    "\n",
    "email = b'A'*10 + b'admin' + b'\\x0b'*11 + b'@bar.com'\n",
    "print(email)"
   ]
  },
  {
   "cell_type": "code",
   "execution_count": 70,
   "id": "78eff9c7-5759-4f88-962c-24aca9769414",
   "metadata": {},
   "outputs": [
    {
     "name": "stdout",
     "output_type": "stream",
     "text": [
      "b'\\x8a\\xf9\\x1e\\x02\\x0c\\x01\\x8dBe\\x00\\xc8\\xc8\\xf9\\x92:6\\xc5\\xff\\x1b\\xf3p\\xa6\\xb3@9\\xfd\\xf1`(\\xe8\\xfe\\x81\\x17L6.\\xfe\\xab\\xd7E\\xe5\\x87,G\\xb0~\\xe8\\x0e\\xe4\\xe8\\xd4\\x085.\\xa2\\x82k\\xef\\x7f\\xac\\xaa\\xa9\\xd5?'\n",
      "b'\\xc5\\xff\\x1b\\xf3p\\xa6\\xb3@9\\xfd\\xf1`(\\xe8\\xfe\\x81'\n"
     ]
    }
   ],
   "source": [
    "# So, the second block of this cipher text should be equal to \"admin\" (padded)\n",
    "ciphertext = encrypted_profile_for(email)\n",
    "print(ciphertext)\n",
    "admin_block = ciphertext[ BLOCKSIZE:2*BLOCKSIZE ]\n",
    "print(admin_block)"
   ]
  },
  {
   "cell_type": "code",
   "execution_count": 74,
   "id": "5cc16431-d72c-4568-9dac-e3149dd75a15",
   "metadata": {},
   "outputs": [
    {
     "name": "stdout",
     "output_type": "stream",
     "text": [
      "b'AAAAAAAAAAAAAAfoo@bar.com'\n"
     ]
    }
   ],
   "source": [
    "# So now I need a ciphertext such that the penultimate block ends with \"role=\" so that \n",
    "# So that \"user\" (padded) is in a block all by itself\n",
    "# I'll construct an email such that len(plaintext) % BLOCKSIZE == len(\"user\")\n",
    "\n",
    "email = b'foo@bar.com'\n",
    "plaintext = profile_for(email)\n",
    "\n",
    "while len(plaintext) % BLOCKSIZE != len(b'user'):\n",
    "    email = b'A' + email\n",
    "    plaintext = profile_for(email)\n",
    "\n",
    "print(email)"
   ]
  },
  {
   "cell_type": "code",
   "execution_count": 85,
   "id": "849e3faa-8adb-4a3b-80ce-ff2f37e8cf58",
   "metadata": {},
   "outputs": [
    {
     "name": "stdout",
     "output_type": "stream",
     "text": [
      "b'\\x8a\\xf9\\x1e\\x02\\x0c\\x01\\x8dBe\\x00\\xc8\\xc8\\xf9\\x92:6\\x04\\x80\\xbf\\x08^\\xc34x\\x9a\\xb0\\xea\\x15\\x99z\\x8f\\xba\\x16\\xee\\x92\\xc4\\xd4Aj\\xbe\\xe0\\xfa\\xf0\\x97) \\xd6\\x96\\x08Uu\\x8b=\\xc3;\\x03#3\\xcb;\\xeb\"J\\x8b'\n"
     ]
    }
   ],
   "source": [
    "# So this email should produce a ciphertext with \"user\" alone in the last block\n",
    "ciphertext = encrypted_profile_for(email)\n",
    "print(ciphertext)"
   ]
  },
  {
   "cell_type": "code",
   "execution_count": 86,
   "id": "097f219b-880f-4c65-8d30-ba5928ec0ba7",
   "metadata": {},
   "outputs": [],
   "source": [
    "# And now I just need to replace that last block with the admin_block\n",
    "\n",
    "new_ciphertext = ciphertext[:-BLOCKSIZE] + admin_block"
   ]
  },
  {
   "cell_type": "code",
   "execution_count": 93,
   "id": "5d647aa2-905b-4ab5-a562-7c9a5f5e0d85",
   "metadata": {},
   "outputs": [
    {
     "data": {
      "text/plain": [
       "b'email=AAAAAAAAAAAAAAfoo@bar.com&uid=584585&role=admin'"
      ]
     },
     "execution_count": 93,
     "metadata": {},
     "output_type": "execute_result"
    }
   ],
   "source": [
    "# And this should decrypt back to an admin profile\n",
    "decrypt_profile(new_ciphertext)"
   ]
  },
  {
   "cell_type": "code",
   "execution_count": 94,
   "id": "797c66ce-9c2b-4131-92c7-2e9a2a151639",
   "metadata": {},
   "outputs": [],
   "source": [
    "# GREAT SUCCESS"
   ]
  }
 ],
 "metadata": {
  "kernelspec": {
   "display_name": "Python 3 (ipykernel)",
   "language": "python",
   "name": "python3"
  },
  "language_info": {
   "codemirror_mode": {
    "name": "ipython",
    "version": 3
   },
   "file_extension": ".py",
   "mimetype": "text/x-python",
   "name": "python",
   "nbconvert_exporter": "python",
   "pygments_lexer": "ipython3",
   "version": "3.10.6"
  }
 },
 "nbformat": 4,
 "nbformat_minor": 5
}
