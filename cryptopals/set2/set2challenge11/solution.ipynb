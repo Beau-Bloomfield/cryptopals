{
 "cells": [
  {
   "cell_type": "code",
   "execution_count": 1,
   "id": "cb200231-ea9f-4cf9-b8e2-4e2c60e75fa3",
   "metadata": {},
   "outputs": [],
   "source": [
    "from random import choices, choice\n",
    "from helpers import *\n",
    "\n",
    "def MakeRandomKey(keysize = 16):\n",
    "    return bytes( choices(range(0xFF), k = keysize) )"
   ]
  },
  {
   "cell_type": "code",
   "execution_count": 15,
   "id": "f1e012ea-402c-4fba-bd89-5ee8a7164b11",
   "metadata": {},
   "outputs": [
    {
     "data": {
      "text/plain": [
       "b'B\\xb7!\\x9an\\x92\\xd6\\xa2\\xad\\x0b\\xa4\\x97\\x8d\\xfeW\\x0b'"
      ]
     },
     "execution_count": 15,
     "metadata": {},
     "output_type": "execute_result"
    }
   ],
   "source": [
    "MakeRandomKey()"
   ]
  },
  {
   "cell_type": "code",
   "execution_count": 3,
   "id": "05d9cbef-a512-4f62-a8a5-e7bd8fc3e981",
   "metadata": {},
   "outputs": [],
   "source": [
    "def EncryptionOracle(plaintext):\n",
    "    key = MakeRandomKey(16)\n",
    "    plaintext = MakeRandomKey(choice(range(5, 11)) ) + plaintext + MakeRandomKey( choice(range(5, 11)) )\n",
    "    \n",
    "    mode = choice(['MODE_ECB', 'MODE_CBC'])\n",
    "\n",
    "    if mode == 'MODE_ECB':\n",
    "        ciphertext = EncryptECB(plaintext, key)\n",
    "    else:\n",
    "        initialization = MakeRandomKey(16)\n",
    "        ciphertext = EncryptCBC(plaintext, key, initialization)\n",
    "    return mode, ciphertext"
   ]
  },
  {
   "cell_type": "code",
   "execution_count": 10,
   "id": "a87a3aaf-134f-43b4-a0fc-a9a4bc41fcb7",
   "metadata": {},
   "outputs": [
    {
     "name": "stdout",
     "output_type": "stream",
     "text": [
      "Of Mans First Disobedience, and the Fruit\n",
      "Of that Forbidden Tree, whose mortal tast\n",
      "Brought Death into the World, and all our woe, With loss of EDEN, till one greater Man\n",
      "Restore us, and regain the blissful Seat,\n",
      "Sing Heavnly Muse, that on the secret top\n",
      "Of OREB, or of SINAI, didst inspire\n",
      "That Shepherd, who first taught the chosen Seed, In the Beginning how the Heavns and Earth\n",
      "Rose out of CHAOS: Or if SION Hill\n",
      "Delight thee more, and SILOAS Brook that flowd Fast by the Oracle of God; I thence\n",
      "Invoke thy aid to my adventrous Song,\n",
      "That with no middle flight intends to soar\n",
      "Above th AONIAN Mount, while it pursues Things unattempted yet in Prose or Rhime.\n",
      "And chiefly Thou O Spirit, that dost prefer\n",
      "Before all Temples th upright heart and pure, Instruct me, for Thou knowst; Thou from the first Wast present, and with mighty wings outspread Dove-like satst brooding on the vast Abyss\n",
      "And madst it pregnant: What in me is dark Illumine, what is low raise and support;\n",
      "T\n"
     ]
    }
   ],
   "source": [
    "with open('paradise.txt', mode = 'rb') as file:\n",
    "    plaintext = file.read()\n",
    "\n",
    "print(plaintext[:1000].decode('ascii', 'ignore'))"
   ]
  },
  {
   "cell_type": "code",
   "execution_count": 11,
   "id": "de4e2554-a32a-46e4-97ad-9dbb289ed11e",
   "metadata": {},
   "outputs": [],
   "source": [
    "ciphertext = EncryptionOracle(plaintext)"
   ]
  },
  {
   "cell_type": "code",
   "execution_count": 12,
   "id": "a19307c3-1af3-464e-96ae-d1954c4ccba0",
   "metadata": {},
   "outputs": [],
   "source": [
    "def DetectECB(ciphertext):\n",
    "    BLOCKSIZE = 16\n",
    "    assert len(ciphertext) % BLOCKSIZE == 0\n",
    "    best_offset = 0\n",
    "    best_ratio = 1\n",
    "    \n",
    "    for offset in range(16):\n",
    "        blocks = [ bytes(chunk) for chunk in Chunkerize(ciphertext[offset:], BLOCKSIZE, strict=False) ]\n",
    "        unique_blocks = { *blocks }\n",
    "        ratio = len(unique_blocks) / len(blocks)\n",
    "        \n",
    "        if ratio < best_ratio:\n",
    "            best_offset = offset\n",
    "            best_ratio = ratio\n",
    "    \n",
    "    return best_ratio"
   ]
  },
  {
   "cell_type": "code",
   "execution_count": 13,
   "id": "8b62cb2d-831e-44e4-91a8-61c615d9ecd2",
   "metadata": {},
   "outputs": [
    {
     "name": "stdout",
     "output_type": "stream",
     "text": [
      "0.9960017769880053\n"
     ]
    }
   ],
   "source": [
    "mode, ciphertext = EncryptionOracle(plaintext)\n",
    "print( DetectECB(ciphertext) )"
   ]
  },
  {
   "cell_type": "code",
   "execution_count": 14,
   "id": "6dc8b8de-3c70-4a7c-8ff3-a467836bbc4e",
   "metadata": {},
   "outputs": [],
   "source": [
    "# This test is succesful if no 'Failed to detect...' is printed\n",
    "\n",
    "for n in range(100):\n",
    "    mode, ciphertext = EncryptionOracle(plaintext)\n",
    "    ratio = DetectECB(ciphertext)\n",
    "    if mode == 'MODE_ECB' and ratio >= 0.999999:\n",
    "        print(f'Failed to detect {mode} on iteration {n}.')\n",
    "    elif mode == 'MODE_CBC' and ratio < 1:\n",
    "        print(f'Failed to detect {mode} on iteration {n}.')"
   ]
  },
  {
   "cell_type": "code",
   "execution_count": null,
   "id": "11e1d949-0535-458e-af17-c1e0478b3c98",
   "metadata": {},
   "outputs": [],
   "source": []
  }
 ],
 "metadata": {
  "kernelspec": {
   "display_name": "Python 3 (ipykernel)",
   "language": "python",
   "name": "python3"
  },
  "language_info": {
   "codemirror_mode": {
    "name": "ipython",
    "version": 3
   },
   "file_extension": ".py",
   "mimetype": "text/x-python",
   "name": "python",
   "nbconvert_exporter": "python",
   "pygments_lexer": "ipython3",
   "version": "3.10.6"
  }
 },
 "nbformat": 4,
 "nbformat_minor": 5
}
