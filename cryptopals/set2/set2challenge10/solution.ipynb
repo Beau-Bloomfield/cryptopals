{
 "cells": [
  {
   "cell_type": "code",
   "execution_count": 1,
   "id": "4644e9b6-45ba-41a0-a745-4c8198b7bf14",
   "metadata": {},
   "outputs": [],
   "source": [
    "from Crypto.Cipher import AES\n",
    "\n",
    "def Chunkerize(x, chunksize, strict = True):\n",
    "    x = list(x)\n",
    "    assert len(x) % chunksize == 0 if strict else True\n",
    "    for n in range( len(x) // chunksize ):\n",
    "        yield x[ n*chunksize : (n+1)*chunksize ]"
   ]
  },
  {
   "cell_type": "code",
   "execution_count": 2,
   "id": "267d696a-e064-4fb3-b059-a1e7f33cb0bd",
   "metadata": {},
   "outputs": [],
   "source": [
    "key = b\"YELLOW SUBMARINE\"\n",
    "ECBcipher = AES.new(key, AES.MODE_ECB)"
   ]
  },
  {
   "cell_type": "code",
   "execution_count": 3,
   "id": "bfc8378d-3677-46ce-859b-47f3c079978f",
   "metadata": {},
   "outputs": [],
   "source": [
    "def PadPlaintext(plaintext: bytes, blocksize = 16):\n",
    "    npad = blocksize - len(plaintext) % blocksize\n",
    "    return plaintext + bytes([npad]) * ( npad % blocksize )\n",
    "\n",
    "def XOR(X: bytes, Y: bytes) -> bytes:\n",
    "    assert type(X) is bytes and type(Y) is bytes and len(X) == len(Y)\n",
    "    return bytes([ x^y for x, y in zip(X, Y) ])\n",
    "\n",
    "def EncryptCBC(plaintext, key, initialization):\n",
    "    BLOCKSIZE = 16\n",
    "    plaintext = PadPlaintext(plaintext, BLOCKSIZE)\n",
    "    assert type(initialization) is bytes and len(initialization) == BLOCKSIZE\n",
    "    ECBcipher = AES.new(key, AES.MODE_ECB)\n",
    "    \n",
    "    plain_blocks = [ bytes(block) for block in Chunkerize(plaintext, BLOCKSIZE) ]\n",
    "    cipher_blocks = [None] * len(plain_blocks)\n",
    "    \n",
    "    for n in range(len(plain_blocks)):\n",
    "        if n == 0:\n",
    "            plain_block = XOR(plain_blocks[n], initialization)\n",
    "            cipher_blocks[n] = ECBcipher.encrypt(plain_block)\n",
    "        else:\n",
    "            plain_block = XOR(plain_blocks[n], cipher_blocks[n-1])\n",
    "            cipher_blocks[n] = ECBcipher.encrypt(plain_block)\n",
    "    \n",
    "    return b''.join(cipher_blocks)"
   ]
  },
  {
   "cell_type": "code",
   "execution_count": 4,
   "id": "e058b186-9755-4776-85b1-1d6ba74375fb",
   "metadata": {},
   "outputs": [
    {
     "name": "stdout",
     "output_type": "stream",
     "text": [
      "b'`\\x95\\xee\\xc2w(\\xaau0w$\\xa0\\x10\\x08\\x8d\\x95*\\xa1t\\x9a.(u\\xf9#*cb\\xeaU\\x1d\\x89\\xa5<\\xe3\\xcc\\x01\\xdf\\x02\\xa8\\x1d\\x1f5\\x95;\\xd9.\\x9be\\x15\\x1b\\x10\\xcc\\\\\"\\xa9\\xd1_*+\\x85\\xff\\xb2\\x90\\x83M-C\\xb6O\\xf5{\\xd4\\x9e\\xfc\\xb0\\x1fx\\x8b5[QX2\\xc0v\\x9d\\xed\\x13?\\xb9\\x1c\\x0b\\xf8f!\\x87\\xfa\\xff\\xfb'\n"
     ]
    }
   ],
   "source": [
    "initialization = bytes([0] * 16)\n",
    "plaintext = b'''\n",
    "But, soft! what light through yonder window breaks? It is the east, and Juliet is the sun.\n",
    "Arise, fair sun, and kill the envious moon,\n",
    "Who is already sick and pale with grief,\n",
    "That thou her maid art far more fair than she. It is my lady, O, it is my love!\n",
    "O, that she knew she were!\n",
    "She speaks, yet she says nothing: what of that? Her eye discourses; I will answer it.\n",
    "I am too bold, 'tis not to me she speaks:\n",
    "Two of the fairest stars in all the heaven,\n",
    "Having some business, do entreat her eyes\n",
    "To twinkle in their spheres till they return.\n",
    "What if her eyes were there, they in her head?\n",
    "The brightness of her cheek would shame those stars, As daylight doth a lamp; her eyes in heaven\n",
    "Would through the airy region stream so bright That birds would sing and think it were not night. \n",
    "See how she leans her cheek upon her hand!\n",
    "O, that I were a glove upon that hand,\n",
    "That I might touch that cheek!\n",
    "'''\n",
    "\n",
    "ciphertext = EncryptCBC(plaintext, key, initialization)\n",
    "print(ciphertext[:100])"
   ]
  },
  {
   "cell_type": "code",
   "execution_count": 5,
   "id": "d23cc521-89aa-42d0-9510-054abb629a71",
   "metadata": {},
   "outputs": [],
   "source": [
    "def DecryptCBC(ciphertext, key, initialization):\n",
    "    BLOCKSIZE = 16\n",
    "    assert len(ciphertext) % BLOCKSIZE == 0\n",
    "    assert type(initialization) is bytes and len(initialization) == BLOCKSIZE\n",
    "    ECBcipher = AES.new(key, AES.MODE_ECB)\n",
    "    \n",
    "    cipher_blocks = [ bytes(block) for block in Chunkerize(ciphertext, BLOCKSIZE) ]\n",
    "    plain_blocks = [None] * len(cipher_blocks)\n",
    "    \n",
    "    for n in range(len(plain_blocks)):\n",
    "        if n == 0:\n",
    "            plain_block = ECBcipher.decrypt(cipher_blocks[n])\n",
    "            plain_blocks[n] = XOR(plain_block, initialization)\n",
    "        else:\n",
    "            plain_block = ECBcipher.decrypt(cipher_blocks[n])\n",
    "            plain_blocks[n] = XOR(plain_block, cipher_blocks[n-1])\n",
    "            \n",
    "    plaintext = b''.join(plain_blocks)\n",
    "    last = plaintext[-1]\n",
    "    \n",
    "    if all( char == last for char in plaintext[-last:] ):\n",
    "        return plaintext[:-last]\n",
    "    else:\n",
    "        return plaintext\n",
    "        "
   ]
  },
  {
   "cell_type": "code",
   "execution_count": 6,
   "id": "0a14a2ce-ab52-4c1e-8abb-57a84999bb9b",
   "metadata": {},
   "outputs": [
    {
     "name": "stdout",
     "output_type": "stream",
     "text": [
      "b\"\\nBut, soft! what light through yonder window breaks? It is the east, and Juliet is the sun.\\nArise, fair sun, and kill the envious moon,\\nWho is already sick and pale with grief,\\nThat thou her maid art far more fair than she. It is my lady, O, it is my love!\\nO, that she knew she were!\\nShe speaks, yet she says nothing: what of that? Her eye discourses; I will answer it.\\nI am too bold, 'tis not to me she speaks:\\nTwo of the fairest stars in all the heaven,\\nHaving some business, do entreat her eyes\\nTo twinkle in their spheres till they return.\\nWhat if her eyes were there, they in her head?\\nThe brightness of her cheek would shame those stars, As daylight doth a lamp; her eyes in heaven\\nWould through the airy region stream so bright That birds would sing and think it were not night. \\nSee how she leans her cheek upon her hand!\\nO, that I were a glove upon that hand,\\nThat I might touch that cheek!\\n\"\n"
     ]
    }
   ],
   "source": [
    "print(DecryptCBC(ciphertext, key, initialization))"
   ]
  },
  {
   "cell_type": "code",
   "execution_count": 7,
   "id": "504c32d4-2898-4ffb-9d61-aca42bdedca8",
   "metadata": {},
   "outputs": [
    {
     "name": "stdout",
     "output_type": "stream",
     "text": [
      "b\"I'm back and I'm ringin' the bell \\nA rockin' on the mike while the fly girls yell \\nIn ecstasy in the back of me \\nWell that's my DJ Deshay cuttin' all them Z's \\nHittin' hard and the girlies goin' crazy \\nVanilla's on the mike, man I'm not lazy. \\n\\nI'm lettin' my drug kick in \\nIt controls my mouth and I begin \\nTo just let it flow, let my concepts go \\nMy posse's to the side yellin', Go Vanilla Go! \\n\\nSmooth 'cause that's the way I will be \\nAnd if you don't give a damn, then \\nWhy you starin' at me \\nSo get off 'cause I control the stage \\nThere's no dissin' allowed \\nI'm in my own phase \\nThe girlies sa y they love me and that is ok \\nAnd I can dance better than any kid n' play \\n\\nStage 2 -- Yea the one ya' wanna listen to \\nIt's off my head so let the beat play through \\nSo I can funk it up and make it sound good \\n1-2-3 Yo -- Knock on some wood \\nFor good luck, I like my rhymes atrocious \\nSupercalafragilisticexpialidocious \\nI'm an effect and that you can bet \\nI can take a fly girl and make her wet. \\n\\nI'm like Samson -- Samson to Delilah \\nThere's no denyin', You can try to hang \\nBut you'll keep tryin' to get my style \\nOver and over, practice makes perfect \\nBut not if you're a loafer. \\n\\nYou'll get nowhere, no place, no time, no girls \\nSoon -- Oh my God, homebody, you probably eat \\nSpaghetti with a spoon! Come on and say it! \\n\\nVIP. Vanilla Ice yep, yep, I'm comin' hard like a rhino \\nIntoxicating so you stagger like a wino \\nSo punks stop trying and girl stop cryin' \\nVanilla Ice is sellin' and you people are buyin' \\n'Cause why the freaks are jockin' like Crazy Glue \\nMovin' and groovin' trying to sing along \\nAll through the ghetto groovin' this here song \\nNow you're amazed by the VIP posse. \\n\\nSteppin' so hard like a German Nazi \\nStartled by the bases hittin' ground \\nThere's no trippin' on mine, I'm just gettin' down \\nSparkamatic, I'm hangin' tight like a fanatic \\nYou trapped me once and I thought that \\nYou might have it \\nSo step down and lend me your ear \\n'89 in my time! You, '90 is my year. \\n\\nYou're weakenin' fast, YO! and I can tell it \\nYour body's gettin' hot, so, so I can smell it \\nSo don't be mad and don't be sad \\n'Cause the lyrics belong to ICE, You can call me Dad \\nYou're pitchin' a fit, so step back and endure \\nLet the witch doctor, Ice, do the dance to cure \\nSo come up close and don't be square \\nYou wanna battle me -- Anytime, anywhere \\n\\nYou thought that I was weak, Boy, you're dead wrong \\nSo come on, everybody and sing this song \\n\\nSay -- Play that funky music Say, go white boy, go white boy go \\nplay that funky music Go white boy, go white boy, go \\nLay down and boogie and play that funky music till you die. \\n\\nPlay that funky music Come on, Come on, let me hear \\nPlay that funky music white boy you say it, say it \\nPlay that funky music A little louder now \\nPlay that funky music, white boy Come on, Come on, Come on \\nPlay that funky music \\n\"\n"
     ]
    }
   ],
   "source": [
    "import base64\n",
    "\n",
    "with open('ciphertext.txt', mode = 'rb') as file:\n",
    "    ciphertext = base64.decodebytes(file.read())\n",
    "    \n",
    "plaintext = DecryptCBC(ciphertext, key, initialization)\n",
    "print(plaintext)"
   ]
  },
  {
   "cell_type": "code",
   "execution_count": null,
   "id": "da4e2693-0c98-4a4e-bdce-e5a04f85d367",
   "metadata": {},
   "outputs": [],
   "source": []
  },
  {
   "cell_type": "code",
   "execution_count": null,
   "id": "cce3f49e-5b2f-4d33-8493-00f2eb9ec0e3",
   "metadata": {},
   "outputs": [],
   "source": []
  }
 ],
 "metadata": {
  "kernelspec": {
   "display_name": "Python 3 (ipykernel)",
   "language": "python",
   "name": "python3"
  },
  "language_info": {
   "codemirror_mode": {
    "name": "ipython",
    "version": 3
   },
   "file_extension": ".py",
   "mimetype": "text/x-python",
   "name": "python",
   "nbconvert_exporter": "python",
   "pygments_lexer": "ipython3",
   "version": "3.10.6"
  }
 },
 "nbformat": 4,
 "nbformat_minor": 5
}
