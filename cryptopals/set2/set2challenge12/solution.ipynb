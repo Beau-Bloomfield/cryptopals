{
 "cells": [
  {
   "cell_type": "code",
   "execution_count": 1,
   "id": "3428e411-f577-4590-b49c-a40a85477548",
   "metadata": {},
   "outputs": [],
   "source": [
    "# I did reference this page for some pointers here\n",
    "# https://cypher.codes/writing/cryptopals-challenge-set-2\n",
    "\n",
    "from random import choices, choice\n",
    "import base64\n",
    "from helpers import *\n",
    "from Crypto.Cipher import AES\n",
    "\n",
    "def Chunkerize(x, chunksize, strict = True):\n",
    "    x = list(x)\n",
    "    assert len(x) % chunksize == 0 if strict else True\n",
    "    for n in range( len(x) // chunksize ):\n",
    "        yield x[ n*chunksize : (n+1)*chunksize ]\n",
    "        \n",
    "def PadPlaintext(plaintext: bytes, blocksize = 16):\n",
    "    npad = blocksize - len(plaintext) % blocksize\n",
    "    return plaintext + bytes([npad]) * ( npad % blocksize )\n",
    "\n",
    "def EncryptECB(plaintext, key):\n",
    "    BLOCKSIZE = 16\n",
    "    plaintext = PadPlaintext(plaintext, BLOCKSIZE)\n",
    "    ECBcipher = AES.new(key, AES.MODE_ECB)\n",
    "    blocks = [ bytes(block) for block in Chunkerize(plaintext, BLOCKSIZE) ]\n",
    "    cypher_blocks = [ ECBcipher.encrypt(block) for block in blocks ]\n",
    "    return b''.join( ECBcipher.encrypt(block) for block in blocks )\n",
    "\n",
    "def DecryptECB(ciphertext, key):\n",
    "    ECBcipher = AES.new(key, AES.MODE_ECB)\n",
    "    return ECBcipher.decrypt(ciphertext)"
   ]
  },
  {
   "cell_type": "code",
   "execution_count": 2,
   "id": "4dbd87c8-f1aa-4f20-b8eb-5e66f3cc78bd",
   "metadata": {},
   "outputs": [
    {
     "name": "stdout",
     "output_type": "stream",
     "text": [
      "Suffix size is  138\n"
     ]
    }
   ],
   "source": [
    "def MakeRandomKey(keysize = 16):\n",
    "    return bytes( choices(range(0xFF), k = keysize) )\n",
    "\n",
    "suffix = b'''\n",
    "Um9sbGluJyBpbiBteSA1LjAKV2l0aCBteSByYWctdG9wIGRvd24gc28gbXkg\n",
    "aGFpciBjYW4gYmxvdwpUaGUgZ2lybGllcyBvbiBzdGFuZGJ5IHdhdmluZyBq\n",
    "dXN0IHRvIHNheSBoaQpEaWQgeW91IHN0b3A/IE5vLCBJIGp1c3QgZHJvdmUg\n",
    "YnkK\n",
    "'''\n",
    "\n",
    "print('Suffix size is ', len(base64.decodebytes(suffix)))\n",
    "\n",
    "def EncryptionOracle(plaintext, verbose = False):\n",
    "    key = b'B\\xb7!\\x9an\\x92\\xd6\\xa2\\xad\\x0b\\xa4\\x97\\x8d\\xfeW\\x0b'\n",
    "    raw_suffix = base64.decodebytes(suffix)\n",
    "    plaintext += raw_suffix\n",
    "    print(f'Total input length: {len(plaintext)}.') if verbose else False\n",
    "\n",
    "\n",
    "    ciphertext = EncryptECB(plaintext, key)\n",
    "    return ciphertext\n",
    "\n",
    "def DetectECB(ciphertext):\n",
    "    BLOCKSIZE = 16\n",
    "    assert len(ciphertext) % BLOCKSIZE == 0\n",
    "\n",
    "    blocks = [ bytes(chunk) for chunk in Chunkerize(ciphertext, BLOCKSIZE, strict=False) ]\n",
    "    unique_blocks = { *blocks }\n",
    "    ratio = len(unique_blocks) / len(blocks)\n",
    "    \n",
    "    return ratio"
   ]
  },
  {
   "cell_type": "code",
   "execution_count": 3,
   "id": "24edccc1-f2da-47e5-825e-adb5e1890a1c",
   "metadata": {},
   "outputs": [
    {
     "name": "stdout",
     "output_type": "stream",
     "text": [
      "Repeat block detected at n = 32\n"
     ]
    }
   ],
   "source": [
    "for n in range(64):\n",
    "    plaintext = b'A' * n\n",
    "    ciphertext = EncryptionOracle(plaintext)\n",
    "    \n",
    "    ratio = DetectECB(ciphertext)\n",
    "    if ratio < 0.9999:\n",
    "        print(f'Repeat block detected at n = {n}')\n",
    "        break"
   ]
  },
  {
   "cell_type": "code",
   "execution_count": 4,
   "id": "57b9dfd0-a69d-439c-a675-79d15367543b",
   "metadata": {},
   "outputs": [],
   "source": [
    "# Block repeats at 32, so blocksize = 32/2"
   ]
  },
  {
   "cell_type": "code",
   "execution_count": 5,
   "id": "593a79c4-078a-4cab-a212-f2468bae78c3",
   "metadata": {},
   "outputs": [],
   "source": [
    "BLOCKSIZE = 16"
   ]
  },
  {
   "cell_type": "code",
   "execution_count": 17,
   "id": "0240b37f-edf4-4404-817f-cf1582fb5e01",
   "metadata": {},
   "outputs": [
    {
     "name": "stdout",
     "output_type": "stream",
     "text": [
      "Block0 is b'D\\xce\\xf0\\x99\\x02\\x9e\\x8fr8\\xd2\\xc7Yh-\\x10,'\n",
      "Found 82\n",
      "Block0 is b'$\\xd0o\\xa3\\x93:\\xdb\\xb4\\xa2\\xba\\xb9\\x8bg\\xe7c1'\n",
      "Found 111\n",
      "Block0 is b'?\\xb9\\x95\\x1d=\\x03\\xf85?M|fM\\x97gA'\n",
      "Found 108\n",
      "Block0 is b'\\xceou\\x90D\\xf9K\\x94\\x05N\\xd2\\xb2\\xb9\\xe4\\x98C'\n",
      "Found 108\n",
      "Block0 is b'\\xda\\xa3\\x00\\xed.\\xffv\\xcb3N\\xac\\x17^\\x80\\xf8\\x0c'\n",
      "Found 105\n",
      "Block0 is b'F\\xe6\\x85m\\xbc\\x8e6\\xf9\\xcf7eS\\x92\\x9b/\\xa0'\n",
      "Found 110\n",
      "Block0 is b'\\x08\\x8e\\xc8\\xe2h\\xd7\\xd0\\xd5{\\xf8\\xae\\x91x\\x02\\xf2\\xc1'\n",
      "Found 39\n",
      "Block0 is b'\\xd9<\"v\\xf38\\xa3\\x87_\\x03\\x0c\\xb0N\\x80P\\x97'\n",
      "Found 32\n",
      "Block0 is b'u\\xe4\\xa6k0\\ru\\x9b\\x01X1`p;n\\xc6'\n",
      "Found 105\n",
      "Block0 is b'P\\xfd\\x04\\xce\\xcex\\xbc+\\x0f\\x07/\\xbf\\xa1\\xae\\n\\x1f'\n",
      "Found 110\n",
      "Block0 is b'\\x8d\\xb6\\x9f\\x03\\xd2\\x1ap\\xf7\\xc9\\xe3\\xcfYQ\\xcb\\x8e\\xa6'\n",
      "Found 32\n",
      "Block0 is b'%\\xa41\\x14\\xf7\\x9d\\x92\\x94k\\xe4\\x94\\xf9\\xf1N>\\xdc'\n",
      "Found 109\n",
      "Block0 is b'\\xb4\\xf8\\x17\\xbd\\x02^\\xe2-\\xdd\\x12}\\x12)\\xa4#\\xf3'\n",
      "Found 121\n",
      "Block0 is b'\\t\\x9b\\x951\\xb1z\\xe5\\xa4\\xefq\\xc1\\xba\\xe1\\xd51Y'\n",
      "Found 32\n",
      "Block0 is b'\\x19\\xd8\\x9a\\x03c=\\xaeMq\\xd2\\xeb#\\xae\\xa1&G'\n",
      "Found 53\n",
      "Block0 is b'*\"\\x82K\\xad\\xd0\\x1b{\\xa7%\\x16\\xf1#\\x8etN'\n",
      "Found 46\n"
     ]
    }
   ],
   "source": [
    "# We'll loop to get all the chars of the first block\n",
    "\n",
    "unknown = []\n",
    "\n",
    "for n in range(BLOCKSIZE):\n",
    "    plaintext0 = b'A' * (BLOCKSIZE-n-1)\n",
    "    ciphertext0 = EncryptionOracle(plaintext0)\n",
    "    block0 = ciphertext0[:16]\n",
    "    print(f'Block0 is {block0}')\n",
    "    for char in range(256):\n",
    "        plaintext = bytes([ *plaintext0, *unknown, char ])\n",
    "        ciphertext = EncryptionOracle(plaintext)\n",
    "        if ciphertext[:16] == block0:\n",
    "            print(f'Found {char}')\n",
    "            unknown += [char]\n",
    "            break"
   ]
  },
  {
   "cell_type": "code",
   "execution_count": 18,
   "id": "cf2f90e4-4860-4bfe-8b0e-3a2d3a331f24",
   "metadata": {},
   "outputs": [
    {
     "name": "stdout",
     "output_type": "stream",
     "text": [
      "b\"Rollin' in my 5.\"\n"
     ]
    }
   ],
   "source": [
    "print(bytes(unknown))"
   ]
  },
  {
   "cell_type": "code",
   "execution_count": 19,
   "id": "f122097a-cd01-4e1f-b05e-309335ad7e1a",
   "metadata": {},
   "outputs": [
    {
     "data": {
      "text/plain": [
       "9"
      ]
     },
     "execution_count": 19,
     "metadata": {},
     "output_type": "execute_result"
    }
   ],
   "source": [
    "# Now let's do this for other blocks\n",
    "# We'll need to begin by calculating the length of the unkown\n",
    "\n",
    "unknown_length = len(EncryptionOracle(b''))\n",
    "unknown_length\n",
    "NBLOCKS = (unknown_length // BLOCKSIZE) + ( 1 if unknown_length % BLOCKSIZE  else 0 )\n",
    "NBLOCKS"
   ]
  },
  {
   "cell_type": "code",
   "execution_count": 20,
   "id": "31517f1a-4694-458f-a534-6a25ace8d678",
   "metadata": {},
   "outputs": [
    {
     "name": "stdout",
     "output_type": "stream",
     "text": [
      "Found 82\n",
      "Found 111\n",
      "Found 108\n",
      "Found 108\n",
      "Found 105\n",
      "Found 110\n",
      "Found 39\n",
      "Found 32\n",
      "Found 105\n",
      "Found 110\n",
      "Found 32\n",
      "Found 109\n",
      "Found 121\n",
      "Found 32\n",
      "Found 53\n",
      "Found 46\n",
      "Found 48\n",
      "Found 10\n",
      "Found 87\n",
      "Found 105\n",
      "Found 116\n",
      "Found 104\n",
      "Found 32\n",
      "Found 109\n",
      "Found 121\n",
      "Found 32\n",
      "Found 114\n",
      "Found 97\n",
      "Found 103\n",
      "Found 45\n",
      "Found 116\n",
      "Found 111\n",
      "Found 112\n",
      "Found 32\n",
      "Found 100\n",
      "Found 111\n",
      "Found 119\n",
      "Found 110\n",
      "Found 32\n",
      "Found 115\n",
      "Found 111\n",
      "Found 32\n",
      "Found 109\n",
      "Found 121\n",
      "Found 32\n",
      "Found 104\n",
      "Found 97\n",
      "Found 105\n",
      "Found 114\n",
      "Found 32\n",
      "Found 99\n",
      "Found 97\n",
      "Found 110\n",
      "Found 32\n",
      "Found 98\n",
      "Found 108\n",
      "Found 111\n",
      "Found 119\n",
      "Found 10\n",
      "Found 84\n",
      "Found 104\n",
      "Found 101\n",
      "Found 32\n",
      "Found 103\n",
      "Found 105\n",
      "Found 114\n",
      "Found 108\n",
      "Found 105\n",
      "Found 101\n",
      "Found 115\n",
      "Found 32\n",
      "Found 111\n",
      "Found 110\n",
      "Found 32\n",
      "Found 115\n",
      "Found 116\n",
      "Found 97\n",
      "Found 110\n",
      "Found 100\n",
      "Found 98\n",
      "Found 121\n",
      "Found 32\n",
      "Found 119\n",
      "Found 97\n",
      "Found 118\n",
      "Found 105\n",
      "Found 110\n",
      "Found 103\n",
      "Found 32\n",
      "Found 106\n",
      "Found 117\n",
      "Found 115\n",
      "Found 116\n",
      "Found 32\n",
      "Found 116\n",
      "Found 111\n",
      "Found 32\n",
      "Found 115\n",
      "Found 97\n",
      "Found 121\n",
      "Found 32\n",
      "Found 104\n",
      "Found 105\n",
      "Found 10\n",
      "Found 68\n",
      "Found 105\n",
      "Found 100\n",
      "Found 32\n",
      "Found 121\n",
      "Found 111\n",
      "Found 117\n",
      "Found 32\n",
      "Found 115\n",
      "Found 116\n",
      "Found 111\n",
      "Found 112\n",
      "Found 63\n",
      "Found 32\n",
      "Found 78\n",
      "Found 111\n",
      "Found 44\n",
      "Found 32\n",
      "Found 73\n",
      "Found 32\n",
      "Found 106\n",
      "Found 117\n",
      "Found 115\n",
      "Found 116\n",
      "Found 32\n",
      "Found 100\n",
      "Found 114\n",
      "Found 111\n",
      "Found 118\n",
      "Found 101\n",
      "Found 32\n",
      "Found 98\n",
      "Found 121\n",
      "Found 10\n",
      "Found 1\n"
     ]
    }
   ],
   "source": [
    "unknown = []\n",
    "NBLOCKS = 9\n",
    "\n",
    "for n in range(BLOCKSIZE*NBLOCKS):\n",
    "    assert n == len(unknown)\n",
    "    plaintext0 = b'A' * (NBLOCKS*BLOCKSIZE - 1 - n )\n",
    "    ciphertext0 = EncryptionOracle(plaintext0)\n",
    "    assert len(ciphertext0) % BLOCKSIZE == 0\n",
    "    start = BLOCKSIZE * (NBLOCKS-1)\n",
    "    end = BLOCKSIZE + start\n",
    "    target_block = ciphertext0[start:end]\n",
    "    assert len(target_block) == BLOCKSIZE\n",
    "    for char in range(256):\n",
    "        plaintext = bytes([ *plaintext0, *unknown, char ])\n",
    "        assert len(plaintext) == BLOCKSIZE*NBLOCKS\n",
    "        ciphertext = EncryptionOracle(plaintext)\n",
    "        comparison_block = ciphertext[start:end]\n",
    "        assert len(comparison_block) == BLOCKSIZE\n",
    "        if comparison_block == target_block:\n",
    "            print(f'Found {char}')\n",
    "            unknown.append(char)\n",
    "            break\n",
    "        if char == 255:\n",
    "            # If no match was found just fill with null\n",
    "            unknown.append(0)\n",
    "    "
   ]
  },
  {
   "cell_type": "code",
   "execution_count": 21,
   "id": "e8434d14-36cd-4b52-8197-4858a974b2d8",
   "metadata": {},
   "outputs": [
    {
     "data": {
      "text/plain": [
       "b\"Rollin' in my 5.0\\nWith my rag-top down so my hair can blow\\nThe girlies on standby waving just to say hi\\nDid you stop? No, I just drove by\\n\\x01\\x00\\x00\\x00\\x00\\x00\""
      ]
     },
     "execution_count": 21,
     "metadata": {},
     "output_type": "execute_result"
    }
   ],
   "source": [
    "# Looks like we have the solution\n",
    "\n",
    "bytes(unknown)"
   ]
  }
 ],
 "metadata": {
  "kernelspec": {
   "display_name": "Python 3 (ipykernel)",
   "language": "python",
   "name": "python3"
  },
  "language_info": {
   "codemirror_mode": {
    "name": "ipython",
    "version": 3
   },
   "file_extension": ".py",
   "mimetype": "text/x-python",
   "name": "python",
   "nbconvert_exporter": "python",
   "pygments_lexer": "ipython3",
   "version": "3.10.6"
  }
 },
 "nbformat": 4,
 "nbformat_minor": 5
}
