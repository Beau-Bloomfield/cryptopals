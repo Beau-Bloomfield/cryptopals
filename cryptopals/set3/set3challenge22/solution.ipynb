{
 "cells": [
  {
   "cell_type": "code",
   "execution_count": 1,
   "id": "8c374022-cf0b-40e6-b107-0032803175ef",
   "metadata": {},
   "outputs": [],
   "source": [
    "class MersenneTwister(object):\n",
    "    # First start with constants\n",
    "    w, n, m, r = 32, 624, 397, 31\n",
    "    a = 0x9908B0DF\n",
    "    u, d = 11, 0xFFFFFFFF\n",
    "    s, b = 7, 0x9D2C5680\n",
    "    t, c = 15, 0xEFC60000\n",
    "    l = 18\n",
    "    f = 1812433253\n",
    "    \n",
    "    mt = [0] * n\n",
    "\n",
    "    index = n+1\n",
    "    lower_mask: int = (1 << r) - 1\n",
    "    upper_mask: int = (~lower_mask) & sum( 0b1 << shift for shift in range(w) )\n",
    "    \n",
    "    def __init__(self, seed: int):\n",
    "        mt = self.mt # just so I don't have to write self a bunch of times\n",
    "\n",
    "        self.index = self.n\n",
    "        mt[0] = seed\n",
    "        for i in range(1, self.n):\n",
    "            mt[i] = sum( 0b1 << shift for shift in range(self.w) ) & ( self.f * ( mt[i-1] ^ ( mt[i-1] >> (self.w-2) )) + 1 )\n",
    "            \n",
    "    def __twist__(self):\n",
    "        mt = self.mt\n",
    "        for i in range(self.n):\n",
    "            x = ( mt[i] & self.upper_mask ) | ( mt[ (i+1) % self.n ] & self.lower_mask )\n",
    "            xA = x >> 1\n",
    "            if x % 2 != 0:\n",
    "                xA ^= self.a\n",
    "            mt[i] = mt[ (i+self.m) % self.n ] ^ xA\n",
    "        self.index = 0\n",
    "        \n",
    "    def __call__(self):\n",
    "        mt = self.mt\n",
    "        \n",
    "        if self.index >= self.n:\n",
    "            if self.index > self.n:\n",
    "                assert False, \"Generator was never seeded\"\n",
    "            else:\n",
    "                self.__twist__()\n",
    "        \n",
    "        y  =  mt[self.index]\n",
    "        y ^= (y >> self.u) & self.d\n",
    "        y ^= (y << self.s) & self.b\n",
    "        y ^= (y << self.t) & self.c\n",
    "        y ^= (y >> self.l)\n",
    "    \n",
    "        self.index += 1\n",
    "    \n",
    "        return y & sum( 0b1 << shift for shift in range(self.w) )\n",
    "        "
   ]
  },
  {
   "cell_type": "code",
   "execution_count": 2,
   "id": "78c52404-6d16-43ad-8f2e-43b1e01c89e7",
   "metadata": {},
   "outputs": [],
   "source": [
    "from time import time, sleep\n",
    "from random import random as RandFloat\n",
    "\n",
    "sleep( RandFloat() * 100 )\n",
    "__seed__ = int(time())\n",
    "sleep( RandFloat() * 100 )\n",
    "mt = MersenneTwister(__seed__)"
   ]
  },
  {
   "cell_type": "code",
   "execution_count": 3,
   "id": "33d95485-e53f-43df-801e-4259b9207fef",
   "metadata": {},
   "outputs": [
    {
     "data": {
      "text/plain": [
       "153326920"
      ]
     },
     "execution_count": 3,
     "metadata": {},
     "output_type": "execute_result"
    }
   ],
   "source": [
    "first_number = mt()\n",
    "first_number"
   ]
  },
  {
   "cell_type": "code",
   "execution_count": 4,
   "id": "82da5015-68cd-4b22-a3e5-a7a034789226",
   "metadata": {},
   "outputs": [
    {
     "name": "stdout",
     "output_type": "stream",
     "text": [
      "Seed was 1670776217\n"
     ]
    }
   ],
   "source": [
    "toc = int(time())\n",
    "\n",
    "# I'm just going to brute force this.\n",
    "# I can't think of any other way and I've seen a bunch of other people use that as a solution.\n",
    "\n",
    "for offset in range(1000):\n",
    "    mt2 = MersenneTwister(toc - offset)\n",
    "    if mt2() == first_number:\n",
    "        print(f'Seed was {toc-offset}')\n",
    "        break"
   ]
  },
  {
   "cell_type": "code",
   "execution_count": 5,
   "id": "1c939752-19b7-443c-bf53-73d61b45de97",
   "metadata": {},
   "outputs": [
    {
     "name": "stdout",
     "output_type": "stream",
     "text": [
      "1670776217\n"
     ]
    }
   ],
   "source": [
    "print(__seed__)"
   ]
  },
  {
   "cell_type": "code",
   "execution_count": null,
   "id": "7fc5ed4d-8daf-4ac5-af3a-c57f6267e342",
   "metadata": {},
   "outputs": [],
   "source": []
  }
 ],
 "metadata": {
  "kernelspec": {
   "display_name": "Python 3 (ipykernel)",
   "language": "python",
   "name": "python3"
  },
  "language_info": {
   "codemirror_mode": {
    "name": "ipython",
    "version": 3
   },
   "file_extension": ".py",
   "mimetype": "text/x-python",
   "name": "python",
   "nbconvert_exporter": "python",
   "pygments_lexer": "ipython3",
   "version": "3.10.6"
  }
 },
 "nbformat": 4,
 "nbformat_minor": 5
}
