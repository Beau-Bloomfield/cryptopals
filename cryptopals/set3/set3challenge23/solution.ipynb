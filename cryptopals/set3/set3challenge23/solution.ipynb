{
 "cells": [
  {
   "cell_type": "code",
   "execution_count": 1,
   "id": "3933068e-c714-4b77-9008-5b35b421d773",
   "metadata": {},
   "outputs": [],
   "source": [
    "# This is my mersenne twister from the last challenge \n",
    "\n",
    "class MersenneTwister(object):\n",
    "    # First start with constants\n",
    "    w, n, m, r = 32, 624, 397, 31\n",
    "    a = 0x9908B0DF\n",
    "    u, d = 11, 0xFFFFFFFF\n",
    "    s, b = 7, 0x9D2C5680\n",
    "    t, c = 15, 0xEFC60000\n",
    "    l = 18\n",
    "    f = 1812433253\n",
    "    \n",
    "    mt = [0] * n\n",
    "\n",
    "    index = n+1\n",
    "    lower_mask: int = (1 << r) - 1\n",
    "    upper_mask: int = (~lower_mask) & sum( 0b1 << shift for shift in range(w) )\n",
    "    \n",
    "    def __init__(self, seed: int):\n",
    "        mt = self.mt # just so I don't have to write self a bunch of times\n",
    "\n",
    "        self.index = self.n\n",
    "        mt[0] = seed\n",
    "        for i in range(1, self.n):\n",
    "            mt[i] = sum( 0b1 << shift for shift in range(self.w) ) & ( self.f * ( mt[i-1] ^ ( mt[i-1] >> (self.w-2) )) + 1 )\n",
    "            \n",
    "    def __twist__(self):\n",
    "        mt = self.mt\n",
    "        for i in range(self.n):\n",
    "            x = ( mt[i] & self.upper_mask ) | ( mt[ (i+1) % self.n ] & self.lower_mask )\n",
    "            xA = x >> 1\n",
    "            if x % 2 != 0:\n",
    "                xA ^= self.a\n",
    "            mt[i] = mt[ (i+self.m) % self.n ] ^ xA\n",
    "        self.index = 0\n",
    "        \n",
    "    def __call__(self):\n",
    "        mt = self.mt\n",
    "        \n",
    "        if self.index >= self.n:\n",
    "            if self.index > self.n:\n",
    "                assert False, \"Generator was never seeded\"\n",
    "            else:\n",
    "                self.__twist__()\n",
    "        \n",
    "        y  =  mt[self.index]\n",
    "        y ^= (y >> self.u) & self.d\n",
    "        y ^= (y << self.s) & self.b\n",
    "        y ^= (y << self.t) & self.c\n",
    "        y ^= (y >> self.l)\n",
    "    \n",
    "        self.index += 1\n",
    "    \n",
    "        return y & sum( 0b1 << shift for shift in range(self.w) )\n",
    "        "
   ]
  },
  {
   "cell_type": "code",
   "execution_count": 2,
   "id": "fd7ce4b0-638a-47ad-909d-ae966718f8f7",
   "metadata": {},
   "outputs": [],
   "source": [
    "# Now break out the \"tempering\" step for simplicity\n",
    "\n",
    "def Temper(y: int):\n",
    "    u, d = 11, 0xFFFFFFFF\n",
    "    s, b = 7, 0x9D2C5680\n",
    "    t, c = 15, 0xEFC60000\n",
    "    l = 18\n",
    "    f = 1812433253\n",
    "    \n",
    "    y ^= (y >> u) & d\n",
    "    y ^= (y << s) & b\n",
    "    y ^= (y << t) & c\n",
    "    y ^= (y >> l)\n",
    "    \n",
    "    return y"
   ]
  },
  {
   "cell_type": "code",
   "execution_count": 3,
   "id": "0bf7e57e-5181-4f69-b368-4a9646dda1d6",
   "metadata": {},
   "outputs": [],
   "source": [
    "# Now I need to make an inverse for this function... \n",
    "# I am first going to make a very simplified version of this function with only one step\n",
    "\n",
    "BITSHIFT = 7\n",
    "MAXBITS = 32\n",
    "MASK = 0x9D2C5680\n",
    "\n",
    "def SimpleTemper(y: int, maxbits = MAXBITS, bitshift = BITSHIFT, mask = MASK):\n",
    "    assert y < ( 0b1<<maxbits)\n",
    "    assert bitshift < maxbits\n",
    "    if bitshift > 0:\n",
    "        y ^= ( y >> bitshift ) & mask\n",
    "    elif bitshift < 0:\n",
    "        y ^= ( y << -bitshift ) & mask\n",
    "    else:\n",
    "        assert False\n",
    "    return y"
   ]
  },
  {
   "cell_type": "code",
   "execution_count": 4,
   "id": "f0d60c92-cf58-4c10-885d-e202d15f3d78",
   "metadata": {},
   "outputs": [],
   "source": [
    "# Now I'll attempt to invert this function\n",
    "\n",
    "def InvertSimpleTemper(x: int, maxbits = MAXBITS, bitshift = BITSHIFT, mask = MASK):\n",
    "    # x = y ^ ( y >> 1 )\n",
    "    # x^x = x ^ y ^ ( y >> 1 )\n",
    "    # 0 = x ^ y ^ ( y >> 1 )\n",
    "    \n",
    "    # solve the highest bits first, since anything higher must be a zero\n",
    "    \n",
    "    result = [None] * maxbits\n",
    "    assert maxbits > bitshift\n",
    "    \n",
    "    if bitshift > 0:\n",
    "        for n in reversed(range(maxbits)) :\n",
    "            if n+bitshift >= maxbits:\n",
    "                # I'm in the top section of bits so anything shifted in is assumed to be zero\n",
    "                x_bit = x & ( 0b1 << n ) # corresponding bit in x\n",
    "                mask_bit = mask & ( 0b1 << n ) # corresponding bit in the mask\n",
    "\n",
    "                if x_bit:\n",
    "                    # the xbit is set and the higher y bit must be zero, so to produce 0 this bit must be set\n",
    "                    result[n] = 1\n",
    "                else:\n",
    "                    # the xbit is clear and the higher y bit must be zero, so to produce 0 this bit must be clear\n",
    "                    result[n] = 0\n",
    "            else:\n",
    "                # There should be a higher y bit to check\n",
    "                y_high = result[n+bitshift]\n",
    "                assert y_high is not None\n",
    "                x_bit = x & ( 0b1 << n ) # corresponding bit in x\n",
    "                mask_bit = mask & ( 0b1 << n ) # corresponding bit in the mask\n",
    "\n",
    "\n",
    "                # For each of these sets of bits, an even number should be set to produce 0 when XORed together\n",
    "                if x_bit and ( y_high and mask_bit ):\n",
    "                    result[n] = 0\n",
    "                elif x_bit and not( y_high and mask_bit ):\n",
    "                    result[n] = 1\n",
    "                elif not(x_bit) and ( y_high and mask_bit ):\n",
    "                    result[n] = 1\n",
    "                elif not(x_bit) and not( y_high and mask_bit ):\n",
    "                    result[n] = 0\n",
    "                else:\n",
    "                    # THIS SHOULD NEVER HAPPEN\n",
    "                    assert False\n",
    "                    \n",
    "    elif bitshift < 0:\n",
    "        bitshift *= -1\n",
    "        for n in range(maxbits):\n",
    "            if n < bitshift:\n",
    "                # I'm in the bottom section of bits so anything shifted in must be 0\n",
    "                x_bit = x & ( 0b1 << n ) # corresponding bit in x\n",
    "                mask_bit = mask & ( 0b1 << n ) # corresponding bit in the mask\n",
    "\n",
    "                if x_bit:\n",
    "                    # the xbit is set and the lower y bit must be zero, so to produce 0 this bit must be set\n",
    "                    result[n] = 1 \n",
    "                else:\n",
    "                    # the xbit is clear and the lower y bit must be zero, so to produce 0 this bit must be clear\n",
    "                    result[n] = 0\n",
    "            else:                \n",
    "                # There should be a higher y bit to check\n",
    "                y_low = result[n-bitshift]\n",
    "                assert y_low is not None\n",
    "                x_bit = x & ( 0b1 << n ) # corresponding bit in x\n",
    "                mask_bit = mask & ( 0b1 << n ) # corresponding bit in the mask\n",
    "\n",
    "                # For each of these sets of bits, an even number should be set to produce 0 when XORed together\n",
    "                if x_bit and ( y_low and mask_bit ):\n",
    "                    result[n] = 0\n",
    "                elif x_bit and not( y_low and mask_bit ):\n",
    "                    result[n] = 1\n",
    "                elif not(x_bit) and ( y_low and mask_bit ):\n",
    "                    result[n] = 1\n",
    "                elif not(x_bit) and not( y_low and mask_bit ):\n",
    "                    result[n] = 0\n",
    "                else:\n",
    "                    # THIS SHOULD NEVER HAPPEN\n",
    "                    assert False\n",
    "                           \n",
    "    else:\n",
    "        assert False\n",
    "        \n",
    "    assert {*result} <= {0, 1}\n",
    "    return sum( value << n for n, value in enumerate(result) )"
   ]
  },
  {
   "cell_type": "code",
   "execution_count": 5,
   "id": "84e697e0-5c1e-4cc7-86a9-188104e0b11e",
   "metadata": {},
   "outputs": [
    {
     "name": "stdout",
     "output_type": "stream",
     "text": [
      "4294967295\n"
     ]
    }
   ],
   "source": [
    "u, d = 11, 0xFFFFFFFF\n",
    "s, b = 7, 0x9D2C5680\n",
    "t, c = 15, 0xEFC60000\n",
    "l = 18\n",
    "\n",
    "x = 0xFFFFFFFF\n",
    "\n",
    "y = SimpleTemper(x, bitshift = t, mask = c)\n",
    "print(y)"
   ]
  },
  {
   "cell_type": "code",
   "execution_count": 6,
   "id": "07a0bb63-6694-466a-a968-56cfde77eedf",
   "metadata": {},
   "outputs": [
    {
     "data": {
      "text/plain": [
       "4294967295"
      ]
     },
     "execution_count": 6,
     "metadata": {},
     "output_type": "execute_result"
    }
   ],
   "source": [
    "InvertSimpleTemper(y, bitshift = t, mask = c)"
   ]
  },
  {
   "cell_type": "code",
   "execution_count": 7,
   "id": "048b8da7-7ab0-4f6a-a975-9162ed7ffc30",
   "metadata": {},
   "outputs": [],
   "source": [
    "# Make another version of the tempering function with parity to the simple tempers\n",
    "# Positive shift indicate left shift, and negative right shift\n",
    "\n",
    "def Temper2(y: int):\n",
    "    u, d = 11, 0xFFFFFFFF\n",
    "    s, b = 7, 0x9D2C5680\n",
    "    t, c = 15, 0xEFC60000\n",
    "    l = 18\n",
    "    \n",
    "    y = SimpleTemper(y, bitshift = u,  mask = d)\n",
    "    y = SimpleTemper(y, bitshift = -s, mask = b)\n",
    "    y = SimpleTemper(y, bitshift = -t, mask = c)\n",
    "    y = SimpleTemper(y, bitshift = l,  mask = ~0)\n",
    "    \n",
    "    return y"
   ]
  },
  {
   "cell_type": "code",
   "execution_count": 8,
   "id": "66039e5b-66e9-4400-8394-f57fa3c8b6a8",
   "metadata": {},
   "outputs": [],
   "source": [
    "# Check that Temper2 is equivalent to the orginal Temper\n",
    "\n",
    "x = 543543543\n",
    "assert Temper2(x) == Temper(x)"
   ]
  },
  {
   "cell_type": "code",
   "execution_count": 9,
   "id": "d1eaa3bb-fa73-4bb4-9c17-7bdb787c9512",
   "metadata": {},
   "outputs": [],
   "source": [
    "# Now build an invert templer function by chaining together invert simple tempers\n",
    "\n",
    "def InvertTemper(y):\n",
    "    u, d = 11, 0xFFFFFFFF\n",
    "    s, b =  7, 0x9D2C5680\n",
    "    t, c = 15, 0xEFC60000\n",
    "    l = 18\n",
    "    \n",
    "    y = InvertSimpleTemper(y, bitshift = l, mask = ~0)\n",
    "    y = InvertSimpleTemper(y, bitshift = -t, mask = c)\n",
    "    y = InvertSimpleTemper(y, bitshift = -s, mask = b)\n",
    "    y = InvertSimpleTemper(y, bitshift = u, mask = d)\n",
    "    \n",
    "    return y"
   ]
  },
  {
   "cell_type": "code",
   "execution_count": 10,
   "id": "9d8f1dac-61e9-474e-994b-57ae9baa2976",
   "metadata": {},
   "outputs": [],
   "source": [
    "x = 543543543\n",
    "y = SimpleTemper(x, bitshift = -s, mask = b)\n",
    "xprime = InvertSimpleTemper(y, bitshift = -s, mask = b)\n",
    "\n",
    "assert x == xprime"
   ]
  },
  {
   "cell_type": "code",
   "execution_count": 11,
   "id": "c423e16b-cee9-4fa4-847d-7df357d8d4af",
   "metadata": {},
   "outputs": [],
   "source": [
    "# Great success! We have now successfully inverted the temper function\n",
    "# Now I'm going to re-write the Mersenne twister using my Temper2 function\n",
    "\n",
    "class MersenneTwister(object):\n",
    "    # First start with constants\n",
    "    w, n, m, r = 32, 624, 397, 31\n",
    "    a = 0x9908B0DF\n",
    "    u, d = 11, 0xFFFFFFFF\n",
    "    s, b = 7, 0x9D2C5680\n",
    "    t, c = 15, 0xEFC60000\n",
    "    l = 18\n",
    "    f = 1812433253\n",
    "    \n",
    "    mt = [0] * n\n",
    "\n",
    "    index = n+1\n",
    "    lower_mask: int = (1 << r) - 1\n",
    "    upper_mask: int = (~lower_mask) & sum( 0b1 << shift for shift in range(w) )\n",
    "    \n",
    "    def __init__(self, seed: int):\n",
    "        mt = self.mt # just so I don't have to write self a bunch of times\n",
    "\n",
    "        self.index = self.n\n",
    "        mt[0] = seed\n",
    "        for i in range(1, self.n):\n",
    "            mt[i] = sum( 0b1 << shift for shift in range(self.w) ) & ( self.f * ( mt[i-1] ^ ( mt[i-1] >> (self.w-2) )) + 1 )\n",
    "            \n",
    "    def __twist__(self):\n",
    "        mt = self.mt\n",
    "        for i in range(self.n):\n",
    "            x = ( mt[i] & self.upper_mask ) | ( mt[ (i+1) % self.n ] & self.lower_mask )\n",
    "            xA = x >> 1\n",
    "            if x % 2 != 0:\n",
    "                xA ^= self.a\n",
    "            mt[i] = mt[ (i+self.m) % self.n ] ^ xA\n",
    "        self.index = 0\n",
    "        \n",
    "    def __call__(self):\n",
    "        mt = self.mt\n",
    "        \n",
    "        if self.index >= self.n:\n",
    "            if self.index > self.n:\n",
    "                assert False, \"Generator was never seeded\"\n",
    "            else:\n",
    "                self.__twist__()\n",
    "        \n",
    "        y  =  mt[self.index]\n",
    "        y  = Temper2(y)\n",
    "        self.index += 1\n",
    "    \n",
    "        return y & sum( 0b1 << shift for shift in range(self.w) )"
   ]
  },
  {
   "cell_type": "code",
   "execution_count": 12,
   "id": "3371fb29-a92c-4ced-94e8-9bc10f7e56b1",
   "metadata": {},
   "outputs": [
    {
     "name": "stdout",
     "output_type": "stream",
     "text": [
      "[3225431814, 882238445, 2871375431, 2627082018, 1557640367, 330380317, 2228864956, 951923467, 3729394512, 3228856173, 3993000669, 1724365817, 1938047254, 1748532678, 3141670923, 2550503813, 4204086341, 978465857, 3630164559, 1309635741, 4163584072, 1899032274, 2527644726, 1483861524, 2892090636, 4157375774, 1016727817, 2039534179, 2817183000, 3152003499, 3240155330, 1944951299, 2472361193, 1527317263, 3503716578, 1543476778, 2071533355, 835057724, 986310944, 3504289539, 184520592, 4061051181, 735914624, 2491012502, 2983064219, 2700248934, 1402045086, 437341584, 3452060919, 62177866, 96636628, 2378339206, 3320370570, 3342921357, 1634978469, 2910179097, 1487528203, 86453469, 4220604508, 1051998411, 3124295924, 234555258, 1843034486, 585778021, 1794193701, 547624969, 1109911856, 1483215375, 277504901, 2475625659, 1181541282, 545617532, 3071839701, 3298776087, 3455401253, 2705283757, 1140108236, 2567099494, 3553586555, 115454251, 3269658412, 2181780318, 555926085, 142771657, 1864636022, 2499389297, 859303368, 404064496, 3250452548, 2136110994, 511063257, 1839531505, 3441359493, 2920963178, 2249758123, 2515693364, 673620690, 2208790043, 2990904613, 2849264743]\n"
     ]
    }
   ],
   "source": [
    "# And test it out\n",
    "\n",
    "twister1 = MersenneTwister(seed = 123)\n",
    "\n",
    "output1 = [ twister1() for n in range(624) ] # The state array mt should be this long\n",
    "print(output1[:100])"
   ]
  },
  {
   "cell_type": "code",
   "execution_count": 13,
   "id": "229e2c67-64ea-4cbf-a42c-ad468426a497",
   "metadata": {},
   "outputs": [],
   "source": [
    "twister2 = MersenneTwister(seed = 0)\n",
    "twister2() # need to call it once to initialize stuff\n",
    "twister2.mt[:] = [ InvertTemper(value) for value in output1 ]\n",
    "\n",
    "assert twister2.mt == twister1.mt"
   ]
  },
  {
   "cell_type": "code",
   "execution_count": 14,
   "id": "22d4c439-7c0c-48a9-8358-7f84ec458e8a",
   "metadata": {},
   "outputs": [],
   "source": [
    "# twister1 has been called 624 times so we need to update twister2 accordingly\n",
    "\n",
    "twister2.index = 624\n",
    "\n",
    "assert twister1.index == twister2.index"
   ]
  },
  {
   "cell_type": "code",
   "execution_count": 15,
   "id": "50baa352-e351-4bf4-99d3-2a7e7480746c",
   "metadata": {},
   "outputs": [
    {
     "data": {
      "text/plain": [
       "624"
      ]
     },
     "execution_count": 15,
     "metadata": {},
     "output_type": "execute_result"
    }
   ],
   "source": [
    "twister1.index"
   ]
  },
  {
   "cell_type": "code",
   "execution_count": 16,
   "id": "41b35fbb-aac5-431b-b989-d42dee071f6f",
   "metadata": {},
   "outputs": [
    {
     "data": {
      "text/plain": [
       "624"
      ]
     },
     "execution_count": 16,
     "metadata": {},
     "output_type": "execute_result"
    }
   ],
   "source": [
    "twister2.index"
   ]
  },
  {
   "cell_type": "code",
   "execution_count": 17,
   "id": "30d7094e-3faf-491f-b111-437263a64ae0",
   "metadata": {},
   "outputs": [
    {
     "data": {
      "text/plain": [
       "3510634545"
      ]
     },
     "execution_count": 17,
     "metadata": {},
     "output_type": "execute_result"
    }
   ],
   "source": [
    "twister1()"
   ]
  },
  {
   "cell_type": "code",
   "execution_count": 18,
   "id": "8a439096-c050-43c0-b8ed-876995a636ab",
   "metadata": {},
   "outputs": [
    {
     "data": {
      "text/plain": [
       "3009426959"
      ]
     },
     "execution_count": 18,
     "metadata": {},
     "output_type": "execute_result"
    }
   ],
   "source": [
    "twister2()"
   ]
  },
  {
   "cell_type": "code",
   "execution_count": 19,
   "id": "c7658ed6-139f-4ed6-bc43-48d69a09ff9f",
   "metadata": {},
   "outputs": [
    {
     "data": {
      "text/plain": [
       "2424507078"
      ]
     },
     "execution_count": 19,
     "metadata": {},
     "output_type": "execute_result"
    }
   ],
   "source": [
    "twister1()"
   ]
  },
  {
   "cell_type": "code",
   "execution_count": 20,
   "id": "fe6ed048-8307-4ce7-a0ca-76816d04da9b",
   "metadata": {},
   "outputs": [
    {
     "data": {
      "text/plain": [
       "2424507078"
      ]
     },
     "execution_count": 20,
     "metadata": {},
     "output_type": "execute_result"
    }
   ],
   "source": [
    "twister2()"
   ]
  },
  {
   "cell_type": "code",
   "execution_count": 21,
   "id": "5466d6e9-fd56-484a-beb4-d0d3d82d003e",
   "metadata": {},
   "outputs": [],
   "source": [
    "assert twister1.index == twister2.index\n",
    "assert twister1.mt == twister2.mt"
   ]
  },
  {
   "cell_type": "code",
   "execution_count": 22,
   "id": "b8d75c89-6233-489f-acf7-4845dceb8324",
   "metadata": {},
   "outputs": [],
   "source": [
    "for n in range(100):\n",
    "    if twister1() != twister2():\n",
    "        print(f'Error on {n}')\n",
    "        break"
   ]
  },
  {
   "cell_type": "code",
   "execution_count": 23,
   "id": "4c18d909-cdd5-456b-902b-2853869475bf",
   "metadata": {},
   "outputs": [],
   "source": [
    "# Looks like twister1 has succesfully copied the state of twister2"
   ]
  }
 ],
 "metadata": {
  "kernelspec": {
   "display_name": "Python 3 (ipykernel)",
   "language": "python",
   "name": "python3"
  },
  "language_info": {
   "codemirror_mode": {
    "name": "ipython",
    "version": 3
   },
   "file_extension": ".py",
   "mimetype": "text/x-python",
   "name": "python",
   "nbconvert_exporter": "python",
   "pygments_lexer": "ipython3",
   "version": "3.10.6"
  }
 },
 "nbformat": 4,
 "nbformat_minor": 5
}
