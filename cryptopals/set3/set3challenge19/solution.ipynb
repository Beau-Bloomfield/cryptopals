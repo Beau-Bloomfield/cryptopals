{
 "cells": [
  {
   "cell_type": "code",
   "execution_count": 1,
   "id": "5bc89f9a-154d-4d2e-9bfa-8d47ab6e40c7",
   "metadata": {},
   "outputs": [],
   "source": [
    "from random import choice, choices\n",
    "import base64\n",
    "from Crypto.Cipher import AES\n",
    "\n",
    "BLOCKSIZE = 16"
   ]
  },
  {
   "cell_type": "code",
   "execution_count": 2,
   "id": "a8526a8a-8d97-4794-a237-78dbda8739a9",
   "metadata": {},
   "outputs": [],
   "source": [
    "def XOR(A: bytes, B: bytes):\n",
    "    assert type(A) is bytes and type(B) is bytes and len(A) == len(B)\n",
    "    return bytes([ a^b for a, b in zip(A, B) ])\n",
    "\n",
    "def IntToLittleEndian(x: int, nbytes: int):\n",
    "    assert type(x) is int and x >= 0\n",
    "    out = bytes()\n",
    "    while x >  0:\n",
    "        out += bytes([ x & 0xFF ])\n",
    "        x >>= 8\n",
    "    \n",
    "    assert len(out) <= nbytes\n",
    "    out += bytes( [0] * ( nbytes-len(out) ) )\n",
    "    \n",
    "    return out\n",
    "\n",
    "def LittleEndianToInt(x: bytes):\n",
    "    assert type(x) is bytes\n",
    "    out = 0\n",
    "    byte_counter = 0\n",
    "    while len(x) > 0:\n",
    "        out += x[0] << byte_counter*8\n",
    "        byte_counter += 1\n",
    "        x = x[1:]\n",
    "        \n",
    "    return out"
   ]
  },
  {
   "cell_type": "code",
   "execution_count": 3,
   "id": "faa54b04-5a51-42c3-8110-dc5d3186088c",
   "metadata": {},
   "outputs": [],
   "source": [
    "class CTR(object):\n",
    "    def __init__(self, nonce: bytes, key: bytes):\n",
    "        assert type(nonce) is bytes and len(nonce) < BLOCKSIZE\n",
    "        self.nonce = nonce\n",
    "        self.aes = AES.new(key, AES.MODE_ECB)\n",
    "        \n",
    "    def EncryptBlock(self, block: bytes, counter: int):\n",
    "        assert type(counter) is int and counter >= 0\n",
    "        assert type(block) is bytes and len(block) == BLOCKSIZE\n",
    "        little_endian: bytes = IntToLittleEndian(counter, nbytes = BLOCKSIZE-len(self.nonce))\n",
    "        key_block = self.aes.encrypt( self.nonce + little_endian )\n",
    "        assert type(key_block) is bytes and len(key_block) == BLOCKSIZE\n",
    "        return XOR(key_block, block)\n",
    "    \n",
    "    def DecryptBlock(self, block, counter: int):\n",
    "        return self.EncryptBlock(block, counter)\n",
    "    \n",
    "    def EncryptBytes(self, plaintext: bytes, counter: int):\n",
    "        assert type(plaintext) is bytes and len(plaintext) <= BLOCKSIZE\n",
    "        assert type(counter) is int and counter >= 0\n",
    "        little_endian: bytes = IntToLittleEndian(counter, nbytes = BLOCKSIZE-len(self.nonce))\n",
    "        key_block = self.aes.encrypt( self.nonce + little_endian )\n",
    "        assert type(key_block) is bytes and len(key_block) == BLOCKSIZE\n",
    "        return XOR(key_block[:len(plaintext)], plaintext)\n",
    "    \n",
    "    def DecryptBytes(self, ciphertext: bytes, counter: int):\n",
    "        return self.EncryptBytes(ciphertext, counter)\n",
    "    \n",
    "    def EncryptStream(self, plaintext: bytes, counter: int = 0):\n",
    "        assert type(plaintext) is bytes\n",
    "        stream = bytes(plaintext)\n",
    "        ciphertexts = list()\n",
    "        \n",
    "        while len(stream) > 0:\n",
    "            block =  stream[:BLOCKSIZE]\n",
    "            stream = stream[BLOCKSIZE:]\n",
    "            assert len(block) == BLOCKSIZE or len(stream) == 0\n",
    "            ciphertexts += [ self.EncryptBytes(block, counter) ]\n",
    "            counter += 1\n",
    "        \n",
    "        ciphertext = b''.join(ciphertexts)\n",
    "        assert len(ciphertext) == len(plaintext)\n",
    "        return ciphertext\n",
    "    \n",
    "    def DecryptStream(self, plaintext: bytes, counter: int = 0):\n",
    "        return self.EncryptStream(plaintext, counter)\n",
    "    \n",
    "        "
   ]
  },
  {
   "cell_type": "code",
   "execution_count": 4,
   "id": "3c39aac5-d311-441a-9fab-07d3e669cd68",
   "metadata": {},
   "outputs": [
    {
     "name": "stdout",
     "output_type": "stream",
     "text": [
      "b'\\x1f\\xf1\\xa3*\\xd9\\xc7f\\x8f\\x86\\xdb#)\\x04v\\xaeR\\xb3\\x98L\\xbf\\xf4\\x02a\\xbb\\xef\\xb5y\\xb3\\xcb\\x8f\\n'\n",
      "b'\\x15\\xbe\\xa6\"\\xc1\\xc5f\\x95\\x8a\\xdbk}\\x1az\\xb5\\x1b\\xb6\\xcc\\n\\xbd\\xfb\\x08a'\n",
      "b'\\x10\\xa3\\xa4&\\x8f\\xc1)\\x97\\x8d\\xdbf/L|\\xb1R\\xb6\\x89\\x1f\\xb7\\xb8\\x0c\\x7f\\xb1\\xa1\\xbd?\\xf4\\xdd\\x8b\\n'\n",
      "b'\\x13\\xb8\\xac#\\xdb\\xc7#\\x8c\\x97\\xc7.>\\t}\\xb7\\x07\\xa0\\x95L\\xb4\\xf7\\x18a\\xbb\\xbc\\xf4'\n",
      "b'\\x1f\\xf1\\xa3*\\xd9\\xc7f\\x92\\x82\\xdcp8\\x083\\xb4\\x1b\\xa6\\x84L\\xbd\\xb8\\x03}\\xba\\xef\\xb5y\\xb3\\xdb\\x86\\x168E\\xc5\\xef\\xaf'\n",
      "b'\\x19\\xa3\\xeb;\\xc0\\xce/\\x96\\x86\\x8fn8\\r}\\xaa\\x1c\\xb5\\x80\\t\\xaf\\xebMe\\xb1\\xbd\\xbel\\xbf'\n",
      "b'\\x19\\xa3\\xeb#\\xce\\xd4#\\xc2\\x8f\\xc6m:\\ta\\xa6\\x16\\xf2\\x8d\\x1b\\xb4\\xf1\\x01w\\xfe\\xae\\xb4{\\xb3\\xdc\\x8f\\x1a|'\n",
      "b'\\x06\\xbe\\xa7\"\\xdb\\xc7f\\x8f\\x86\\xcem4\\x02t\\xaf\\x17\\xa1\\x9fL\\xab\\xf7\\x1fv\\xad\\xe3'\n",
      "b'\\x17\\xbf\\xafk\\xdb\\xca)\\x97\\x84\\xc7w}\\x0ev\\xa5\\x1d\\xa0\\x89L\\xb5\\xb8\\x05s\\xba\\xef\\xbep\\xfd\\xca'\n",
      "b'\\x19\\xb7\\xeb*\\x8f\\xcf)\\x81\\x88\\xc6m:Lg\\xa2\\x1e\\xb7\\xcc\\x03\\xae\\xb8\\x0c2\\xb9\\xa6\\xb8z'\n",
      "b\"\\x02\\xbe\\xeb;\\xc3\\xc7'\\x91\\x86\\x8fb}\\x0f|\\xae\\x02\\xb3\\x82\\x05\\xb3\\xf6\"\n",
      "b'\\x17\\xa3\\xa4>\\xc1\\xc6f\\x96\\x8b\\xca#;\\x05a\\xa6R\\xb3\\x98L\\xa8\\xf0\\x082\\xbd\\xa3\\xaf}\\xbf'\n",
      "b'\\x14\\xb4\\xa2%\\xc8\\x82%\\x87\\x91\\xdbb4\\x023\\xb7\\x1a\\xb3\\x98L\\xa8\\xf0\\x08k\\xfe\\xae\\xb4{\\xb3\\xc6'\n",
      "b'\\x14\\xa4\\xbfk\\xc3\\xcb0\\x87\\x87\\x8ft5\\ta\\xa6R\\xbf\\x83\\x18\\xb0\\xfd\\x142\\xb7\\xbc\\xfah\\xfc\\xdd\\x80I'\n",
      "b\"\\x17\\xbd\\xa7k\\xcc\\xca'\\x8c\\x84\\xcagqLp\\xab\\x13\\xbc\\x8b\\t\\xb8\\xb8\\x18f\\xaa\\xaa\\xa8s\\xea\\x95\"\n",
      "b'\\x17\\xf1\\xbf.\\xdd\\xd0/\\x80\\x8f\\xca#?\\tr\\xb6\\x06\\xab\\xcc\\x05\\xaf\\xb8\\x0f}\\xac\\xa1\\xf4'\n",
      "b'\\x02\\xb9\\xaa?\\x8f\\xd5)\\x8f\\x82\\xc1$.Lw\\xa2\\x0b\\xa1\\xcc\\x1b\\xb9\\xea\\x082\\xad\\xbf\\xbfq\\xe7'\n",
      "b'\\x1f\\xbf\\xeb\"\\xc8\\xcc)\\x90\\x82\\xc1w}\\x0b|\\xac\\x16\\xf2\\x9b\\x05\\xb0\\xf4A'\n",
      "b'\\x1e\\xb4\\xb9k\\xc1\\xcb!\\x8a\\x97\\xdc#4\\x023\\xa2\\x00\\xb5\\x99\\x01\\xb9\\xf6\\x19'\n",
      "b'\\x03\\xbf\\xbf\"\\xc3\\x82.\\x87\\x91\\x8fu2\\x05p\\xa6R\\xb5\\x9e\\t\\xab\\xb8\\x1ez\\xac\\xa6\\xb6s\\xbd'\n",
      "b'\\x01\\xb9\\xaa?\\x8f\\xd4)\\x8b\\x80\\xca#0\\x03a\\xa6R\\xa1\\x9b\\t\\xb9\\xecMf\\xb6\\xae\\xb4?\\xfb\\xca\\x9c\\x00'\n",
      "b'\\x01\\xb9\\xae%\\x8f\\xdb)\\x97\\x8d\\xc8#<\\x02w\\xe3\\x10\\xb7\\x8d\\x19\\xa8\\xf1\\x0bg\\xb2\\xe3'\n",
      "b'\\x05\\xb9\\xaek\\xdd\\xcd\"\\x87\\xc3\\xdbl}\\x04r\\xb1\\x00\\xbb\\x89\\x1e\\xaf\\xa7'\n",
      "b\"\\x02\\xb9\\xa28\\x8f\\xcf'\\x8c\\xc3\\xc7b9Lx\\xa6\\x02\\xa6\\xcc\\r\\xfc\\xeb\\x0ez\\xb1\\xa0\\xb6\"\n",
      "b'\\x17\\xbf\\xafk\\xdd\\xcd\"\\x87\\xc3\\xc0v/Ld\\xaa\\x1c\\xb5\\x89\\x08\\xfc\\xf0\\x02`\\xad\\xaa\\xf4'\n",
      "b'\\x02\\xb9\\xa28\\x8f\\xcd2\\x8a\\x86\\xdd#5\\x05`\\xe3\\x1a\\xb7\\x80\\x1c\\xb9\\xeaMs\\xb0\\xab\\xfay\\xe1\\xc6\\x8b\\x1d|'\n",
      "b'\\x01\\xb0\\xb8k\\xcc\\xcd+\\x8b\\x8d\\xc8#4\\x02g\\xacR\\xba\\x85\\x1f\\xfc\\xfe\\x02`\\xbd\\xaa\\xe1'\n",
      "b'\\x1e\\xb4\\xeb&\\xc6\\xc5.\\x96\\xc3\\xc7b+\\t3\\xb4\\x1d\\xbc\\xcc\\n\\xbd\\xf5\\x082\\xb7\\xa1\\xfak\\xfb\\xca\\xce\\x16vI\\x8c'\n",
      "b'\\x05\\xbe\\xeb8\\xca\\xcc5\\x8b\\x97\\xc6u8L{\\xaa\\x01\\xf2\\x82\\r\\xa8\\xed\\x1fw\\xfe\\xbc\\xbfz\\xfe\\xca\\x8a_'\n",
      "b'\\x05\\xbe\\xeb/\\xce\\xd0/\\x8c\\x84\\x8fb3\\x083\\xb0\\x05\\xb7\\x89\\x18\\xfc\\xf0\\x04a\\xfe\\xbb\\xb2p\\xe6\\xc8\\x86\\x076'\n",
      "b'\\x02\\xb9\\xa28\\x8f\\xcd2\\x8a\\x86\\xdd#0\\r}\\xe3\\x1b\\xf2\\x84\\r\\xb8\\xb8\\t`\\xbb\\xae\\xb7z\\xf7'\n",
      "b'\\x17\\xf1\\xaf9\\xda\\xcc-\\x87\\x8d\\x83#+\\rz\\xad_\\xb5\\x80\\x03\\xae\\xf1\\x02g\\xad\\xef\\xb6p\\xe6\\xdb\\xc0'\n",
      "b'\\x1e\\xb4\\xeb#\\xce\\xc6f\\x86\\x8c\\xc1f}\\x01|\\xb0\\x06\\xf2\\x8e\\x05\\xa8\\xec\\x08`\\xfe\\xb8\\xa8p\\xfd\\xc8'\n",
      "b'\\x02\\xbe\\xeb8\\xc0\\xcf#\\xc2\\x94\\xc7l}\\ra\\xa6R\\xbc\\x89\\r\\xae\\xb8\\x00k\\xfe\\xa7\\xbf~\\xe1\\xdb\\xc2'\n",
      "b'\\x0f\\xb4\\xbfk\\xc6\\x82(\\x97\\x8e\\xcdf/L{\\xaa\\x1f\\xf2\\x85\\x02\\xfc\\xec\\x05w\\xfe\\xbc\\xb5q\\xf4\\x94'\n",
      "b'\\x1e\\xb4\\xe7k\\xdb\\xcd)\\xce\\xc3\\xc7b.La\\xa6\\x01\\xbb\\x8b\\x02\\xb9\\xfcMz\\xb7\\xbc\\xfao\\xf2\\xdd\\x9a'\n",
      "b'\\x1f\\xbf\\xeb?\\xc7\\xc7f\\x81\\x82\\xdcv<\\x003\\xa0\\x1d\\xbf\\x89\\x08\\xa5\\xa3'\n",
      "b'\\x1e\\xb4\\xe7k\\xdb\\xcd)\\xce\\xc3\\xc7b.Lq\\xa6\\x17\\xbc\\xcc\\x0f\\xb4\\xf9\\x03u\\xbb\\xab\\xfav\\xfd\\x8f\\x86\\x1ak\\r\\xd4\\xfb\\xb9\\x7fW'\n",
      "b'\\x02\\xa3\\xaa%\\xdc\\xc4)\\x90\\x8e\\xcag}\\x19g\\xb7\\x17\\xa0\\x80\\x15\\xe6'\n",
      "b'\\x17\\xf1\\xbf.\\xdd\\xd0/\\x80\\x8f\\xca#?\\tr\\xb6\\x06\\xab\\xcc\\x05\\xaf\\xb8\\x0f}\\xac\\xa1\\xf4'\n"
     ]
    }
   ],
   "source": [
    "ctr_cipher = CTR(nonce = b'\\0'*8, key = b'YELLOW SUBMARINE')\n",
    "ciphertexts = [ ctr_cipher.EncryptStream(base64.decodebytes(line).lower()) for line in open('strings.txt', mode = 'rb') ]\n",
    "for ciphertext in ciphertexts:\n",
    "    print(ciphertext)"
   ]
  },
  {
   "cell_type": "code",
   "execution_count": 5,
   "id": "0d36c528-b56c-4d8a-8547-b277b59b70b0",
   "metadata": {},
   "outputs": [],
   "source": [
    "# Compute some statistics on token frequency\n",
    "paradise = open('paradise.txt', mode =  'rb').read().lower()\n",
    "Counter = lambda x, normalize = False: { key: x.count(key) / ( len(x) if normalize else 1 ) for key in {*x} }\n",
    "alphabet = b'abcdefghijklmnopqrstuvwxyz'\n",
    "base_frequency = Counter([ char for char in paradise if char in alphabet ], normalize = True)"
   ]
  },
  {
   "cell_type": "code",
   "execution_count": 39,
   "id": "b26a3c43-9f4a-40fa-89e1-5293e9d2dc0f",
   "metadata": {},
   "outputs": [],
   "source": [
    "# This scoring function worked well in challenge 6 so I'll use it again here\n",
    "\n",
    "def Dot(x, y):\n",
    "    assert len(x) == len(y)\n",
    "    return sum( x_*y_ for x_, y_ in zip(x, y) )\n",
    "\n",
    "def Norm(x):\n",
    "    return sum( x_**2 for x_ in x ) ** 0.5\n",
    "\n",
    "def Mean(x):\n",
    "    return sum(x) / len(x)\n",
    "\n",
    "def Score(x: bytes, alpha = 6):\n",
    "    assert type(x) is bytes\n",
    "    x = x.lower()\n",
    "  \n",
    "    frequencies = 0.082, 0.015, 0.028, 0.043, 0.130, 0.022, 0.020, 0.061, 0.070, 0.002, 0.008, 0.040, 0.024, \\\n",
    "                  0.067, 0.075, 0.019, 0.001, 0.060, 0.063, 0.091, 0.028, 0.010, 0.024, 0.002, 0.020, 0.001\n",
    "    alphabet = b'abcdefghijklmnopqrstuvwxyz'\n",
    "    \n",
    "    v1 = [0] * 256\n",
    "    for n, char in enumerate(alphabet):\n",
    "        v1[char] = frequencies[n]\n",
    "    assert 0.99 < sum(v1) < 1.01\n",
    "    \n",
    "    v2 = [0] * 256\n",
    "    for char in range(256):\n",
    "        v2[char] = x.count(char) / len(x)\n",
    "    assert 0.99 < sum(v2) < 1.01\n",
    "\n",
    "    return Dot(v1, v2) * ( sum( char in { *b' \\n', *range(97, 123) } for char in x ) / len(x) ) ** alpha"
   ]
  },
  {
   "cell_type": "code",
   "execution_count": 27,
   "id": "48d46416-c559-44ff-b238-f6d6d0508b03",
   "metadata": {},
   "outputs": [
    {
     "data": {
      "text/plain": [
       "0.04070896872617271"
      ]
     },
     "execution_count": 27,
     "metadata": {},
     "output_type": "execute_result"
    }
   ],
   "source": [
    "Score(b\"Before all Temples th' upright heart and pure,\")"
   ]
  },
  {
   "cell_type": "code",
   "execution_count": 31,
   "id": "d1f514b7-5253-4c58-849d-4169354d2692",
   "metadata": {},
   "outputs": [
    {
     "data": {
      "text/plain": [
       "0.001"
      ]
     },
     "execution_count": 31,
     "metadata": {},
     "output_type": "execute_result"
    }
   ],
   "source": [
    "Score(b'qqqqqqqqqqqqq')"
   ]
  },
  {
   "cell_type": "code",
   "execution_count": 37,
   "id": "73a582a2-0fab-4542-b0cd-4d6bf8c34aea",
   "metadata": {},
   "outputs": [],
   "source": [
    "solved_keys = list()\n",
    "\n",
    "for idx in range( max( len(ciphertext) for ciphertext in ciphertexts ) ):\n",
    "    text = bytes( ciphertext[idx] for ciphertext in ciphertexts if len(ciphertext) > idx )\n",
    "    best_score = 0\n",
    "    best_key = -1\n",
    "    \n",
    "    for key in range(0xFF):\n",
    "        plaintext = bytes([ key^char for char in text ])\n",
    "        score = Score(plaintext)\n",
    "        if score > best_score:\n",
    "            best_score = score\n",
    "            best_key = key\n",
    "    \n",
    "    solved_keys.append(best_key)"
   ]
  },
  {
   "cell_type": "code",
   "execution_count": 38,
   "id": "2089e36d-df46-46b5-a151-91d23d4a2a08",
   "metadata": {},
   "outputs": [
    {
     "name": "stdout",
     "output_type": "stream",
     "text": [
      "b'I have met them at close of daY'\n",
      "b'Coming with vivid faces'\n",
      "b'From counter or desk among greY'\n",
      "b'Eighteenth-century houses.'\n",
      "b'I have passed with a nod of thE hCee'\n",
      "b'Or polite meaningless words,'\n",
      "b'Or have lingered awhile and saId'\n",
      "b'Polite meaningless words,'\n",
      "b'And thought before i had done'\n",
      "b'Of a mocking tale or a gibe'\n",
      "b'To please a companion'\n",
      "b'Around the fire at the club,'\n",
      "b'Being certain that they and i'\n",
      "b'But lived where motley is worn\\x1a'\n",
      "b'All changed, changed utterly:'\n",
      "b'A terrible beauty is born.'\n",
      "b\"That woman's days were spent\"\n",
      "b'In ignorant good will,'\n",
      "b'Her nights in argument'\n",
      "b'Until her voice grew shrill.'\n",
      "b'What voice more sweet than herS'\n",
      "b'When young and beautiful,'\n",
      "b'She rode to harriers?'\n",
      "b'This man had kept a school'\n",
      "b'And rode our winged horse.'\n",
      "b'This other his helper and frieNd'\n",
      "b'Was coming into his force;'\n",
      "b'He might have won fame in the End\\n'\n",
      "b'So sensitive his nature seemed\\x0c'\n",
      "b'So daring and sweet his thoughT.'\n",
      "b'This other man i had dreamed'\n",
      "b'A drunken, vain-glorious lout.'\n",
      "b'He had done most bitter wrong'\n",
      "b'To some who are near my heart,'\n",
      "b'Yet i number him in the song;'\n",
      "b'He, too, has resigned his part'\n",
      "b'In the casual comedy;'\n",
      "b'He, too, has been changed in hIs RqseE'\n",
      "b'Transformed utterly:'\n",
      "b'A terrible beauty is born.'\n"
     ]
    }
   ],
   "source": [
    "for ciphertext in ciphertexts:\n",
    "    print(XOR(ciphertext, bytes(solved_keys[:len(ciphertext)])))"
   ]
  },
  {
   "cell_type": "code",
   "execution_count": null,
   "id": "5282bd0d-7e12-4e96-af9d-c7375464b9f9",
   "metadata": {},
   "outputs": [],
   "source": []
  },
  {
   "cell_type": "code",
   "execution_count": null,
   "id": "d46c952a-a8ce-4da3-9959-f9d316dbcc5d",
   "metadata": {},
   "outputs": [],
   "source": []
  }
 ],
 "metadata": {
  "kernelspec": {
   "display_name": "Python 3 (ipykernel)",
   "language": "python",
   "name": "python3"
  },
  "language_info": {
   "codemirror_mode": {
    "name": "ipython",
    "version": 3
   },
   "file_extension": ".py",
   "mimetype": "text/x-python",
   "name": "python",
   "nbconvert_exporter": "python",
   "pygments_lexer": "ipython3",
   "version": "3.10.6"
  }
 },
 "nbformat": 4,
 "nbformat_minor": 5
}
