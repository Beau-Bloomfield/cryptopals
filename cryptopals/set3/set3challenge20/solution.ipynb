{
 "cells": [
  {
   "cell_type": "code",
   "execution_count": 1,
   "id": "f9e75a23-0291-4e4d-ac12-df9e36bb32d0",
   "metadata": {},
   "outputs": [],
   "source": [
    "# So... I accidentally already solved this in challenge 19.  Statistical XOR solving just occured to me\n",
    "# as most expedient.  So see challenge 19."
   ]
  },
  {
   "cell_type": "code",
   "execution_count": null,
   "id": "30dbcb6a-9ed1-46c6-9704-c143b61d476d",
   "metadata": {},
   "outputs": [],
   "source": []
  }
 ],
 "metadata": {
  "kernelspec": {
   "display_name": "Python 3 (ipykernel)",
   "language": "python",
   "name": "python3"
  },
  "language_info": {
   "codemirror_mode": {
    "name": "ipython",
    "version": 3
   },
   "file_extension": ".py",
   "mimetype": "text/x-python",
   "name": "python",
   "nbconvert_exporter": "python",
   "pygments_lexer": "ipython3",
   "version": "3.10.6"
  }
 },
 "nbformat": 4,
 "nbformat_minor": 5
}
