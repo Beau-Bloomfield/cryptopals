{
 "cells": [
  {
   "cell_type": "code",
   "execution_count": 1,
   "id": "af34b628-d1e4-40bc-9b3b-58c91289111d",
   "metadata": {},
   "outputs": [],
   "source": [
    "# Basically just copying from here as instructed\n",
    "# https://en.wikipedia.org/wiki/Mersenne_Twister\n",
    "\n",
    "# I'm just going to do this monolithically for now and use global variables for now\n",
    "# If I were to actually do this I would NOT use global variables, I would implement this as an object instead"
   ]
  },
  {
   "cell_type": "code",
   "execution_count": 2,
   "id": "c4b4f7da-a112-4237-abc0-0322acc041f3",
   "metadata": {},
   "outputs": [],
   "source": [
    "# First start with constants\n",
    "\n",
    "w, n, m, r = 32, 624, 397, 31\n",
    "a = 0x9908B0DF\n",
    "u, d = 11, 0xFFFFFFFF\n",
    "s, b = 7, 0x9D2C5680\n",
    "t, c = 15, 0xEFC60000\n",
    "l = 18\n",
    "f = 1812433253"
   ]
  },
  {
   "cell_type": "code",
   "execution_count": 3,
   "id": "2b0daa61-9d71-4fe6-b8df-55ca3676603c",
   "metadata": {},
   "outputs": [],
   "source": [
    "mt = [0] * n\n",
    "\n",
    "index = n+1\n",
    "lower_mask: int = (1 << r) - 1\n",
    "upper_mask: int = (~lower_mask) & sum( 0b1 << shift for shift in range(w) )\n",
    "\n",
    "def seed_mt(seed: int):\n",
    "    global index\n",
    "    index = n\n",
    "    mt[0] = seed\n",
    "    for i in range(1, n):\n",
    "        mt[i] = sum( 0b1 << shift for shift in range(w) ) & ( f * ( mt[i-1] ^ ( mt[i-1] >> (w-2) )) + 1 )\n"
   ]
  },
  {
   "cell_type": "code",
   "execution_count": 4,
   "id": "042b4e09-05db-4ebe-bed8-551d9c63467c",
   "metadata": {},
   "outputs": [],
   "source": [
    "def extract_number():\n",
    "    global index\n",
    "    if index >= n:\n",
    "        if index > n:\n",
    "            assert False, \"Generator was never seeded\"\n",
    "        else:\n",
    "            twist()\n",
    "    \n",
    "    y = mt[index]\n",
    "    y ^= (y >> u) & d\n",
    "    y ^= (y << s) & b\n",
    "    y ^= (y << t) & c\n",
    "    y ^= (y >> l)\n",
    "    \n",
    "    index += 1\n",
    "    \n",
    "    return y & sum( 0b1 << shift for shift in range(w) )"
   ]
  },
  {
   "cell_type": "code",
   "execution_count": 5,
   "id": "52cc0457-4fd4-4223-82b1-97c6b297ce62",
   "metadata": {},
   "outputs": [],
   "source": [
    "def twist():\n",
    "    global index\n",
    "    for i in range(n):\n",
    "        x = ( mt[i] & upper_mask ) | ( mt[ (i+1) % n ] & lower_mask )\n",
    "        xA = x >> 1\n",
    "        if x % 2 != 0:\n",
    "            xA ^= a\n",
    "        mt[i] = mt[ (i+m) % n ] ^ xA\n",
    "    index = 0\n",
    "    "
   ]
  },
  {
   "cell_type": "code",
   "execution_count": 6,
   "id": "7ac2f698-59df-424a-8da3-af445c3b1500",
   "metadata": {},
   "outputs": [],
   "source": [
    "seed_mt(5489)"
   ]
  },
  {
   "cell_type": "code",
   "execution_count": 7,
   "id": "4d207149-cdc8-459d-83fd-a5478bc91052",
   "metadata": {},
   "outputs": [
    {
     "data": {
      "text/plain": [
       "4072726764"
      ]
     },
     "execution_count": 7,
     "metadata": {},
     "output_type": "execute_result"
    }
   ],
   "source": [
    "extract_number()"
   ]
  },
  {
   "cell_type": "code",
   "execution_count": 8,
   "id": "55d9ef50-7779-46eb-8b5d-cc0d3cdc3e05",
   "metadata": {},
   "outputs": [
    {
     "data": {
      "text/plain": [
       "182033372"
      ]
     },
     "execution_count": 8,
     "metadata": {},
     "output_type": "execute_result"
    }
   ],
   "source": [
    "extract_number()"
   ]
  },
  {
   "cell_type": "code",
   "execution_count": 9,
   "id": "7282f875-d080-4310-8f83-842bfa80e6c8",
   "metadata": {},
   "outputs": [
    {
     "data": {
      "text/plain": [
       "270524741"
      ]
     },
     "execution_count": 9,
     "metadata": {},
     "output_type": "execute_result"
    }
   ],
   "source": [
    "extract_number()"
   ]
  },
  {
   "cell_type": "code",
   "execution_count": 10,
   "id": "36230c51-d56a-41fd-bb60-ed96abb82b69",
   "metadata": {},
   "outputs": [
    {
     "data": {
      "text/plain": [
       "505989596"
      ]
     },
     "execution_count": 10,
     "metadata": {},
     "output_type": "execute_result"
    }
   ],
   "source": [
    "extract_number()"
   ]
  },
  {
   "cell_type": "code",
   "execution_count": 11,
   "id": "456183f0-e1ec-43d9-84e1-5e432b29bba4",
   "metadata": {},
   "outputs": [
    {
     "ename": "AssertionError",
     "evalue": "Generator was never seeded",
     "output_type": "error",
     "traceback": [
      "\u001b[0;31m---------------------------------------------------------------------------\u001b[0m",
      "\u001b[0;31mAssertionError\u001b[0m                            Traceback (most recent call last)",
      "Cell \u001b[0;32mIn [11], line 2\u001b[0m\n\u001b[1;32m      1\u001b[0m \u001b[38;5;28;01mfor\u001b[39;00m n \u001b[38;5;129;01min\u001b[39;00m \u001b[38;5;28mrange\u001b[39m(\u001b[38;5;241m10\u001b[39m):\n\u001b[0;32m----> 2\u001b[0m     \u001b[38;5;28mprint\u001b[39m(\u001b[43mextract_number\u001b[49m\u001b[43m(\u001b[49m\u001b[43m)\u001b[49m)\n",
      "Cell \u001b[0;32mIn [4], line 5\u001b[0m, in \u001b[0;36mextract_number\u001b[0;34m()\u001b[0m\n\u001b[1;32m      3\u001b[0m \u001b[38;5;28;01mif\u001b[39;00m index \u001b[38;5;241m>\u001b[39m\u001b[38;5;241m=\u001b[39m n:\n\u001b[1;32m      4\u001b[0m     \u001b[38;5;28;01mif\u001b[39;00m index \u001b[38;5;241m>\u001b[39m n:\n\u001b[0;32m----> 5\u001b[0m         \u001b[38;5;28;01massert\u001b[39;00m \u001b[38;5;28;01mFalse\u001b[39;00m, \u001b[38;5;124m\"\u001b[39m\u001b[38;5;124mGenerator was never seeded\u001b[39m\u001b[38;5;124m\"\u001b[39m\n\u001b[1;32m      6\u001b[0m     \u001b[38;5;28;01melse\u001b[39;00m:\n\u001b[1;32m      7\u001b[0m         twist()\n",
      "\u001b[0;31mAssertionError\u001b[0m: Generator was never seeded"
     ]
    }
   ],
   "source": [
    "for n in range(10):\n",
    "    print(extract_number())"
   ]
  },
  {
   "cell_type": "code",
   "execution_count": null,
   "id": "c2e7cc86-d09b-4dbb-b556-ee30623fe54e",
   "metadata": {},
   "outputs": [],
   "source": []
  }
 ],
 "metadata": {
  "kernelspec": {
   "display_name": "Python 3 (ipykernel)",
   "language": "python",
   "name": "python3"
  },
  "language_info": {
   "codemirror_mode": {
    "name": "ipython",
    "version": 3
   },
   "file_extension": ".py",
   "mimetype": "text/x-python",
   "name": "python",
   "nbconvert_exporter": "python",
   "pygments_lexer": "ipython3",
   "version": "3.10.6"
  }
 },
 "nbformat": 4,
 "nbformat_minor": 5
}
