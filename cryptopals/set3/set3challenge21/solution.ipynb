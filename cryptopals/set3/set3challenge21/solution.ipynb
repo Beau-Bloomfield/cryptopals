{
 "cells": [
  {
   "cell_type": "code",
   "execution_count": 1,
   "id": "955ae02b-3a6b-4905-b084-52c8e021a262",
   "metadata": {},
   "outputs": [],
   "source": [
    "# So my first-attempt kinda worked, but had inconsistent behavior.\n",
    "# I think because of the vagaries of global variables... \n",
    "# So I'm gonna redo it without those\n"
   ]
  },
  {
   "cell_type": "code",
   "execution_count": 2,
   "id": "a6ff26a2-d309-4c64-9853-3d0e6755df21",
   "metadata": {},
   "outputs": [],
   "source": [
    "class MersenneTwister(object):\n",
    "    # First start with constants\n",
    "    w, n, m, r = 32, 624, 397, 31\n",
    "    a = 0x9908B0DF\n",
    "    u, d = 11, 0xFFFFFFFF\n",
    "    s, b = 7, 0x9D2C5680\n",
    "    t, c = 15, 0xEFC60000\n",
    "    l = 18\n",
    "    f = 1812433253\n",
    "    \n",
    "    mt = [0] * n\n",
    "\n",
    "    index = n+1\n",
    "    lower_mask: int = (1 << r) - 1\n",
    "    upper_mask: int = (~lower_mask) & sum( 0b1 << shift for shift in range(w) )\n",
    "    \n",
    "    def __init__(self, seed: int):\n",
    "        mt = self.mt # just so I don't have to write self a bunch of times\n",
    "\n",
    "        self.index = self.n\n",
    "        mt[0] = seed\n",
    "        for i in range(1, self.n):\n",
    "            mt[i] = sum( 0b1 << shift for shift in range(self.w) ) & ( self.f * ( mt[i-1] ^ ( mt[i-1] >> (self.w-2) )) + 1 )\n",
    "            \n",
    "    def __twist__(self):\n",
    "        mt = self.mt\n",
    "        for i in range(self.n):\n",
    "            x = ( mt[i] & self.upper_mask ) | ( mt[ (i+1) % self.n ] & self.lower_mask )\n",
    "            xA = x >> 1\n",
    "            if x % 2 != 0:\n",
    "                xA ^= self.a\n",
    "            mt[i] = mt[ (i+self.m) % self.n ] ^ xA\n",
    "        self.index = 0\n",
    "        \n",
    "    def __call__(self):\n",
    "        mt = self.mt\n",
    "        \n",
    "        if self.index >= self.n:\n",
    "            if self.index > self.n:\n",
    "                assert False, \"Generator was never seeded\"\n",
    "            else:\n",
    "                self.__twist__()\n",
    "        \n",
    "        y =  mt[self.index]\n",
    "        y ^= (y >> self.u) & self.d\n",
    "        y ^= (y << self.s) & self.b\n",
    "        y ^= (y << self.t) & self.c\n",
    "        y ^= (y >> self.l)\n",
    "    \n",
    "        self.index += 1\n",
    "    \n",
    "        return y & sum( 0b1 << shift for shift in range(self.w) )\n",
    "        "
   ]
  },
  {
   "cell_type": "code",
   "execution_count": 3,
   "id": "c6713ecd-ee88-4a22-9560-26b0ceb1c6d1",
   "metadata": {},
   "outputs": [],
   "source": [
    "rand = MersenneTwister(0)"
   ]
  },
  {
   "cell_type": "code",
   "execution_count": 4,
   "id": "f52a165d-e916-4ed5-a207-2c944d556b40",
   "metadata": {},
   "outputs": [
    {
     "data": {
      "text/plain": [
       "3310923448"
      ]
     },
     "execution_count": 4,
     "metadata": {},
     "output_type": "execute_result"
    }
   ],
   "source": [
    "rand()"
   ]
  },
  {
   "cell_type": "code",
   "execution_count": 5,
   "id": "cec2b88f-17a2-4f17-88de-c6e65454489c",
   "metadata": {},
   "outputs": [
    {
     "data": {
      "text/plain": [
       "3753896092"
      ]
     },
     "execution_count": 5,
     "metadata": {},
     "output_type": "execute_result"
    }
   ],
   "source": [
    "rand()"
   ]
  },
  {
   "cell_type": "code",
   "execution_count": 6,
   "id": "055ea38b-9e1a-48ae-bc2f-3c128805f396",
   "metadata": {},
   "outputs": [
    {
     "data": {
      "text/plain": [
       "4013040692"
      ]
     },
     "execution_count": 6,
     "metadata": {},
     "output_type": "execute_result"
    }
   ],
   "source": [
    "rand()"
   ]
  },
  {
   "cell_type": "code",
   "execution_count": 7,
   "id": "789b7e0c-a37c-4eea-91bf-e574b82b5c21",
   "metadata": {},
   "outputs": [
    {
     "name": "stdout",
     "output_type": "stream",
     "text": [
      "3252953948\n",
      "2519482370\n",
      "2851306582\n",
      "3642713596\n",
      "301003221\n",
      "366039285\n",
      "2338795547\n",
      "1534958065\n",
      "3207352340\n",
      "2501284183\n"
     ]
    }
   ],
   "source": [
    "for n in range(10):\n",
    "    print(rand())"
   ]
  },
  {
   "cell_type": "code",
   "execution_count": 8,
   "id": "4627a06d-910d-4831-9fdd-d26dcfc6421d",
   "metadata": {},
   "outputs": [],
   "source": [
    "# Ok this seems to be more stable"
   ]
  },
  {
   "cell_type": "code",
   "execution_count": null,
   "id": "b6114e50-2efa-49a2-a447-a2174cd9536b",
   "metadata": {},
   "outputs": [],
   "source": []
  }
 ],
 "metadata": {
  "kernelspec": {
   "display_name": "Python 3 (ipykernel)",
   "language": "python",
   "name": "python3"
  },
  "language_info": {
   "codemirror_mode": {
    "name": "ipython",
    "version": 3
   },
   "file_extension": ".py",
   "mimetype": "text/x-python",
   "name": "python",
   "nbconvert_exporter": "python",
   "pygments_lexer": "ipython3",
   "version": "3.10.6"
  }
 },
 "nbformat": 4,
 "nbformat_minor": 5
}
