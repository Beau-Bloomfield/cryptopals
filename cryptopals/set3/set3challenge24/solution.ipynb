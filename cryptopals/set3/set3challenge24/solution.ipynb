{
 "cells": [
  {
   "cell_type": "code",
   "execution_count": 1,
   "id": "f44bf192-e0bf-4807-be77-6cce57426ad7",
   "metadata": {},
   "outputs": [],
   "source": [
    "# First make an encryptor object which seeds itself with an unknown seed\n",
    "\n",
    "from random import randint, choice, choices\n",
    "\n",
    "from MersenneTwister import MersenneTwister\n",
    "\n",
    "class Encryptor(object):\n",
    "    def __init__(self, seed):\n",
    "        self.seed = seed\n",
    "    def __call__(self, plaintext: bytes):\n",
    "        twister = MersenneTwister(self.seed)\n",
    "        assert type(plaintext) is bytes\n",
    "        ciphertext = [None] * len(plaintext)\n",
    "        for n in range(len(plaintext)):\n",
    "            key = twister() & 0xFF\n",
    "            ciphertext[n] = key ^ plaintext[n]\n",
    "        return bytes(ciphertext)\n",
    "        "
   ]
  },
  {
   "cell_type": "code",
   "execution_count": 2,
   "id": "afc274be-8a7e-49a4-8a8c-62d768d638f1",
   "metadata": {},
   "outputs": [],
   "source": [
    "encryptor = Encryptor(123)"
   ]
  },
  {
   "cell_type": "code",
   "execution_count": 3,
   "id": "d181d7f7-ec4b-440f-8702-f41467f414da",
   "metadata": {},
   "outputs": [],
   "source": [
    "plaintext = b'But soft, what light through yonder window breaks?'\n",
    "ciphertext = encryptor(plaintext)"
   ]
  },
  {
   "cell_type": "code",
   "execution_count": 4,
   "id": "3d39e7db-8258-47d2-95ef-be70526bdbf3",
   "metadata": {},
   "outputs": [
    {
     "data": {
      "text/plain": [
       "b\"D\\x983\\x02\\xdcr\\xda\\x7f|M\\xaa\\x91w\\xb2+\\xe9,&'\\xe9h\\xa6^fckn\\x0b8\\xd2\\xadm\\x8dj\\x90\\n\\\\UNg\\xffZ\\xa0\\xf4\\xe9\\x03\\xff\\xfb\\x84u\""
      ]
     },
     "execution_count": 4,
     "metadata": {},
     "output_type": "execute_result"
    }
   ],
   "source": [
    "ciphertext"
   ]
  },
  {
   "cell_type": "code",
   "execution_count": 5,
   "id": "3c155551-6134-4c77-ac56-7395d4ccb29a",
   "metadata": {},
   "outputs": [],
   "source": [
    "# Proper decrypt\n",
    "assert plaintext == encryptor(ciphertext)"
   ]
  },
  {
   "cell_type": "code",
   "execution_count": 6,
   "id": "932860a5-ea92-4e20-99b4-66ac0206258f",
   "metadata": {},
   "outputs": [
    {
     "name": "stdout",
     "output_type": "stream",
     "text": [
      "b'\\xedAAAAAAAAAAAAAA'\n",
      "b'\\x97eF\\x87\\x95T\\x1b\\xf4\\x8f8\\xa1\\xf9\\xd6\\xc9\\xed'\n"
     ]
    }
   ],
   "source": [
    "from time import time\n",
    "\n",
    "# Create an encryptor with a 16 bit seed derived from the time\n",
    "# and encrypt a know value\n",
    "encryptor = Encryptor( int(time()) % (0b1<<16) )\n",
    "plaintext = bytes( choices(range(0xFF), k = randint(1, 5)) ) + b'A'*14\n",
    "\n",
    "print(plaintext)\n",
    "\n",
    "ciphertext = encryptor(plaintext)\n",
    "\n",
    "print(ciphertext)\n",
    "\n",
    "assert encryptor(ciphertext) == plaintext"
   ]
  },
  {
   "cell_type": "code",
   "execution_count": 7,
   "id": "8a545532-3133-44db-a422-49cc618cda15",
   "metadata": {},
   "outputs": [
    {
     "name": "stdout",
     "output_type": "stream",
     "text": [
      "Seed is 11100\n"
     ]
    }
   ],
   "source": [
    "# Now to break it...\n",
    "# I thought we wouuld use some variation of the attack in the last exercise.\n",
    "# But it turns out that because it's only a 16 bit seed you can brute force it.\n",
    "# This seems cheap... but the instructions say 16 bit specifcally...\n",
    "# I looked at others who have posted solutions to these exercises and all agree that brute force is the proper solution.\n",
    "# I am a bit anxious to wrap up this set so I'm just going to do that as well as the easy solution.\n",
    "\n",
    "for seed in range(0b1<<17):\n",
    "    if Encryptor(seed)(ciphertext) == plaintext:\n",
    "        print(f'Seed is {seed}')\n",
    "        break\n",
    "        \n",
    "assert encryptor.seed == seed"
   ]
  },
  {
   "cell_type": "code",
   "execution_count": 8,
   "id": "833c9aa7-d5ee-493c-9edc-fd0ba63e3a70",
   "metadata": {},
   "outputs": [],
   "source": [
    "# Now do the password reset token thing\n",
    "\n",
    "def GenerateToken(username: bytes):\n",
    "    prefix = b'\\nW\\xb2\\x1eIHK\\xaf \\x99\\xd7\\x0e\\xf1Mm\\x83'\n",
    "    plaintext = prefix + username\n",
    "    encryptor = Encryptor( int(time()) % (0b1<<16) )\n",
    "    return encryptor(plaintext)"
   ]
  },
  {
   "cell_type": "code",
   "execution_count": 9,
   "id": "76daf62e-23bc-45b7-a176-1aba3c196779",
   "metadata": {},
   "outputs": [
    {
     "data": {
      "text/plain": [
       "b'\\xaeJ\\x88M\\xeb$\\xf9\\xff\\xc2w\\xeb;;\\xe2\\x81\\xb8A\\x9d^#\\x0b\\xf4\\xd4\\x91\\xb3\\xbf\\xbd\\xc1\\xb0'"
      ]
     },
     "execution_count": 9,
     "metadata": {},
     "output_type": "execute_result"
    }
   ],
   "source": [
    "username = b'john.q.public'\n",
    "\n",
    "ciphertext = GenerateToken(username)\n",
    "ciphertext"
   ]
  },
  {
   "cell_type": "code",
   "execution_count": 10,
   "id": "1849c916-2e5f-43cb-a938-be6615293044",
   "metadata": {},
   "outputs": [
    {
     "name": "stdout",
     "output_type": "stream",
     "text": [
      "Seed is 11121\n",
      "Plaintext is b'\\nW\\xb2\\x1eIHK\\xaf \\x99\\xd7\\x0e\\xf1Mm\\x83john.q.public'\n"
     ]
    }
   ],
   "source": [
    "# Now brute force it\n",
    "\n",
    "for seed in range(0b1<<16):\n",
    "    plaintext = Encryptor(seed)(ciphertext)\n",
    "    if username in plaintext:\n",
    "        print(f'Seed is {seed}')\n",
    "        print(f'Plaintext is {plaintext}')\n",
    "        break"
   ]
  },
  {
   "cell_type": "code",
   "execution_count": null,
   "id": "a4ac24d6-b45b-4468-9015-9bfdb2306193",
   "metadata": {},
   "outputs": [],
   "source": []
  }
 ],
 "metadata": {
  "kernelspec": {
   "display_name": "Python 3 (ipykernel)",
   "language": "python",
   "name": "python3"
  },
  "language_info": {
   "codemirror_mode": {
    "name": "ipython",
    "version": 3
   },
   "file_extension": ".py",
   "mimetype": "text/x-python",
   "name": "python",
   "nbconvert_exporter": "python",
   "pygments_lexer": "ipython3",
   "version": "3.10.6"
  }
 },
 "nbformat": 4,
 "nbformat_minor": 5
}
