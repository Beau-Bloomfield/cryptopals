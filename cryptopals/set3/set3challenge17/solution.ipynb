{
 "cells": [
  {
   "cell_type": "code",
   "execution_count": 1,
   "id": "612aa2f3-4221-4d17-a7c3-ca44646ecc5f",
   "metadata": {},
   "outputs": [],
   "source": [
    "from random import choice, choices\n",
    "import base64\n",
    "from Crypto.Cipher import AES\n",
    "\n",
    "BLOCKSIZE = 16\n",
    "\n",
    "def Pad(s: bytes):\n",
    "    assert type(s) is bytes\n",
    "    npad = BLOCKSIZE - len(s) % BLOCKSIZE\n",
    "    return s + bytes( [npad] * npad )\n",
    "\n",
    "def Unpad(s: bytes):\n",
    "    assert type(s) is bytes and len(s) % BLOCKSIZE == 0\n",
    "    last = s[-1]\n",
    "    assert 1 <= last <= 16 and all( byte == last for byte in s[-last:] )\n",
    "    return s[:-last]\n",
    "\n",
    "with open('strings.txt', mode = 'rb') as file:\n",
    "    strings = [ base64.decodebytes(line) for line in file ]\n",
    "\n",
    "def Chunkerize(x, chunksize, strict = True):\n",
    "    x = list(x)\n",
    "    assert len(x) % chunksize == 0 if strict else True\n",
    "    for n in range( len(x) // chunksize ):\n",
    "        yield x[ n*chunksize : (n+1)*chunksize ]"
   ]
  },
  {
   "cell_type": "code",
   "execution_count": 2,
   "id": "90a818ff-1df2-4f24-a8aa-b72322d218f0",
   "metadata": {},
   "outputs": [],
   "source": [
    "def PadPlaintext(plaintext: bytes, blocksize = 16):\n",
    "    npad = blocksize - len(plaintext) % blocksize\n",
    "    return plaintext + bytes([npad]) * npad\n",
    "\n",
    "def XOR(X: bytes, Y: bytes) -> bytes:\n",
    "    assert type(X) is bytes and type(Y) is bytes and len(X) == len(Y)\n",
    "    return bytes([ x^y for x, y in zip(X, Y) ])\n",
    "\n",
    "def EncryptCBC(plaintext, key, initialization):\n",
    "    BLOCKSIZE = 16\n",
    "    plaintext = PadPlaintext(plaintext, BLOCKSIZE)\n",
    "    assert type(initialization) is bytes and len(initialization) == BLOCKSIZE\n",
    "    ECBcipher = AES.new(key, AES.MODE_ECB)\n",
    "    \n",
    "    plain_blocks = [ bytes(block) for block in Chunkerize(plaintext, BLOCKSIZE) ]\n",
    "    cipher_blocks = [None] * len(plain_blocks)\n",
    "    \n",
    "    for n in range(len(plain_blocks)):\n",
    "        if n == 0:\n",
    "            plain_block = XOR(plain_blocks[n], initialization)\n",
    "            cipher_blocks[n] = ECBcipher.encrypt(plain_block)\n",
    "        else:\n",
    "            plain_block = XOR(plain_blocks[n], cipher_blocks[n-1])\n",
    "            cipher_blocks[n] = ECBcipher.encrypt(plain_block)\n",
    "    \n",
    "    return b''.join(cipher_blocks)\n",
    "\n",
    "def DecryptCBC(ciphertext, key, initialization):\n",
    "    BLOCKSIZE = 16\n",
    "    assert len(ciphertext) % BLOCKSIZE == 0\n",
    "    assert type(initialization) is bytes and len(initialization) == BLOCKSIZE\n",
    "    ECBcipher = AES.new(key, AES.MODE_ECB)\n",
    "    \n",
    "    cipher_blocks = [ bytes(block) for block in Chunkerize(ciphertext, BLOCKSIZE) ]\n",
    "    plain_blocks = [None] * len(cipher_blocks)\n",
    "    \n",
    "    for n in range(len(plain_blocks)):\n",
    "        if n == 0:\n",
    "            plain_block = ECBcipher.decrypt(cipher_blocks[n])\n",
    "            plain_blocks[n] = XOR(plain_block, initialization)\n",
    "        else:\n",
    "            plain_block = ECBcipher.decrypt(cipher_blocks[n])\n",
    "            plain_blocks[n] = XOR(plain_block, cipher_blocks[n-1])\n",
    "            \n",
    "    plaintext = b''.join(plain_blocks)\n",
    "    return plaintext\n",
    " "
   ]
  },
  {
   "cell_type": "code",
   "execution_count": 22,
   "id": "188592ab-8842-4380-bdfe-2d40ef447419",
   "metadata": {},
   "outputs": [],
   "source": [
    "key = b'\\x13c\\xb1I\\x17\\xe7dj\\xd5?\\xbe\\xb9f\\x03\\xa1\\x84'\n",
    "strings = [ base64.decodebytes(line) for line in open('strings.txt', mode = 'rb') ]\n",
    "\n",
    "\n",
    "def Function1():    \n",
    "    initialization = bytes( choices(range(256), k = 16) )\n",
    "    \n",
    "    plaintext = choice(strings)\n",
    "    ciphertext = EncryptCBC(plaintext, key, initialization)\n",
    "    return initialization, ciphertext\n",
    "\n",
    "def Function2(initialization, ciphertext):\n",
    "    try:\n",
    "        plaintext = DecryptCBC(ciphertext, key, initialization)\n",
    "        plaintext = Unpad(plaintext)\n",
    "        return True\n",
    "    except:\n",
    "        return False"
   ]
  },
  {
   "cell_type": "code",
   "execution_count": 23,
   "id": "1f9948d7-5e95-4d14-8847-ffd195654b04",
   "metadata": {},
   "outputs": [],
   "source": [
    "# First I'll decrypt the last byte just to try\n",
    "\n",
    "initialization, ciphertext = Function1()"
   ]
  },
  {
   "cell_type": "code",
   "execution_count": 24,
   "id": "d94c6a35-933e-44a6-9229-37278f9bc1d7",
   "metadata": {},
   "outputs": [],
   "source": [
    "plaintext = b'A'*(BLOCKSIZE+1)\n",
    "initialization = b'iiiiiiiiiiiiiiii'\n",
    "ciphertext = EncryptCBC(plaintext, key, initialization)\n"
   ]
  },
  {
   "cell_type": "code",
   "execution_count": 6,
   "id": "46202445-37e9-4307-8f94-d981204d4f4d",
   "metadata": {},
   "outputs": [
    {
     "data": {
      "text/plain": [
       "b'AAAAAAAAAAAAAAAAA\\x0f\\x0f\\x0f\\x0f\\x0f\\x0f\\x0f\\x0f\\x0f\\x0f\\x0f\\x0f\\x0f\\x0f\\x0f'"
      ]
     },
     "execution_count": 6,
     "metadata": {},
     "output_type": "execute_result"
    }
   ],
   "source": [
    "DecryptCBC(ciphertext, key, initialization)"
   ]
  },
  {
   "cell_type": "code",
   "execution_count": 7,
   "id": "40a79c77-63d5-4dad-abea-1e4377f12d67",
   "metadata": {},
   "outputs": [
    {
     "name": "stdout",
     "output_type": "stream",
     "text": [
      "15\n"
     ]
    }
   ],
   "source": [
    "# Solve the last char to get a feel\n",
    "\n",
    "new_ciphertext = list(ciphertext)\n",
    "\n",
    "for char in range(256):\n",
    "    if char == ciphertext[15]:\n",
    "        continue\n",
    "    new_ciphertext[15] = char\n",
    "    if Function2(initialization, bytes(new_ciphertext)):\n",
    "        print(char^1^ciphertext[15])"
   ]
  },
  {
   "cell_type": "code",
   "execution_count": 8,
   "id": "f98cebf1-a28d-4f89-a6b3-34e9ad44262d",
   "metadata": {},
   "outputs": [
    {
     "data": {
      "text/plain": [
       "True"
      ]
     },
     "execution_count": 8,
     "metadata": {},
     "output_type": "execute_result"
    }
   ],
   "source": [
    "# Ok so last char is 15\n",
    "# let's do second to last\n",
    "\n",
    "last_char = 15\n",
    "\n",
    "new_ciphertext = list(ciphertext)\n",
    "\n",
    "new_ciphertext[15] = 2 ^ last_char ^ ciphertext[15]\n",
    "new_ciphertext[14] = 2 ^ 15 ^ ciphertext[14]\n",
    "\n",
    "DecryptCBC(bytes(new_ciphertext), key, initialization)\n",
    "Function2(initialization, bytes(new_ciphertext[:]))"
   ]
  },
  {
   "cell_type": "code",
   "execution_count": 15,
   "id": "c11f4ef4-a259-4afe-9ff8-615993910728",
   "metadata": {},
   "outputs": [],
   "source": [
    "def SolveBlockPair(block1, block2):\n",
    "    assert type(block1) is type(block2) is bytes\n",
    "    assert len(block1) == len(block2) == BLOCKSIZE\n",
    "    \n",
    "    # Find the last block\n",
    "    pad = 1\n",
    "    possible_solutions = list()\n",
    "    new_ciphertext = list(block1)\n",
    "    for char in range(0xFF): \n",
    "        if char == block1[BLOCKSIZE-1]:\n",
    "            continue\n",
    "        new_ciphertext[BLOCKSIZE-1] = char\n",
    "        if Function2(bytes(new_ciphertext), block2):\n",
    "            possible_solutions += [ char^pad^block1[BLOCKSIZE-1] ]\n",
    "            \n",
    "    assert len(possible_solutions) == 1\n",
    "    known_chars = [ *possible_solutions ]\n",
    "    \n",
    "    # Now work on the others\n",
    "    for pad in range(2, BLOCKSIZE+1):\n",
    "        assert len(known_chars) == pad-1\n",
    "        idx = BLOCKSIZE-pad # index of char we are currently trying to solve for\n",
    "        new_ciphertext = list(block1)\n",
    "        assert len(known_chars) == len(block1[idx+1:])\n",
    "        new_ciphertext[idx+1:] = [ pad^known_char^cipher_char for known_char, cipher_char in zip(known_chars, block1[idx+1:]) ]\n",
    "        possible_solutions = list()\n",
    "        \n",
    "        for char in range(0xFF):\n",
    "            new_ciphertext[idx] = char\n",
    "            decrypted = DecryptCBC(block2, key, bytes(new_ciphertext))\n",
    "            assert len(decrypted) == BLOCKSIZE\n",
    "            assert all( item == pad for item in decrypted[idx+1:] )\n",
    "            if decrypted[idx] == pad:\n",
    "                possible_solutions += [ char ]\n",
    "        \n",
    "        assert len(possible_solutions) == 1\n",
    "        char, = possible_solutions\n",
    "        known_chars = [ char^pad^block1[idx], *known_chars ]\n",
    "\n",
    "    return known_chars\n",
    "    \n",
    "def "
   ]
  },
  {
   "cell_type": "code",
   "execution_count": 16,
   "id": "9130bab8-2011-4b75-99c5-6ecdf6fe0c6e",
   "metadata": {},
   "outputs": [
    {
     "data": {
      "text/plain": [
       "[65, 15, 15, 15, 15, 15, 15, 15, 15, 15, 15, 15, 15, 15, 15, 15]"
      ]
     },
     "execution_count": 16,
     "metadata": {},
     "output_type": "execute_result"
    }
   ],
   "source": [
    "SolveBlockPair(ciphertext[:16], ciphertext[16:])"
   ]
  },
  {
   "cell_type": "code",
   "execution_count": 11,
   "id": "0548fb30-c159-415d-8439-0841740c902d",
   "metadata": {},
   "outputs": [
    {
     "data": {
      "text/plain": [
       "1"
      ]
     },
     "execution_count": 11,
     "metadata": {},
     "output_type": "execute_result"
    }
   ],
   "source": [
    "14^15"
   ]
  },
  {
   "cell_type": "code",
   "execution_count": 12,
   "id": "fcd35bfb-6d3e-41ed-ac65-d25e242334b9",
   "metadata": {},
   "outputs": [
    {
     "data": {
      "text/plain": [
       "False"
      ]
     },
     "execution_count": 12,
     "metadata": {},
     "output_type": "execute_result"
    }
   ],
   "source": [
    "x = 257\n",
    "y = 257\n",
    "x is y"
   ]
  },
  {
   "cell_type": "code",
   "execution_count": null,
   "id": "9d7d0179-e651-4162-94fa-d3083517cec4",
   "metadata": {},
   "outputs": [],
   "source": []
  }
 ],
 "metadata": {
  "kernelspec": {
   "display_name": "Python 3 (ipykernel)",
   "language": "python",
   "name": "python3"
  },
  "language_info": {
   "codemirror_mode": {
    "name": "ipython",
    "version": 3
   },
   "file_extension": ".py",
   "mimetype": "text/x-python",
   "name": "python",
   "nbconvert_exporter": "python",
   "pygments_lexer": "ipython3",
   "version": "3.10.6"
  }
 },
 "nbformat": 4,
 "nbformat_minor": 5
}
