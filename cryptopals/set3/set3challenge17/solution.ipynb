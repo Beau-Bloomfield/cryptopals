{
 "cells": [
  {
   "cell_type": "code",
   "execution_count": 1,
   "id": "612aa2f3-4221-4d17-a7c3-ca44646ecc5f",
   "metadata": {},
   "outputs": [],
   "source": [
    "from random import choice, choices\n",
    "import base64\n",
    "from Crypto.Cipher import AES\n",
    "\n",
    "BLOCKSIZE = 16\n",
    "\n",
    "def Pad(s: bytes):\n",
    "    assert type(s) is bytes\n",
    "    npad = BLOCKSIZE - len(s) % BLOCKSIZE\n",
    "    return s + bytes( [npad] * npad )\n",
    "\n",
    "def Unpad(s: bytes):\n",
    "    assert type(s) is bytes and len(s) % BLOCKSIZE == 0\n",
    "    last = s[-1]\n",
    "    assert 1 <= last <= 16 and all( byte == last for byte in s[-last:] )\n",
    "    return s[:-last]\n",
    "\n",
    "with open('strings.txt', mode = 'rb') as file:\n",
    "    strings = [ base64.decodebytes(line) for line in file ]\n",
    "\n",
    "def Chunkerize(x, chunksize, strict = True):\n",
    "    x = list(x)\n",
    "    assert len(x) % chunksize == 0 if strict else True\n",
    "    for n in range( len(x) // chunksize ):\n",
    "        yield x[ n*chunksize : (n+1)*chunksize ]"
   ]
  },
  {
   "cell_type": "code",
   "execution_count": 2,
   "id": "90a818ff-1df2-4f24-a8aa-b72322d218f0",
   "metadata": {},
   "outputs": [],
   "source": [
    "def PadPlaintext(plaintext: bytes, blocksize = 16):\n",
    "    npad = blocksize - len(plaintext) % blocksize\n",
    "    return plaintext + bytes([npad]) * npad\n",
    "\n",
    "def XOR(X: bytes, Y: bytes) -> bytes:\n",
    "    assert type(X) is bytes and type(Y) is bytes and len(X) == len(Y)\n",
    "    return bytes([ x^y for x, y in zip(X, Y) ])\n",
    "\n",
    "def EncryptCBC(plaintext, key, initialization):\n",
    "    BLOCKSIZE = 16\n",
    "    plaintext = PadPlaintext(plaintext, BLOCKSIZE)\n",
    "    assert type(initialization) is bytes and len(initialization) == BLOCKSIZE\n",
    "    ECBcipher = AES.new(key, AES.MODE_ECB)\n",
    "    \n",
    "    plain_blocks = [ bytes(block) for block in Chunkerize(plaintext, BLOCKSIZE) ]\n",
    "    cipher_blocks = [None] * len(plain_blocks)\n",
    "    \n",
    "    for n in range(len(plain_blocks)):\n",
    "        if n == 0:\n",
    "            plain_block = XOR(plain_blocks[n], initialization)\n",
    "            cipher_blocks[n] = ECBcipher.encrypt(plain_block)\n",
    "        else:\n",
    "            plain_block = XOR(plain_blocks[n], cipher_blocks[n-1])\n",
    "            cipher_blocks[n] = ECBcipher.encrypt(plain_block)\n",
    "    \n",
    "    return b''.join(cipher_blocks)\n",
    "\n",
    "def DecryptCBC(ciphertext, key, initialization):\n",
    "    BLOCKSIZE = 16\n",
    "    assert len(ciphertext) % BLOCKSIZE == 0\n",
    "    assert type(initialization) is bytes and len(initialization) == BLOCKSIZE\n",
    "    ECBcipher = AES.new(key, AES.MODE_ECB)\n",
    "    \n",
    "    cipher_blocks = [ bytes(block) for block in Chunkerize(ciphertext, BLOCKSIZE) ]\n",
    "    plain_blocks = [None] * len(cipher_blocks)\n",
    "    \n",
    "    for n in range(len(plain_blocks)):\n",
    "        if n == 0:\n",
    "            plain_block = ECBcipher.decrypt(cipher_blocks[n])\n",
    "            plain_blocks[n] = XOR(plain_block, initialization)\n",
    "        else:\n",
    "            plain_block = ECBcipher.decrypt(cipher_blocks[n])\n",
    "            plain_blocks[n] = XOR(plain_block, cipher_blocks[n-1])\n",
    "            \n",
    "    plaintext = b''.join(plain_blocks)\n",
    "    return plaintext\n",
    " "
   ]
  },
  {
   "cell_type": "code",
   "execution_count": 3,
   "id": "188592ab-8842-4380-bdfe-2d40ef447419",
   "metadata": {},
   "outputs": [
    {
     "name": "stdout",
     "output_type": "stream",
     "text": [
      "b'000000Now that the party is jumping' | len = 35\n",
      "b\"000001With the bass kicked in and the Vega's are pumpin'\" | len = 56\n",
      "b'000002Quick to the point, to the point, no faking' | len = 49\n",
      "b\"000003Cooking MC's like a pound of bacon\" | len = 40\n",
      "b\"000004Burning 'em, if you ain't quick and nimble\" | len = 48\n",
      "b'000005I go crazy when I hear a cymbal' | len = 37\n",
      "b'000006And a high hat with a souped up tempo' | len = 43\n",
      "b\"000007I'm on a roll, it's time to go solo\" | len = 41\n",
      "b\"000008ollin' in my five point oh\" | len = 32\n",
      "b'000009ith my rag-top down so my hair can blow' | len = 45\n"
     ]
    }
   ],
   "source": [
    "key = b'\\x13c\\xb1I\\x17\\xe7dj\\xd5?\\xbe\\xb9f\\x03\\xa1\\x84'\n",
    "strings = [ base64.decodebytes(line) for line in open('strings.txt', mode = 'rb') ]\n",
    "for string in strings:\n",
    "    print(string, '| len =', len(string))\n",
    "\n",
    "def Function1():    \n",
    "    initialization = bytes( choices(range(256), k = 16) )\n",
    "    \n",
    "    plaintext = choice(strings)\n",
    "    ciphertext = EncryptCBC(plaintext, key, initialization)\n",
    "    return initialization, ciphertext\n",
    "\n",
    "def Function2(initialization, ciphertext):\n",
    "    try:\n",
    "        plaintext = DecryptCBC(ciphertext, key, initialization)\n",
    "        plaintext = Unpad(plaintext)\n",
    "        return True\n",
    "    except:\n",
    "        return False"
   ]
  },
  {
   "cell_type": "code",
   "execution_count": 4,
   "id": "d94c6a35-933e-44a6-9229-37278f9bc1d7",
   "metadata": {},
   "outputs": [],
   "source": [
    "# Start with a ciphertext I know to start easy\n",
    "\n",
    "plaintext = b'A'*(BLOCKSIZE+1)\n",
    "initialization = b'iiiiiiiiiiiiiiii'\n",
    "ciphertext = EncryptCBC(plaintext, key, initialization)"
   ]
  },
  {
   "cell_type": "code",
   "execution_count": 5,
   "id": "46202445-37e9-4307-8f94-d981204d4f4d",
   "metadata": {},
   "outputs": [
    {
     "data": {
      "text/plain": [
       "b'AAAAAAAAAAAAAAAAA\\x0f\\x0f\\x0f\\x0f\\x0f\\x0f\\x0f\\x0f\\x0f\\x0f\\x0f\\x0f\\x0f\\x0f\\x0f'"
      ]
     },
     "execution_count": 5,
     "metadata": {},
     "output_type": "execute_result"
    }
   ],
   "source": [
    "DecryptCBC(ciphertext, key, initialization)"
   ]
  },
  {
   "cell_type": "code",
   "execution_count": 6,
   "id": "40a79c77-63d5-4dad-abea-1e4377f12d67",
   "metadata": {},
   "outputs": [
    {
     "name": "stdout",
     "output_type": "stream",
     "text": [
      "15\n"
     ]
    }
   ],
   "source": [
    "# Solve the last char to get a feel\n",
    "\n",
    "new_ciphertext = list(ciphertext)\n",
    "\n",
    "for char in range(256):\n",
    "    if char == ciphertext[15]:\n",
    "        continue\n",
    "    new_ciphertext[15] = char\n",
    "    if Function2(initialization, bytes(new_ciphertext)):\n",
    "        print(char^1^ciphertext[15])"
   ]
  },
  {
   "cell_type": "code",
   "execution_count": 7,
   "id": "f98cebf1-a28d-4f89-a6b3-34e9ad44262d",
   "metadata": {},
   "outputs": [
    {
     "data": {
      "text/plain": [
       "True"
      ]
     },
     "execution_count": 7,
     "metadata": {},
     "output_type": "execute_result"
    }
   ],
   "source": [
    "# Ok so last char is 15\n",
    "# let's do second to last\n",
    "\n",
    "last_char = 15\n",
    "\n",
    "new_ciphertext = list(ciphertext)\n",
    "\n",
    "new_ciphertext[15] = 2 ^ last_char ^ ciphertext[15]\n",
    "new_ciphertext[14] = 2 ^ 15 ^ ciphertext[14]\n",
    "\n",
    "DecryptCBC(bytes(new_ciphertext), key, initialization)\n",
    "Function2(initialization, bytes(new_ciphertext[:]))"
   ]
  },
  {
   "cell_type": "code",
   "execution_count": 8,
   "id": "c11f4ef4-a259-4afe-9ff8-615993910728",
   "metadata": {},
   "outputs": [],
   "source": [
    "# Now solve in general for two blocks\n",
    "\n",
    "def SolveBlockPair(block1, block2):\n",
    "    assert type(block1) is type(block2) is bytes\n",
    "    assert len(block1) == len(block2) == BLOCKSIZE\n",
    "    \n",
    "    # Find the last block\n",
    "    pad = 1\n",
    "    possible_solutions = list()\n",
    "    new_ciphertext = list(block1)\n",
    "    for char in range(0xFF): \n",
    "        new_ciphertext[BLOCKSIZE-1] = char\n",
    "        if Function2(bytes(new_ciphertext), block2):\n",
    "            possible_solutions += [ char ]\n",
    "    \n",
    "    # In the event that multiple solutions have been found... just pick one randomly and go for it!\n",
    "    # This isn't necessarily the smartest choice... but it will get the right answer eventually\n",
    "    known_chars = [ pad^block1[BLOCKSIZE-1]^choice(possible_solutions) ]\n",
    "    \n",
    "    # Now work on the others\n",
    "    for pad in range(2, BLOCKSIZE+1):\n",
    "        assert len(known_chars) == pad-1\n",
    "        idx = BLOCKSIZE-pad # index of char we are currently trying to solve for\n",
    "        new_ciphertext = list(block1)\n",
    "        assert len(known_chars) == len(block1[idx+1:])\n",
    "        new_ciphertext[idx+1:] = [ pad^known_char^cipher_char for known_char, cipher_char in zip(known_chars, block1[idx+1:]) ]\n",
    "        possible_solutions = list()\n",
    "        \n",
    "        for char in range(0xFF):\n",
    "            new_ciphertext[idx] = char\n",
    "            decrypted = DecryptCBC(block2, key, bytes(new_ciphertext)) # For debugging, delete later\n",
    "            assert len(decrypted) == BLOCKSIZE\n",
    "            assert all( item == pad for item in decrypted[idx+1:] )\n",
    "            if Function2(bytes(new_ciphertext), block2):\n",
    "                possible_solutions += [ char ]\n",
    "        \n",
    "        char = choice(possible_solutions)\n",
    "        known_chars = [ char^pad^block1[idx], *known_chars ]\n",
    "\n",
    "    return known_chars\n",
    "    \n"
   ]
  },
  {
   "cell_type": "code",
   "execution_count": 9,
   "id": "3e15b86c-131f-4129-b03e-22e24cc48b27",
   "metadata": {},
   "outputs": [],
   "source": [
    "# Now solve in general for arbitary length\n",
    "\n",
    "def Attack(initialization, ciphertext):\n",
    "    assert len(initialization) == BLOCKSIZE\n",
    "    assert len(ciphertext) % BLOCKSIZE == 0\n",
    "    blocks = [ bytes(chunk) for chunk in Chunkerize(initialization+ciphertext, BLOCKSIZE) ]\n",
    "    \n",
    "    return b''.join( bytes(SolveBlockPair(block1, block2)) for block1, block2 in zip(blocks[:-1], blocks[1:]) )"
   ]
  },
  {
   "cell_type": "code",
   "execution_count": 11,
   "id": "fcd35bfb-6d3e-41ed-ac65-d25e242334b9",
   "metadata": {},
   "outputs": [
    {
     "data": {
      "text/plain": [
       "b'AAAAAAAAAAAAAAAAA\\x0f\\x0f\\x0f\\x0f\\x0f\\x0f\\x0f\\x0f\\x0f\\x0f\\x0f\\x0f\\x0f\\x0f\\x0f'"
      ]
     },
     "execution_count": 11,
     "metadata": {},
     "output_type": "execute_result"
    }
   ],
   "source": [
    "Attack(initialization, ciphertext)"
   ]
  },
  {
   "cell_type": "code",
   "execution_count": 28,
   "id": "9d7d0179-e651-4162-94fa-d3083517cec4",
   "metadata": {},
   "outputs": [
    {
     "name": "stdout",
     "output_type": "stream",
     "text": [
      "b'{2\\xe9\\xc9\\xdbq3=D\\xfe4J\\x9b\\xbb\\xf2-'\n",
      "b'h\\nj|:\\xbd\\x1a\\xfb\\xf1\\xda\\xf2j\\xb9\\xd3\\xadh\\xefVt\\xea\\\\\\x85\\xeb\\xee\\x8c*\\x9eo\\xe3N\\x10\\xcc\\xfb\\x02p{_!\\x91\\x07[p\\x05\\xa5t\\xca\\xb7V8E?\\xe5\\x91\\xb3\\xdbRt}\\x1d\\xd5\\x14\\x11\\xbd\\x08'\n"
     ]
    }
   ],
   "source": [
    "initialization, ciphertext = Function1()\n",
    "print(initialization)\n",
    "print(ciphertext)"
   ]
  },
  {
   "cell_type": "code",
   "execution_count": 29,
   "id": "a21b7a0c-a51d-4b84-a2d5-db4db7f66849",
   "metadata": {},
   "outputs": [
    {
     "name": "stdout",
     "output_type": "stream",
     "text": [
      "b'000002Quick to the point, to the point, no faking\\x0f\\x0f\\x0f\\x0f\\x0f\\x0f\\x0f\\x0f\\x0f\\x0f\\x0f\\x0f\\x0f\\x0f\\x0f'\n"
     ]
    }
   ],
   "source": [
    "for n in range(100):\n",
    "    try:\n",
    "        print(Attack(initialization, ciphertext))\n",
    "        break\n",
    "    except:\n",
    "        pass"
   ]
  },
  {
   "cell_type": "code",
   "execution_count": null,
   "id": "40db563f-ce68-4ae6-b25f-cd1103a11428",
   "metadata": {},
   "outputs": [],
   "source": [
    "# It seems like for certain randomly generated initializations the problem cannot be solved by my code...\n",
    "# I believe this seems to occur most frequently with a pad value of BLOCKSIZE\n",
    "# I'm sure I could track this down... but I'm goint to call this problem mostly solved and move on to the next one"
   ]
  },
  {
   "cell_type": "code",
   "execution_count": null,
   "id": "7d0e3e91-e274-478f-803a-3b5529581fad",
   "metadata": {},
   "outputs": [],
   "source": []
  }
 ],
 "metadata": {
  "kernelspec": {
   "display_name": "Python 3 (ipykernel)",
   "language": "python",
   "name": "python3"
  },
  "language_info": {
   "codemirror_mode": {
    "name": "ipython",
    "version": 3
   },
   "file_extension": ".py",
   "mimetype": "text/x-python",
   "name": "python",
   "nbconvert_exporter": "python",
   "pygments_lexer": "ipython3",
   "version": "3.10.6"
  }
 },
 "nbformat": 4,
 "nbformat_minor": 5
}
