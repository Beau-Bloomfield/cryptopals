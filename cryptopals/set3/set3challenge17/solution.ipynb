{
 "cells": [
  {
   "cell_type": "code",
   "execution_count": 1,
   "id": "612aa2f3-4221-4d17-a7c3-ca44646ecc5f",
   "metadata": {},
   "outputs": [],
   "source": [
    "from random import choice, choices\n",
    "import base64\n",
    "from Crypto.Cipher import AES\n",
    "\n",
    "BLOCKSIZE = 16\n",
    "\n",
    "def Pad(s: bytes):\n",
    "    assert type(s) is bytes\n",
    "    npad = BLOCKSIZE - len(s) % BLOCKSIZE\n",
    "    return s + bytes( [npad] * npad )\n",
    "\n",
    "def Unpad(s: bytes):\n",
    "    assert type(s) is bytes and len(s) % BLOCKSIZE == 0\n",
    "    last = s[-1]\n",
    "    assert 1 <= last <= 16 and all( byte == last for byte in s[-last:] )\n",
    "    return s[:-last]\n",
    "\n",
    "with open('strings.txt', mode = 'rb') as file:\n",
    "    strings = [ base64.decodebytes(line) for line in file ]\n",
    "\n",
    "def Chunkerize(x, chunksize, strict = True):\n",
    "    x = list(x)\n",
    "    assert len(x) % chunksize == 0 if strict else True\n",
    "    for n in range( len(x) // chunksize ):\n",
    "        yield x[ n*chunksize : (n+1)*chunksize ]"
   ]
  },
  {
   "cell_type": "code",
   "execution_count": 2,
   "id": "90a818ff-1df2-4f24-a8aa-b72322d218f0",
   "metadata": {},
   "outputs": [],
   "source": [
    "def PadPlaintext(plaintext: bytes, blocksize = 16):\n",
    "    npad = blocksize - len(plaintext) % blocksize\n",
    "    return plaintext + bytes([npad]) * npad\n",
    "\n",
    "def XOR(X: bytes, Y: bytes) -> bytes:\n",
    "    assert type(X) is bytes and type(Y) is bytes and len(X) == len(Y)\n",
    "    return bytes([ x^y for x, y in zip(X, Y) ])\n",
    "\n",
    "def EncryptCBC(plaintext, key, initialization):\n",
    "    BLOCKSIZE = 16\n",
    "    plaintext = PadPlaintext(plaintext, BLOCKSIZE)\n",
    "    assert type(initialization) is bytes and len(initialization) == BLOCKSIZE\n",
    "    ECBcipher = AES.new(key, AES.MODE_ECB)\n",
    "    \n",
    "    plain_blocks = [ bytes(block) for block in Chunkerize(plaintext, BLOCKSIZE) ]\n",
    "    cipher_blocks = [None] * len(plain_blocks)\n",
    "    \n",
    "    for n in range(len(plain_blocks)):\n",
    "        if n == 0:\n",
    "            plain_block = XOR(plain_blocks[n], initialization)\n",
    "            cipher_blocks[n] = ECBcipher.encrypt(plain_block)\n",
    "        else:\n",
    "            plain_block = XOR(plain_blocks[n], cipher_blocks[n-1])\n",
    "            cipher_blocks[n] = ECBcipher.encrypt(plain_block)\n",
    "    \n",
    "    return b''.join(cipher_blocks)\n",
    "\n",
    "def DecryptCBC(ciphertext, key, initialization):\n",
    "    BLOCKSIZE = 16\n",
    "    assert len(ciphertext) % BLOCKSIZE == 0\n",
    "    assert type(initialization) is bytes and len(initialization) == BLOCKSIZE\n",
    "    ECBcipher = AES.new(key, AES.MODE_ECB)\n",
    "    \n",
    "    cipher_blocks = [ bytes(block) for block in Chunkerize(ciphertext, BLOCKSIZE) ]\n",
    "    plain_blocks = [None] * len(cipher_blocks)\n",
    "    \n",
    "    for n in range(len(plain_blocks)):\n",
    "        if n == 0:\n",
    "            plain_block = ECBcipher.decrypt(cipher_blocks[n])\n",
    "            plain_blocks[n] = XOR(plain_block, initialization)\n",
    "        else:\n",
    "            plain_block = ECBcipher.decrypt(cipher_blocks[n])\n",
    "            plain_blocks[n] = XOR(plain_block, cipher_blocks[n-1])\n",
    "            \n",
    "    plaintext = b''.join(plain_blocks)\n",
    "    return plaintext\n",
    " "
   ]
  },
  {
   "cell_type": "code",
   "execution_count": 3,
   "id": "188592ab-8842-4380-bdfe-2d40ef447419",
   "metadata": {},
   "outputs": [],
   "source": [
    "key = b'\\x13c\\xb1I\\x17\\xe7dj\\xd5?\\xbe\\xb9f\\x03\\xa1\\x84'\n",
    "strings = [ base64.decodebytes(line) for line in open('strings.txt', mode = 'rb') ]\n",
    "\n",
    "\n",
    "def Function1():    \n",
    "    initialization = bytes( choices(range(256), k = 16) )\n",
    "    \n",
    "    plaintext = choice(strings)\n",
    "    ciphertext = EncryptCBC(plaintext, key, initialization)\n",
    "    return initialization, ciphertext\n",
    "\n",
    "def Function2(initialization, ciphertext):\n",
    "    try:\n",
    "        plaintext = DecryptCBC(ciphertext, key, initialization)\n",
    "        plaintext = Unpad(plaintext)\n",
    "        return True\n",
    "    except:\n",
    "        return False"
   ]
  },
  {
   "cell_type": "code",
   "execution_count": 54,
   "id": "d94c6a35-933e-44a6-9229-37278f9bc1d7",
   "metadata": {},
   "outputs": [],
   "source": [
    "# Start with a ciphertext I know to start easy\n",
    "\n",
    "plaintext = b'A'*(BLOCKSIZE+1)\n",
    "initialization = b'iiiiiiiiiiiiiiii'\n",
    "ciphertext = EncryptCBC(plaintext, key, initialization)"
   ]
  },
  {
   "cell_type": "code",
   "execution_count": 55,
   "id": "46202445-37e9-4307-8f94-d981204d4f4d",
   "metadata": {},
   "outputs": [
    {
     "data": {
      "text/plain": [
       "b'AAAAAAAAAAAAAAAAA\\x0f\\x0f\\x0f\\x0f\\x0f\\x0f\\x0f\\x0f\\x0f\\x0f\\x0f\\x0f\\x0f\\x0f\\x0f'"
      ]
     },
     "execution_count": 55,
     "metadata": {},
     "output_type": "execute_result"
    }
   ],
   "source": [
    "DecryptCBC(ciphertext, key, initialization)"
   ]
  },
  {
   "cell_type": "code",
   "execution_count": 56,
   "id": "40a79c77-63d5-4dad-abea-1e4377f12d67",
   "metadata": {},
   "outputs": [
    {
     "name": "stdout",
     "output_type": "stream",
     "text": [
      "15\n"
     ]
    }
   ],
   "source": [
    "# Solve the last char to get a feel\n",
    "\n",
    "new_ciphertext = list(ciphertext)\n",
    "\n",
    "for char in range(256):\n",
    "    if char == ciphertext[15]:\n",
    "        continue\n",
    "    new_ciphertext[15] = char\n",
    "    if Function2(initialization, bytes(new_ciphertext)):\n",
    "        print(char^1^ciphertext[15])"
   ]
  },
  {
   "cell_type": "code",
   "execution_count": 57,
   "id": "f98cebf1-a28d-4f89-a6b3-34e9ad44262d",
   "metadata": {},
   "outputs": [
    {
     "data": {
      "text/plain": [
       "True"
      ]
     },
     "execution_count": 57,
     "metadata": {},
     "output_type": "execute_result"
    }
   ],
   "source": [
    "# Ok so last char is 15\n",
    "# let's do second to last\n",
    "\n",
    "last_char = 15\n",
    "\n",
    "new_ciphertext = list(ciphertext)\n",
    "\n",
    "new_ciphertext[15] = 2 ^ last_char ^ ciphertext[15]\n",
    "new_ciphertext[14] = 2 ^ 15 ^ ciphertext[14]\n",
    "\n",
    "DecryptCBC(bytes(new_ciphertext), key, initialization)\n",
    "Function2(initialization, bytes(new_ciphertext[:]))"
   ]
  },
  {
   "cell_type": "code",
   "execution_count": 58,
   "id": "c11f4ef4-a259-4afe-9ff8-615993910728",
   "metadata": {},
   "outputs": [],
   "source": [
    "# Now solve in general for two blocks\n",
    "\n",
    "def SolveBlockPair(block1, block2):\n",
    "    assert type(block1) is type(block2) is bytes\n",
    "    assert len(block1) == len(block2) == BLOCKSIZE\n",
    "    \n",
    "    # Find the last block\n",
    "    pad = 1\n",
    "    possible_solutions = list()\n",
    "    new_ciphertext = list(block1)\n",
    "    for char in range(0xFF): \n",
    "        new_ciphertext[BLOCKSIZE-1] = char\n",
    "        if Function2(bytes(new_ciphertext), block2):\n",
    "            possible_solutions += [ char ]\n",
    "    \n",
    "    # In the event that multiple solutions have been found... just pick one randomly and go for it!\n",
    "    # This isn't necessarily the smartest choice... \n",
    "    known_chars = [ pad^block1[BLOCKSIZE-1]^choice(possible_solutions) ]\n",
    "    \n",
    "    # Now work on the others\n",
    "    for pad in range(2, BLOCKSIZE+1):\n",
    "        assert len(known_chars) == pad-1\n",
    "        idx = BLOCKSIZE-pad # index of char we are currently trying to solve for\n",
    "        new_ciphertext = list(block1)\n",
    "        assert len(known_chars) == len(block1[idx+1:])\n",
    "        new_ciphertext[idx+1:] = [ pad^known_char^cipher_char for known_char, cipher_char in zip(known_chars, block1[idx+1:]) ]\n",
    "        possible_solutions = list()\n",
    "        \n",
    "        for char in range(0xFF):\n",
    "            new_ciphertext[idx] = char\n",
    "            decrypted = DecryptCBC(block2, key, bytes(new_ciphertext)) # For debugging, delete later\n",
    "            assert len(decrypted) == BLOCKSIZE\n",
    "            assert all( item == pad for item in decrypted[idx+1:] )\n",
    "            if Function2(bytes(new_ciphertext), block2):\n",
    "                possible_solutions += [ char ]\n",
    "        \n",
    "        char = choice(possible_solutions)\n",
    "        known_chars = [ char^pad^block1[idx], *known_chars ]\n",
    "\n",
    "    return known_chars\n",
    "    \n"
   ]
  },
  {
   "cell_type": "code",
   "execution_count": 61,
   "id": "9130bab8-2011-4b75-99c5-6ecdf6fe0c6e",
   "metadata": {},
   "outputs": [
    {
     "data": {
      "text/plain": [
       "[65, 15, 15, 15, 15, 15, 15, 15, 15, 15, 15, 15, 15, 15, 15, 15]"
      ]
     },
     "execution_count": 61,
     "metadata": {},
     "output_type": "execute_result"
    }
   ],
   "source": [
    "SolveBlockPair(ciphertext[:16], ciphertext[16:])"
   ]
  },
  {
   "cell_type": "code",
   "execution_count": 42,
   "id": "6578cafa-e122-4eb2-af0f-315a2567435a",
   "metadata": {},
   "outputs": [],
   "source": []
  },
  {
   "cell_type": "code",
   "execution_count": 42,
   "id": "3e15b86c-131f-4129-b03e-22e24cc48b27",
   "metadata": {},
   "outputs": [],
   "source": [
    "# Now solve in general for arbitary length\n",
    "\n",
    "def Attack(initialization, ciphertext):\n",
    "    assert len(initialization) == BLOCKSIZE\n",
    "    assert len(ciphertext) % BLOCKSIZE == 0\n",
    "    blocks = [ bytes(chunk) for chunk in Chunkerize(initialization+ciphertext, BLOCKSIZE) ]\n",
    "    \n",
    "    return b''.join( bytes(SolveBlockPair(block1, block2)) for block1, block2 in zip(blocks[:-1], blocks[1:]) )"
   ]
  },
  {
   "cell_type": "code",
   "execution_count": 43,
   "id": "fcd35bfb-6d3e-41ed-ac65-d25e242334b9",
   "metadata": {},
   "outputs": [
    {
     "data": {
      "text/plain": [
       "b\"000007I'm on a roll, it's time to go solo\\x07\\x07\\x07\\x07\\x07\\x07\\x07\""
      ]
     },
     "execution_count": 43,
     "metadata": {},
     "output_type": "execute_result"
    }
   ],
   "source": [
    "Attack(initialization, ciphertext)"
   ]
  },
  {
   "cell_type": "code",
   "execution_count": 44,
   "id": "9d7d0179-e651-4162-94fa-d3083517cec4",
   "metadata": {},
   "outputs": [
    {
     "name": "stdout",
     "output_type": "stream",
     "text": [
      "b'>2$>\\x102!\\x87\\x80\\x14\\x9ce\\xf3\\\\\\x1a\\x0b'\n",
      "b'\\xec\\xa4\\x84\\x9b\\x91e\\x1f\\x19\\xf5u&rG\\x92#\\xe1J\\x0c\\x0f\\x17\\x96\\xe5a\\x18\\xef\\xe5t\\\\|\\x02w\\x1d\\xec\\xf8\\x9b>\\x06\"6. F@\\x13\\xbd\\xa9B\\x1f'\n"
     ]
    }
   ],
   "source": [
    "initialization, ciphertext = Function1()\n",
    "print(initialization)\n",
    "print(ciphertext)"
   ]
  },
  {
   "cell_type": "code",
   "execution_count": 53,
   "id": "a21b7a0c-a51d-4b84-a2d5-db4db7f66849",
   "metadata": {},
   "outputs": [
    {
     "ename": "IndexError",
     "evalue": "list index out of range",
     "output_type": "error",
     "traceback": [
      "\u001b[0;31m---------------------------------------------------------------------------\u001b[0m",
      "\u001b[0;31mIndexError\u001b[0m                                Traceback (most recent call last)",
      "Cell \u001b[0;32mIn [53], line 1\u001b[0m\n\u001b[0;32m----> 1\u001b[0m \u001b[43mAttack\u001b[49m\u001b[43m(\u001b[49m\u001b[43minitialization\u001b[49m\u001b[43m,\u001b[49m\u001b[43m \u001b[49m\u001b[43mciphertext\u001b[49m\u001b[43m)\u001b[49m\n",
      "Cell \u001b[0;32mIn [42], line 8\u001b[0m, in \u001b[0;36mAttack\u001b[0;34m(initialization, ciphertext)\u001b[0m\n\u001b[1;32m      5\u001b[0m \u001b[38;5;28;01massert\u001b[39;00m \u001b[38;5;28mlen\u001b[39m(ciphertext) \u001b[38;5;241m%\u001b[39m BLOCKSIZE \u001b[38;5;241m==\u001b[39m \u001b[38;5;241m0\u001b[39m\n\u001b[1;32m      6\u001b[0m blocks \u001b[38;5;241m=\u001b[39m [ \u001b[38;5;28mbytes\u001b[39m(chunk) \u001b[38;5;28;01mfor\u001b[39;00m chunk \u001b[38;5;129;01min\u001b[39;00m Chunkerize(initialization\u001b[38;5;241m+\u001b[39mciphertext, BLOCKSIZE) ]\n\u001b[0;32m----> 8\u001b[0m \u001b[38;5;28;01mreturn\u001b[39;00m \u001b[38;5;124;43mb\u001b[39;49m\u001b[38;5;124;43m'\u001b[39;49m\u001b[38;5;124;43m'\u001b[39;49m\u001b[38;5;241;43m.\u001b[39;49m\u001b[43mjoin\u001b[49m\u001b[43m(\u001b[49m\u001b[43m \u001b[49m\u001b[38;5;28;43mbytes\u001b[39;49m\u001b[43m(\u001b[49m\u001b[43mSolveBlockPair\u001b[49m\u001b[43m(\u001b[49m\u001b[43mblock1\u001b[49m\u001b[43m,\u001b[49m\u001b[43m \u001b[49m\u001b[43mblock2\u001b[49m\u001b[43m)\u001b[49m\u001b[43m)\u001b[49m\u001b[43m \u001b[49m\u001b[38;5;28;43;01mfor\u001b[39;49;00m\u001b[43m \u001b[49m\u001b[43mblock1\u001b[49m\u001b[43m,\u001b[49m\u001b[43m \u001b[49m\u001b[43mblock2\u001b[49m\u001b[43m \u001b[49m\u001b[38;5;129;43;01min\u001b[39;49;00m\u001b[43m \u001b[49m\u001b[38;5;28;43mzip\u001b[39;49m\u001b[43m(\u001b[49m\u001b[43mblocks\u001b[49m\u001b[43m[\u001b[49m\u001b[43m:\u001b[49m\u001b[38;5;241;43m-\u001b[39;49m\u001b[38;5;241;43m1\u001b[39;49m\u001b[43m]\u001b[49m\u001b[43m,\u001b[49m\u001b[43m \u001b[49m\u001b[43mblocks\u001b[49m\u001b[43m[\u001b[49m\u001b[38;5;241;43m1\u001b[39;49m\u001b[43m:\u001b[49m\u001b[43m]\u001b[49m\u001b[43m)\u001b[49m\u001b[43m \u001b[49m\u001b[43m)\u001b[49m\n",
      "Cell \u001b[0;32mIn [42], line 8\u001b[0m, in \u001b[0;36m<genexpr>\u001b[0;34m(.0)\u001b[0m\n\u001b[1;32m      5\u001b[0m \u001b[38;5;28;01massert\u001b[39;00m \u001b[38;5;28mlen\u001b[39m(ciphertext) \u001b[38;5;241m%\u001b[39m BLOCKSIZE \u001b[38;5;241m==\u001b[39m \u001b[38;5;241m0\u001b[39m\n\u001b[1;32m      6\u001b[0m blocks \u001b[38;5;241m=\u001b[39m [ \u001b[38;5;28mbytes\u001b[39m(chunk) \u001b[38;5;28;01mfor\u001b[39;00m chunk \u001b[38;5;129;01min\u001b[39;00m Chunkerize(initialization\u001b[38;5;241m+\u001b[39mciphertext, BLOCKSIZE) ]\n\u001b[0;32m----> 8\u001b[0m \u001b[38;5;28;01mreturn\u001b[39;00m \u001b[38;5;124mb\u001b[39m\u001b[38;5;124m'\u001b[39m\u001b[38;5;124m'\u001b[39m\u001b[38;5;241m.\u001b[39mjoin( \u001b[38;5;28mbytes\u001b[39m(\u001b[43mSolveBlockPair\u001b[49m\u001b[43m(\u001b[49m\u001b[43mblock1\u001b[49m\u001b[43m,\u001b[49m\u001b[43m \u001b[49m\u001b[43mblock2\u001b[49m\u001b[43m)\u001b[49m) \u001b[38;5;28;01mfor\u001b[39;00m block1, block2 \u001b[38;5;129;01min\u001b[39;00m \u001b[38;5;28mzip\u001b[39m(blocks[:\u001b[38;5;241m-\u001b[39m\u001b[38;5;241m1\u001b[39m], blocks[\u001b[38;5;241m1\u001b[39m:]) )\n",
      "Cell \u001b[0;32mIn [40], line 35\u001b[0m, in \u001b[0;36mSolveBlockPair\u001b[0;34m(block1, block2)\u001b[0m\n\u001b[1;32m     32\u001b[0m         \u001b[38;5;28;01mif\u001b[39;00m Function2(\u001b[38;5;28mbytes\u001b[39m(new_ciphertext), block2):\n\u001b[1;32m     33\u001b[0m             possible_solutions \u001b[38;5;241m+\u001b[39m\u001b[38;5;241m=\u001b[39m [ char ]\n\u001b[0;32m---> 35\u001b[0m     char \u001b[38;5;241m=\u001b[39m \u001b[43mchoice\u001b[49m\u001b[43m(\u001b[49m\u001b[43mpossible_solutions\u001b[49m\u001b[43m)\u001b[49m\n\u001b[1;32m     36\u001b[0m     known_chars \u001b[38;5;241m=\u001b[39m [ char\u001b[38;5;241m^\u001b[39mpad\u001b[38;5;241m^\u001b[39mblock1[idx], \u001b[38;5;241m*\u001b[39mknown_chars ]\n\u001b[1;32m     38\u001b[0m \u001b[38;5;28;01mreturn\u001b[39;00m known_chars\n",
      "File \u001b[0;32m~/miniconda3/envs/cryptopals/lib/python3.10/random.py:378\u001b[0m, in \u001b[0;36mRandom.choice\u001b[0;34m(self, seq)\u001b[0m\n\u001b[1;32m    376\u001b[0m \u001b[38;5;124;03m\"\"\"Choose a random element from a non-empty sequence.\"\"\"\u001b[39;00m\n\u001b[1;32m    377\u001b[0m \u001b[38;5;66;03m# raises IndexError if seq is empty\u001b[39;00m\n\u001b[0;32m--> 378\u001b[0m \u001b[38;5;28;01mreturn\u001b[39;00m \u001b[43mseq\u001b[49m\u001b[43m[\u001b[49m\u001b[38;5;28;43mself\u001b[39;49m\u001b[38;5;241;43m.\u001b[39;49m\u001b[43m_randbelow\u001b[49m\u001b[43m(\u001b[49m\u001b[38;5;28;43mlen\u001b[39;49m\u001b[43m(\u001b[49m\u001b[43mseq\u001b[49m\u001b[43m)\u001b[49m\u001b[43m)\u001b[49m\u001b[43m]\u001b[49m\n",
      "\u001b[0;31mIndexError\u001b[0m: list index out of range"
     ]
    }
   ],
   "source": [
    "Attack(initialization, ciphertext)"
   ]
  },
  {
   "cell_type": "code",
   "execution_count": 46,
   "id": "e0364259-e7a1-4a73-9a61-7936bc796c4b",
   "metadata": {},
   "outputs": [
    {
     "ename": "IndexError",
     "evalue": "list index out of range",
     "output_type": "error",
     "traceback": [
      "\u001b[0;31m---------------------------------------------------------------------------\u001b[0m",
      "\u001b[0;31mIndexError\u001b[0m                                Traceback (most recent call last)",
      "Cell \u001b[0;32mIn [46], line 2\u001b[0m\n\u001b[1;32m      1\u001b[0m initialization, ciphertext \u001b[38;5;241m=\u001b[39m Function1()\n\u001b[0;32m----> 2\u001b[0m \u001b[43mAttack\u001b[49m\u001b[43m(\u001b[49m\u001b[43minitialization\u001b[49m\u001b[43m,\u001b[49m\u001b[43m \u001b[49m\u001b[43mciphertext\u001b[49m\u001b[43m)\u001b[49m\n",
      "Cell \u001b[0;32mIn [42], line 8\u001b[0m, in \u001b[0;36mAttack\u001b[0;34m(initialization, ciphertext)\u001b[0m\n\u001b[1;32m      5\u001b[0m \u001b[38;5;28;01massert\u001b[39;00m \u001b[38;5;28mlen\u001b[39m(ciphertext) \u001b[38;5;241m%\u001b[39m BLOCKSIZE \u001b[38;5;241m==\u001b[39m \u001b[38;5;241m0\u001b[39m\n\u001b[1;32m      6\u001b[0m blocks \u001b[38;5;241m=\u001b[39m [ \u001b[38;5;28mbytes\u001b[39m(chunk) \u001b[38;5;28;01mfor\u001b[39;00m chunk \u001b[38;5;129;01min\u001b[39;00m Chunkerize(initialization\u001b[38;5;241m+\u001b[39mciphertext, BLOCKSIZE) ]\n\u001b[0;32m----> 8\u001b[0m \u001b[38;5;28;01mreturn\u001b[39;00m \u001b[38;5;124;43mb\u001b[39;49m\u001b[38;5;124;43m'\u001b[39;49m\u001b[38;5;124;43m'\u001b[39;49m\u001b[38;5;241;43m.\u001b[39;49m\u001b[43mjoin\u001b[49m\u001b[43m(\u001b[49m\u001b[43m \u001b[49m\u001b[38;5;28;43mbytes\u001b[39;49m\u001b[43m(\u001b[49m\u001b[43mSolveBlockPair\u001b[49m\u001b[43m(\u001b[49m\u001b[43mblock1\u001b[49m\u001b[43m,\u001b[49m\u001b[43m \u001b[49m\u001b[43mblock2\u001b[49m\u001b[43m)\u001b[49m\u001b[43m)\u001b[49m\u001b[43m \u001b[49m\u001b[38;5;28;43;01mfor\u001b[39;49;00m\u001b[43m \u001b[49m\u001b[43mblock1\u001b[49m\u001b[43m,\u001b[49m\u001b[43m \u001b[49m\u001b[43mblock2\u001b[49m\u001b[43m \u001b[49m\u001b[38;5;129;43;01min\u001b[39;49;00m\u001b[43m \u001b[49m\u001b[38;5;28;43mzip\u001b[39;49m\u001b[43m(\u001b[49m\u001b[43mblocks\u001b[49m\u001b[43m[\u001b[49m\u001b[43m:\u001b[49m\u001b[38;5;241;43m-\u001b[39;49m\u001b[38;5;241;43m1\u001b[39;49m\u001b[43m]\u001b[49m\u001b[43m,\u001b[49m\u001b[43m \u001b[49m\u001b[43mblocks\u001b[49m\u001b[43m[\u001b[49m\u001b[38;5;241;43m1\u001b[39;49m\u001b[43m:\u001b[49m\u001b[43m]\u001b[49m\u001b[43m)\u001b[49m\u001b[43m \u001b[49m\u001b[43m)\u001b[49m\n",
      "Cell \u001b[0;32mIn [42], line 8\u001b[0m, in \u001b[0;36m<genexpr>\u001b[0;34m(.0)\u001b[0m\n\u001b[1;32m      5\u001b[0m \u001b[38;5;28;01massert\u001b[39;00m \u001b[38;5;28mlen\u001b[39m(ciphertext) \u001b[38;5;241m%\u001b[39m BLOCKSIZE \u001b[38;5;241m==\u001b[39m \u001b[38;5;241m0\u001b[39m\n\u001b[1;32m      6\u001b[0m blocks \u001b[38;5;241m=\u001b[39m [ \u001b[38;5;28mbytes\u001b[39m(chunk) \u001b[38;5;28;01mfor\u001b[39;00m chunk \u001b[38;5;129;01min\u001b[39;00m Chunkerize(initialization\u001b[38;5;241m+\u001b[39mciphertext, BLOCKSIZE) ]\n\u001b[0;32m----> 8\u001b[0m \u001b[38;5;28;01mreturn\u001b[39;00m \u001b[38;5;124mb\u001b[39m\u001b[38;5;124m'\u001b[39m\u001b[38;5;124m'\u001b[39m\u001b[38;5;241m.\u001b[39mjoin( \u001b[38;5;28mbytes\u001b[39m(\u001b[43mSolveBlockPair\u001b[49m\u001b[43m(\u001b[49m\u001b[43mblock1\u001b[49m\u001b[43m,\u001b[49m\u001b[43m \u001b[49m\u001b[43mblock2\u001b[49m\u001b[43m)\u001b[49m) \u001b[38;5;28;01mfor\u001b[39;00m block1, block2 \u001b[38;5;129;01min\u001b[39;00m \u001b[38;5;28mzip\u001b[39m(blocks[:\u001b[38;5;241m-\u001b[39m\u001b[38;5;241m1\u001b[39m], blocks[\u001b[38;5;241m1\u001b[39m:]) )\n",
      "Cell \u001b[0;32mIn [40], line 35\u001b[0m, in \u001b[0;36mSolveBlockPair\u001b[0;34m(block1, block2)\u001b[0m\n\u001b[1;32m     32\u001b[0m         \u001b[38;5;28;01mif\u001b[39;00m Function2(\u001b[38;5;28mbytes\u001b[39m(new_ciphertext), block2):\n\u001b[1;32m     33\u001b[0m             possible_solutions \u001b[38;5;241m+\u001b[39m\u001b[38;5;241m=\u001b[39m [ char ]\n\u001b[0;32m---> 35\u001b[0m     char \u001b[38;5;241m=\u001b[39m \u001b[43mchoice\u001b[49m\u001b[43m(\u001b[49m\u001b[43mpossible_solutions\u001b[49m\u001b[43m)\u001b[49m\n\u001b[1;32m     36\u001b[0m     known_chars \u001b[38;5;241m=\u001b[39m [ char\u001b[38;5;241m^\u001b[39mpad\u001b[38;5;241m^\u001b[39mblock1[idx], \u001b[38;5;241m*\u001b[39mknown_chars ]\n\u001b[1;32m     38\u001b[0m \u001b[38;5;28;01mreturn\u001b[39;00m known_chars\n",
      "File \u001b[0;32m~/miniconda3/envs/cryptopals/lib/python3.10/random.py:378\u001b[0m, in \u001b[0;36mRandom.choice\u001b[0;34m(self, seq)\u001b[0m\n\u001b[1;32m    376\u001b[0m \u001b[38;5;124;03m\"\"\"Choose a random element from a non-empty sequence.\"\"\"\u001b[39;00m\n\u001b[1;32m    377\u001b[0m \u001b[38;5;66;03m# raises IndexError if seq is empty\u001b[39;00m\n\u001b[0;32m--> 378\u001b[0m \u001b[38;5;28;01mreturn\u001b[39;00m \u001b[43mseq\u001b[49m\u001b[43m[\u001b[49m\u001b[38;5;28;43mself\u001b[39;49m\u001b[38;5;241;43m.\u001b[39;49m\u001b[43m_randbelow\u001b[49m\u001b[43m(\u001b[49m\u001b[38;5;28;43mlen\u001b[39;49m\u001b[43m(\u001b[49m\u001b[43mseq\u001b[49m\u001b[43m)\u001b[49m\u001b[43m)\u001b[49m\u001b[43m]\u001b[49m\n",
      "\u001b[0;31mIndexError\u001b[0m: list index out of range"
     ]
    }
   ],
   "source": [
    "initialization, ciphertext = Function1()\n",
    "Attack(initialization, ciphertext)"
   ]
  },
  {
   "cell_type": "code",
   "execution_count": 17,
   "id": "28cec62e-a1a0-4f82-8be3-cecb24c275a2",
   "metadata": {},
   "outputs": [
    {
     "ename": "AssertionError",
     "evalue": "Expected exactly one possible solution: [1, 8]",
     "output_type": "error",
     "traceback": [
      "\u001b[0;31m---------------------------------------------------------------------------\u001b[0m",
      "\u001b[0;31mAssertionError\u001b[0m                            Traceback (most recent call last)",
      "Cell \u001b[0;32mIn [17], line 2\u001b[0m\n\u001b[1;32m      1\u001b[0m initialization, ciphertext \u001b[38;5;241m=\u001b[39m Function1()\n\u001b[0;32m----> 2\u001b[0m \u001b[43mAttack\u001b[49m\u001b[43m(\u001b[49m\u001b[43minitialization\u001b[49m\u001b[43m,\u001b[49m\u001b[43m \u001b[49m\u001b[43mciphertext\u001b[49m\u001b[43m)\u001b[49m\n",
      "Cell \u001b[0;32mIn [12], line 8\u001b[0m, in \u001b[0;36mAttack\u001b[0;34m(initialization, ciphertext)\u001b[0m\n\u001b[1;32m      5\u001b[0m \u001b[38;5;28;01massert\u001b[39;00m \u001b[38;5;28mlen\u001b[39m(ciphertext) \u001b[38;5;241m%\u001b[39m BLOCKSIZE \u001b[38;5;241m==\u001b[39m \u001b[38;5;241m0\u001b[39m\n\u001b[1;32m      6\u001b[0m blocks \u001b[38;5;241m=\u001b[39m [ \u001b[38;5;28mbytes\u001b[39m(chunk) \u001b[38;5;28;01mfor\u001b[39;00m chunk \u001b[38;5;129;01min\u001b[39;00m Chunkerize(initialization\u001b[38;5;241m+\u001b[39mciphertext, BLOCKSIZE) ]\n\u001b[0;32m----> 8\u001b[0m \u001b[38;5;28;01mreturn\u001b[39;00m \u001b[38;5;124;43mb\u001b[39;49m\u001b[38;5;124;43m'\u001b[39;49m\u001b[38;5;124;43m'\u001b[39;49m\u001b[38;5;241;43m.\u001b[39;49m\u001b[43mjoin\u001b[49m\u001b[43m(\u001b[49m\u001b[43m \u001b[49m\u001b[38;5;28;43mbytes\u001b[39;49m\u001b[43m(\u001b[49m\u001b[43mSolveBlockPair\u001b[49m\u001b[43m(\u001b[49m\u001b[43mblock1\u001b[49m\u001b[43m,\u001b[49m\u001b[43m \u001b[49m\u001b[43mblock2\u001b[49m\u001b[43m)\u001b[49m\u001b[43m)\u001b[49m\u001b[43m \u001b[49m\u001b[38;5;28;43;01mfor\u001b[39;49;00m\u001b[43m \u001b[49m\u001b[43mblock1\u001b[49m\u001b[43m,\u001b[49m\u001b[43m \u001b[49m\u001b[43mblock2\u001b[49m\u001b[43m \u001b[49m\u001b[38;5;129;43;01min\u001b[39;49;00m\u001b[43m \u001b[49m\u001b[38;5;28;43mzip\u001b[39;49m\u001b[43m(\u001b[49m\u001b[43mblocks\u001b[49m\u001b[43m[\u001b[49m\u001b[43m:\u001b[49m\u001b[38;5;241;43m-\u001b[39;49m\u001b[38;5;241;43m1\u001b[39;49m\u001b[43m]\u001b[49m\u001b[43m,\u001b[49m\u001b[43m \u001b[49m\u001b[43mblocks\u001b[49m\u001b[43m[\u001b[49m\u001b[38;5;241;43m1\u001b[39;49m\u001b[43m:\u001b[49m\u001b[43m]\u001b[49m\u001b[43m)\u001b[49m\u001b[43m \u001b[49m\u001b[43m)\u001b[49m\n",
      "Cell \u001b[0;32mIn [12], line 8\u001b[0m, in \u001b[0;36m<genexpr>\u001b[0;34m(.0)\u001b[0m\n\u001b[1;32m      5\u001b[0m \u001b[38;5;28;01massert\u001b[39;00m \u001b[38;5;28mlen\u001b[39m(ciphertext) \u001b[38;5;241m%\u001b[39m BLOCKSIZE \u001b[38;5;241m==\u001b[39m \u001b[38;5;241m0\u001b[39m\n\u001b[1;32m      6\u001b[0m blocks \u001b[38;5;241m=\u001b[39m [ \u001b[38;5;28mbytes\u001b[39m(chunk) \u001b[38;5;28;01mfor\u001b[39;00m chunk \u001b[38;5;129;01min\u001b[39;00m Chunkerize(initialization\u001b[38;5;241m+\u001b[39mciphertext, BLOCKSIZE) ]\n\u001b[0;32m----> 8\u001b[0m \u001b[38;5;28;01mreturn\u001b[39;00m \u001b[38;5;124mb\u001b[39m\u001b[38;5;124m'\u001b[39m\u001b[38;5;124m'\u001b[39m\u001b[38;5;241m.\u001b[39mjoin( \u001b[38;5;28mbytes\u001b[39m(\u001b[43mSolveBlockPair\u001b[49m\u001b[43m(\u001b[49m\u001b[43mblock1\u001b[49m\u001b[43m,\u001b[49m\u001b[43m \u001b[49m\u001b[43mblock2\u001b[49m\u001b[43m)\u001b[49m) \u001b[38;5;28;01mfor\u001b[39;00m block1, block2 \u001b[38;5;129;01min\u001b[39;00m \u001b[38;5;28mzip\u001b[39m(blocks[:\u001b[38;5;241m-\u001b[39m\u001b[38;5;241m1\u001b[39m], blocks[\u001b[38;5;241m1\u001b[39m:]) )\n",
      "Cell \u001b[0;32mIn [8], line 16\u001b[0m, in \u001b[0;36mSolveBlockPair\u001b[0;34m(block1, block2)\u001b[0m\n\u001b[1;32m     13\u001b[0m     \u001b[38;5;28;01mif\u001b[39;00m Function2(\u001b[38;5;28mbytes\u001b[39m(new_ciphertext), block2):\n\u001b[1;32m     14\u001b[0m         possible_solutions \u001b[38;5;241m+\u001b[39m\u001b[38;5;241m=\u001b[39m [ char\u001b[38;5;241m^\u001b[39mpad\u001b[38;5;241m^\u001b[39mblock1[BLOCKSIZE\u001b[38;5;241m-\u001b[39m\u001b[38;5;241m1\u001b[39m] ]\n\u001b[0;32m---> 16\u001b[0m \u001b[38;5;28;01massert\u001b[39;00m \u001b[38;5;28mlen\u001b[39m(possible_solutions) \u001b[38;5;241m==\u001b[39m \u001b[38;5;241m1\u001b[39m, \u001b[38;5;124mf\u001b[39m\u001b[38;5;124m'\u001b[39m\u001b[38;5;124mExpected exactly one possible solution: \u001b[39m\u001b[38;5;132;01m{\u001b[39;00mpossible_solutions\u001b[38;5;132;01m}\u001b[39;00m\u001b[38;5;124m'\u001b[39m\n\u001b[1;32m     17\u001b[0m known_chars \u001b[38;5;241m=\u001b[39m [ \u001b[38;5;241m*\u001b[39mpossible_solutions ]\n\u001b[1;32m     19\u001b[0m \u001b[38;5;66;03m# Now work on the others\u001b[39;00m\n",
      "\u001b[0;31mAssertionError\u001b[0m: Expected exactly one possible solution: [1, 8]"
     ]
    }
   ],
   "source": [
    "initialization, ciphertext = Function1()\n",
    "Attack(initialization, ciphertext)"
   ]
  },
  {
   "cell_type": "code",
   "execution_count": 18,
   "id": "3e0340f0-dab9-4bbd-8300-11048a6435cd",
   "metadata": {},
   "outputs": [
    {
     "ename": "AssertionError",
     "evalue": "Expected exactly one possible solution: [7, 1]",
     "output_type": "error",
     "traceback": [
      "\u001b[0;31m---------------------------------------------------------------------------\u001b[0m",
      "\u001b[0;31mAssertionError\u001b[0m                            Traceback (most recent call last)",
      "Cell \u001b[0;32mIn [18], line 2\u001b[0m\n\u001b[1;32m      1\u001b[0m initialization, ciphertext \u001b[38;5;241m=\u001b[39m Function1()\n\u001b[0;32m----> 2\u001b[0m \u001b[43mAttack\u001b[49m\u001b[43m(\u001b[49m\u001b[43minitialization\u001b[49m\u001b[43m,\u001b[49m\u001b[43m \u001b[49m\u001b[43mciphertext\u001b[49m\u001b[43m)\u001b[49m\n",
      "Cell \u001b[0;32mIn [12], line 8\u001b[0m, in \u001b[0;36mAttack\u001b[0;34m(initialization, ciphertext)\u001b[0m\n\u001b[1;32m      5\u001b[0m \u001b[38;5;28;01massert\u001b[39;00m \u001b[38;5;28mlen\u001b[39m(ciphertext) \u001b[38;5;241m%\u001b[39m BLOCKSIZE \u001b[38;5;241m==\u001b[39m \u001b[38;5;241m0\u001b[39m\n\u001b[1;32m      6\u001b[0m blocks \u001b[38;5;241m=\u001b[39m [ \u001b[38;5;28mbytes\u001b[39m(chunk) \u001b[38;5;28;01mfor\u001b[39;00m chunk \u001b[38;5;129;01min\u001b[39;00m Chunkerize(initialization\u001b[38;5;241m+\u001b[39mciphertext, BLOCKSIZE) ]\n\u001b[0;32m----> 8\u001b[0m \u001b[38;5;28;01mreturn\u001b[39;00m \u001b[38;5;124;43mb\u001b[39;49m\u001b[38;5;124;43m'\u001b[39;49m\u001b[38;5;124;43m'\u001b[39;49m\u001b[38;5;241;43m.\u001b[39;49m\u001b[43mjoin\u001b[49m\u001b[43m(\u001b[49m\u001b[43m \u001b[49m\u001b[38;5;28;43mbytes\u001b[39;49m\u001b[43m(\u001b[49m\u001b[43mSolveBlockPair\u001b[49m\u001b[43m(\u001b[49m\u001b[43mblock1\u001b[49m\u001b[43m,\u001b[49m\u001b[43m \u001b[49m\u001b[43mblock2\u001b[49m\u001b[43m)\u001b[49m\u001b[43m)\u001b[49m\u001b[43m \u001b[49m\u001b[38;5;28;43;01mfor\u001b[39;49;00m\u001b[43m \u001b[49m\u001b[43mblock1\u001b[49m\u001b[43m,\u001b[49m\u001b[43m \u001b[49m\u001b[43mblock2\u001b[49m\u001b[43m \u001b[49m\u001b[38;5;129;43;01min\u001b[39;49;00m\u001b[43m \u001b[49m\u001b[38;5;28;43mzip\u001b[39;49m\u001b[43m(\u001b[49m\u001b[43mblocks\u001b[49m\u001b[43m[\u001b[49m\u001b[43m:\u001b[49m\u001b[38;5;241;43m-\u001b[39;49m\u001b[38;5;241;43m1\u001b[39;49m\u001b[43m]\u001b[49m\u001b[43m,\u001b[49m\u001b[43m \u001b[49m\u001b[43mblocks\u001b[49m\u001b[43m[\u001b[49m\u001b[38;5;241;43m1\u001b[39;49m\u001b[43m:\u001b[49m\u001b[43m]\u001b[49m\u001b[43m)\u001b[49m\u001b[43m \u001b[49m\u001b[43m)\u001b[49m\n",
      "Cell \u001b[0;32mIn [12], line 8\u001b[0m, in \u001b[0;36m<genexpr>\u001b[0;34m(.0)\u001b[0m\n\u001b[1;32m      5\u001b[0m \u001b[38;5;28;01massert\u001b[39;00m \u001b[38;5;28mlen\u001b[39m(ciphertext) \u001b[38;5;241m%\u001b[39m BLOCKSIZE \u001b[38;5;241m==\u001b[39m \u001b[38;5;241m0\u001b[39m\n\u001b[1;32m      6\u001b[0m blocks \u001b[38;5;241m=\u001b[39m [ \u001b[38;5;28mbytes\u001b[39m(chunk) \u001b[38;5;28;01mfor\u001b[39;00m chunk \u001b[38;5;129;01min\u001b[39;00m Chunkerize(initialization\u001b[38;5;241m+\u001b[39mciphertext, BLOCKSIZE) ]\n\u001b[0;32m----> 8\u001b[0m \u001b[38;5;28;01mreturn\u001b[39;00m \u001b[38;5;124mb\u001b[39m\u001b[38;5;124m'\u001b[39m\u001b[38;5;124m'\u001b[39m\u001b[38;5;241m.\u001b[39mjoin( \u001b[38;5;28mbytes\u001b[39m(\u001b[43mSolveBlockPair\u001b[49m\u001b[43m(\u001b[49m\u001b[43mblock1\u001b[49m\u001b[43m,\u001b[49m\u001b[43m \u001b[49m\u001b[43mblock2\u001b[49m\u001b[43m)\u001b[49m) \u001b[38;5;28;01mfor\u001b[39;00m block1, block2 \u001b[38;5;129;01min\u001b[39;00m \u001b[38;5;28mzip\u001b[39m(blocks[:\u001b[38;5;241m-\u001b[39m\u001b[38;5;241m1\u001b[39m], blocks[\u001b[38;5;241m1\u001b[39m:]) )\n",
      "Cell \u001b[0;32mIn [8], line 16\u001b[0m, in \u001b[0;36mSolveBlockPair\u001b[0;34m(block1, block2)\u001b[0m\n\u001b[1;32m     13\u001b[0m     \u001b[38;5;28;01mif\u001b[39;00m Function2(\u001b[38;5;28mbytes\u001b[39m(new_ciphertext), block2):\n\u001b[1;32m     14\u001b[0m         possible_solutions \u001b[38;5;241m+\u001b[39m\u001b[38;5;241m=\u001b[39m [ char\u001b[38;5;241m^\u001b[39mpad\u001b[38;5;241m^\u001b[39mblock1[BLOCKSIZE\u001b[38;5;241m-\u001b[39m\u001b[38;5;241m1\u001b[39m] ]\n\u001b[0;32m---> 16\u001b[0m \u001b[38;5;28;01massert\u001b[39;00m \u001b[38;5;28mlen\u001b[39m(possible_solutions) \u001b[38;5;241m==\u001b[39m \u001b[38;5;241m1\u001b[39m, \u001b[38;5;124mf\u001b[39m\u001b[38;5;124m'\u001b[39m\u001b[38;5;124mExpected exactly one possible solution: \u001b[39m\u001b[38;5;132;01m{\u001b[39;00mpossible_solutions\u001b[38;5;132;01m}\u001b[39;00m\u001b[38;5;124m'\u001b[39m\n\u001b[1;32m     17\u001b[0m known_chars \u001b[38;5;241m=\u001b[39m [ \u001b[38;5;241m*\u001b[39mpossible_solutions ]\n\u001b[1;32m     19\u001b[0m \u001b[38;5;66;03m# Now work on the others\u001b[39;00m\n",
      "\u001b[0;31mAssertionError\u001b[0m: Expected exactly one possible solution: [7, 1]"
     ]
    }
   ],
   "source": [
    "initialization, ciphertext = Function1()\n",
    "Attack(initialization, ciphertext)"
   ]
  },
  {
   "cell_type": "code",
   "execution_count": 19,
   "id": "fb0b7a9f-5706-4ae5-ba76-478d19788db5",
   "metadata": {},
   "outputs": [
    {
     "ename": "AssertionError",
     "evalue": "Expected exactly one possible solution: [1, 8]",
     "output_type": "error",
     "traceback": [
      "\u001b[0;31m---------------------------------------------------------------------------\u001b[0m",
      "\u001b[0;31mAssertionError\u001b[0m                            Traceback (most recent call last)",
      "Cell \u001b[0;32mIn [19], line 2\u001b[0m\n\u001b[1;32m      1\u001b[0m initialization, ciphertext \u001b[38;5;241m=\u001b[39m Function1()\n\u001b[0;32m----> 2\u001b[0m \u001b[43mAttack\u001b[49m\u001b[43m(\u001b[49m\u001b[43minitialization\u001b[49m\u001b[43m,\u001b[49m\u001b[43m \u001b[49m\u001b[43mciphertext\u001b[49m\u001b[43m)\u001b[49m\n",
      "Cell \u001b[0;32mIn [12], line 8\u001b[0m, in \u001b[0;36mAttack\u001b[0;34m(initialization, ciphertext)\u001b[0m\n\u001b[1;32m      5\u001b[0m \u001b[38;5;28;01massert\u001b[39;00m \u001b[38;5;28mlen\u001b[39m(ciphertext) \u001b[38;5;241m%\u001b[39m BLOCKSIZE \u001b[38;5;241m==\u001b[39m \u001b[38;5;241m0\u001b[39m\n\u001b[1;32m      6\u001b[0m blocks \u001b[38;5;241m=\u001b[39m [ \u001b[38;5;28mbytes\u001b[39m(chunk) \u001b[38;5;28;01mfor\u001b[39;00m chunk \u001b[38;5;129;01min\u001b[39;00m Chunkerize(initialization\u001b[38;5;241m+\u001b[39mciphertext, BLOCKSIZE) ]\n\u001b[0;32m----> 8\u001b[0m \u001b[38;5;28;01mreturn\u001b[39;00m \u001b[38;5;124;43mb\u001b[39;49m\u001b[38;5;124;43m'\u001b[39;49m\u001b[38;5;124;43m'\u001b[39;49m\u001b[38;5;241;43m.\u001b[39;49m\u001b[43mjoin\u001b[49m\u001b[43m(\u001b[49m\u001b[43m \u001b[49m\u001b[38;5;28;43mbytes\u001b[39;49m\u001b[43m(\u001b[49m\u001b[43mSolveBlockPair\u001b[49m\u001b[43m(\u001b[49m\u001b[43mblock1\u001b[49m\u001b[43m,\u001b[49m\u001b[43m \u001b[49m\u001b[43mblock2\u001b[49m\u001b[43m)\u001b[49m\u001b[43m)\u001b[49m\u001b[43m \u001b[49m\u001b[38;5;28;43;01mfor\u001b[39;49;00m\u001b[43m \u001b[49m\u001b[43mblock1\u001b[49m\u001b[43m,\u001b[49m\u001b[43m \u001b[49m\u001b[43mblock2\u001b[49m\u001b[43m \u001b[49m\u001b[38;5;129;43;01min\u001b[39;49;00m\u001b[43m \u001b[49m\u001b[38;5;28;43mzip\u001b[39;49m\u001b[43m(\u001b[49m\u001b[43mblocks\u001b[49m\u001b[43m[\u001b[49m\u001b[43m:\u001b[49m\u001b[38;5;241;43m-\u001b[39;49m\u001b[38;5;241;43m1\u001b[39;49m\u001b[43m]\u001b[49m\u001b[43m,\u001b[49m\u001b[43m \u001b[49m\u001b[43mblocks\u001b[49m\u001b[43m[\u001b[49m\u001b[38;5;241;43m1\u001b[39;49m\u001b[43m:\u001b[49m\u001b[43m]\u001b[49m\u001b[43m)\u001b[49m\u001b[43m \u001b[49m\u001b[43m)\u001b[49m\n",
      "Cell \u001b[0;32mIn [12], line 8\u001b[0m, in \u001b[0;36m<genexpr>\u001b[0;34m(.0)\u001b[0m\n\u001b[1;32m      5\u001b[0m \u001b[38;5;28;01massert\u001b[39;00m \u001b[38;5;28mlen\u001b[39m(ciphertext) \u001b[38;5;241m%\u001b[39m BLOCKSIZE \u001b[38;5;241m==\u001b[39m \u001b[38;5;241m0\u001b[39m\n\u001b[1;32m      6\u001b[0m blocks \u001b[38;5;241m=\u001b[39m [ \u001b[38;5;28mbytes\u001b[39m(chunk) \u001b[38;5;28;01mfor\u001b[39;00m chunk \u001b[38;5;129;01min\u001b[39;00m Chunkerize(initialization\u001b[38;5;241m+\u001b[39mciphertext, BLOCKSIZE) ]\n\u001b[0;32m----> 8\u001b[0m \u001b[38;5;28;01mreturn\u001b[39;00m \u001b[38;5;124mb\u001b[39m\u001b[38;5;124m'\u001b[39m\u001b[38;5;124m'\u001b[39m\u001b[38;5;241m.\u001b[39mjoin( \u001b[38;5;28mbytes\u001b[39m(\u001b[43mSolveBlockPair\u001b[49m\u001b[43m(\u001b[49m\u001b[43mblock1\u001b[49m\u001b[43m,\u001b[49m\u001b[43m \u001b[49m\u001b[43mblock2\u001b[49m\u001b[43m)\u001b[49m) \u001b[38;5;28;01mfor\u001b[39;00m block1, block2 \u001b[38;5;129;01min\u001b[39;00m \u001b[38;5;28mzip\u001b[39m(blocks[:\u001b[38;5;241m-\u001b[39m\u001b[38;5;241m1\u001b[39m], blocks[\u001b[38;5;241m1\u001b[39m:]) )\n",
      "Cell \u001b[0;32mIn [8], line 16\u001b[0m, in \u001b[0;36mSolveBlockPair\u001b[0;34m(block1, block2)\u001b[0m\n\u001b[1;32m     13\u001b[0m     \u001b[38;5;28;01mif\u001b[39;00m Function2(\u001b[38;5;28mbytes\u001b[39m(new_ciphertext), block2):\n\u001b[1;32m     14\u001b[0m         possible_solutions \u001b[38;5;241m+\u001b[39m\u001b[38;5;241m=\u001b[39m [ char\u001b[38;5;241m^\u001b[39mpad\u001b[38;5;241m^\u001b[39mblock1[BLOCKSIZE\u001b[38;5;241m-\u001b[39m\u001b[38;5;241m1\u001b[39m] ]\n\u001b[0;32m---> 16\u001b[0m \u001b[38;5;28;01massert\u001b[39;00m \u001b[38;5;28mlen\u001b[39m(possible_solutions) \u001b[38;5;241m==\u001b[39m \u001b[38;5;241m1\u001b[39m, \u001b[38;5;124mf\u001b[39m\u001b[38;5;124m'\u001b[39m\u001b[38;5;124mExpected exactly one possible solution: \u001b[39m\u001b[38;5;132;01m{\u001b[39;00mpossible_solutions\u001b[38;5;132;01m}\u001b[39;00m\u001b[38;5;124m'\u001b[39m\n\u001b[1;32m     17\u001b[0m known_chars \u001b[38;5;241m=\u001b[39m [ \u001b[38;5;241m*\u001b[39mpossible_solutions ]\n\u001b[1;32m     19\u001b[0m \u001b[38;5;66;03m# Now work on the others\u001b[39;00m\n",
      "\u001b[0;31mAssertionError\u001b[0m: Expected exactly one possible solution: [1, 8]"
     ]
    }
   ],
   "source": [
    "initialization, ciphertext = Function1()\n",
    "Attack(initialization, ciphertext)"
   ]
  },
  {
   "cell_type": "code",
   "execution_count": 20,
   "id": "73c9a606-3935-49ea-ab37-998108a342c7",
   "metadata": {},
   "outputs": [
    {
     "ename": "AssertionError",
     "evalue": "",
     "output_type": "error",
     "traceback": [
      "\u001b[0;31m---------------------------------------------------------------------------\u001b[0m",
      "\u001b[0;31mAssertionError\u001b[0m                            Traceback (most recent call last)",
      "Cell \u001b[0;32mIn [20], line 2\u001b[0m\n\u001b[1;32m      1\u001b[0m initialization, ciphertext \u001b[38;5;241m=\u001b[39m Function1()\n\u001b[0;32m----> 2\u001b[0m \u001b[43mAttack\u001b[49m\u001b[43m(\u001b[49m\u001b[43minitialization\u001b[49m\u001b[43m,\u001b[49m\u001b[43m \u001b[49m\u001b[43mciphertext\u001b[49m\u001b[43m)\u001b[49m\n",
      "Cell \u001b[0;32mIn [12], line 8\u001b[0m, in \u001b[0;36mAttack\u001b[0;34m(initialization, ciphertext)\u001b[0m\n\u001b[1;32m      5\u001b[0m \u001b[38;5;28;01massert\u001b[39;00m \u001b[38;5;28mlen\u001b[39m(ciphertext) \u001b[38;5;241m%\u001b[39m BLOCKSIZE \u001b[38;5;241m==\u001b[39m \u001b[38;5;241m0\u001b[39m\n\u001b[1;32m      6\u001b[0m blocks \u001b[38;5;241m=\u001b[39m [ \u001b[38;5;28mbytes\u001b[39m(chunk) \u001b[38;5;28;01mfor\u001b[39;00m chunk \u001b[38;5;129;01min\u001b[39;00m Chunkerize(initialization\u001b[38;5;241m+\u001b[39mciphertext, BLOCKSIZE) ]\n\u001b[0;32m----> 8\u001b[0m \u001b[38;5;28;01mreturn\u001b[39;00m \u001b[38;5;124;43mb\u001b[39;49m\u001b[38;5;124;43m'\u001b[39;49m\u001b[38;5;124;43m'\u001b[39;49m\u001b[38;5;241;43m.\u001b[39;49m\u001b[43mjoin\u001b[49m\u001b[43m(\u001b[49m\u001b[43m \u001b[49m\u001b[38;5;28;43mbytes\u001b[39;49m\u001b[43m(\u001b[49m\u001b[43mSolveBlockPair\u001b[49m\u001b[43m(\u001b[49m\u001b[43mblock1\u001b[49m\u001b[43m,\u001b[49m\u001b[43m \u001b[49m\u001b[43mblock2\u001b[49m\u001b[43m)\u001b[49m\u001b[43m)\u001b[49m\u001b[43m \u001b[49m\u001b[38;5;28;43;01mfor\u001b[39;49;00m\u001b[43m \u001b[49m\u001b[43mblock1\u001b[49m\u001b[43m,\u001b[49m\u001b[43m \u001b[49m\u001b[43mblock2\u001b[49m\u001b[43m \u001b[49m\u001b[38;5;129;43;01min\u001b[39;49;00m\u001b[43m \u001b[49m\u001b[38;5;28;43mzip\u001b[39;49m\u001b[43m(\u001b[49m\u001b[43mblocks\u001b[49m\u001b[43m[\u001b[49m\u001b[43m:\u001b[49m\u001b[38;5;241;43m-\u001b[39;49m\u001b[38;5;241;43m1\u001b[39;49m\u001b[43m]\u001b[49m\u001b[43m,\u001b[49m\u001b[43m \u001b[49m\u001b[43mblocks\u001b[49m\u001b[43m[\u001b[49m\u001b[38;5;241;43m1\u001b[39;49m\u001b[43m:\u001b[49m\u001b[43m]\u001b[49m\u001b[43m)\u001b[49m\u001b[43m \u001b[49m\u001b[43m)\u001b[49m\n",
      "Cell \u001b[0;32mIn [12], line 8\u001b[0m, in \u001b[0;36m<genexpr>\u001b[0;34m(.0)\u001b[0m\n\u001b[1;32m      5\u001b[0m \u001b[38;5;28;01massert\u001b[39;00m \u001b[38;5;28mlen\u001b[39m(ciphertext) \u001b[38;5;241m%\u001b[39m BLOCKSIZE \u001b[38;5;241m==\u001b[39m \u001b[38;5;241m0\u001b[39m\n\u001b[1;32m      6\u001b[0m blocks \u001b[38;5;241m=\u001b[39m [ \u001b[38;5;28mbytes\u001b[39m(chunk) \u001b[38;5;28;01mfor\u001b[39;00m chunk \u001b[38;5;129;01min\u001b[39;00m Chunkerize(initialization\u001b[38;5;241m+\u001b[39mciphertext, BLOCKSIZE) ]\n\u001b[0;32m----> 8\u001b[0m \u001b[38;5;28;01mreturn\u001b[39;00m \u001b[38;5;124mb\u001b[39m\u001b[38;5;124m'\u001b[39m\u001b[38;5;124m'\u001b[39m\u001b[38;5;241m.\u001b[39mjoin( \u001b[38;5;28mbytes\u001b[39m(\u001b[43mSolveBlockPair\u001b[49m\u001b[43m(\u001b[49m\u001b[43mblock1\u001b[49m\u001b[43m,\u001b[49m\u001b[43m \u001b[49m\u001b[43mblock2\u001b[49m\u001b[43m)\u001b[49m) \u001b[38;5;28;01mfor\u001b[39;00m block1, block2 \u001b[38;5;129;01min\u001b[39;00m \u001b[38;5;28mzip\u001b[39m(blocks[:\u001b[38;5;241m-\u001b[39m\u001b[38;5;241m1\u001b[39m], blocks[\u001b[38;5;241m1\u001b[39m:]) )\n",
      "Cell \u001b[0;32mIn [8], line 32\u001b[0m, in \u001b[0;36mSolveBlockPair\u001b[0;34m(block1, block2)\u001b[0m\n\u001b[1;32m     30\u001b[0m decrypted \u001b[38;5;241m=\u001b[39m DecryptCBC(block2, key, \u001b[38;5;28mbytes\u001b[39m(new_ciphertext)) \u001b[38;5;66;03m# For debugging, delete later\u001b[39;00m\n\u001b[1;32m     31\u001b[0m \u001b[38;5;28;01massert\u001b[39;00m \u001b[38;5;28mlen\u001b[39m(decrypted) \u001b[38;5;241m==\u001b[39m BLOCKSIZE\n\u001b[0;32m---> 32\u001b[0m \u001b[38;5;28;01massert\u001b[39;00m \u001b[38;5;28mall\u001b[39m( item \u001b[38;5;241m==\u001b[39m pad \u001b[38;5;28;01mfor\u001b[39;00m item \u001b[38;5;129;01min\u001b[39;00m decrypted[idx\u001b[38;5;241m+\u001b[39m\u001b[38;5;241m1\u001b[39m:] )\n\u001b[1;32m     33\u001b[0m \u001b[38;5;28;01mif\u001b[39;00m Function2(\u001b[38;5;28mbytes\u001b[39m(new_ciphertext), block2):\n\u001b[1;32m     34\u001b[0m     possible_solutions \u001b[38;5;241m+\u001b[39m\u001b[38;5;241m=\u001b[39m [ char ]\n",
      "\u001b[0;31mAssertionError\u001b[0m: "
     ]
    }
   ],
   "source": [
    "initialization, ciphertext = Function1()\n",
    "Attack(initialization, ciphertext)"
   ]
  },
  {
   "cell_type": "code",
   "execution_count": 21,
   "id": "8b097ee7-76b1-4ae1-9a47-0013534c5997",
   "metadata": {},
   "outputs": [
    {
     "ename": "AssertionError",
     "evalue": "Expected exactly one possible solution: [16, 1]",
     "output_type": "error",
     "traceback": [
      "\u001b[0;31m---------------------------------------------------------------------------\u001b[0m",
      "\u001b[0;31mAssertionError\u001b[0m                            Traceback (most recent call last)",
      "Cell \u001b[0;32mIn [21], line 2\u001b[0m\n\u001b[1;32m      1\u001b[0m initialization, ciphertext \u001b[38;5;241m=\u001b[39m Function1()\n\u001b[0;32m----> 2\u001b[0m \u001b[43mAttack\u001b[49m\u001b[43m(\u001b[49m\u001b[43minitialization\u001b[49m\u001b[43m,\u001b[49m\u001b[43m \u001b[49m\u001b[43mciphertext\u001b[49m\u001b[43m)\u001b[49m\n",
      "Cell \u001b[0;32mIn [12], line 8\u001b[0m, in \u001b[0;36mAttack\u001b[0;34m(initialization, ciphertext)\u001b[0m\n\u001b[1;32m      5\u001b[0m \u001b[38;5;28;01massert\u001b[39;00m \u001b[38;5;28mlen\u001b[39m(ciphertext) \u001b[38;5;241m%\u001b[39m BLOCKSIZE \u001b[38;5;241m==\u001b[39m \u001b[38;5;241m0\u001b[39m\n\u001b[1;32m      6\u001b[0m blocks \u001b[38;5;241m=\u001b[39m [ \u001b[38;5;28mbytes\u001b[39m(chunk) \u001b[38;5;28;01mfor\u001b[39;00m chunk \u001b[38;5;129;01min\u001b[39;00m Chunkerize(initialization\u001b[38;5;241m+\u001b[39mciphertext, BLOCKSIZE) ]\n\u001b[0;32m----> 8\u001b[0m \u001b[38;5;28;01mreturn\u001b[39;00m \u001b[38;5;124;43mb\u001b[39;49m\u001b[38;5;124;43m'\u001b[39;49m\u001b[38;5;124;43m'\u001b[39;49m\u001b[38;5;241;43m.\u001b[39;49m\u001b[43mjoin\u001b[49m\u001b[43m(\u001b[49m\u001b[43m \u001b[49m\u001b[38;5;28;43mbytes\u001b[39;49m\u001b[43m(\u001b[49m\u001b[43mSolveBlockPair\u001b[49m\u001b[43m(\u001b[49m\u001b[43mblock1\u001b[49m\u001b[43m,\u001b[49m\u001b[43m \u001b[49m\u001b[43mblock2\u001b[49m\u001b[43m)\u001b[49m\u001b[43m)\u001b[49m\u001b[43m \u001b[49m\u001b[38;5;28;43;01mfor\u001b[39;49;00m\u001b[43m \u001b[49m\u001b[43mblock1\u001b[49m\u001b[43m,\u001b[49m\u001b[43m \u001b[49m\u001b[43mblock2\u001b[49m\u001b[43m \u001b[49m\u001b[38;5;129;43;01min\u001b[39;49;00m\u001b[43m \u001b[49m\u001b[38;5;28;43mzip\u001b[39;49m\u001b[43m(\u001b[49m\u001b[43mblocks\u001b[49m\u001b[43m[\u001b[49m\u001b[43m:\u001b[49m\u001b[38;5;241;43m-\u001b[39;49m\u001b[38;5;241;43m1\u001b[39;49m\u001b[43m]\u001b[49m\u001b[43m,\u001b[49m\u001b[43m \u001b[49m\u001b[43mblocks\u001b[49m\u001b[43m[\u001b[49m\u001b[38;5;241;43m1\u001b[39;49m\u001b[43m:\u001b[49m\u001b[43m]\u001b[49m\u001b[43m)\u001b[49m\u001b[43m \u001b[49m\u001b[43m)\u001b[49m\n",
      "Cell \u001b[0;32mIn [12], line 8\u001b[0m, in \u001b[0;36m<genexpr>\u001b[0;34m(.0)\u001b[0m\n\u001b[1;32m      5\u001b[0m \u001b[38;5;28;01massert\u001b[39;00m \u001b[38;5;28mlen\u001b[39m(ciphertext) \u001b[38;5;241m%\u001b[39m BLOCKSIZE \u001b[38;5;241m==\u001b[39m \u001b[38;5;241m0\u001b[39m\n\u001b[1;32m      6\u001b[0m blocks \u001b[38;5;241m=\u001b[39m [ \u001b[38;5;28mbytes\u001b[39m(chunk) \u001b[38;5;28;01mfor\u001b[39;00m chunk \u001b[38;5;129;01min\u001b[39;00m Chunkerize(initialization\u001b[38;5;241m+\u001b[39mciphertext, BLOCKSIZE) ]\n\u001b[0;32m----> 8\u001b[0m \u001b[38;5;28;01mreturn\u001b[39;00m \u001b[38;5;124mb\u001b[39m\u001b[38;5;124m'\u001b[39m\u001b[38;5;124m'\u001b[39m\u001b[38;5;241m.\u001b[39mjoin( \u001b[38;5;28mbytes\u001b[39m(\u001b[43mSolveBlockPair\u001b[49m\u001b[43m(\u001b[49m\u001b[43mblock1\u001b[49m\u001b[43m,\u001b[49m\u001b[43m \u001b[49m\u001b[43mblock2\u001b[49m\u001b[43m)\u001b[49m) \u001b[38;5;28;01mfor\u001b[39;00m block1, block2 \u001b[38;5;129;01min\u001b[39;00m \u001b[38;5;28mzip\u001b[39m(blocks[:\u001b[38;5;241m-\u001b[39m\u001b[38;5;241m1\u001b[39m], blocks[\u001b[38;5;241m1\u001b[39m:]) )\n",
      "Cell \u001b[0;32mIn [8], line 16\u001b[0m, in \u001b[0;36mSolveBlockPair\u001b[0;34m(block1, block2)\u001b[0m\n\u001b[1;32m     13\u001b[0m     \u001b[38;5;28;01mif\u001b[39;00m Function2(\u001b[38;5;28mbytes\u001b[39m(new_ciphertext), block2):\n\u001b[1;32m     14\u001b[0m         possible_solutions \u001b[38;5;241m+\u001b[39m\u001b[38;5;241m=\u001b[39m [ char\u001b[38;5;241m^\u001b[39mpad\u001b[38;5;241m^\u001b[39mblock1[BLOCKSIZE\u001b[38;5;241m-\u001b[39m\u001b[38;5;241m1\u001b[39m] ]\n\u001b[0;32m---> 16\u001b[0m \u001b[38;5;28;01massert\u001b[39;00m \u001b[38;5;28mlen\u001b[39m(possible_solutions) \u001b[38;5;241m==\u001b[39m \u001b[38;5;241m1\u001b[39m, \u001b[38;5;124mf\u001b[39m\u001b[38;5;124m'\u001b[39m\u001b[38;5;124mExpected exactly one possible solution: \u001b[39m\u001b[38;5;132;01m{\u001b[39;00mpossible_solutions\u001b[38;5;132;01m}\u001b[39;00m\u001b[38;5;124m'\u001b[39m\n\u001b[1;32m     17\u001b[0m known_chars \u001b[38;5;241m=\u001b[39m [ \u001b[38;5;241m*\u001b[39mpossible_solutions ]\n\u001b[1;32m     19\u001b[0m \u001b[38;5;66;03m# Now work on the others\u001b[39;00m\n",
      "\u001b[0;31mAssertionError\u001b[0m: Expected exactly one possible solution: [16, 1]"
     ]
    }
   ],
   "source": [
    "initialization, ciphertext = Function1()\n",
    "Attack(initialization, ciphertext)"
   ]
  },
  {
   "cell_type": "code",
   "execution_count": null,
   "id": "40db563f-ce68-4ae6-b25f-cd1103a11428",
   "metadata": {},
   "outputs": [],
   "source": []
  }
 ],
 "metadata": {
  "kernelspec": {
   "display_name": "Python 3 (ipykernel)",
   "language": "python",
   "name": "python3"
  },
  "language_info": {
   "codemirror_mode": {
    "name": "ipython",
    "version": 3
   },
   "file_extension": ".py",
   "mimetype": "text/x-python",
   "name": "python",
   "nbconvert_exporter": "python",
   "pygments_lexer": "ipython3",
   "version": "3.10.6"
  }
 },
 "nbformat": 4,
 "nbformat_minor": 5
}
