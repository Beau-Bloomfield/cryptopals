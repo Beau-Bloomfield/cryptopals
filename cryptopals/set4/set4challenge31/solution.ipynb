{
 "cells": [
  {
   "cell_type": "code",
   "execution_count": 1,
   "id": "b5f685cb-d2e7-424a-a53d-1f4fce79eda9",
   "metadata": {},
   "outputs": [],
   "source": [
    "# I'm not going to write a web application... because that's dumb.  But I'll do something similar.\n",
    "\n",
    "from hashlib import sha1\n",
    "from random import choices\n",
    "from time import sleep, time\n",
    "\n",
    "SECRET_KEY = b'\\xe7\\xef\\x1e\\x7f\\xd7\\x87\\xa4\\xeb\\x10<\\xd9\\x9f\\x8b\\xec\\x03\\x8f'\n",
    "DELAY = 0.01 #I'm doing 100ms instead of 50 just for convenience\n",
    "\n",
    "def Validate(data: bytes, potential_hmac: bytes):\n",
    "    hmac = sha1(SECRET_KEY+data).digest()\n",
    "    assert len(potential_hmac) == len(hmac)\n",
    "    for n in range(len(hmac)):\n",
    "        sleep(DELAY)\n",
    "        if hmac[n] != potential_hmac[n]:\n",
    "            return False\n",
    "    \n",
    "    return True\n",
    "\n",
    "def HMAC(data: bytes):\n",
    "    return list(sha1(SECRET_KEY+data).digest())"
   ]
  },
  {
   "cell_type": "code",
   "execution_count": 2,
   "id": "db6d854c-7095-46a9-a6b3-7da6eb956fc2",
   "metadata": {},
   "outputs": [
    {
     "name": "stdout",
     "output_type": "stream",
     "text": [
      "b'\\x88$)\\xb5\\x92\\xbe\\x87to\\x83\\x1ayK\\x86\\x13\\x16O\\xb5O\\xab\"\\xafR\\x9d\\xf8V\\x0e\\xcc\\xbe\\xab\\xdb\\x19\\x1f>\"!\\xa5\\xa6\\xf4-I\\x0c{\\xbf\\xbbv\\x03\\x8c\\xf3\\xf1Y\\x99\\xa4>\\xda\\xb1\\xe6\\xf4\\x10<\\xb8\\x9b\\xc66\\x02\\xe3\\x82\\t\\xb5\\xae\\x1b\\xec\\xda\\x8bn\\xe1\\xe3ay\\x08\\xf3\\x7f\\xc6\\xd0\\xc1\\xf6\\xb7\\xbcZ@\\xe0\\xd0\\xfe\\r\\xe5\\x99\\x13\\xfa\\xa5\\x06\\x8e`N\\xbb\\xd3\\xc8\\x15\\xa2MR\\xb7\\x1f ts\\xa9}\\xfdt\\x00\\xc7\\xa1\\xce;z\\x13\\xd0\\xc3\\x97\\x9e\\xf7\\x8e9\\x16,&\\xa9\\x85\\xbc\\x8b+r\\xa1\\xbf\\x96\\xcf]\\x83\\x02\\xc4 1\\xfc\\xae\\x98\\xa0|B\\x93\\x93\\'$2r\\xe8\\x82\\x18\\x88k_\\x12\\x9b\\xe8&~\\xb3\\r\\xdb\\xdbv\\x9e\\rP\\xb9u\\x82e$\\x9ck\\x0f~\\xefp\\x94\\x9f\\x87M\\xc7\\xb3\\xf5;\\x8a\\xd8\\xe7\\x84aj\\xb7~\\xbb\\xf2\\x1c\\xbf\\x88k\\xb9\\x91\\xfb\\xea\\x10=8jvMp\\xc3\\xa5\\x03t\"\\xde\\xb32\\x9b\\x1f\\x94\\xeb\\x95\\xf8\\x11.\\x1a\\xa8\\xca\\xa8\"\\x14\\xc7* \\x95\\xa6\\xc6\\x9d\\xba\\xd5;\\xfe\\xe4\\t\\xad\\xd8\\xff\\x8a\\x8a6\\xa6\\x07\\xae\\xf2\\x0e.\\xcd\\xce\\x98SF\\x19\\xbfyv\\x94\\x04\\xef\\x1b\\xef\\xed8\\x0f!U&\\x8b\\x8a\\xed\\xc4\\xbfr\\xb4(,\\x10(\\x861a\\xae\\xa5\\xf3^u\\x18\\xfd\\xacz\\x9bj\\x1e\\xaf\\x0e\\rTF\\xe6H\\x89\\xb8\\x08\\xc8\\xd7$H\\x02\\xadQD\\x87^\\x8c\\xcdzr]U\\x0b\\xf9\\x11i\\xe2\\x07\\x95a\\xb4\\x9b\\xbc\\xb1\\xa9\\xbd*\\x0b\\xda\\x9c\\xd0y\\x8a\\xb2\\x7f\\x10\\x83x\\xcf}\\x8b\\xae\\x91\\xc0\\xfdq\\xd8g}U\\x1c\\xb0\\x146\"\\xb4B\\xa7\\xd0\\xb8\\x89\\x11\\x9bd\\xc5\\xb5\\xe8\\xaflI\\x8fj\\x1c5K\\x83\\xe2G\\xd4\\xb5\\x85M\\x91\\x01\\t\\xaf\\xe9x\\xbc\\xad\\xc7\\xa5\\x87G\\x87^C\\xef\\x9c\\x96\\x07T\\r\\x9cI\\xc9\\x85~\\xd7\\xe9\\xfc\\xe4L\\xd5\\x01\\xd6\\xaeJ\\x86h\\x97\\xd1\\xc2\\x863\\x8bLi\\x9cv\\x0cs\\x9d\\xf3Cfi@\\xe4#HB\\xc4\\xcd\\xe2\\xb7L\\x9c\\x0c>wh^>\\x94MWv\\x1ct\\xe7\\xba+\\xa9\\xc4\\x81'\n"
     ]
    }
   ],
   "source": [
    "# Make a random \"file\"\n",
    "\n",
    "data = bytes(choices(range(256), k = 500))\n",
    "print(data)"
   ]
  },
  {
   "cell_type": "code",
   "execution_count": 3,
   "id": "4e5d1e4d-6113-423a-a4e8-342d0bd5efdb",
   "metadata": {},
   "outputs": [
    {
     "name": "stdout",
     "output_type": "stream",
     "text": [
      "[124, 84, 246, 45, 140, 39, 89, 49, 51, 17, 153, 148, 15, 113, 217, 18, 184, 14, 196, 38]\n"
     ]
    }
   ],
   "source": [
    "print(HMAC(data))"
   ]
  },
  {
   "cell_type": "code",
   "execution_count": 4,
   "id": "39a32163-875b-402d-8c18-8437384ad8b4",
   "metadata": {},
   "outputs": [
    {
     "name": "stdout",
     "output_type": "stream",
     "text": [
      "Known bytes: []\n",
      "Known bytes: [124]\n",
      "Known bytes: [124, 84]\n",
      "Known bytes: [124, 84, 246]\n",
      "Known bytes: [124, 84, 246, 45]\n",
      "Known bytes: [124, 84, 246, 45, 140]\n",
      "Known bytes: [124, 84, 246, 45, 140, 39]\n",
      "Known bytes: [124, 84, 246, 45, 140, 39, 89]\n",
      "Known bytes: [124, 84, 246, 45, 140, 39, 89, 49]\n",
      "Known bytes: [124, 84, 246, 45, 140, 39, 89, 49, 51]\n",
      "Known bytes: [124, 84, 246, 45, 140, 39, 89, 49, 51, 17]\n",
      "Known bytes: [124, 84, 246, 45, 140, 39, 89, 49, 51, 17, 153]\n",
      "Known bytes: [124, 84, 246, 45, 140, 39, 89, 49, 51, 17, 153, 148]\n",
      "Known bytes: [124, 84, 246, 45, 140, 39, 89, 49, 51, 17, 153, 148, 15]\n",
      "Known bytes: [124, 84, 246, 45, 140, 39, 89, 49, 51, 17, 153, 148, 15, 113]\n",
      "Known bytes: [124, 84, 246, 45, 140, 39, 89, 49, 51, 17, 153, 148, 15, 113, 217]\n",
      "Known bytes: [124, 84, 246, 45, 140, 39, 89, 49, 51, 17, 153, 148, 15, 113, 217, 18]\n",
      "Known bytes: [124, 84, 246, 45, 140, 39, 89, 49, 51, 17, 153, 148, 15, 113, 217, 18, 184]\n",
      "Known bytes: [124, 84, 246, 45, 140, 39, 89, 49, 51, 17, 153, 148, 15, 113, 217, 18, 184, 14]\n",
      "Known bytes: [124, 84, 246, 45, 140, 39, 89, 49, 51, 17, 153, 148, 15, 113, 217, 18, 184, 14, 196]\n"
     ]
    }
   ],
   "source": [
    "known_bytes = []\n",
    "TOTAL_HMAC_BYTES = 20\n",
    "response = False\n",
    "\n",
    "# The way I'm going to handle this is test each character 10 times and choose the one that had the total longest response.\n",
    "# Taking multiple samples should help account for any random fluctuations in the timing, which I encountered previously.\n",
    "\n",
    "for n in range(TOTAL_HMAC_BYTES):\n",
    "    if response == True:\n",
    "        break\n",
    "    print('Known bytes:', known_bytes)\n",
    "    dt = [0] * 256\n",
    "    for char in [*range(256)]*10:\n",
    "        guess = [ *known_bytes, char ] + [0] * ( TOTAL_HMAC_BYTES - len(known_bytes) - 1 )\n",
    "        tic = time()\n",
    "        response = Validate(data, guess)\n",
    "        toc = time()\n",
    "        if response == True:\n",
    "            # I guess we're done\n",
    "            known_bytes += [char]\n",
    "            break\n",
    "        else:\n",
    "            dt[char] += toc-tic\n",
    "    \n",
    "    if response == False:\n",
    "        max_dt = max(dt)\n",
    "        best_char = dt.index(max_dt)\n",
    "        known_bytes += [best_char]\n",
    "\n",
    "            \n",
    "    "
   ]
  },
  {
   "cell_type": "code",
   "execution_count": 5,
   "id": "fee722cc-fbcf-43af-86dd-16dcbfbf8249",
   "metadata": {},
   "outputs": [
    {
     "name": "stdout",
     "output_type": "stream",
     "text": [
      "[124, 84, 246, 45, 140, 39, 89, 49, 51, 17, 153, 148, 15, 113, 217, 18, 184, 14, 196, 38]\n"
     ]
    }
   ],
   "source": [
    "print(known_bytes)"
   ]
  },
  {
   "cell_type": "code",
   "execution_count": 6,
   "id": "493e12bf-4885-4508-9fa9-3d9cb2300bf2",
   "metadata": {},
   "outputs": [
    {
     "data": {
      "text/plain": [
       "True"
      ]
     },
     "execution_count": 6,
     "metadata": {},
     "output_type": "execute_result"
    }
   ],
   "source": [
    "Validate(data, known_bytes)"
   ]
  },
  {
   "cell_type": "code",
   "execution_count": null,
   "id": "e44a3f9b-e9ba-47cf-9c20-598796222dc7",
   "metadata": {},
   "outputs": [],
   "source": []
  }
 ],
 "metadata": {
  "kernelspec": {
   "display_name": "Python 3 (ipykernel)",
   "language": "python",
   "name": "python3"
  },
  "language_info": {
   "codemirror_mode": {
    "name": "ipython",
    "version": 3
   },
   "file_extension": ".py",
   "mimetype": "text/x-python",
   "name": "python",
   "nbconvert_exporter": "python",
   "pygments_lexer": "ipython3",
   "version": "3.10.6"
  }
 },
 "nbformat": 4,
 "nbformat_minor": 5
}
