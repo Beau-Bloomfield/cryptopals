{
 "cells": [
  {
   "cell_type": "code",
   "execution_count": 1,
   "id": "b5f685cb-d2e7-424a-a53d-1f4fce79eda9",
   "metadata": {},
   "outputs": [],
   "source": [
    "# I'm not going to write a web application... because that's dumb.  But I'll do something similar.\n",
    "\n",
    "from hashlib import sha1\n",
    "from random import choices\n",
    "from time import sleep, time\n",
    "\n",
    "SECRET_KEY = b'\\xe7\\xef\\x1e\\x7f\\xd7\\x87\\xa4\\xeb\\x10<\\xd9\\x9f\\x8b\\xec\\x03\\x8f'\n",
    "DELAY = 0.001 #I'm doing 100ms instead of 50 just for convenience\n",
    "\n",
    "def Validate(data: bytes, potential_hmac: bytes):\n",
    "    hmac = sha1(SECRET_KEY+data).digest()\n",
    "    assert len(potential_hmac) == len(hmac)\n",
    "    for n in range(len(hmac)):\n",
    "        sleep(DELAY)\n",
    "        if hmac[n] != potential_hmac[n]:\n",
    "            return False\n",
    "    \n",
    "    return True\n",
    "\n",
    "# Use this just for debugging\n",
    "def HMAC(data: bytes):\n",
    "    return list(sha1(SECRET_KEY+data).digest())"
   ]
  },
  {
   "cell_type": "code",
   "execution_count": 2,
   "id": "db6d854c-7095-46a9-a6b3-7da6eb956fc2",
   "metadata": {},
   "outputs": [
    {
     "name": "stdout",
     "output_type": "stream",
     "text": [
      "b'\\xf7\\xf32\\xca\\nK\\xcf\\x81\\xf4\\x19\\x0c\\xbe\\x87\\xbd\\xa5Dt}\\xbb\\xaa\\xb7\\xdd\\x1b\\x1e\\x81\\x0b\\x98\\xea\\xf6\\x87\\x14\\xf6\\xbe\\xda5<\\xd0\\x8b6lN\\x83\\x19<\\xf9\\x12\\x8b+\\xba\\xf7\\x04\\xb1\\xf2\\xb2\\x84w\\x8f\\xfb\\xdeC\\x02\\x15\\xd2r\\x7f\\xa03\\x825}\\xc2\\xaa\\x18\\xfe\\xc9K8\\x13\\x82\\xc7\\r\\xdf%\\x12\\xd7\\x8bXbB\\xfc\\x1eP\\x0fNQ\\xb2\\x80W\\xd0R\\xea\\x10\\xa4\\n\\xe9\\x14\\x8f3\\xe5\\x80\\xdc\\x12\\xe9\\xe0mM\\xc2\\xbf\\xf6.I\\xfcvn\\xa1\\xc2\\xb7\\xc8Z\\xfb\\xf9S|\\xb6L\\xb0GM\\x92,\\xc1BM\\x97I\\xb3\\x8e\\x90\\x80#\\x92\\xd4\\xad\\xe8\\xf4;\\niN.\\xbb(\\x1c\\xb7\\x8fv\\x0fu`\\x0b\\x07\\xf4\\x14\\xa8X\\x06 =t\\x07\\xecf\\xeb\\x8cI\\x89\\xfa\\xe0\\x0b\\x99\\x06_\\x05\\xf0\\xc2\\t\\xad\\xa8\\xe3\\xdcb\\xcc:I%\\x93\\x9a\\xef\\x14\\xef\\xfc\\xc2_\\x1d\\xe1\\xeb\\xceV0\\xe3\\xd4\\x98\\x10\\xaa\\xe3\\x02J\\t\\xf3~]\\xc9\\x08fS\\xc0\\xfa\\xc0\\xb1\\xaf\\x06{\\xb6\\xcd\\xf6\\x10\\xae%\\x00~\\x17\\xac\\x1d/\\t)\\xcc\\xd7\\xd8\\xee\\xaar_x\\xf8\\x08lI\\xe1\\r\\x95k@\\x9e\\xde\\n/\\xee\\x9b\\x9b\\xcb+\\x18\\xb7\\x07\\xfc\\xc3H\\xe6\\xa9rX\\xef\\xbf\\x8c\\xa5J\\xf9\\xde\\xf3(J\\xc1~\\xda\\xda*\\n\\xd2\\xc0\\xc8%4aAb\\xe2\\xc9&\\x7f}\\xe2[$\\xb1\\x9b_\\x9a\\x08\\xc2Q\\xdf#\\xb8i\\xa5\\x9d\\xf8\\x05\\xc6<\\x06W\\xf2\\xd1\\xe9\\xb0\\x90\\x06\\x1c\\xd1\\xdca\\x89\\xa6\\x95#{\\xb5\\x8c\\xb3\\xb7\\x88\\xd7p\\x1d\\xdb>\\nLmW\\x1f\\x12k\\x1a:\\x8d\\xecJ\\xa7\\xbf\\xa2\\xbfD\\x84\\x9cCo\\x80\\xe1~:I\\xa3\\x0cf\\xe3>\\xc9\\xfa\\x11\\xf6\\x9eC\\x19\\xd7\\x1d\\x7f\\x12G\\xd6\\tJ\\x8a\\xeav\\x05\\xbce-U7\\xb5\\xcb,\\x91\\xdb\\xc33\\xbb?Ht\\xfdj0\\x12\\xa5xa\\x90\\x08T{3\\x0ed\\xd1|\\xf5\\x88F65\\x03\\xed\\xf9M\\x18\\xd0,\\xb12\\x916J/N\\xe5\\x00(F\\xd6\\xad\\xd4\\\\I%\\xb0K\\xc5pP\\xa4\\xec\\xf3\\xfe\\x0b\\xc5\\xe59\\x10\\xb3\\xab\\x9f)A4\\xe1'\n"
     ]
    }
   ],
   "source": [
    "# Make a random \"file\"\n",
    "\n",
    "data = bytes(choices(range(256), k = 500))\n",
    "print(data)"
   ]
  },
  {
   "cell_type": "code",
   "execution_count": 3,
   "id": "39a32163-875b-402d-8c18-8437384ad8b4",
   "metadata": {},
   "outputs": [
    {
     "name": "stdout",
     "output_type": "stream",
     "text": [
      "Known bytes: []\n",
      "Known bytes: [40]\n",
      "Known bytes: [40, 71]\n",
      "Known bytes: [40, 71, 127]\n",
      "Known bytes: [40, 71, 127, 20]\n",
      "Known bytes: [40, 71, 127, 20, 48]\n",
      "Known bytes: [40, 71, 127, 20, 48, 43]\n",
      "Known bytes: [40, 71, 127, 20, 48, 43, 154]\n",
      "Known bytes: [40, 71, 127, 20, 48, 43, 154, 80]\n",
      "Known bytes: [40, 71, 127, 20, 48, 43, 154, 80, 84]\n",
      "Known bytes: [40, 71, 127, 20, 48, 43, 154, 80, 84, 59]\n",
      "Known bytes: [40, 71, 127, 20, 48, 43, 154, 80, 84, 59, 157]\n",
      "Known bytes: [40, 71, 127, 20, 48, 43, 154, 80, 84, 59, 157, 211]\n",
      "Known bytes: [40, 71, 127, 20, 48, 43, 154, 80, 84, 59, 157, 211, 96]\n",
      "Known bytes: [40, 71, 127, 20, 48, 43, 154, 80, 84, 59, 157, 211, 96, 254]\n",
      "Known bytes: [40, 71, 127, 20, 48, 43, 154, 80, 84, 59, 157, 211, 96, 254, 249]\n",
      "Known bytes: [40, 71, 127, 20, 48, 43, 154, 80, 84, 59, 157, 211, 96, 254, 249, 104]\n",
      "Known bytes: [40, 71, 127, 20, 48, 43, 154, 80, 84, 59, 157, 211, 96, 254, 249, 104, 178]\n",
      "Known bytes: [40, 71, 127, 20, 48, 43, 154, 80, 84, 59, 157, 211, 96, 254, 249, 104, 178, 202]\n",
      "Known bytes: [40, 71, 127, 20, 48, 43, 154, 80, 84, 59, 157, 211, 96, 254, 249, 104, 178, 202, 50]\n"
     ]
    }
   ],
   "source": [
    "known_bytes = []\n",
    "TOTAL_HMAC_BYTES = 20\n",
    "response = False\n",
    "\n",
    "# The way I'm going to handle this is test each character 10 times and choose the one that had the total longest response.\n",
    "# Taking multiple samples should help account for any random fluctuations in the timing, which I encountered previously.\n",
    "\n",
    "for n in range(TOTAL_HMAC_BYTES):\n",
    "    if response == True:\n",
    "        break\n",
    "    print('Known bytes:', known_bytes)\n",
    "    dt = [0] * 256\n",
    "    for char in tuple(range(256))*10:\n",
    "        guess = [ *known_bytes, char ] + [0] * ( TOTAL_HMAC_BYTES - len(known_bytes) - 1 )\n",
    "        tic = time()\n",
    "        response = Validate(data, guess)\n",
    "        toc = time()\n",
    "        if response == True:\n",
    "            # I guess we're done\n",
    "            known_bytes += [char]\n",
    "            break\n",
    "        else:\n",
    "            dt[char] += toc-tic\n",
    "    \n",
    "    if response == False:\n",
    "        max_dt = max(dt)\n",
    "        best_char = dt.index(max_dt)\n",
    "        known_bytes += [best_char]\n",
    "\n",
    "            \n",
    "    "
   ]
  },
  {
   "cell_type": "code",
   "execution_count": 4,
   "id": "fee722cc-fbcf-43af-86dd-16dcbfbf8249",
   "metadata": {},
   "outputs": [
    {
     "name": "stdout",
     "output_type": "stream",
     "text": [
      "[40, 71, 127, 20, 48, 43, 154, 80, 84, 59, 157, 211, 96, 254, 249, 104, 178, 202, 50, 211]\n"
     ]
    }
   ],
   "source": [
    "print(known_bytes)"
   ]
  },
  {
   "cell_type": "code",
   "execution_count": 5,
   "id": "493e12bf-4885-4508-9fa9-3d9cb2300bf2",
   "metadata": {},
   "outputs": [
    {
     "data": {
      "text/plain": [
       "True"
      ]
     },
     "execution_count": 5,
     "metadata": {},
     "output_type": "execute_result"
    }
   ],
   "source": [
    "Validate(data, known_bytes)"
   ]
  },
  {
   "cell_type": "code",
   "execution_count": null,
   "id": "e44a3f9b-e9ba-47cf-9c20-598796222dc7",
   "metadata": {},
   "outputs": [],
   "source": []
  }
 ],
 "metadata": {
  "kernelspec": {
   "display_name": "Python 3 (ipykernel)",
   "language": "python",
   "name": "python3"
  },
  "language_info": {
   "codemirror_mode": {
    "name": "ipython",
    "version": 3
   },
   "file_extension": ".py",
   "mimetype": "text/x-python",
   "name": "python",
   "nbconvert_exporter": "python",
   "pygments_lexer": "ipython3",
   "version": "3.10.6"
  }
 },
 "nbformat": 4,
 "nbformat_minor": 5
}
