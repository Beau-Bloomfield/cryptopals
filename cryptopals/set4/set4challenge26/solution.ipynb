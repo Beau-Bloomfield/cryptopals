{
 "cells": [
  {
   "cell_type": "code",
   "execution_count": 1,
   "id": "ea9557d7-c9bd-411e-971c-65bc7d94ed02",
   "metadata": {},
   "outputs": [],
   "source": [
    "from random import choice, choices\n",
    "import base64\n",
    "from Crypto.Cipher import AES\n",
    "\n",
    "BLOCKSIZE = 16\n",
    "\n",
    "def XOR(A: bytes, B: bytes):\n",
    "    assert type(A) is bytes and type(B) is bytes and len(A) == len(B)\n",
    "    return bytes([ a^b for a, b in zip(A, B) ])\n",
    "\n",
    "def IntToLittleEndian(x: int, nbytes: int):\n",
    "    assert type(x) is int and x >= 0\n",
    "    out = bytes()\n",
    "    while x >  0:\n",
    "        out += bytes([ x & 0xFF ])\n",
    "        x >>= 8\n",
    "    \n",
    "    assert len(out) <= nbytes\n",
    "    out += bytes( [0] * ( nbytes-len(out) ) )\n",
    "    \n",
    "    return out\n",
    "\n",
    "def LittleEndianToInt(x: bytes):\n",
    "    assert type(x) is bytes\n",
    "    out = 0\n",
    "    byte_counter = 0\n",
    "    while len(x) > 0:\n",
    "        out += x[0] << byte_counter*8\n",
    "        byte_counter += 1\n",
    "        x = x[1:]\n",
    "        \n",
    "    return out\n",
    "\n",
    "class CTR(object):\n",
    "    def __init__(self, nonce: bytes, key: bytes):\n",
    "        assert type(nonce) is bytes and len(nonce) < BLOCKSIZE\n",
    "        self.nonce = nonce\n",
    "        self.aes = AES.new(key, AES.MODE_ECB)\n",
    "        \n",
    "    def EncryptBlock(self, block: bytes, counter: int):\n",
    "        assert type(counter) is int and counter >= 0\n",
    "        assert type(block) is bytes and len(block) == BLOCKSIZE\n",
    "        little_endian: bytes = IntToLittleEndian(counter, nbytes = BLOCKSIZE-len(self.nonce))\n",
    "        key_block = self.aes.encrypt( self.nonce + little_endian )\n",
    "        assert type(key_block) is bytes and len(key_block) == BLOCKSIZE\n",
    "        return XOR(key_block, block)\n",
    "    \n",
    "    def DecryptBlock(self, block, counter: int):\n",
    "        return self.EncryptBlock(block, counter)\n",
    "    \n",
    "    def EncryptBytes(self, plaintext: bytes, counter: int):\n",
    "        assert type(plaintext) is bytes and len(plaintext) <= BLOCKSIZE\n",
    "        assert type(counter) is int and counter >= 0\n",
    "        little_endian: bytes = IntToLittleEndian(counter, nbytes = BLOCKSIZE-len(self.nonce))\n",
    "        key_block = self.aes.encrypt( self.nonce + little_endian )\n",
    "        assert type(key_block) is bytes and len(key_block) == BLOCKSIZE\n",
    "        return XOR(key_block[:len(plaintext)], plaintext)\n",
    "    \n",
    "    def DecryptBytes(self, ciphertext: bytes, counter: int):\n",
    "        return self.EncryptBytes(ciphertext, counter)\n",
    "    \n",
    "    def EncryptStream(self, plaintext: bytes, counter: int = 0):\n",
    "        assert type(plaintext) is bytes\n",
    "        stream = bytes(plaintext)\n",
    "        assert len(stream) % BLOCKSIZE == 0\n",
    "        ciphertexts = list()\n",
    "        \n",
    "        while len(stream) > 0:\n",
    "            block =  stream[:BLOCKSIZE]\n",
    "            stream = stream[BLOCKSIZE:]\n",
    "            assert len(block) == BLOCKSIZE\n",
    "            ciphertexts += [ self.EncryptBytes(block, counter) ]\n",
    "            counter += 1\n",
    "        \n",
    "        ciphertext = b''.join(ciphertexts)\n",
    "        assert len(ciphertext) == len(plaintext)\n",
    "        return ciphertext\n",
    "    \n",
    "    def DecryptStream(self, plaintext: bytes, counter: int = 0):\n",
    "        return self.EncryptStream(plaintext, counter)\n",
    "    "
   ]
  },
  {
   "cell_type": "code",
   "execution_count": 22,
   "id": "a6eb5c2c-dc3a-4051-8940-7a13969dd94f",
   "metadata": {},
   "outputs": [],
   "source": [
    "ORACLE_KEY = b'\\xe7\\xef\\x1e\\x7f\\xd7\\x87\\xa4\\xeb\\x10<\\xd9\\x9f\\x8b\\xec\\x03\\x8f'\n",
    "\n",
    "def Oracle(s: bytes):\n",
    "    key = ORACLE_KEY\n",
    "    assert type(s) is bytes\n",
    "    assert set(b';=') & set(s) == set() # ensure neither the ; or = character is input\n",
    "    prefix = b\"comment1=cooking%20MCs;userdata=\"\n",
    "    suffix = b\";comment2=%20like%20a%20pound%20of%20bacon\"\n",
    "    plaintext = prefix + s + suffix\n",
    "    pad = BLOCKSIZE - len(plaintext) % BLOCKSIZE\n",
    "    plaintext += bytes([pad] * pad)\n",
    "    assert len(plaintext) % BLOCKSIZE == 0\n",
    "    return CTR(nonce = b'A'*8, key = key).EncryptStream(plaintext)\n",
    "\n",
    "def IsAdmin(ciphertext: bytes):\n",
    "    key = ORACLE_KEY\n",
    "    plaintext = CTR(nonce = b'A'*8, key = key).DecryptStream(ciphertext)\n",
    "    return b';admin=true;' in plaintext\n",
    "    "
   ]
  },
  {
   "cell_type": "code",
   "execution_count": 23,
   "id": "62014dd0-cd10-45f0-a083-05af761cf27d",
   "metadata": {},
   "outputs": [],
   "source": [
    "# Ok, for this exercise I'm going to assume that we know the length of the prefix and suffix.\n",
    "# In a previous exercise we solved for this.  I don't feel like doing that again,\n",
    "# so I'm going to pretend I did it again and now have that information\n",
    "\n",
    "len_prefix = len(b\"comment1=cooking%20MCs;userdata=\")\n",
    "len_suffix = len(b\";comment2=%20like%20a%20pound%20of%20bacon\")"
   ]
  },
  {
   "cell_type": "code",
   "execution_count": 24,
   "id": "c6cd6e7d-0249-4cff-bb47-46d1902770cc",
   "metadata": {},
   "outputs": [
    {
     "name": "stdout",
     "output_type": "stream",
     "text": [
      "b'\\x8b\\xc1\\x9f^&\\xb7_\\t\\x0b&\\xe9\\x0cF\\xab\\x0bv'\n"
     ]
    }
   ],
   "source": [
    "my_prefix = bytes( [0] * (BLOCKSIZE - len_prefix%BLOCKSIZE) ) # pad this out so any data I put in starts a new block\n",
    "my_block_index = ( len_prefix+len(my_prefix) ) // BLOCKSIZE # the index my data block will be\n",
    "\n",
    "# Put in a block of all zeros, so whatever ciphertext comes out in that position will be the bitmask\n",
    "ciphertext = Oracle(my_prefix + bytes([0]*BLOCKSIZE))\n",
    "start, end = my_block_index*BLOCKSIZE, (1+my_block_index)*BLOCKSIZE\n",
    "bitmask = ciphertext[start:end]\n",
    "print(bitmask)"
   ]
  },
  {
   "cell_type": "code",
   "execution_count": 25,
   "id": "9d298210-961b-418a-9d3b-72465c3a3641",
   "metadata": {},
   "outputs": [],
   "source": [
    "# So now I know the bitmask, I can modify the ciphertext\n",
    "block = b'A;admin=true;AAA'\n",
    "assert len(block) == BLOCKSIZE\n",
    "ciphertext = ciphertext[:start] + XOR(bitmask, block) + ciphertext[end:]"
   ]
  },
  {
   "cell_type": "code",
   "execution_count": 26,
   "id": "8035adbb-00f2-4dac-a482-cb4d148c7bba",
   "metadata": {},
   "outputs": [
    {
     "data": {
      "text/plain": [
       "True"
      ]
     },
     "execution_count": 26,
     "metadata": {},
     "output_type": "execute_result"
    }
   ],
   "source": [
    "IsAdmin(ciphertext)"
   ]
  },
  {
   "cell_type": "code",
   "execution_count": null,
   "id": "7a828779-f1ad-46db-ad4d-adb0e78b6d8b",
   "metadata": {},
   "outputs": [],
   "source": []
  }
 ],
 "metadata": {
  "kernelspec": {
   "display_name": "Python 3 (ipykernel)",
   "language": "python",
   "name": "python3"
  },
  "language_info": {
   "codemirror_mode": {
    "name": "ipython",
    "version": 3
   },
   "file_extension": ".py",
   "mimetype": "text/x-python",
   "name": "python",
   "nbconvert_exporter": "python",
   "pygments_lexer": "ipython3",
   "version": "3.10.6"
  }
 },
 "nbformat": 4,
 "nbformat_minor": 5
}
