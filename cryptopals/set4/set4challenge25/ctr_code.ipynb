{
 "cells": [
  {
   "cell_type": "code",
   "execution_count": 1,
   "id": "b92401eb-7c23-4b14-aa20-2fe1a856c274",
   "metadata": {},
   "outputs": [],
   "source": [
    "from random import choice, choices\n",
    "import base64\n",
    "from Crypto.Cipher import AES\n",
    "\n",
    "BLOCKSIZE = 16"
   ]
  },
  {
   "cell_type": "code",
   "execution_count": 12,
   "id": "b461b06d-9300-474c-828d-7cfc154f8938",
   "metadata": {},
   "outputs": [],
   "source": [
    "def XOR(A: bytes, B: bytes):\n",
    "    assert type(A) is bytes and type(B) is bytes and len(A) == len(B)\n",
    "    return bytes([ a^b for a, b in zip(A, B) ])\n",
    "\n",
    "def IntToLittleEndian(x: int, nbytes: int):\n",
    "    assert type(x) is int and x >= 0\n",
    "    out = bytes()\n",
    "    while x >  0:\n",
    "        out += bytes([ x & 0xFF ])\n",
    "        x >>= 8\n",
    "    \n",
    "    assert len(out) <= nbytes\n",
    "    out += bytes( [0] * ( nbytes-len(out) ) )\n",
    "    \n",
    "    return out\n",
    "\n",
    "def LittleEndianToInt(x: bytes):\n",
    "    assert type(x) is bytes\n",
    "    out = 0\n",
    "    byte_counter = 0\n",
    "    while len(x) > 0:\n",
    "        out += x[0] << byte_counter*8\n",
    "        byte_counter += 1\n",
    "        x = x[1:]\n",
    "        \n",
    "    return out"
   ]
  },
  {
   "cell_type": "code",
   "execution_count": 8,
   "id": "4751a1b8-61b1-44ea-beed-0a1e80e60de3",
   "metadata": {},
   "outputs": [
    {
     "name": "stdout",
     "output_type": "stream",
     "text": [
      "b'\\x18\\x00\\x00\\x00\\x00\\x00\\x00\\x00'\n"
     ]
    }
   ],
   "source": [
    "little_endian = IntToLittleEndian(24, 8)\n",
    "print(little_endian)"
   ]
  },
  {
   "cell_type": "code",
   "execution_count": 9,
   "id": "1402903c-e253-4a16-9f5e-138ba0e56f16",
   "metadata": {},
   "outputs": [
    {
     "data": {
      "text/plain": [
       "24"
      ]
     },
     "execution_count": 9,
     "metadata": {},
     "output_type": "execute_result"
    }
   ],
   "source": [
    "LittleEndianToInt(little_endian)"
   ]
  },
  {
   "cell_type": "code",
   "execution_count": 46,
   "id": "94472267-0c5c-4df5-ae7e-135be645d962",
   "metadata": {},
   "outputs": [],
   "source": [
    "class CTR(object):\n",
    "    def __init__(self, nonce: bytes, key: bytes):\n",
    "        assert type(nonce) is bytes and len(nonce) < BLOCKSIZE\n",
    "        self.nonce = nonce\n",
    "        self.aes = AES.new(key, AES.MODE_ECB)\n",
    "        \n",
    "    def EncryptBlock(self, block: bytes, counter: int):\n",
    "        assert type(counter) is int and counter >= 0\n",
    "        assert type(block) is bytes and len(block) == BLOCKSIZE\n",
    "        little_endian: bytes = IntToLittleEndian(counter, nbytes = BLOCKSIZE-len(self.nonce))\n",
    "        key_block = self.aes.encrypt( self.nonce + little_endian )\n",
    "        assert type(key_block) is bytes and len(key_block) == BLOCKSIZE\n",
    "        return XOR(key_block, block)\n",
    "    \n",
    "    def DecryptBlock(self, block, counter: int):\n",
    "        return self.EncryptBlock(block, counter)\n",
    "    \n",
    "    def EncryptBytes(self, plaintext: bytes, counter: int):\n",
    "        assert type(plaintext) is bytes and len(plaintext) <= BLOCKSIZE\n",
    "        assert type(counter) is int and counter >= 0\n",
    "        little_endian: bytes = IntToLittleEndian(counter, nbytes = BLOCKSIZE-len(self.nonce))\n",
    "        key_block = self.aes.encrypt( self.nonce + little_endian )\n",
    "        assert type(key_block) is bytes and len(key_block) == BLOCKSIZE\n",
    "        return XOR(key_block[:len(plaintext)], plaintext)\n",
    "    \n",
    "    def DecryptBytes(self, ciphertext: bytes, counter: int):\n",
    "        return self.EncryptBytes(ciphertext, counter)\n",
    "    \n",
    "    def EncryptStream(self, plaintext: bytes, counter: int = 0):\n",
    "        assert type(plaintext) is bytes\n",
    "        stream = bytes(plaintext)\n",
    "        ciphertexts = list()\n",
    "        \n",
    "        while len(stream) > 0:\n",
    "            block =  stream[:BLOCKSIZE]\n",
    "            stream = stream[BLOCKSIZE:]\n",
    "            assert ( len(block) == BLOCKSIZE ) ^ ( len(stream) == 0 )\n",
    "            ciphertexts += [ self.EncryptBytes(block, counter) ]\n",
    "            counter += 1\n",
    "        \n",
    "        ciphertext = b''.join(ciphertexts)\n",
    "        assert len(ciphertext) == len(plaintext)\n",
    "        return ciphertext\n",
    "    \n",
    "    def DecryptStream(self, plaintext: bytes, counter: int = 0):\n",
    "        return self.EncryptStream(plaintext, counter)\n",
    "    \n",
    "        "
   ]
  },
  {
   "cell_type": "code",
   "execution_count": 47,
   "id": "c4e67521-b5bd-4473-98ff-a098c707f2cf",
   "metadata": {},
   "outputs": [
    {
     "name": "stdout",
     "output_type": "stream",
     "text": [
      "b'5\\xbe\\xa4 \\xc6\\xcc!\\xc2\\xae\\xecp}\\x00z\\xa8\\x17\\xf2\\x8dL\\xac\\xf7\\x18|\\xba\\xef\\xb5y\\xb3\\xcd\\x8f\\x10wC'\n"
     ]
    }
   ],
   "source": [
    "ctr_cipher = CTR(nonce = b'\\0'*8, key = b'YELLOW SUBMARINE')\n",
    "plaintext = b'Cooking MCs like a pound of bacon'\n",
    "ciphertext = ctr_cipher.EncryptStream(plaintext, 0)\n",
    "print(ciphertext)"
   ]
  },
  {
   "cell_type": "code",
   "execution_count": 49,
   "id": "05ce2b8a-b512-4d63-9678-e97e78eb09ec",
   "metadata": {},
   "outputs": [
    {
     "data": {
      "text/plain": [
       "b'Cooking MCs like a pound of bacon'"
      ]
     },
     "execution_count": 49,
     "metadata": {},
     "output_type": "execute_result"
    }
   ],
   "source": [
    "ctr_cipher.DecryptStream(ciphertext, 0)"
   ]
  },
  {
   "cell_type": "code",
   "execution_count": null,
   "id": "01572589-cdc5-481b-ab3f-e02ba11bc4e8",
   "metadata": {},
   "outputs": [],
   "source": []
  },
  {
   "cell_type": "code",
   "execution_count": null,
   "id": "8e5798b6-a96c-46ad-9b3f-c08fdb3e49a7",
   "metadata": {},
   "outputs": [],
   "source": []
  }
 ],
 "metadata": {
  "kernelspec": {
   "display_name": "Python 3 (ipykernel)",
   "language": "python",
   "name": "python3"
  },
  "language_info": {
   "codemirror_mode": {
    "name": "ipython",
    "version": 3
   },
   "file_extension": ".py",
   "mimetype": "text/x-python",
   "name": "python",
   "nbconvert_exporter": "python",
   "pygments_lexer": "ipython3",
   "version": "3.10.6"
  }
 },
 "nbformat": 4,
 "nbformat_minor": 5
}
