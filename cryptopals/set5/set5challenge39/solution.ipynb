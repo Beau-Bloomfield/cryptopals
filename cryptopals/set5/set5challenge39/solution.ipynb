{
 "cells": [
  {
   "cell_type": "code",
   "execution_count": 1,
   "id": "88fbdc1b-0cd3-4c62-a996-126056904d9f",
   "metadata": {},
   "outputs": [],
   "source": [
    "# Ok so first of all the instructions here (https://cryptopals.com/sets/5/challenges/39) leave a lot out\n",
    "# And the exercise doesn't work if you follow the instructions specifically... they leave out a lot about the totient function\n",
    "# I followed Wikipedia instead (https://en.m.wikipedia.org/wiki/RSA_(cryptosystem))\n",
    "\n",
    "\n",
    "from Crypto.Util.number import getPrime\n",
    "Prime = lambda : getPrime(1024)"
   ]
  },
  {
   "cell_type": "code",
   "execution_count": 3,
   "id": "d104b65b-51e3-468b-a257-49b7549f51db",
   "metadata": {},
   "outputs": [],
   "source": [
    "# Using implementations from https://github.com/ricpacca/cryptopals/blob/master/S5C39.py\n",
    "\n",
    "def GCD(a, b):\n",
    "    \"\"\"Computes the greatest common divisor between a and b using the Euclidean algorithm.\"\"\"\n",
    "    while b != 0:\n",
    "        a, b = b, a % b\n",
    "\n",
    "    return a\n",
    "\n",
    "\n",
    "def LCM(a, b):\n",
    "    \"\"\"Computes the lowest common multiple between a and b using the GCD method.\"\"\"\n",
    "    return a // GCD(a, b) * b\n",
    "\n",
    "\n",
    "def ModInv(a, n):\n",
    "    \"\"\"Computes the multiplicative inverse of a modulo n using the extended Euclidean algorithm.\"\"\"\n",
    "    t, r = 0, n\n",
    "    new_t, new_r = 1, a\n",
    "\n",
    "    while new_r != 0:\n",
    "        quotient = r // new_r\n",
    "        t, new_t = new_t, t - quotient * new_t\n",
    "        r, new_r = new_r, r - quotient * new_r\n",
    "\n",
    "    if r > 1:\n",
    "        raise Exception(\"a is not invertible\")\n",
    "    if t < 0:\n",
    "        t = t + n\n",
    "\n",
    "    return t\n",
    "\n",
    "assert ModInv(17, 3120) == 2753"
   ]
  },
  {
   "cell_type": "code",
   "execution_count": 4,
   "id": "1f07ec9b-62b6-47ba-bf5f-8924c7d3d97c",
   "metadata": {},
   "outputs": [],
   "source": [
    "# Let e be 3\n",
    "e = 3"
   ]
  },
  {
   "cell_type": "code",
   "execution_count": 17,
   "id": "f7dea8e3-2731-4559-8bef-ccf7ca8420ec",
   "metadata": {},
   "outputs": [],
   "source": [
    "# The requirement regarding GCD is specified in Wikipedia, NOT the challenge itself\n",
    "\n",
    "def GeneratePrimes(e = e):\n",
    "    while True:\n",
    "        p, q = Prime(), Prime()\n",
    "        n = p*q\n",
    "        et = LCM(p-1, q-1) % n\n",
    "\n",
    "        if 2 < e < et and GCD(e, et) == 1:\n",
    "            return p, q, et\n",
    "\n",
    "p, q, et = GeneratePrimes()"
   ]
  },
  {
   "cell_type": "code",
   "execution_count": 18,
   "id": "a7359dd0-0469-415f-a0e7-e7ce489ae06c",
   "metadata": {},
   "outputs": [
    {
     "name": "stdout",
     "output_type": "stream",
     "text": [
      "4327016016097887518670804796858228752674491342066273402146279437795173715274408180432671216215513159944939217378525420465700294462808034701633153361785675301344310022006296860681785759987472738282474660074686102962193930463669088554377490370491150767878153110384210993297036291030123443474927005267843606889054504321466887033192930507514919061607665089370766142019970009708832936312190978213507808141865472119822739150567207442769775527284305099574490807257323214674410363952703231154679020557804575800114456558795668752168344256902720699509612911272804030684238541190725155323884964113879932791219071306509681576787\n"
     ]
    }
   ],
   "source": [
    "d = ModInv(e, et)\n",
    "print(d)\n",
    "\n",
    "assert (d*e) % et == 1"
   ]
  },
  {
   "cell_type": "code",
   "execution_count": 49,
   "id": "a9ec8afd-8716-49d8-8318-a2da8ebb0035",
   "metadata": {},
   "outputs": [],
   "source": [
    "class RSAServer(object):\n",
    "    def __init__(self, e = 3):\n",
    "        self.e = e\n",
    "        p, q, et = GeneratePrimes(e)\n",
    "        self.p = p\n",
    "        self.q = q\n",
    "        self.d = ModInv(e, et)\n",
    "        self.n = p*q\n",
    "        \n",
    "    def GetPubkey(self):\n",
    "        return self.e, self.n\n",
    "    \n",
    "    def Decrypt(self, c):\n",
    "        m = pow(c, self.d, self.n)\n",
    "        return m.to_bytes(byteorder='big', length = 1024//8)\n",
    "\n",
    "class RSAClient(object):\n",
    "    def __init__(self, e, n):\n",
    "        self.e = e\n",
    "        self.N = n\n",
    "        \n",
    "    def Encrypt(self, message):\n",
    "        m = message if type(message) is int else int.from_bytes(message, byteorder = 'big')\n",
    "        assert m < n\n",
    "        return pow(m, self.e, self.N)\n",
    "        "
   ]
  },
  {
   "cell_type": "code",
   "execution_count": 50,
   "id": "98996d7f-7f57-4e45-ae5a-b8f145a33d91",
   "metadata": {},
   "outputs": [],
   "source": [
    "server = RSAServer()\n",
    "e, n = server.GetPubkey()\n",
    "client = RSAClient(e = e, n = n)"
   ]
  },
  {
   "cell_type": "code",
   "execution_count": 53,
   "id": "f448f803-7223-4d74-95fe-119b1f594fdd",
   "metadata": {},
   "outputs": [
    {
     "data": {
      "text/plain": [
       "188706042416845720494214359667263833254252079538597449951674686304003868196918785764108580961"
      ]
     },
     "execution_count": 53,
     "metadata": {},
     "output_type": "execute_result"
    }
   ],
   "source": [
    "message = b'Hello, world!'\n",
    "ciphertext = client.Encrypt(message)\n",
    "ciphertext"
   ]
  },
  {
   "cell_type": "code",
   "execution_count": 55,
   "id": "0fdff405-1831-4f5b-8c0c-c411ec62a553",
   "metadata": {},
   "outputs": [
    {
     "data": {
      "text/plain": [
       "b'Hello, world!'"
      ]
     },
     "execution_count": 55,
     "metadata": {},
     "output_type": "execute_result"
    }
   ],
   "source": [
    "server.Decrypt(ciphertext).replace(b'\\0', b'')"
   ]
  },
  {
   "cell_type": "code",
   "execution_count": null,
   "id": "1c1c9f11-7f7c-4b26-b535-a371ddcbdf5b",
   "metadata": {},
   "outputs": [],
   "source": []
  },
  {
   "cell_type": "code",
   "execution_count": null,
   "id": "48fec678-9d68-49ef-b2f2-5c20d5c7d252",
   "metadata": {},
   "outputs": [],
   "source": []
  }
 ],
 "metadata": {
  "kernelspec": {
   "display_name": "Python 3 (ipykernel)",
   "language": "python",
   "name": "python3"
  },
  "language_info": {
   "codemirror_mode": {
    "name": "ipython",
    "version": 3
   },
   "file_extension": ".py",
   "mimetype": "text/x-python",
   "name": "python",
   "nbconvert_exporter": "python",
   "pygments_lexer": "ipython3",
   "version": "3.10.6"
  }
 },
 "nbformat": 4,
 "nbformat_minor": 5
}
