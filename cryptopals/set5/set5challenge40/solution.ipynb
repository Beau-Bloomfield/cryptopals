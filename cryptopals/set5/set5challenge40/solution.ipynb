{
 "cells": [
  {
   "cell_type": "code",
   "execution_count": 1,
   "id": "88fbdc1b-0cd3-4c62-a996-126056904d9f",
   "metadata": {},
   "outputs": [],
   "source": [
    "# Ok so first of all the instructions here (https://cryptopals.com/sets/5/challenges/39) leave a lot out\n",
    "# And the exercise doesn't work if you follow the instructions specifically... they leave out a lot about the totient function\n",
    "# I followed Wikipedia instead (https://en.m.wikipedia.org/wiki/RSA_(cryptosystem))\n",
    "\n",
    "\n",
    "from Crypto.Util.number import getPrime\n",
    "Prime = lambda : getPrime(1024)"
   ]
  },
  {
   "cell_type": "code",
   "execution_count": 2,
   "id": "d104b65b-51e3-468b-a257-49b7549f51db",
   "metadata": {},
   "outputs": [],
   "source": [
    "# Using implementations from https://github.com/ricpacca/cryptopals/blob/master/S5C39.py\n",
    "\n",
    "def GCD(a, b):\n",
    "    \"\"\"Computes the greatest common divisor between a and b using the Euclidean algorithm.\"\"\"\n",
    "    while b != 0:\n",
    "        a, b = b, a % b\n",
    "\n",
    "    return a\n",
    "\n",
    "\n",
    "def LCM(a, b):\n",
    "    \"\"\"Computes the lowest common multiple between a and b using the GCD method.\"\"\"\n",
    "    return a // GCD(a, b) * b\n",
    "\n",
    "\n",
    "def ModInv(a, n):\n",
    "    \"\"\"Computes the multiplicative inverse of a modulo n using the extended Euclidean algorithm.\"\"\"\n",
    "    t, r = 0, n\n",
    "    new_t, new_r = 1, a\n",
    "\n",
    "    while new_r != 0:\n",
    "        quotient = r // new_r\n",
    "        t, new_t = new_t, t - quotient * new_t\n",
    "        r, new_r = new_r, r - quotient * new_r\n",
    "\n",
    "    if r > 1:\n",
    "        raise Exception(\"a is not invertible\")\n",
    "    if t < 0:\n",
    "        t = t + n\n",
    "\n",
    "    return t\n",
    "\n",
    "assert ModInv(17, 3120) == 2753"
   ]
  },
  {
   "cell_type": "code",
   "execution_count": 3,
   "id": "1f07ec9b-62b6-47ba-bf5f-8924c7d3d97c",
   "metadata": {},
   "outputs": [],
   "source": [
    "# Let e be 3\n",
    "e = 3"
   ]
  },
  {
   "cell_type": "code",
   "execution_count": 4,
   "id": "f7dea8e3-2731-4559-8bef-ccf7ca8420ec",
   "metadata": {},
   "outputs": [],
   "source": [
    "# The requirement regarding GCD is specified in Wikipedia, NOT the challenge itself\n",
    "\n",
    "def GeneratePrimes(e = e):\n",
    "    while True:\n",
    "        p, q = Prime(), Prime()\n",
    "        n = p*q\n",
    "        et = LCM(p-1, q-1) % n\n",
    "\n",
    "        if 2 < e < et and GCD(e, et) == 1:\n",
    "            return p, q, et\n",
    "\n",
    "p, q, et = GeneratePrimes()"
   ]
  },
  {
   "cell_type": "code",
   "execution_count": 5,
   "id": "a7359dd0-0469-415f-a0e7-e7ce489ae06c",
   "metadata": {},
   "outputs": [
    {
     "name": "stdout",
     "output_type": "stream",
     "text": [
      "2531945975104390738956315826950012248627491422779152544185467871658026598682687417450223536252231575353806644229988447794000897862175963216933862756850912565585221417101525688293511192390426963547522216094567663393993445480560072864730837410109696273190184472872422498714973917733467239338975975079262317330118263034615855723983942727849350675430250497782945719071453853607083842979140324451854760406951223607218055910361253139865867892325539771199645554588388857488144459317771938249569384258811681804072650254876234669593798149223382749023275810594251057153849589127379618925874481862843016055746319368029055175117\n"
     ]
    }
   ],
   "source": [
    "d = ModInv(e, et)\n",
    "print(d)\n",
    "\n",
    "assert (d*e) % et == 1"
   ]
  },
  {
   "cell_type": "code",
   "execution_count": 6,
   "id": "a9ec8afd-8716-49d8-8318-a2da8ebb0035",
   "metadata": {},
   "outputs": [],
   "source": [
    "class RSAServer(object):\n",
    "    def __init__(self, e = 3):\n",
    "        self.e = e\n",
    "        p, q, et = GeneratePrimes(e)\n",
    "        self.p = p\n",
    "        self.q = q\n",
    "        self.d = ModInv(e, et)\n",
    "        self.n = p*q\n",
    "        \n",
    "    def GetPubkey(self):\n",
    "        return self.e, self.n\n",
    "    \n",
    "    def Decrypt(self, c):\n",
    "        m = pow(c, self.d, self.n)\n",
    "        return m.to_bytes(byteorder='big', length = 2*1024//8)\n",
    "\n",
    "class RSAClient(object):\n",
    "    def __init__(self, e, n):\n",
    "        self.e = e\n",
    "        self.n = n\n",
    "        \n",
    "    def Encrypt(self, message):\n",
    "        m = message if type(message) is int else int.from_bytes(message, byteorder = 'big')\n",
    "        assert m < self.n\n",
    "        return pow(m, self.e, self.n)\n",
    "        "
   ]
  },
  {
   "cell_type": "code",
   "execution_count": 7,
   "id": "98996d7f-7f57-4e45-ae5a-b8f145a33d91",
   "metadata": {},
   "outputs": [],
   "source": [
    "# Make three client-server pairs with three different pubkeys\n",
    "\n",
    "server0 = RSAServer()\n",
    "server1 = RSAServer()\n",
    "server2 = RSAServer()\n",
    "\n",
    "pubkey0 = server0.GetPubkey()\n",
    "pubkey1 = server1.GetPubkey()\n",
    "pubkey2 = server2.GetPubkey()\n",
    "\n",
    "assert len({pubkey0, pubkey1, pubkey2}) == 3 # Make sure all pubkeys are different\n",
    "\n",
    "client0 = RSAClient(*pubkey0)\n",
    "client1 = RSAClient(*pubkey1)\n",
    "client2 = RSAClient(*pubkey2)\n",
    "\n",
    "n_values = tuple([ n for (e, n) in [pubkey0, pubkey1, pubkey2] ])"
   ]
  },
  {
   "cell_type": "code",
   "execution_count": 8,
   "id": "f448f803-7223-4d74-95fe-119b1f594fdd",
   "metadata": {},
   "outputs": [],
   "source": [
    "message = b\"\"\"\n",
    "But, soft! what light through yonder window breaks? \n",
    "It is the east, and Juliet is the sun.  \n",
    "Arise, fair sun, and kill the envious moon,\n",
    "Who is already sick and pale with grief,\n",
    "That thou her maid art far more fair than she.\n",
    "\"\"\"\n",
    "\n",
    "\n",
    "ciphertext0 = client0.Encrypt(message)\n",
    "ciphertext1 = client1.Encrypt(message)\n",
    "ciphertext2 = client2.Encrypt(message)"
   ]
  },
  {
   "cell_type": "code",
   "execution_count": 9,
   "id": "48fec678-9d68-49ef-b2f2-5c20d5c7d252",
   "metadata": {},
   "outputs": [],
   "source": [
    "# Make sure only the correct server can encrypte each ciphertext\n",
    "\n",
    "assert server0.Decrypt(ciphertext0).replace(b'\\0', b'') == message\n",
    "assert server1.Decrypt(ciphertext0).replace(b'\\0', b'') != message\n",
    "assert server2.Decrypt(ciphertext0).replace(b'\\0', b'') != message"
   ]
  },
  {
   "cell_type": "code",
   "execution_count": 10,
   "id": "d616ef3e-4782-4f38-9fce-9df3b4b80194",
   "metadata": {},
   "outputs": [],
   "source": [
    "# Now decrypt\n",
    "\n",
    "m_s_0 = n_values[1] * n_values[2]\n",
    "m_s_1 = n_values[2] * n_values[0]\n",
    "m_s_2 = n_values[0] * n_values[1]\n",
    "\n",
    "N_012 = n_values[0] * n_values[1] * n_values[2]\n",
    "\n",
    "result = ciphertext0 * m_s_0 * ModInv(m_s_0, n_values[0]) + \\\n",
    "         ciphertext1 * m_s_1 * ModInv(m_s_1, n_values[1]) + \\\n",
    "         ciphertext2 * m_s_2 * ModInv(m_s_2, n_values[2])\n",
    "result %= N_012"
   ]
  },
  {
   "cell_type": "code",
   "execution_count": 25,
   "id": "6323b084-a39c-411c-81f9-f6d5d551e3dc",
   "metadata": {},
   "outputs": [],
   "source": [
    "def CubeRoot(n):\n",
    "    high = n\n",
    "    low = 0\n",
    "    guess = None\n",
    "    \n",
    "    while True:\n",
    "        last_guess = guess\n",
    "        guess = (high+low)//2\n",
    "        product = guess*guess*guess\n",
    "        if product == n:\n",
    "            return guess\n",
    "        elif last_guess == guess:\n",
    "            return None\n",
    "        elif product > n:\n",
    "            high = guess\n",
    "        elif product < n:\n",
    "            low = guess+1\n",
    "        else:\n",
    "            return None"
   ]
  },
  {
   "cell_type": "code",
   "execution_count": 31,
   "id": "5508728a-1385-489e-ac94-b3ec5396c269",
   "metadata": {},
   "outputs": [
    {
     "data": {
      "text/plain": [
       "4"
      ]
     },
     "execution_count": 31,
     "metadata": {},
     "output_type": "execute_result"
    }
   ],
   "source": [
    "root = CubeRoot(64)\n",
    "root"
   ]
  },
  {
   "cell_type": "code",
   "execution_count": 35,
   "id": "ca618fd1-ec7f-4c3a-a221-41e7bd489fac",
   "metadata": {},
   "outputs": [
    {
     "name": "stdout",
     "output_type": "stream",
     "text": [
      "b'\\nBut, soft! what light through yonder window breaks? \\nIt is the east, and Juliet is the sun.  \\nArise, fair sun, and kill the envious moon,\\nWho is already sick and pale with grief,\\nThat thou her maid art far more fair than she.\\n'\n"
     ]
    }
   ],
   "source": [
    "root = CubeRoot(result)\n",
    "decrypted = root.to_bytes(byteorder='big', length = 2*1024//8).replace(b'\\0', b'')\n",
    "assert decrypted == message\n",
    "print(decrypted)"
   ]
  },
  {
   "cell_type": "code",
   "execution_count": 36,
   "id": "45eddd6a-3c34-4b35-8906-ff931febe19f",
   "metadata": {},
   "outputs": [
    {
     "name": "stderr",
     "output_type": "stream",
     "text": [
      "1707.38s - pydevd: Sending message related to process being replaced timed-out after 5 seconds\n"
     ]
    },
    {
     "name": "stdout",
     "output_type": "stream",
     "text": [
      "/Users/bloomfield/git/cryptopals/cryptopals/set5/set5challenge40\n"
     ]
    }
   ],
   "source": [
    "!pwd"
   ]
  },
  {
   "cell_type": "code",
   "execution_count": null,
   "id": "124eccbb-cb96-4d2b-b1bc-dd22b5ee0b17",
   "metadata": {},
   "outputs": [],
   "source": []
  }
 ],
 "metadata": {
  "kernelspec": {
   "display_name": "Python 3 (ipykernel)",
   "language": "python",
   "name": "python3"
  },
  "language_info": {
   "codemirror_mode": {
    "name": "ipython",
    "version": 3
   },
   "file_extension": ".py",
   "mimetype": "text/x-python",
   "name": "python",
   "nbconvert_exporter": "python",
   "pygments_lexer": "ipython3",
   "version": "3.10.6"
  }
 },
 "nbformat": 4,
 "nbformat_minor": 5
}
