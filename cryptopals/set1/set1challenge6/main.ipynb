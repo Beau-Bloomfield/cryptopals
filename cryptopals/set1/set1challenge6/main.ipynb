{
 "cells": [
  {
   "cell_type": "code",
   "execution_count": 1,
   "metadata": {},
   "outputs": [],
   "source": [
    "import base64\n",
    "import json"
   ]
  },
  {
   "cell_type": "code",
   "execution_count": 2,
   "metadata": {},
   "outputs": [],
   "source": [
    "def Hamming(a: bytes, b: bytes)->int:\n",
    "    assert type(a) is bytes and type(b) is bytes\n",
    "    assert len(a) == len(b)\n",
    "    diff = 0\n",
    "    for char_a, char_b in zip(a, b):\n",
    "        xor = char_a ^ char_b\n",
    "        while xor > 0:\n",
    "            diff += xor & 0b1\n",
    "            xor >>= 1\n",
    "    return diff"
   ]
  },
  {
   "cell_type": "code",
   "execution_count": 3,
   "metadata": {},
   "outputs": [
    {
     "data": {
      "text/plain": [
       "37"
      ]
     },
     "execution_count": 3,
     "metadata": {},
     "output_type": "execute_result"
    }
   ],
   "source": [
    "Hamming(b'this is a test', b'wokka wokka!!!')"
   ]
  },
  {
   "cell_type": "code",
   "execution_count": 4,
   "metadata": {},
   "outputs": [],
   "source": [
    "def Dot(x, y):\n",
    "    assert len(x) == len(y)\n",
    "    return sum( x_*y_ for x_, y_ in zip(x, y) )\n",
    "\n",
    "def Norm(x):\n",
    "    return sum( x_**2 for x_ in x ) ** 0.5\n",
    "\n",
    "def Mean(x):\n",
    "    return sum(x) / len(x)\n",
    "\n",
    "def EvaluateStringChars(x: bytes, alpha = 6):\n",
    "    assert type(x) is bytes\n",
    "    x = x.lower()\n",
    "  \n",
    "    frequencies = 0.082, 0.015, 0.028, 0.043, 0.130, 0.022, 0.020, 0.061, 0.070, 0.002, 0.008, 0.040, 0.024, \\\n",
    "                  0.067, 0.075, 0.019, 0.001, 0.060, 0.063, 0.091, 0.028, 0.010, 0.024, 0.002, 0.020, 0.001\n",
    "    alphabet = b'abcdefghijklmnopqrstuvwxyz'\n",
    "    \n",
    "    v1 = [0] * 256\n",
    "    for n, char in enumerate(alphabet):\n",
    "        v1[char] = frequencies[n]\n",
    "    assert 0.99 < sum(v1) < 1.01\n",
    "    \n",
    "    v2 = [0] * 256\n",
    "    for char in range(256):\n",
    "        v2[char] = x.count(char) / len(x)\n",
    "    assert 0.99 < sum(v2) < 1.01\n",
    "\n",
    "    return Dot(v1, v2) * ( sum( char in { *b' \\n', *range(97, 123) } for char in x ) / len(x) ) ** alpha"
   ]
  },
  {
   "cell_type": "code",
   "execution_count": 5,
   "metadata": {},
   "outputs": [
    {
     "data": {
      "text/plain": [
       "0.049520833333333326"
      ]
     },
     "execution_count": 5,
     "metadata": {},
     "output_type": "execute_result"
    }
   ],
   "source": [
    "EvaluateStringChars(b'But soft what light through yonder window breaks')"
   ]
  },
  {
   "cell_type": "code",
   "execution_count": 6,
   "metadata": {},
   "outputs": [
    {
     "data": {
      "text/plain": [
       "0.03296"
      ]
     },
     "execution_count": 6,
     "metadata": {},
     "output_type": "execute_result"
    }
   ],
   "source": [
    "EvaluateStringChars(b'sdlfajskdlfjalsdjflakk l kjsjdfksd flaksdjf lasjdf')"
   ]
  },
  {
   "cell_type": "code",
   "execution_count": 7,
   "metadata": {},
   "outputs": [
    {
     "data": {
      "text/plain": [
       "0.0"
      ]
     },
     "execution_count": 7,
     "metadata": {},
     "output_type": "execute_result"
    }
   ],
   "source": [
    "EvaluateStringChars(b'^^^%%%')"
   ]
  },
  {
   "cell_type": "code",
   "execution_count": 8,
   "metadata": {},
   "outputs": [
    {
     "ename": "NameError",
     "evalue": "name 'cyphertext' is not defined",
     "output_type": "error",
     "traceback": [
      "\u001b[0;31m---------------------------------------------------------------------------\u001b[0m",
      "\u001b[0;31mNameError\u001b[0m                                 Traceback (most recent call last)",
      "Cell \u001b[0;32mIn [8], line 4\u001b[0m\n\u001b[1;32m      1\u001b[0m keysize_scores \u001b[38;5;241m=\u001b[39m \u001b[38;5;28mdict\u001b[39m()\n\u001b[1;32m      3\u001b[0m \u001b[38;5;28;01mfor\u001b[39;00m keysize \u001b[38;5;129;01min\u001b[39;00m \u001b[38;5;28mrange\u001b[39m(\u001b[38;5;241m2\u001b[39m, \u001b[38;5;241m40\u001b[39m):\n\u001b[0;32m----> 4\u001b[0m     chunks \u001b[38;5;241m=\u001b[39m [ cyphertext[idx\u001b[38;5;241m*\u001b[39mkeysize:(\u001b[38;5;241m1\u001b[39m\u001b[38;5;241m+\u001b[39midx)\u001b[38;5;241m*\u001b[39mkeysize] \u001b[38;5;28;01mfor\u001b[39;00m idx \u001b[38;5;129;01min\u001b[39;00m \u001b[38;5;28mrange\u001b[39m(\u001b[38;5;28mlen\u001b[39m(\u001b[43mcyphertext\u001b[49m)\u001b[38;5;241m/\u001b[39m\u001b[38;5;241m/\u001b[39mkeysize)  ]\n\u001b[1;32m      5\u001b[0m     keysize_scores[keysize] \u001b[38;5;241m=\u001b[39m Mean([ Hamming(chunk1, chunk2)\u001b[38;5;241m/\u001b[39m\u001b[38;5;28mlen\u001b[39m(chunk1) \u001b[38;5;28;01mfor\u001b[39;00m chunk1, chunk2 \u001b[38;5;129;01min\u001b[39;00m \u001b[38;5;28mzip\u001b[39m(chunks[:\u001b[38;5;241m-\u001b[39m\u001b[38;5;241m1\u001b[39m], chunks[\u001b[38;5;241m1\u001b[39m:]) ]) \n\u001b[1;32m      7\u001b[0m best_keysizes \u001b[38;5;241m=\u001b[39m \u001b[38;5;28msorted\u001b[39m(keysize_scores, key \u001b[38;5;241m=\u001b[39m \u001b[38;5;28;01mlambda\u001b[39;00m x:keysize_scores[x])\n",
      "\u001b[0;31mNameError\u001b[0m: name 'cyphertext' is not defined"
     ]
    }
   ],
   "source": [
    "keysize_scores = dict()\n",
    "\n",
    "for keysize in range(2, 40):\n",
    "    chunks = [ cyphertext[idx*keysize:(1+idx)*keysize] for idx in range(len(cyphertext)//keysize)  ]\n",
    "    keysize_scores[keysize] = Mean([ Hamming(chunk1, chunk2)/len(chunk1) for chunk1, chunk2 in zip(chunks[:-1], chunks[1:]) ]) \n",
    "    \n",
    "best_keysizes = sorted(keysize_scores, key = lambda x:keysize_scores[x])\n",
    "best_keysizes[:5]"
   ]
  },
  {
   "cell_type": "code",
   "execution_count": 9,
   "metadata": {},
   "outputs": [],
   "source": [
    "def BruteForceXorDecrypt(s: bytes, alpha = 4):\n",
    "    assert type(s) is bytes\n",
    "    best_plaintext = ''\n",
    "    best_score = -1\n",
    "    best_key = -1\n",
    "    \n",
    "    for key in range(256):\n",
    "        plaintext = bytes([ key^char for char in s ])\n",
    "        score = EvaluateStringChars(plaintext, alpha = alpha)\n",
    "        if score > best_score:\n",
    "            best_score = score\n",
    "            best_plaintext = plaintext\n",
    "            best_key = key\n",
    "                    \n",
    "        \n",
    "    return best_key, best_score, best_plaintext\n",
    "    "
   ]
  },
  {
   "cell_type": "code",
   "execution_count": 10,
   "metadata": {},
   "outputs": [
    {
     "data": {
      "text/plain": [
       "(88, 0.038346631386118456, b\"Cooking MC's like a pound of bacon\")"
      ]
     },
     "execution_count": 10,
     "metadata": {},
     "output_type": "execute_result"
    }
   ],
   "source": [
    "cyphertext = bytes.fromhex('1b37373331363f78151b7f2b783431333d78397828372d363c78373e783a393b3736')\n",
    "BruteForceXorDecrypt(cyphertext, alpha = 2)\n"
   ]
  },
  {
   "cell_type": "code",
   "execution_count": 11,
   "metadata": {},
   "outputs": [
    {
     "data": {
      "text/plain": [
       "0.03403042007403601"
      ]
     },
     "execution_count": 11,
     "metadata": {},
     "output_type": "execute_result"
    }
   ],
   "source": [
    "EvaluateStringChars(bytes([ 88^char for char in cyphertext ]))"
   ]
  },
  {
   "cell_type": "code",
   "execution_count": 13,
   "metadata": {},
   "outputs": [],
   "source": [
    "def MultiKeyXorDecrypt(s: bytes, keysize: int):\n",
    "    assert type(s) is bytes and type(keysize) is int  and 0 < keysize < len(s)\n",
    "    nchunks = len(s) // keysize\n",
    "    \n",
    "    keys = [-1] * keysize\n",
    "    scores = [-1] * keysize\n",
    "    \n",
    "    for n in range(keysize):\n",
    "        row = bytes([ char for idx, char in enumerate(s) if idx%keysize == n ])\n",
    "        keys[n], *junk = BruteForceXorDecrypt(row)\n",
    "    \n",
    "    plaintext = bytes([ char ^ keys[n%keysize] for n, char in enumerate(s) ]) \n",
    "    score = EvaluateStringChars(plaintext)\n",
    "    \n",
    "    return keys, score, plaintext"
   ]
  },
  {
   "cell_type": "code",
   "execution_count": 16,
   "metadata": {},
   "outputs": [],
   "source": [
    "with open('untitled.txt', mode = 'rb') as file:\n",
    "    cyphertext = base64.decodebytes(file.read())"
   ]
  },
  {
   "cell_type": "code",
   "execution_count": 20,
   "metadata": {},
   "outputs": [
    {
     "data": {
      "text/plain": [
       "[29, 38, 13, 9, 16]"
      ]
     },
     "execution_count": 20,
     "metadata": {},
     "output_type": "execute_result"
    }
   ],
   "source": [
    "keysize_scores = dict()\n",
    "\n",
    "for keysize in range(2, 40):\n",
    "    chunks = [ cyphertext[idx*keysize:(1+idx)*keysize] for idx in range(len(cyphertext)//keysize)  ]\n",
    "    keysize_scores[keysize] = Mean([ Hamming(chunk1, chunk2)/len(chunk1) for chunk1, chunk2 in zip(chunks[:-1], chunks[1:]) ]) \n",
    "    \n",
    "best_keysizes = sorted(keysize_scores, key = lambda x:keysize_scores[x])\n",
    "best_keysizes[:5]"
   ]
  },
  {
   "cell_type": "code",
   "execution_count": 21,
   "metadata": {},
   "outputs": [
    {
     "name": "stdout",
     "output_type": "stream",
     "text": [
      "29 0.028 b\"I'm back and I'm ringin' the bell \\nA rockin' on the mike while the fly girls yell \\nIn ecstasy in the\"\n",
      "38 0.002 b's\\x1am$e`gz:` SY+\\nq ug<zdbo!So\\x7f XEpu\\'\\rN\\x1bzs\\x1bA: \\n7cu4:sN\\x07\"ime:`Uiw`&Rgx*z\\tOn)BnJz)\\x01cmgo\\x01Cr nXUDct~(ts;1Y7'\n",
      "13 0.002 b't\\'p\"eakm&z!Yt\\x00\\x00p&r`\\'ahbh+uhs*Ynph;\\rI;xs*V<!\\x0b<or.=sh+$bkc=|U~wa&\\x7fgx*{#Ot.Yilr\"7xafo\\nHn!i^ycbsr.ro<=B6'\n",
      "9 0.001 b's,v$d}lp*} Us\\x06\\x17q&y` zhdu tdx+_iqs\\'\\x0bE:st*\\\\! \\n7hn.=s\\x7f+\"bjb:{S~pg,tgx&{>Ou\"Enlt(+\\x7fkln\\nOn<rYycbt~(rs<;U1'\n",
      "16 0.002 b\"s+k(b`kv!P Ri\\x06\\nv'uz+znbn Xox6Yowo \\x10E=rt*]\\x10 \\x0b!io.:uy $hme=QRbmg&sgx;q%Ns.ECks46~mgi\\x10Cn<i^xEbtd.rh<=D:\"\n"
     ]
    }
   ],
   "source": [
    "best_score = 0\n",
    "best_keys = []\n",
    "best_plaintext = b''\n",
    "\n",
    "for keysize in best_keysizes[:5]:\n",
    "    keys, score, plaintext = MultiKeyXorDecrypt(cyphertext, keysize)\n",
    "    print(keysize, '%.3f' % score, plaintext[:100])"
   ]
  },
  {
   "cell_type": "code",
   "execution_count": null,
   "metadata": {},
   "outputs": [],
   "source": []
  },
  {
   "cell_type": "code",
   "execution_count": null,
   "metadata": {},
   "outputs": [],
   "source": []
  }
 ],
 "metadata": {
  "kernelspec": {
   "display_name": "Python 3 (ipykernel)",
   "language": "python",
   "name": "python3"
  },
  "language_info": {
   "codemirror_mode": {
    "name": "ipython",
    "version": 3
   },
   "file_extension": ".py",
   "mimetype": "text/x-python",
   "name": "python",
   "nbconvert_exporter": "python",
   "pygments_lexer": "ipython3",
   "version": "3.10.6"
  }
 },
 "nbformat": 4,
 "nbformat_minor": 4
}
