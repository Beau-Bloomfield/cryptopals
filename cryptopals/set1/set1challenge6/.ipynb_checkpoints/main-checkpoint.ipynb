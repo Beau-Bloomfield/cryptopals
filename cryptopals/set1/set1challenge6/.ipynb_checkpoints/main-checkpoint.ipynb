{
 "cells": [
  {
   "cell_type": "code",
   "execution_count": 48,
   "metadata": {},
   "outputs": [],
   "source": [
    "import base64\n",
    "import json"
   ]
  },
  {
   "cell_type": "code",
   "execution_count": 2,
   "metadata": {},
   "outputs": [],
   "source": [
    "def Hamming(a: bytes, b: bytes)->int:\n",
    "    assert type(a) is bytes and type(b) is bytes\n",
    "    assert len(a) == len(b)\n",
    "    diff = 0\n",
    "    for char_a, char_b in zip(a, b):\n",
    "        xor = char_a ^ char_b\n",
    "        while xor > 0:\n",
    "            diff += xor & 0b1\n",
    "            xor >>= 1\n",
    "    return diff"
   ]
  },
  {
   "cell_type": "code",
   "execution_count": null,
   "metadata": {},
   "outputs": [],
   "source": []
  },
  {
   "cell_type": "code",
   "execution_count": 3,
   "metadata": {},
   "outputs": [
    {
     "data": {
      "text/plain": [
       "37"
      ]
     },
     "execution_count": 3,
     "metadata": {},
     "output_type": "execute_result"
    }
   ],
   "source": [
    "Hamming(b'this is a test', b'wokka wokka!!!')"
   ]
  },
  {
   "cell_type": "code",
   "execution_count": 4,
   "metadata": {},
   "outputs": [
    {
     "data": {
      "text/plain": [
       "b'\\x1dB\\x1fM\\x0b\\x0f\\x02\\x1fO\\x13N<\\x1aie\\x1fI\\x1c\\x0eN\\x13\\x01\\x0b\\x07N\\x1b\\x01\\x16E6\\x00\\x1e\\x01Id T\\x1d\\x1dC3SNeR\\x06\\x00GT\\x1c\\rEM\\x07\\x04\\x0cS\\x12<\\x0c\\x1e\\x08I\\x1a\\t\\x11O\\x14L!\\x1aG+\\x00\\x05\\x1dGY\\x11\\x04\\t\\x00d&\\x07S\\x007\\x16\\x06\\x0c\\x1a\\x17A\\x1d\\x01RT0_\\x00 \\x13\\n\\x05GO\\x12H\\x08ENe>\\x16\\t8E\\x06\\x05\\x08\\x1aF\\x07O\\x1fYx~jb6\\x0c\\x1d\\x0fA\\rH\\x06U\\x1a\\x1b\\x00\\x1dBt\\x04\\x1e\\x01I\\x1a\\t\\x11\\x02Rz\\x7fI\\x00H:\\x00\\x1a\\x13I\\x1aOEH\\x0f\\x1d\\rS\\x04:\\x01R\\x19\\x01\\x0bA\\x13\\x06\\x00L1_Sb\\x15\\x06\\x07\\t\\x07T\\x0b\\x17A\\x14\\x16Iy35\\x0b\\x1b\\x01\\x05\\x0fF\\x07O\\x1dNxNH\\'R\\x04\\x07\\x0cEXH\\x08A\\x00O T\\x08t\\x0b\\x1d\\x19I\\x02\\x00\\x0e\\x16\\\\\\x00R0ie\\x1fI\\x02\\x02T\\x00\\x01\\x0b\\x07N\\x02\\x10S\\x01&\\x10\\x15M\\x02\\x07\\x02\\x1fO\\x1bNx0i6R\\n\\x01\\tT\\x06\\x07\\tSN\\x02\\x10S\\x08;\\x10\\x06\\x05I\\x0f\\x0f\\x10O;\\x00:_G+\\x1cId3OT\\x02\\x10S\\x1aO\\x05\\x16\\x11t\\x0c\\x06M\\x0f\\x02\\x0e\\x03CRL=N\\x00/\\x0bI\\r\\x08N\\x17\\r\\x15T\\x1dO\\x0e\\x1cE^(\\x0bM\\x19\\x01\\x12\\x07\\nUSxNOb\\x06\\x01\\x0bGS\\x1d\\x0c\\x00\\x00\\x17\\n\\x05\\x1f\\x0c:B^M.\\x01A\"\\x0e\\x1cI4VAb5\\x06OG*~;\\x08O\\x01\\x1b\\x01SB7\\x04\\x07\\x1e\\x0cN\\x15\\x1c\\x0e\\x06\\x07+\\x1aT*\\x17I\\x19\\x06YT!EW\\x07\\x03\\x05S\\x071Ex,\\x07\\nA\\x1d\\tRY7O\\x00&\\x1d\\x07I\\x13\\x00\\x13\\x01\\x13EN\\x0eI\\x17\\x049\\x0b^M\\x1d\\x06\\x04\\x1aOxw0C\\x00;\\x1d\\x1cN\\x14T\\x15\\x1a\\x0cNIO\\x08\\x07E9\\x00Rg:\\x01A\\x13\\n\\x06\\x007\\\\FbU\\n\\x0f\\x12S\\x11H,\\x00\\r\\x00\\x07\\x07\\x17;\\tR\\x19\\x01\\x0bA\\x07\\x1b\\x13G=\\x1a*\\x16\\x1a\\x0c\\x1c\\x02\\x07\\x07H\\x0bON\\x0b\\x00\\x00\\x16=\\x0bUM\\x08\\x02\\r\\x1b\\x18\\x17Dx0ie\\x1fI\\x07\\t\\x00\\x19\\x11EO\\x19\\x01I\\x03\\r5\\x16\\x17Mc:\\t\\x11O\\x15I*VI\\'\\x01I\\x1d\\x06\\x00\\rH\\x11H\\x0b\\x16I\\x1f\\n\"\\x00R\\x00\\x0cN\\x00\\x1a\\x0bRT0[Tb\\x1b\\x1aN\\x08KTb$N\\nO S\\x065\\x0bR\\t\\x08\\x00\\x02\\x11O\\x10E,NE0R\\x1d\\x06\\x06NT\\t\\x0bYN\\x04\\x00\\x17E:BR\\x1d\\x05\\x0f\\x18Texs,[G\\'R[NJ\\rT1\\x00AN\\x1b\\x01\\x16E;\\x0b\\x17M\\x10\\x0fFT\\x18\\x13N6[\\x00.\\x1b\\x1a\\x1a\\x02NT\\x1c\\n\\x00d&\\x1dT\\x16t\\n\\x14\\x0bI\\x03\\x18T\\x07\\x17A<\\x1aS-R\\x05\\x0b\\x13\\x00\\x00\\x00\\x00\\x00\\x0c\\n\\x08\\x07E$\\t\\x13\\x14I\\x1a\\t\\x06\\x00\\x07G0\\x1a*\\x11\\x1dI\\'GC\\x15\\x06EF\\x1b\\x01\\x02S\\x0c E\\x07\\x1dI\\x0f\\x0f\\x10O\\x1fA3_\\x00+\\x06I\\x1d\\x08U\\x1a\\x0cEG\\x01\\x00\\rSoeH@@ZN8\\x1bO_\\rxqN-\\x11\\x02N\\x08NT\\x1b\\nM\\x0bO\\x1e\\x1c\\n0Ex+\\x06\\x1cA\\x13\\x00\\x1dDxVU!\\x19EN.\\x00\\x18\\x01\\x0eEN\\x02\\x10S\\x17<\\x1c\\x1f\\x08\\x1aN\\x00\\x00\\x1d\\x1dC1UU1Rc=\\x12P\\x11\\x1a\\x06A\\x02\\x0e\\x0f\\x01\\x043\\x0c\\x1e\\x04\\x1a\\x1a\\x08\\x17\\n\\nP1[L+\\x16\\x06\\r\\x0eO\\x01\\x1bE*\\'H\\x04S\\x04:E\\x17\\x0b\\x0f\\x0b\\x02\\x00O\\x13N<\\x1aT*\\x13\\x1dN\\x1eO\\x01H\\x06A\\x00O\\x0b\\x16\\x11to;M\\n\\x0f\\x0fT\\x1b\\x13K=\\x1aAb\\x14\\x05\\x17GG\\x1d\\x1a\\t\\x00\\x0f\\x01\\rS\\x085\\x0e\\x17M\\x01\\x0b\\x13T\\x18\\x17Tv\\x1a*H;N\\x03GL\\x1d\\x03\\x00\\x00=\\x0e\\x04\\x00\\n:E_@I=\\x00\\x19\\x1c\\x1dNxNOb6\\x0c\\x02\\x0eL\\x15\\x00E*:\\x07\\x0c\\x01\\x00s\\x16R\\x03\\x06N\\x05\\x11\\x01\\x0bI6\\x1d\\x0cb+\\x06\\x1bGC\\x15\\x06ET\\x1c\\x16I\\x07\\nt\\r\\x13\\x03\\x0eNk6\\x1a\\x06\\x00!UUe\\x1e\\x05N\\x0cE\\x11\\x18ET\\x1c\\x16\\x00\\x1dBt\\x11\\x1dM\\x0e\\x0b\\x15T\\x02\\x0b\\x00+NY.\\x17Id(V\\x11\\x1aEA\\x00\\x0bI\\x1c\\x131\\x17^M\\x19\\x1c\\x00\\x17\\x1b\\x1bC=\\x1aM#\\x19\\x0c\\x1dGP\\x11\\x1a\\x03E\\r\\x1bIy\\'!\\x11R\\x03\\x06\\x1aA\\x1d\\tRY7O\\x070\\x17I\\x0fGL\\x1b\\t\\x03E\\x1cAIyo\\r\\n\\x07J\\x05\\x02A\\x13\\n\\x06\\x006UW*\\x17\\x1b\\x0bK\\x00\\x1a\\x07EP\\x02\\x0e\\n\\x16It\\x0b\\x1dM\\x1d\\x07\\x0c\\x11CRN7\\x1aG+\\x00\\x05\\x1dG*\\'\\x07\\nNNBDS*<E\\x1f\\x14I)\\x0e\\x10CRH7WE \\x1d\\r\\x17K\\x00\\r\\x07\\x10\\x00\\x1e\\x1d\\x06\\x11\\x046\\t\\x0bM\\x0c\\x0f\\x15Te!P9]H\\'\\x06\\x1d\\x07GW\\x1d\\x1c\\r\\x00\\x0fO\\x1a\\x03\\n;\\x0bSM*\\x01\\x0c\\x11O\\x1dNx[N&R\\x1a\\x0f\\x1e\\x00\\x1d\\x1cD\\x00de?:5zE$\\x0c\\x07\\x07\\r\\x18\\x0eRi;_\\x00;\\x17\\x19BGY\\x11\\x18I\\x00\\'H\\x04S\\x06;\\x08\\x1b\\x03NN\\t\\x15\\x1d\\x16\\x004SK\\'R\\x08N\\x15H\\x1d\\x06\\n\\x00d&\\x07\\x07\\n,\\x0c\\x11\\x0c\\x1d\\x07\\x0f\\x13O\\x01OxCO7R\\x1a\\x1a\\x06G\\x13\\r\\x17\\x00\\x02\\x06\\x02\\x16E5E\\x05\\x04\\x07\\x01A~<\\x1d\\x00(ON)\\x01I\\x1d\\x13O\\x04H\\x11R\\x17\\x06\\x07\\x14E5\\x0b\\x16M\\x0e\\x07\\x13\\x18O\\x01T7J\\x00!\\x00\\x10\\x07\\t\\x07Tb3A\\x00\\x06\\x05\\x1f\\x04t,\\x11\\x08I\\x07\\x12T\\x1c\\x17L4SNeR\\x08\\x00\\x03\\x00\\r\\x07\\x10\\x00\\x1e\\n\\x06\\x03\\t1E\\x13\\x1f\\x0cN\\x03\\x01\\x16\\x1bN\\x7f\\x1a*e1\\x08\\x1b\\x14ET\\x1f\\rYN\\x1b\\x01\\x16E2\\x17\\x17\\x0c\\x02\\x1dA\\x15\\x1d\\x17\\x002UC)\\x1b\\x07IGL\\x1d\\x03\\x00\\x00-\\x1d\\x08\\t\\x1ct\"\\x1e\\x18\\x0cNk9\\x00\\x04I6\\x1d\\x00#\\x1c\\rN\\x00R\\x1b\\x07\\x13I\\x00HI\\x07\\x17-\\x0c\\x1c\\nI\\x1a\\x0eT\\x1c\\x1bN?\\x1aA.\\x1d\\x07\\tG*5\\x04\\t\\x00\\x1a\\x07\\x1b\\x1c\\x103\\rR\\x19\\x01\\x0bA\\x13\\x07\\x17T,U\\x00%\\x00\\x06\\x01\\x11I\\x1aOET\\x06\\x06\\x1aS\\r1\\x17\\x17M\\x1a\\x01\\x0f\\x13Oxn7M\\x00;\\x1d\\x1cI\\x15ET\\t\\x08A\\x14\\n\\rS\\x07-E\\x06\\x05\\x0cN7=?RP7IS\\'\\\\Idms\\x00\\r\\x15P\\x07\\x01NS\\x16;E\\x1a\\x0c\\x1b\\nA\\x18\\x06\\x19Ex[\\x00\\x05\\x17\\x1b\\x03\\x06NT&\\x04Z\\x07Oc \\x115\\x17\\x06\\x01\\x0c\\nA\\x16\\x16RT0_\\x00 \\x13\\x1a\\x0b\\x14\\x00\\x1c\\x01\\x11T\\x07\\x01NS\\x02&\\n\\x07\\x03\\rNk \\x07\\x17R=\\x1dSb\\x1c\\x06N\\x13R\\x1d\\x18\\x15I\\x00HI\\x1c\\x0bt\\x08\\x1b\\x03\\x0cBA=H\\x1f\\x002OS6R\\x0e\\x0b\\x13T\\x1d\\x06B\\x00\\n\\x00\\x1e\\x1dE^6\\x02\\x0c\\x1b\\x05\\x00\\x19\\x0e\\x06I;\\x16\\x00\\x0bU\\x04N\\x0fA\\x1a\\x0f\\x0cNIO\\x1d\\x1a\\x02<\\x11R\\x01\\x00\\x05\\x04T\\x0eRF9TA6\\x1b\\nNmy\\x1b\\x1dET\\x1c\\x0e\\x19\\x03\\x000E\\x1f\\x08I\\x01\\x0f\\x17\\nRA6^\\x00\\x0bR\\x1d\\x06\\x08U\\x13\\x00\\x11\\x00\\x1a\\x07\\x08\\x07E^<\\x1d\\x18I\\x03\\x08\\x13\\x07\\x06\\x000[V\\'R\\x00\\x1aG*\\'\\x07ES\\x1a\\n\\x19S\\x01;\\x12\\x1cM\\x08\\x00\\x05T\\x03\\x17N<\\x1aM\\'R\\x10\\x01\\x12RT\\r\\x04RNeNK\\\\t\\x0c\\x1cM\\x04\\x17A\\x00\\x06\\x1fEy\\x1ay-\\x07EN@\\x19DH\\x0cSN\\x02\\x10S\\x1c1\\x04\\x00CIdk-\\x00\\x07\\x07*_\\x005\\x17\\x08\\x05\\x02N\\x1d\\x06B\\x00\\x08\\x0e\\x1a\\x07It<=LI\\x0f\\x0f\\x10O;\\x00;[Nb\\x06\\x0c\\x02\\x0b\\x00\\x1d\\x1cE*7\\x00\\x1c\\x01E6\\n\\x16\\x14N\\x1dA\\x13\\n\\x06T1T\\x07b\\x1a\\x06\\x1aK\\x00\\x07\\x07I\\x00\\x1d\\x00I:E7\\x04\\x1cM\\x1a\\x03\\x04\\x18\\x03RI,\\x1a*\\x11\\x1dI\\n\\x08NS\\x1cEB\\x0bO\\x04\\x12\\x01t\\x04\\x1c\\tI\\n\\x0e\\x1aH\\x06\\x00:_\\x001\\x13\\rNm\\x077\\t\\x10S\\x0bO\\x1d\\x1b\\x00t\\t\\x0b\\x1f\\x00\\r\\x12T\\r\\x17L7TGb\\x06\\x06N.c1DEy\\x01\\x1aI\\x10\\x04:E\\x11\\x0c\\x05\\x02A\\x19\\nRd9^\\x00H+\\x06\\x1b@R\\x11H\\x15I\\x1a\\x0c\\x01\\x1a\\x0bsE\\x13M\\x0f\\x07\\x15XO\\x01OxIT\\'\\x02I\\x0c\\x06C\\x1fH\\x04N\\nO\\x0c\\x1d\\x01!\\x17\\x17Mc\"\\x04\\x00O\\x06H=\\x1aW+\\x06\\n\\x06GD\\x1b\\x0b\\x11O\\x1cCI:\\x061IR\\t\\x06N\\x15\\x1c\\nRD9TC\\'R\\x1d\\x01GC\\x01\\x1a\\x00\\x00d<\\x06S\\x06;\\x08\\x17M\\x1c\\x1eA\\x17\\x03\\x1dS=\\x1aA,\\x16I\\n\\x08NS\\x1cEB\\x0bO\\x1a\\x02\\x105\\x17\\x17Mc7\\x0e\\x01O\\x05A6TAb\\x10\\x08\\x1a\\x13L\\x11H\\x08ENBDS$:\\x1c\\x06\\x04\\x04\\x0bMT\\x0e\\x1cY/RE0\\x17Idmy\\x1b\\x1dET\\x06\\x00\\x1c\\x14\\r E\\x06\\x05\\x08\\x1aA=O\\x05A+\\x1aW\\'\\x13\\x02BGb\\x1b\\x11I\\x00\\x17\\x00\\x1cT\\x171E\\x16\\x08\\x08\\nA\\x03\\x1d\\x1dN?\\x1a*\\x11\\x1dI\\r\\x08M\\x11H\\nNBO\\x0c\\x05\\x00&\\x1c\\x10\\x02\\r\\x17A\\x15\\x01\\x16\\x00+SN%R\\x1d\\x06\\x0eST\\x1b\\nN\\tOcy65\\x1cR@DN1\\x18\\x0e\\x0b\\x00,RA6R\\x0f\\x1b\\tK\\rH\\x08U\\x1d\\x06\\nS65\\x1c^M\\x0e\\x01A\\x03\\x07\\x1bT=\\x1aB-\\x0bEN\\x00OT\\x1f\\rI\\x1a\\nI\\x11\\n-E\\x15\\x02Id\\x11\\x18\\x0e\\x0b\\x00,RA6R\\x0f\\x1b\\tK\\rH\\x08U\\x1d\\x06\\nS\";E\\x05\\x05\\x00\\x1a\\x04T\\r\\x1dYt\\x1aG-R\\x1e\\x06\\x0eT\\x11H\\x07O\\x17CI\\x14\\nto>\\x0c\\x10N\\x05\\x1b\\x18\\x1c\\x009TDb\\x10\\x06\\x01\\x00I\\x11H\\x04N\\nO\\x19\\x1f\\x04-E\\x06\\x05\\x08\\x1aA\\x12\\x1a\\x1cK!\\x1aM7\\x01\\x00\\rGT\\x1d\\x04\\t\\x00\\x17\\x00\\x1cS\\x01=\\x00\\\\Mcd1\\x18\\x0e\\x0b\\x00,RA6R\\x0f\\x1b\\tK\\rH\\x08U\\x1d\\x06\\nS&;\\x08\\x17M\\x06\\x00MT,\\x1dM=\\x1aO,^I\\x02\\x02TT\\x05\\x00\\x00\\x06\\n\\x08\\x01E^5\\x1e\\x0c\\x10N\\x15\\x1c\\x0e\\x06\\x00>ON)\\x0bI\\x03\\x12S\\x1d\\x0bEW\\x06\\x06\\x1d\\x16E6\\n\\x0bM\\x10\\x01\\x14T\\x1c\\x13YxSTnR\\x1a\\x0f\\x1e\\x00\\x1d\\x1cE*>\\x03\\x08\\nE \\r\\x13\\x19I\\x08\\x14\\x1a\\x04\\x0b\\x005OS+\\x11I/GL\\x1d\\x1c\\x11L\\x0bO\\x05\\x1c\\x100\\x00\\x00M\\x07\\x01\\x16Te\"L9C\\x006\\x1a\\x08\\x1aGF\\x01\\x06\\x0eYN\\x02\\x1c\\x00\\x0c7IR\\x1a\\x01\\x07\\x15\\x11O\\x10O!\\x1ac-\\x1f\\x0cN\\x08NXH&O\\x03\\nI\\x1c\\x0bxE1\\x02\\x04\\x0bA\\x1b\\x01R*\\x08VA;R\\x1d\\x06\\x06TT\\x0e\\x10N\\x05\\x16I\\x1e\\x10\\'\\x0c\\x11Mc'"
      ]
     },
     "execution_count": 4,
     "metadata": {},
     "output_type": "execute_result"
    }
   ],
   "source": [
    "cyphertext = base64.decodebytes(open('untitled.txt', mode = 'rb').read())\n",
    "cyphertext"
   ]
  },
  {
   "cell_type": "code",
   "execution_count": null,
   "metadata": {},
   "outputs": [],
   "source": []
  },
  {
   "cell_type": "code",
   "execution_count": null,
   "metadata": {},
   "outputs": [],
   "source": []
  },
  {
   "cell_type": "code",
   "execution_count": null,
   "metadata": {},
   "outputs": [],
   "source": []
  },
  {
   "cell_type": "code",
   "execution_count": null,
   "metadata": {},
   "outputs": [],
   "source": []
  },
  {
   "cell_type": "raw",
   "metadata": {},
   "source": [
    "def Dot(x, y):\n",
    "    assert len(x) == len(y)\n",
    "    return sum( x_*y_ for x_, y_ in zip(x, y) )\n",
    "\n",
    "def Norm(x):\n",
    "    return sum( x_**2 for x_ in x ) ** 0.5\n",
    "\n",
    "def Mean(x):\n",
    "    return sum(x) / len(x)\n",
    "\n",
    "def EvaluateStringChars(x: bytes):\n",
    "    assert type(x) is bytes\n",
    "    x = x.lower()\n",
    "  \n",
    "    frequencies = {'t': 0.08739176053204215,\n",
    " 'u': 0.032289144821448255,\n",
    " 'z': 0.001290096063165716,\n",
    " 'n': 0.07225354470223684,\n",
    " 'h': 0.0344814916123343,\n",
    " 'v': 0.014117570210212172,\n",
    " 'b': 0.015419914020813006,\n",
    " 'x': 0.0018575750276594962,\n",
    " 'o': 0.06581122955136501,\n",
    " 'd': 0.04111160555721127,\n",
    " 'c': 0.035596036628929996,\n",
    " 'r': 0.07735269021772412,\n",
    " 'j': 0.005580890247935234,\n",
    " 'i': 0.07767113165103719,\n",
    " 'q': 0.0007185345161935634,\n",
    " 's': 0.06326369808486056,\n",
    " 'a': 0.08012068113806069,\n",
    " 'e': 0.12333073408915543,\n",
    " 'g': 0.017914371915098613,\n",
    " 'l': 0.03795168671895094,\n",
    " 'y': 0.01524844555672136,\n",
    " 'f': 0.019580065566274604,\n",
    " 'p': 0.027194081888439352,\n",
    " 'k': 0.006054469815426446,\n",
    " 'w': 0.013154080745316257,\n",
    " 'm': 0.03324446912138743}\n",
    " \n",
    "    \n",
    "    return sum( frequencies[token] * count[token] for token in frequencies )\n",
    "\n",
    "def EvaluateStringNgrams(x: bytes):\n",
    "    assert type(x) is bytes\n",
    "    x = x.lower()\n",
    "  \n",
    "    with open('frequencies.json') as file:\n",
    "        frequencies = {key.encode('ascii'): value for key, value in  json.load(file).items() }\n",
    "    \n",
    "    count = { token: x.count(token) / len(x) for token in frequencies }\n",
    "    \n",
    "    return sum( frequencies[token] * count[token] for token in frequencies )"
   ]
  },
  {
   "cell_type": "code",
   "execution_count": 66,
   "metadata": {},
   "outputs": [
    {
     "data": {
      "text/plain": [
       "0.0038727210950960786"
      ]
     },
     "execution_count": 66,
     "metadata": {},
     "output_type": "execute_result"
    }
   ],
   "source": [
    "EvaluateString(b'Escape me never beloved, while I am I and you are you, so long as the world contains us both')"
   ]
  },
  {
   "cell_type": "code",
   "execution_count": 67,
   "metadata": {},
   "outputs": [
    {
     "data": {
      "text/plain": [
       "0.0008486532931747437"
      ]
     },
     "execution_count": 67,
     "metadata": {},
     "output_type": "execute_result"
    }
   ],
   "source": [
    "EvaluateString(b'sdlfajskdlfjalsdjflaksjdflkajsdl;kfaj sldkfj  alksdjflka jsdlfkajs ldfjalskdf jalksd flaksdjf lasjdf')"
   ]
  },
  {
   "cell_type": "code",
   "execution_count": 68,
   "metadata": {},
   "outputs": [
    {
     "data": {
      "text/plain": [
       "0.0"
      ]
     },
     "execution_count": 68,
     "metadata": {},
     "output_type": "execute_result"
    }
   ],
   "source": [
    "EvaluateString(b'^^^%%%')"
   ]
  },
  {
   "cell_type": "code",
   "execution_count": 69,
   "metadata": {},
   "outputs": [
    {
     "data": {
      "text/plain": [
       "[29, 38, 13, 9, 16]"
      ]
     },
     "execution_count": 69,
     "metadata": {},
     "output_type": "execute_result"
    }
   ],
   "source": [
    "keysize_scores = dict()\n",
    "\n",
    "for keysize in range(2, 40):\n",
    "    chunks = [ cyphertext[idx*keysize:(1+idx)*keysize] for idx in range(len(cyphertext)//keysize)  ]\n",
    "    keysize_scores[keysize] = Mean([ Hamming(chunk1, chunk2)/len(chunk1) for chunk1, chunk2 in zip(chunks[:-1], chunks[1:]) ]) \n",
    "    \n",
    "best_keysizes = sorted(keysize_scores, key = lambda x:keysize_scores[x])\n",
    "best_keysizes[:5]"
   ]
  },
  {
   "cell_type": "code",
   "execution_count": 70,
   "metadata": {},
   "outputs": [],
   "source": [
    "def BruteForceXorDecrypt(s: bytes):\n",
    "    assert type(s) is bytes\n",
    "    best_plaintext = ''\n",
    "    best_score = -1\n",
    "    best_key = -1\n",
    "    \n",
    "    for key in range(256):\n",
    "        plaintext = bytes([ key^char for char in s ])\n",
    "        score = EvaluateString(plaintext)\n",
    "        if score > best_score:\n",
    "            best_score = score\n",
    "            best_plaintext = plaintext\n",
    "            best_key = key\n",
    "                    \n",
    "        \n",
    "    return best_key, best_score, best_plaintext\n",
    "    "
   ]
  },
  {
   "cell_type": "code",
   "execution_count": 71,
   "metadata": {},
   "outputs": [
    {
     "data": {
      "text/plain": [
       "(88, 0.002786125603803808, b\"Cooking MC's like a pound of bacon\")"
      ]
     },
     "execution_count": 71,
     "metadata": {},
     "output_type": "execute_result"
    }
   ],
   "source": [
    "BruteForceXorDecrypt(bytes.fromhex('1b37373331363f78151b7f2b783431333d78397828372d363c78373e783a393b3736'))"
   ]
  },
  {
   "cell_type": "code",
   "execution_count": 72,
   "metadata": {},
   "outputs": [],
   "source": [
    "def MultiKeyXorDecrypt(s: bytes, keysize: int):\n",
    "    assert type(s) is bytes and type(keysize) is int  and 0 < keysize < len(s)\n",
    "    nchunks = len(s) // keysize\n",
    "    \n",
    "    keys = [-1] * keysize\n",
    "    scores = [-1] * keysize\n",
    "    \n",
    "    for n in range(keysize):\n",
    "        row = bytes([ char for idx, char in enumerate(s) if idx%keysize == n ])\n",
    "        keys[n], *junk = BruteForceXorDecrypt(row)\n",
    "    \n",
    "    plaintext = bytes([ char ^ keys[n%keysize] for n, char in enumerate(s) ]) \n",
    "    score = EvaluateString(plaintext)\n",
    "    \n",
    "    return keys, score, plaintext\n",
    "\n"
   ]
  },
  {
   "cell_type": "code",
   "execution_count": 73,
   "metadata": {},
   "outputs": [],
   "source": [
    "keys, scores, plaintexts = MultiKeyXorDecrypt(cyphertext, 3)"
   ]
  },
  {
   "cell_type": "code",
   "execution_count": 74,
   "metadata": {},
   "outputs": [
    {
     "name": "stdout",
     "output_type": "stream",
     "text": [
      "b'T\\x0bV\\x04BFKV\\x06Z\\x07uS ,V\\x00UG\\x07ZHBN\\x07RH_\\x0c\\x7fIWH\\x00-i\\x1dTT\\nz\\x1a\\x07,\\x1bOI\\x0e\\x1dUD\\x0c\\x04NME\\x1a[uEWA\\x00S@X\\x06]\\x05hS\\x0ebILT\\x0e\\x10XM@I-oN\\x1aI~_OES^\\x08TH\\x1b\\x1dy\\x16'\n",
      "b'O\\x16M\\x19Y[PK\\x1dG\\x1chH=7K\\x1bH\\\\\\x1aAUYS\\x1cOSB\\x17bRJS\\x1d6t\\x06IO\\x17a\\x07\\x1c1\\x00RR\\x13\\x06H_\\x11\\x1fSVX\\x01FnXL\\\\\\x1bN[E\\x1d@\\x1euH\\x13yTWI\\x15\\rCP[T6rU\\x07RcDR^NE\\x15OU\\x00\\x00b\\x0b'\n",
      "b\"T\\x0cK\\x04E[KQ\\x1bZ\\x00hS'1V\\x07HG\\x00GHES\\x07UU_\\x0bbIPU\\x00*t\\x1dSI\\n}\\x07\\x07+\\x06ON\\x13\\x1dRY\\x0c\\x03SMB\\x07[rXWF\\x1dSGE\\x06Z\\x18hT\\x13bNQT\\t\\rXJ]I*rN\\x1dT~XRETC\\x08SU\\x1b\\x1ad\\x16\"\n",
      "b'T\\x07V\\x03BJKQ\\x06V\\x07rS,,Q\\x00YG\\x00ZDBI\\x07^HX\\x0csIPH\\x0c-n\\x1dXT\\rz\\x16\\x07+\\x1bCI\\t\\x1dYD\\x0b\\x04BMB\\x1aWuBWM\\x00T@T\\x06Z\\x05dS\\tbELS\\x0e\\x1cXJ@E-hN\\x16Iy_CET^\\x04TO\\x1b\\x11y\\x11'\n",
      "b'I\\x0bQ\\x02E[KQ\\x00]\\x1auT&+K\\x00RA\\x00GHEH\\x00OHX\\nxTWO\\x06*t\\x1dSR\\rg\\x1a\\x00*\\x1cRI\\t\\x1bRY\\x0c\\x03HJX\\x1a\\\\sBJA\\x07UGE\\x06Z\\x03oN\\x0eeOKI\\x0e\\x17^J]I*iI\\x07IyYHXSY\\x0eSU\\x1b\\x1a\\x7f\\x11'\n",
      "b'R\\x07M\\x03B[MZ\\x1d]\\x07hU,7Q\\x00HA\\x0bAOBS\\x01^SX\\x0cbO[S\\x07-t\\x1bXO\\rz\\x07\\x01 \\x00HI\\x13\\x1bY_\\x0b\\x04SKI\\x01\\\\uXQM\\x1bT@E\\x00Q\\x1eoS\\x13dEWS\\x0e\\r^A[N-rH\\x16Ry_RC_E\\x0fTU\\x1d\\x11b\\x11'\n",
      "b'S\\x16P\\x19B[KQ\\x1b\\\\\\x1auN +K\\x06HG\\x1aZO_H\\x1aRU_\\x0bbOJH\\x1d-n\\x00RI\\ng\\x1a\\x001\\x1dRI\\x13\\x1dRY\\n\\x19NPE\\x1dFsXW\\\\\\x00T]^\\x1b]\\x18hT\\x13dTLI\\x0e\\x17EK]I0oI\\x07Oc_RETC\\x0eIH\\x06\\x1d~\\x0b'\n",
      "b'T\\rV\\x04D@KQ\\x06\\\\\\x07uU&,Q\\x00SG\\x07\\\\NBI\\x07TH_\\nyIPH\\x06-i\\x1bRT\\rz\\x1c\\x07,\\x1dII\\t\\x1dSD\\x0c\\x02HMB\\x1a]uEQG\\x00T@^\\x06]\\x03nS\\tbOLT\\x08\\x16XJ@O-oH\\x1cIy_IESX\\x0eTO\\x1b\\x1by\\x16'\n",
      "b\"T\\x10W\\x03E]AK\\x01Z\\x1ctT'7\\\\\\x1dRG\\x1c[OEU\\rOO_\\x17~NPS\\n0n\\x1dOU\\r}\\x01\\r1\\x1cOR\\x0f\\x1aR_\\x06\\x19IM^\\x1b\\\\r^]\\\\\\x07S[Y\\x01Z\\x1ebN\\tbRMS\\t\\x0bRPGI6nI\\x1dRtBHEH_\\x0fSS\\x11\\x00~\\x16\"\n",
      "b'R\\x16Q\\x04Y[JQ\\x00Z\\x01hT 7K\\x01RA\\x07\\\\UEN\\x1cOIX\\n\\x7fOJO\\x006t\\x1cSR\\n|\\x07\\x00,\\x00RH\\t\\x1bUB\\x11\\x03NVX\\x1b\\\\sEQ\\\\\\x07S[E\\x07Z\\x03hU\\x13eIWI\\x0f\\x17^MFT*oU\\x07HyYOCNY\\x08OU\\x1a\\x1a\\x7f\\x16'\n",
      "b'N\\x16W\\x02_APK\\x06P\\x0boN!*K\\x07NZ\\x07PDXS\\x06TUX\\x17bI]D\\x1a0h\\x1bIS\\x11g\\x1a\\r \\x01RH\\x08\\x00R_\\x11\\x04DA_\\x07ZsXPZ\\x1dSJT\\x1c@\\x04nN\\tyTL^\\x02\\nELFT*tS\\x1aCrERDUC\\x0fOU\\x1b\\x17u\\x0c'\n",
      "b'S\\rK\\x04B@AQ\\x1dV\\x1chT&1V\\x00SM\\x00ADYS\\x00TU_\\x0cyCPS\\x0c6t\\x1aRI\\nz\\x1c\\r+\\x00CR\\x13\\x1aSY\\x0c\\x04HGB\\x01WnXPG\\x1dS@^\\x0cZ\\x1edH\\x13eOQT\\x0e\\x16RJ[E6rI\\x1cT~_IOTE\\x04OU\\x1c\\x1bd\\x16'\n",
      "b'I\\x10Z\\x19DWJK\\x06]\\x07uH=7Z\\x1dSV\\x06GHEN\\x07IUD\\x00bOFI\\x1d-n\\x1dTO\\x17a\\x16\\x1a*\\nNT\\x0e\\x1aUD\\x17\\x19UAX\\x1cJtXWF\\x00S[E\\x1dQ\\x18nB\\x0f\\x7fIKT\\x0e\\x0bEVLT+~O\\x07Iy_O^NE\\x04IN\\n\\x1cd\\x16'\n",
      "b'X\\x16G\\x1fD@KP\\x06Z\\x06uH& K\\x11NA\\x01ZNBN\\x06RSY\\x00bXLN\\x06-o\\x1dTU\\na\\x1c\\x0b1\\nTO\\x08\\x1dSD\\x0c\\x05NVC\\x16Fd^QG\\x00U@X\\x07]\\x1en_\\x13sRJR\\x0e\\x16XMAI6iB\\x07XeYIEU^\\x08UH\\x00\\x1bu\\x0b'\n",
      "b'T\\nW\\x19N]VK\\x1d]\\x07oX:1V\\x01TZ\\x0bAU_U\\x00RRT\\x16bIVI\\x1d!r\\x00IO\\rz\\x00\\x0c6\\x06OH\\x0f\\x00Y_\\x11\\x19UJE\\x00PoXW@\\x01NLC\\x1b@\\x1eoS\\x14iSQT\\x0f\\x11EA[T0tI\\x1aSuERER_\\x15XS\\x06\\x00b\\x11'\n",
      "b'T\\rK\\x03YAPQO]\\x1atN1+W\\x00SZ\\x00AOYINUU^\\x11nNVH\\x060n\\x06SO\\r3\\x1d\\x1a-\\x06^N\\x0f\\x1dSY\\x0b\\x1fIVBS\\\\hDJP\\x07R@^\\x1bZ\\x1eoH\\t+NQU\\x13\\x01_L@O0hU\\x1dRy\\x16HXRC\\x19SI\\x1b\\x1bd\\x11'\n",
      "b'R\\x10P\\x04EGMK\\n]\\x1dhT& V\\x06S\\\\\\x01ZOCH\\x1a^OE\\x11xO[H\\x06+r\\x1bTS\\x0b|\\x07\\x0b+\\x01RN\\x08\\x11UB\\n\\x1fHMB\\x1b]hIP[\\x1dTFT\\x06[\\x03sU\\x0eeHJI\\x02\\x17BPGO!oH\\x1cRx_HDUC\\x04SR\\x06\\x1a\\x7f\\x1a'\n",
      "b'T\\x0bMZB]\\x02Q\\x01Z\\x00hS  V\\x06SG\\x07A\\x16BUNUO_\\x0bbIWD\\x00+o\\x1dTOTz\\x01N+\\x1cON\\x13\\x1dUH\\x0c\\x02HME\\x01\\x05u^\\x1eF\\x07SGE\\x06]\\thU\\x08bIW\\n\\x0e\\x0b\\x11JGI*rN\\x1aE~YIESEVTSR\\x1a~\\x16'\n",
      "b'N\\x0cM\\x04BALZ\\x1b]\\x1arH&7Q\\x1bUA\\x1d]SBN\\x00UDB\\x0bbNLN\\x1b*r\\x1dRN\\ra\\x1a\\x07+\\x1cCT\\t\\x00R_\\n\\x1fIVE\\x1cAr^WA\\x07TLE\\x01@\\x02sU\\x15eRLR\\x14\\x17CM@N*cS\\x1dTyDI^TE\\x08RR\\x1c\\x06y\\x16'\n",
      "b'T\\x0bK\\x03^]\\x02G\\x1dV\\x1dyT*$P\\x1cTA\\x1dZH_I\\x1bI\\x01N\\x17sS[O\\n%o\\x01UR\\x10z\\x1a\\x1a+\\x07T\\x00\\x1f\\x06Y^\\x00\\x03DEC\\x06Zs_WA\\x1dT\\\\COL\\x1edI\\x02eCDR\\x12\\x11^W@I0hR\\x01\\x00oDC__Y\\x02\\\\N\\x07\\x1c\\x7f\\x0c'\n",
      "b'T\\rQ\\x08CJVW\\x1bZ\\x01hS!1Z\\x06EA\\x00VHDI\\x0bSDB\\rbIQU\\x00,t\\x11RD\\x0c}\\x16\\x07*\\x1cCH\\x02\\x00TY\\x0c\\x02SMD\\x07WsUQF\\x0cSF_\\n\\\\\\tuR\\x13bOQT\\x0f\\rTKPO*cN\\x1cNr^CXRC\\x08RU\\x1b\\x1cd\\x1a'\n",
      "b\"T\\rP\\x02N[PK\\x17P\\x1csS='Q\\x1bNZ\\x0bAUBH\\x01TDB\\x17bX]S\\x06-t\\x16SO\\x11g\\x16\\x1c1\\x1bIO\\x08\\x11H_\\x11\\x15DVC\\x1aF~BLZ\\x1d_[E\\x06[\\x03n_\\x13yT]^\\x15\\x16XPKN6tS\\x16Rc_ICUR\\x15OU\\n\\x17b\\x10\"\n",
      "b'S\\x0cM\\x04^FKG\\x06]\\x1atS 1Z\\x0cSL\\x00WYNI\\x00IHC\\x0c\\x7fXWO\\x1d,i\\x1dIX\\x06|\\x11\\x00!\\nCN\\t\\x06UX\\x0c\\x04_MB\\x07ZuEJM\\x0cUK_\\x0bL\\toT\\x15bULT\\x1f\\x10_PAI-rB\\x16OuXBT_Y\\x0fOH\\x07\\x1dy\\x07'\n",
      "b'O\\x0bK\\x08_@]K\\x07V\\x1acS-eV\\x01HG\\x0bGNDU\\x1cRUS\\x11y_JI\\x0c0\\x7f\\x1dY\\x1d\\n{\\x07\\x07 \\x06IO\\x15\\x06UY\\x00\\x19H[X\\x1bWhSWLISAE\\x06Q\\x18nU\\x15yIQX\\x13\\x16NPAE0yN\\x17\\x00~^RE_C\\x0eRS\\x00\\x1dd\\x1a'\n",
      "b'T\\x06K\\x02CFPW\\nV\\x0b!_,&Q\\x1d\\x1cZ\\x00\\\\USD\\x0bREB\\n~ILI\\x0c!eIXX\\x00}\\x07N1\\x1cIT\\x1f\\x17YD\\x01\\x19HLE\\x01ZyI[\\x15\\x0c_J_\\x1b\\x14\\x18oU\\x13sC@T\\x03\\r^L@R,cB\\x16\\x1drSEBN\\x17\\x15SN\\x06\\x0cs\\x1a'\n",
      "b'T\\x01P\\x03B\\\\J\\\\\\x00FNrS&+ZITA\\x01AHBI\\x01OHU\\nxIMI\\n+uTST\\x0c}\\x16N-\\x1dIR\\x0e\\x1dRB\\x11\\x04DKB\\x1aAtOQ]IT@^\\x01QLiU\\x08yILS\\x08\\rXGFN-uO\\x10Ob\\x16HEUY\\x04\\x1dI\\x1d\\x1bb\\x16'\n",
      "b'E\\x16\\x18\\x19H]\\x05K\\x1d\\\\\\x06yT ,P\\x1dHG\\x07ZHD_\\x07OUN\\x111T]SN0r\\x1bUX\\rz\\x1a\\x011\\x06OI\\x0e\\x1dSU\\x0c\\x19S\\\\XTF\\x7f^\\x19\\\\\\x1bUAT\\x01]\\x05nN\\x13bILT\\x08\\x01XP]X0!S\\x10R0BTCRR\\x0fTH\\x1d\\x00d\\x16'\n",
      "b'^\\x01Z\\x1fTLGQ\\x06G\\x1bh_,,K\\x1dSG\\x01VSDO\\x0bUSS\\x06uEL^\\n!n\\x1dIH\\x17v\\x16\\x071\\x06II\\x08\\x11NB\\r\\x08IVI\\x10Qy^AK\\x0cT@E\\x1a@\\tdS\\x13\\x7fOLR\\x02\\x0b^LLN6cD\\x10EeIEIT^\\x15HU\\x17\\x11y\\x0b'\n",
      "b\"I\\x07M\\x00BACK\\x00ANd\\x00i'M\\x00RINGIN\\x07\\x00THE\\x00bELL\\x00*a\\x00ROCkIN'\\x00ON\\x00THE\\x00MIKE\\x00WhILE\\x00THE\\x00FLy\\x00GiRLS\\x00YELL\\x00*iN\\x00EcSTASY\\x00IN\\x00ThE\"\n",
      "b'T\\x16M\\x03_]\\x02F\\x06]\\x07uT&1V\\x00EG\\x01\\\\HCH\\x11R\\x01[\\nyIJS\\x070rTDT\\rz\\x1a\\x00*\\x06OI\\x1e\\x1dSB\\x0c\\x05H[ES_sCW\\\\\\x1bT]COM\\x05oS\\x0eeOQT\\x0e\\x00XKFI,iX\\x1a\\x00zYIENE\\x0fISR\\ry\\x11'\n",
      "b\"\\x06\\rQ\\tDGVQ\\x01\\\\\\x00s_'7J\\x1bHKIZD_Y\\x0bXRE\\x11yR\\x05N\\x07 o\\x1cIS\\r|\\x1d\\x01 \\x1cTU\\x15\\x00Y\\n\\x0c\\x08SZI\\x10AoXQZRUGU\\x00\\\\\\x18oT\\x08eO@S\\x15\\x0cCPL\\x07-cS\\rEtEUXUEZRO\\x16\\x1bx\\x0b\"\n",
      "b'S\\rL\\x04N[PVIP\\x1ahS *V\\x00TF\\x0bZNEO\\x00IDX\\x11cG\\x1eO\\x067i\\x11IO\\n5\\x10\\x1a1\\x1bOO\\x0e\\x1dTE\\x00\\x04HJD\\x1d@yBJ]\\x0e\\x1aG^\\x1c]\\tuH\\x0e-CQI\\x0e\\x10^M@H,cN\\x1cN\\x7fXTITC\\x14Z\\x01\\x1c\\x1bc\\x16'\n",
      "b'X\\nW\\x08E_KL\\x1bL\\x0bhT c\\x1f\\x1b_G\\x06VSIS\\x0cID_\\x11b\\x00[\\x01\\x0c,h\\x11SM\\n`\\x07\\x11 \\x06HIATNN\\x0c\\x05BVN\\x07PnIW\\\\\\x1d\\x1aL\\x11\\n\\\\\\x04dT\\x17bSQB\\x02\\r_M\\x0f\\x006eN\\x1bEeTRNHR\\x08IUR\\x110\\x1a'\n",
      "b'E\\rV\\x03NGWW\\x01G\\nyN&+M\\nHA\\r[UYS\\x1c^UB\\x06rE_H\\x13<o\\x1dSX\\x0bf\\x1b\\x001\\x16CT\\x08\\x1aNN\\x11\\x02DLX\\x01FnIJ\\\\\\n^LP\\x06N\\x14nS\\tnHPU\\t\\rUA]O*tD\\x07Ot^R^NE\\x04IU\\x11\\x10u\\x1e'\n",
      "b'Y\\x16GPE[VW\\x1dV\\x1ctU ,\\\\OY@\\r\\\\DYB\\x1cNSB\\x11eXWN\\x0c,d\\x00E\\x00\\rg\\x07\\x067\\x17TH\\x08\\x1dUNC\\x08IGC\\x16@y^KZ\\x1dNZI\\x06[\\ti^\\x13s\\x1dKI\\x13\\x11CA[H+oN\\x10\\x06rXEC_E\\x04OT\\x00\\x00d\\x0c'\n",
      "b'N\\x16A\\x08D]AJ\\x06@\\x1cyT,=P\\x0cSG\\x06AUNCNVDX\\rrRUN\\x07!r\\x07IC\\x06|\\x01\\r0\\x1bUR\\x02\\x1aYU\\n\\x08HMD\\x01FyH\\x1eE\\x0cTAU\\x1d_\\x03o_\\x15xT[X\\x08\\x0bRQ@S6cI\\x16XxSIERE\\x15XER\\x19u\\x11'\n",
      "b'T\\x0cM\\x13BFGL\\x06V\\x1duRi*P\\x00YK\\x1aZINE\\x01SHY\\x17yOP^\\x1b#b\\x1aTS\\x11m\\x1a\\x07 \\x01OE\\x14\\x1dT\\r\\n\\x02NAI\\x07[tI\\\\G\\x01SFC\\x00[\\x02~H\\x00iNLS\\x15\\x07XMLS-cT\\x1aH7YIE_R\\x15TI\\x17\\x16\\x7f\\x17'\n",
      "b'S\\x16K\\x19DVPF\\x06]\\x06z^1+]\\x0bU\\x0e\\x01]NDD\\x0bRD_\\x07rEMH\\x07;r\\x1bOS\\x17g\\x07\\x01<\\x00_I\\t\\x1cZI\\x1d\\x03EFES]rCQK\\x0cSLX\\rP\\trS\\ttRJO\\t\\rEPFY6\\x7fN\\x1dHqR^BXU\\x08\\x1dN\\x1c\\x1b\\x7f\\x1c'\n",
      "b'H\\nF\\x03C@L\\x18\\x06JHnN& F\\x06S\\x0e\\x00KOBD\\x1c^NS\\x0cyIZ\\x01\\x1f+\\x7f\\x0cTR\\x16{\\n\\x00-\\x1dH\\x07\\x0e\\r\\x1a_\\x11\\x02B]C\\x1c\\x12rTPA\\nHL^\\n]\\x03h^G}OZE\\x0e\\x16DLPN,iITIn\\x10TXUR\\x18RNR\\x1ah\\x11'\n"
     ]
    }
   ],
   "source": [
    "best_score = 0\n",
    "best_keys = []\n",
    "best_plaintext = b''\n",
    "\n",
    "for keysize in range(1, 40):\n",
    "    keys, score, plaintext = MultiKeyXorDecrypt(cyphertext, keysize)\n",
    "    print(plaintext[:100])"
   ]
  },
  {
   "cell_type": "code",
   "execution_count": 37,
   "metadata": {},
   "outputs": [
    {
     "data": {
      "text/plain": [
       "b'T\\x0cA\\x04C@KK\\x06]\\x1bhI;!T\\x1dH\\x08\\x01PU_O\\rOHB\\x0cbIW\\x07\\x070 \\x1dRI\\n}\\r\\x07-\\x1dOT\\x0e\\x1aIY\\x16\\x1fCOX\\x07\\x14sOJ\\\\\\x01Y]X\\x1b]\\x18hSAeT\\x05T\\x08\\rXJWI,iN\\x07IyCR_HS\\nIUT\\x1bs\\x0bThP^L\\x13\\x06F\\x01AC\\x001>_Fl\\x0cH[AR\\tN\\x1bV\\x17-*90rGI[GB\\x0bR\\x01RXTT\\x16=PWHOT]\\x11K\\x1d.6\\x07^\\x01rOSG\\x00T\\x1a\\x11\\x1b]YF\\x07P<N\\x11MUC\\x02GOT\\x05e\\x16\\x1ad[R\\x07@H\\x00BY\\x1f]^\\x060g|ENUV]\\x02L\\x1bIH7\\r\\x1cs\\x1aGSE\\x11\\x11\\x1cA\\x08\\x06\\x01tTA;_TW\\x17KHA_\\x08I\\x1ce=6M\\rIV\\x00\\x06NHS\\x1aJS\\x07HrYA\\x04K\\x01LKOR\\x01,y\\'h\\x1bBN@\\x00OI\\\\\\x07\\x1dPT\\x18\\\\o\\x16IF\\x1d[GS\\x1brTs\\x0b\\x0eb\\x1a\\x0703\\x06\\x1bVY\\x1dD\\x06MYX EH\\x18[Q\\\\G\\x08\\x06\\x18;\\x01C{_\\x01N\\\\\\x07CDA\\x1dTI@HE\\x17g_\\x04W_[OE\\x1c\\x071\\x00\\x1a6USO\\x0c\\x07I\\nOCC^M\\\\Xs\\x16\\x17\\x19gHGlZ\\x1c\\x00{\\x02\\x08,kO\\x07\\x08c*rF\\x1aUHS\\x17\\tcP\\x01QO\\x1aATMRN\\x7fS\\x00c^OWRY\\x1dn\\x11\\x1eI]L\\x1bHx\\x111bR^\\x12OM\\x19\\rcIOeIS\\x01PTZUZ\\x11\\x07GOYP9B\\x11\\x19THZS\\x077>d\\nNnIO\\x1cP\\x1fAN\\n\\x01\\n\\x1b\\\\O\\x06mI\\x06.nH\\x08\\x15DR\\x00~\\x13\\x12+\\x1bTFZ\\x1cX\\x1ceNXTTUSp]\\x06\\x1fNH\\x15SSP\\x13tNcBSE\\x1aLS\\x07\\x01D\\x1b\\x07E^I^rB\\x01\\x04FWYHJS\\x0f,do*\\\\\\x1dSACMX\\x11\\x06MH\\x00\\x05Ca\\x16^\\x027sGO\\x06]\\x06c\\x02\\x00iT\\x1dNTDF\\x1cENDU\\x1dKBaT\\x1bTE\\x1aIS\\r\\x1c\\x000\\x12\\x1b6RT\\x10A\\x03\\x1b+p\\x07D\\x1at\\x00Tq@\\x06]\\x0eOAE\\x1bX\\x06x\\x07\\x11y\\x06TO\\x00\\x00\\x00\\tB\\x16\\x1aMNI\\x0cr\\r\\x1bILAM\\x006*7g\\x0f\\x13!\\x1d\\x18\\x1a\\x1eE\\x17eI\\x15\\x07OH_Cu_\\x17\\x04_[\\x0f\\x1aFZ\\x06y\\x12TgUONQ\\x1c\\x10W^Tbi^\\x00B<I@B\\x1dJL\\x1dN\\x11\\x0fh\\x1a\\x1ab\\x06LEMIHOITED]S\\x16vMX@\\x1d\\x1cFETS\\x0fsNcET\\x1dn\\x0eE[RE\\x0fTUK\\x1dRi\\rHT\\x1dFAE\\x1bL\\x13w\\x14T\\x7f\\x00\\x06^\\\\\\x01RO\\x11\\x0eUIY\\x1a&c\\x06\\x14@\\x13\\x01lR\\x01\\x01D0>\\x07yXL\\x1b\\\\\\x1d\\x06_A\\x19_IQ_^d\\r;\\x7fOH\\x08GITB6\\x02UhV\\x11\\x07`^QIA\\x0c\\x1aK^\\x06CoN[CN\\x1a\\x06O^I\\x17y\\x16\\x01x\\x06*i[\\x19\\x17TRAKA[HJmEVKSNAY_^\\x03c\\x1f\\x07\\x7fB\\x00BM\\x1bUS\\x06~n\\x1cM\\x07MsCY_\\x0fBMT\\x06]\\x10uR\\x1bcGT\\x00K\\x1bR\\x1aB\\nT\\x1b\\rYR ;s\\x0e^F[\\x1dOZ\\x02;T\\x15b]JC\\x0e\\tCSAOFUD\\x1d]a]E\\tJ_GRWT\\x00\"Ri\\x1cr\\x1aJ\\x13\\x05T\\x05NT=GKTCt\\x1b\\x16\\x08\\x06tTPRH\\x1a+\\x1c\\x0b)bX\\x04A\\x0fAT\\rinNXHT:_TMRNL^UB\\x07hTD-bRR\\t\\x16AU\\x17\\x10WB\\x1d\\x01E7YGKM\\x1a\"bSRIhS\\x1b1\\x1eL\\x01X\\x0c_F\\x0c\\x1cS_TT\\x0c!EN\\x1fJ@A\\x00\\x04DC\\x7f\\x1a\\x11mC\\x000a\\x02XSC\\x0fT\\x0b\\x00SGxY\\x00\\x04QSICRU\\x16iI\\x1fgRXIA\\x1fRNW\\rNO\\x00-nuX\\x1b\\x05HNATF\\x06\\x10y\\x11NxX\\x00[\\x0e\\x02N]P\\x17X\\n\\x1d-iBIS\\x1eMA\\x15Z^OT\\x7f\\x1cQdC\\x1bB\\x04TSI\\x1b\\x19JACB\\x00:^I\\x1eOCGE\\x17T\\x01tN\\x13cCQT\\x13csNCH\\x00\\x16D\\x1aeh\\x0cQJ\\x00aAY\\x17\\x1b\\x06b\\x03\\x16rYFC\\x1f\\x06BDDTV^RXP\\x7f]B\\x04\\nAAT,n\\x04p\\x13\\x16nNRN\\x13\\x1eSIYS]\\x0bQW^=D\\x10\\x19~IOE\\x06I\\x07,\\x12\\x07 \\x1cN\\x0fWOIU\\n^--psa3\\x0bqXTUISZ\\x06ot\\x1cTo_Z\\x16\\x0e\\rXL\\x00I!\\x06PSOt\\\\RM\\x10\\x07AZTBIz\\x06\\x1ft\\x00L\\x05A\\x1c\\x1bIIT0nDSCxEEET\\x01AGOH\\x00,\\n\\x01i\\x1bRUO\\x13ZCBTQTF]\\x11aCJGSU\\t=hTTa\\x1b\\x07`\\x07\\x07I\\x13\\x06K\\x1cX\\x1cIOO[\\x0caBX\\x18ZTA\\\\\\x04U\\x001\\x05CuTXD]N\\x00+g\\x08I\\x00KK\\x04=cEA\\x07Y[\\x1cS^\\x18}\\x1d\\x1b1\\x01ZDHTY\\x01_CJ^N@]x\\x11ZKE\\x07\\x05OB\\x1b\\x070Nc+oAS[\\x0c\\x00VC\\x0c\\x1aHSR\\x0efC\\x11CAI\\x15]^CIf\\x1c\\x17`R\\x01\\x07\\x13LTLTIcCAAS=vWVY\\x1a8kDO\\x1db\\x1bO`HY\\x06C\\x06RSZ\\x1dI\\x01OIC-ES^\\x00TP\\x1dTT\\x07kS\\x0f{IT[\\x03aaP\\x0fOYSOTSgD\\x06PUB\\x08\\x15ICTe\\x1aTlNXHY\\x06S\\x1b\\x0c\\x1aSRI\\x01IzCCKUB[G\\x07;:~\\x19IoTUO[\\x11T@G\\x15]DS\\x1aOb\\x0cRLB\\x1bcnm\\x16\\x1bc\\x1dUh\\x1f\\x1d0%0TDA\\x19SH\\x07UXoESCOC\\x0fFOQ\\n1\\x0fIKBOPT\\n\\x1frP\\\\H\\x0c7tYvCOUE^\\x08_\\x10\\x1c\\x000\\x16OtZTU]HSHE\\x1dIT\\x1a\\x00PbASW\\x0b\\x01(tS_\\x11iT\\x07+HO\\x07\\x15\\x1cI\\x18\\\\\\x06T\\x01\\x07BB<GRWE\\x0c\\x14i\\x1bMDy\\x1b\\x070\\x1dM_G\\x1c^R\\x0bTCTWTC\\x10b\\x02ETQIWPO\\x01t_TB\\x1bQ\\x1a\\\\\\x13^DX\\x1aO\\x00^NVtR\\x06HTLP\\x1dGT\\x08mT\\x08yOC\\x0030SR\\x0c\\x00U@LWSb\\x01T\\\\\\x1d\\x07@T^\\x06\\tu\\nI_\\x1bIOAS]T\\x11IUSAI\\x1b\\x17tRQ\\x1dJFFSURt\\x10\\x02sTOY\\x13~oD\\x11\\x1aNCM\\x1aH=\\\\HMAOQ\\x1dMI\\x07tU\\x04s\\x1b^TF\\x01\\x06IO\\x06\\x1ac\\x01\\x08\\x08 D_\\x19MC\\x08TOVC7NydH\\x11\\x07\\x0eG\\r\\x00C\\x1a\\x1aK^\\x06HbVD\\x08\\x1d0mbCSSb\\x1cT|CAQK\\x07\\x1bH\\x16\\x00AANN\\x07*uu\\x03\\x00[F^\\x1aoSi\\x1f\\x056R\\nMHTIT\\x06~~TUU\\x0c\\x7f\\x0cX@NT\\x0eGCH\\nx\\x1cH+NOT\\x1eTTU\\rKITOu\\x06cPT\\x0eNJPQW\\x1b\\x00*T~\\x11T\\x06^A\\x00\\rU\\r\\rB\\x1bM\\\\T WNM\\x02^Z\\x1c\\x07ETn\\x17CeZY\\x079N~\\x0f^\\x07\\x0b\\x06ROI:WBWODF\\x1dCB\\x18d\\x06\\x03)RRHa e\\x10\\r:US\\x1dYPs\\x0c\\x17BQ\\x02\\x08V^\\x1b*g\\x17H\\x07bRR\\x0e\\x07E\\x1bG\\rQXU\\x1cD0\\x11G\\x05LS\\\\\\x0c\\x06U\\x061O\\x1as\\x02\\x00CR\\nQ\\x16M\\x06E\\x06XTOtCD\\x1f\\'iPTII\\x0biN\\x1fhRCR\\x0e\\x10RB\\x17\\x01HC\\x00uRx\\x07\\x0c@N\\x01\\\\HC\\x1c\\x11m\\x07\\x11c\\x19IUA\\x0cBNTH\\'hO\\x07OoA^KRJA^LI\\x1asD\\x08dY\\x00^A\\x00\\x06H\\x16\\x10O\\x04NV\\x16zTC\\x19+tZH\\x1bL\\x15\\x7f\\x1dG,D\\x08S\\\\\\x18X\\x06V\\x0c\\x06\\r\\r\\x07mtIRWVO\\x06\\x00Z\\x1a\\x16l\\x06\\x11xT\\x1d-90OT\\x0cRHT\\x1c]Bt\\x0cH[AR\\x0et\\x1bL\\x0f~N\\x04uWI\\x16\\x13dTR\\x1dT_CH\\x1dCx\\x11_A\\x0eD\\x15\\x03TR\\x1avTtXU\\x06D\\\\\\x04_\\x1d^\\x1d\\x10\\x0bGQT SSVY_\\x02AHBI\\x7f\\x1a\\x07#\\x1cI\\x06G\\x1c\\x00RD\\x10@\\x07,0b|R\\x07\\x14\\x17\\x1cuSZ_\\x06c\\x11\\x15b\\x1aLO@\\x1fD\\x1cA\\x1c\\x1bH^S\\x7fzH\\x17\\x03PH\\tLNO\\x1dsO\\x16~Y\\x01\\x05T\\x1bRPN\\x1dNB\\nECy\\x0cAK\\x00b_L\\x0eBOx\\x1b\\x0fh\\x1bGT@\\x1fD\\x06]\\x01NTN\\x18voCJFTNL\\x17YT\\r=N\\x0edTPR\\x0e\\x1d^\\x1cN\\x01I\\n\\x01[C &pYD\\x1dW_SHT?\\x1b\\x076DNBT\\x00E\\x01P\\x07CIWK\\x04d\\nRLFD\\x08ZUU\\x1fhT\\x18cRRI\\x0c\\x00I\\x02FCCTT\\x10UtT\\x15\\x19*-7VZ\\x0bIc\\x06\\x08x\\x0cFSF\\x02Y\\x01F\\x00IUX\\x17mo\\\\\\x11\\x02ET\\x19\\x1coI\\x04iS\\x1be\\x17OLVT\\x1dJTIHTAI\\n\\x17aWBE\\x1aFNJMTjI\\x01j_\\x1dKQ\\x07T_\\x0c\\x03OO\\x1bX\\x116CD\\x19YOJ\\x1dT\\\\\\x10,\\x1a\\x1a;\\x06I]ZKIHCe}W\\\\B\\x06tDGP\\x1dA]\\x1cJ_\\x00|\\x00\\x07b_\\x17f\\x0f\\x03THX\\x02^\\x1bVNT{TTKHBB\\x00-a\\x18p\\x17IbSA\\x1c\\t\\x12\\x01OA\\r\\x07LBIDx\\x00\\x06SORAB\\x1dT\\x04uNeb\\\\X\\x1a@\\r\\x0c\\x01r\\x06WC\\x00\\x1aE,ExMPB\\x0fEH\\x1aeA\\x02\\x08u\\x07IUT\\x10\\x1fZDHJU\\x1dJXdXX\\x19*'"
      ]
     },
     "execution_count": 37,
     "metadata": {},
     "output_type": "execute_result"
    }
   ],
   "source": [
    "plaintext"
   ]
  },
  {
   "cell_type": "code",
   "execution_count": null,
   "metadata": {},
   "outputs": [],
   "source": []
  }
 ],
 "metadata": {
  "kernelspec": {
   "display_name": "Python 3 (ipykernel)",
   "language": "python",
   "name": "python3"
  },
  "language_info": {
   "codemirror_mode": {
    "name": "ipython",
    "version": 3
   },
   "file_extension": ".py",
   "mimetype": "text/x-python",
   "name": "python",
   "nbconvert_exporter": "python",
   "pygments_lexer": "ipython3",
   "version": "3.10.6"
  }
 },
 "nbformat": 4,
 "nbformat_minor": 4
}
