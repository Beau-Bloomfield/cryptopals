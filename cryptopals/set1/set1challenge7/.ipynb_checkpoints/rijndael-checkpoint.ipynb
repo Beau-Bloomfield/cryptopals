{
 "cells": [
  {
   "cell_type": "code",
   "execution_count": 1,
   "id": "19320fdd-b85c-4ebb-b8a8-e117a250fcbd",
   "metadata": {},
   "outputs": [],
   "source": [
    "def RijndealMultiply(a: int, b: int):\n",
    "    m = 0b100011011\n",
    "    assert ( { a, b, m } & {*range(0xFFFF)} ) == { a, b, m }\n",
    "    \n",
    "    A = [0] * 8\n",
    "    B = [0] * 8\n",
    "    M = [0] * 16\n",
    "    Z = [0] * 16\n",
    "    \n",
    "    for n in range(8):\n",
    "        A[n] = 0b1 & ( a >> n )\n",
    "        B[n] = 0b1 & ( b >> n )\n",
    "    for n in range(16):\n",
    "        M[n] = 0b1 & ( m >> n )\n",
    "    assert { *A, *B, *M, *Z } <= {0b1, 0b0} \n",
    "        \n",
    "    \n",
    "    for a_idx in range(8):\n",
    "        for b_idx in range(8):\n",
    "            bit = A[a_idx] & B[b_idx]\n",
    "            assert bit in {0b1, 0b0}\n",
    "            Z[ a_idx + b_idx ] ^= bit\n",
    "            \n",
    "    Degree = lambda polynomial: max( exp for exp, val in enumerate(polynomial) if val ) if 0b1 in polynomial else 0              \n",
    "    degree_z = Degree(Z)\n",
    "    degree_m = Degree(M)\n",
    "    assert degree_m == 8\n",
    "    assert degree_z > degree_m\n",
    "    \n",
    "    diff = -1\n",
    "    \n",
    "    while ( diff := Degree(Z) - Degree(M) ) >= 0:\n",
    "        Mshift = [0] * diff + M\n",
    "        for exp in range(1+Degree(Z)):\n",
    "            Z[exp] ^= Mshift[exp]\n",
    "    \n",
    "    return sum( val * 2**exp for exp, val in enumerate(Z) )"
   ]
  },
  {
   "cell_type": "code",
   "execution_count": 2,
   "id": "b5749911-f20e-483f-9910-97fb5e0bbff9",
   "metadata": {},
   "outputs": [
    {
     "data": {
      "text/plain": [
       "1"
      ]
     },
     "execution_count": 2,
     "metadata": {},
     "output_type": "execute_result"
    }
   ],
   "source": [
    "RijndealMultiply(0x53, 0xCA)"
   ]
  },
  {
   "cell_type": "code",
   "execution_count": null,
   "id": "e320095b-8014-4b0d-818f-db81a472220e",
   "metadata": {},
   "outputs": [],
   "source": []
  },
  {
   "cell_type": "code",
   "execution_count": 19,
   "id": "f3c13105-4d1c-4c6a-be3a-b55a9ac521bf",
   "metadata": {},
   "outputs": [
    {
     "data": {
      "text/plain": [
       "\u001b[0;31mSignature:\u001b[0m \u001b[0mlist\u001b[0m\u001b[0;34m.\u001b[0m\u001b[0mindex\u001b[0m\u001b[0;34m(\u001b[0m\u001b[0mself\u001b[0m\u001b[0;34m,\u001b[0m \u001b[0mvalue\u001b[0m\u001b[0;34m,\u001b[0m \u001b[0mstart\u001b[0m\u001b[0;34m=\u001b[0m\u001b[0;36m0\u001b[0m\u001b[0;34m,\u001b[0m \u001b[0mstop\u001b[0m\u001b[0;34m=\u001b[0m\u001b[0;36m9223372036854775807\u001b[0m\u001b[0;34m,\u001b[0m \u001b[0;34m/\u001b[0m\u001b[0;34m)\u001b[0m\u001b[0;34m\u001b[0m\u001b[0;34m\u001b[0m\u001b[0m\n",
       "\u001b[0;31mDocstring:\u001b[0m\n",
       "Return first index of value.\n",
       "\n",
       "Raises ValueError if the value is not present.\n",
       "\u001b[0;31mType:\u001b[0m      method_descriptor\n"
      ]
     },
     "metadata": {},
     "output_type": "display_data"
    }
   ],
   "source": [
    "?list.index"
   ]
  },
  {
   "cell_type": "code",
   "execution_count": 51,
   "id": "11ae834f-d1d7-44f5-8ddc-c53d0612573d",
   "metadata": {},
   "outputs": [
    {
     "data": {
      "text/plain": [
       "['__annotations__',\n",
       " '__class__',\n",
       " '__delattr__',\n",
       " '__dict__',\n",
       " '__dir__',\n",
       " '__doc__',\n",
       " '__eq__',\n",
       " '__format__',\n",
       " '__ge__',\n",
       " '__getattribute__',\n",
       " '__getitem__',\n",
       " '__gt__',\n",
       " '__hash__',\n",
       " '__init__',\n",
       " '__init_subclass__',\n",
       " '__int__',\n",
       " '__le__',\n",
       " '__lt__',\n",
       " '__module__',\n",
       " '__ne__',\n",
       " '__new__',\n",
       " '__reduce__',\n",
       " '__reduce_ex__',\n",
       " '__repr__',\n",
       " '__setattr__',\n",
       " '__setitem__',\n",
       " '__sizeof__',\n",
       " '__str__',\n",
       " '__subclasshook__',\n",
       " '__val__',\n",
       " '__weakref__']"
      ]
     },
     "execution_count": 51,
     "metadata": {},
     "output_type": "execute_result"
    }
   ],
   "source": [
    "dir(x)\n"
   ]
  },
  {
   "cell_type": "code",
   "execution_count": null,
   "id": "47fb33e3-e54d-47b5-b02a-604fe0aa116c",
   "metadata": {},
   "outputs": [],
   "source": []
  }
 ],
 "metadata": {
  "kernelspec": {
   "display_name": "Python 3 (ipykernel)",
   "language": "python",
   "name": "python3"
  },
  "language_info": {
   "codemirror_mode": {
    "name": "ipython",
    "version": 3
   },
   "file_extension": ".py",
   "mimetype": "text/x-python",
   "name": "python",
   "nbconvert_exporter": "python",
   "pygments_lexer": "ipython3",
   "version": "3.10.6"
  }
 },
 "nbformat": 4,
 "nbformat_minor": 5
}
