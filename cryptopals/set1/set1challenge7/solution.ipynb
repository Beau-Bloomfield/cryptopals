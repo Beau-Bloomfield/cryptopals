{
 "cells": [
  {
   "cell_type": "code",
   "execution_count": 10,
   "id": "d32336fe-5cb3-4965-9680-033dfdba5fad",
   "metadata": {},
   "outputs": [],
   "source": [
    "# I wrote my own implementation of AES in rijndael.ipynb, but it seems to have a small bug...\n",
    "# Rather than track that down, and for the sake of stability, I'll use a more reliable implementation instead\n",
    "# I know this seems like cheating... but it's an officially reccomended solution by the administrators of Cryptopals at the link below\n",
    "# https://research.nccgroup.com/2021/12/10/announcing-ncc-groups-cryptopals-guided-tour/\n",
    "# !conda install pycryptodome -y"
   ]
  },
  {
   "cell_type": "code",
   "execution_count": 11,
   "id": "5dfed78e-dd76-45eb-a9fa-aca6ab239f33",
   "metadata": {},
   "outputs": [],
   "source": [
    "from Crypto.Cipher import AES\n",
    "key = b\"YELLOW SUBMARINE\"\n",
    "cipher = AES.new(key, AES.MODE_ECB)"
   ]
  },
  {
   "cell_type": "code",
   "execution_count": 12,
   "id": "b12a9655-d5d7-42c3-a737-12474dde0294",
   "metadata": {},
   "outputs": [
    {
     "name": "stdout",
     "output_type": "stream",
     "text": [
      "b'\\t\\x120\\xaa\\xde>\\xb30\\xdb\\xaaCX\\xf8\\x8d*l7\\xb7-\\x0c\\xf4\\xc2,4J\\xecAB\\xd0\\x0c\\xe50\\xdd1\\xb8\\xc20?\\xefzu\\x03[\\xd0K<E\\xce\\r\\xb9:k\\x8f(1\\xb0\\x18\\xe80\\xd9\\xb2\\xe2\\xdbsK\\x91\\xf5\\xca}\\x85\\r\\x10@`\\x13\\xcb \\x84J\\xad\\x8dJ\\xcb\\xe1\\xc7\\x9c\\xca\\x94\\xbbsv\\xc9\\xdf+\\x91\\x03\\xe6\\xca\\xca\\x8c\\xae\\xc5\\xcf\\x847\\xf3\\xfbmw\\xeb-/\\xffV\\x9c<\\xe5&\\xf0(\\xed`l\\x8c\\x8eX%\\xcd\\xa0\\x98\\x06\\x1a\\xc8\\xd7\\xe6\\tm\\xa5\\x85\\x91?d\\xb1\\xb4\\x08\\x10\\xf6h\\xfc4[\\x8d{A\\x86\\xf8p\\x02\\x0e[\\xdd\\xa3a\\x18\\x89\\xe0\\xf4\\xec\\x04\\x11\\xc3{\\xca8\\'\\n\\x9aQ\\xa7:\\xae\\xa7b\\xf3}\\xe4o \\x0eW\\xf66D\\xc6\\xcd\\xd2\\x80\\xdb\\xf5\\x1a\\xbc\\xb9\\x11\\xefn\\xba\\x90%\\xa2by\\xab0\\x12\\xd3$\\x81Kw?\\x94\\xed\\x81\\xe8{\\'\\xe8D\\xe94t\\xb8z-\\xf1l\\xc7\\xc8\\x02\\x8dmE\\x87\\xa2/\\xf9\\xcd\\xc4BR*oT\\xe6\\x0b\\xa0\\x16W\\x94\\xdb\\xb8\\xaa|(\\t\\x94R\\x06\\x0b\\xc2\\xc17s\\xdc&\\xec\\xa7\\xf3\\xf6\\xc1p|\\xb6,\\xfa\\x97\\xda\\xcb\\xd9\\xb2\\xe1\\x06\\xddwC\\x1c\\xa1\\x86\\xed\\x07\\xd3\\xe2J\\x8f\\xab(I\\xe5\\xf9d=Q\\xa6)i\\xf6w\\x11\\xd6\\xd1\\xd6\\xf3\\xeb\\xae\\xad\\x02\\xb2\\\\\\xde1)\\xe1\\xa3h\\xa2\\xcez:\\xf6\\xc420\\xf9\\xa5\\x85\\xeck3S\\x8a\\x89\\x85pg]2\\x14P\\xd5\\x1fF\\\\\\x04\\xa5.\\x85e\\xcb\\x0c\\xcd\\xe9\\x90\\x17}\\x1e\\xcd\"G~\\x95\\xbb\\rQ\\xf3\\xc2\"\\xf2z$\\xc9D\\xaa\\x15S\\n8\\xdc\\xf5\\xee\\xa6rW\\x0ee2\\xb0&\\xb6\\x9d\\x0c\\xff\\x88L2\\xa2\\xbe\\xa4=\\xe9\\x0b\\xbfW,\\x9bS\\xda\\xd8\\xb6fl\\x0fT\\x8f<\\xfc\\xcd\\xbf\\xe0\\x15{P\\xa8\\x10\\r\\xe30<\\xff\\x0btU\\xfa\\x0e\\xb0Fpr\\xc6\\x8b9e\\x0f\\xb4_\\xd1\\xcbua\\x94\\xac\\x17\\x13\\xb8\\x06\\x1f\\xf6\\xdbJ\\x10\\x08)\\n\\x8c\\xaa\\xa5$\\x12\\xe7\\x19\\xdcs\\xc7\\x01Z{d)\\xf7;\\x1e\\xbes\\x94\\t\\xddK\\xfcW\\xb2\\xfbJ\\x9a\\xe8|\\xf1M\\xe8_\\xa4|38\\xcc\\x079\\xf5\\xda9\\xb7\\x08\\x03\\xa0)Bo\\x1cF\\xd0\\xbd}L\\x11\\x87\\x89\\x83\\xf7\\x0b(\\x1ecQ\\xcb2\\xb5\\xfa*\\xac\\xa9%\\xf1I[\\x93\\xbd\\xc0\\xd2\\x05\\xd2\\xa7\\xce\\x0biV\\x16\\x0c\\x1a\\xc8\\xec*\\xe3\\\\]\\x15 \\x96\\xd3\\xf1\\x01I\\xce\\xdc\\'\\r\\xcd\\xd3\\xa5\\x93\\x86\\xb5\\xb9.)\\x80:\\xdeK\\xf5\\xce\\xc8\\x93\\x86\\x08\\xc6\\xed\\n\\xf4\\x96p\\x03\\x17\\xdcS\\x84\\xa1b\\xee\\x9e\\xb9\\x89\\x96,\\xff|\\xfa\\xab\\xd1\\x9c\\x8a\\xd7\\x91\\xe3\\xee\\x81/SH\\xe2N\\x1f2\\x94\\xa0\\xe7\\x1b\\xd7\\xf2\\x98w\\xd3Y\\x14q\\x1c\\xa7\\x9f\\x03\\x7f\\xaa\\xd7\\x16,\\xfd\\r*\\xbc\\xd2\\xb4y)\\xfb>3\\xe5n\\xab\\x96z\\xcd\\x8f|\\xfd#\\xf4\\x03\\xa5\\x11\"\\xbfM\\x16\\xef\\x82\\xb3\\xdf\\xe0\\x7f\\xea\\xb8M\\x1c,;4L\\x8c\\xc43$\\xbf\\x1f\\xed5\\xcf\\x10q\\xf6\\xfa\\xa1\\x1c\\xa42\\xb3\\xff\\x9aD\\xd1\\xcb\\xeb\\x80z\\xfa\\xddr\\xae\\xe1v\\xf3,#\\x81\\xcf@\\xe8\\x14\\x0c7\\xbeK\\xb1\\x1b\\x02j\\xe0*q\\x92\\xdf\\x9e\\n\\xdcR)L\\xcd\\xb5s\\'\\xfef\\xcf\\xa8\\xf9x5\\x93I\\xf3,\\xcc\\xa91R84\\xb8m\\x84\\xc1h\\xdf\\xeeA\\x87\\x0e\\x00]\\xcd\\x05\\x81]\\xe7\\x1fS\\xcc\\x80([\\xa6\\xa2\\xd7v\\xbc\\x87\\xfb=\\x8b\\x91eU\\x12C{g\\x1e\\xb5\\x08@\\xae\\xb2\\x15\\x06\\xab\\x85\\xd0\\xbd&Qs\\x164\\xf1J\\x91\\xa4\\x04\\x06\\xcci0&!\\xee\\x9a{b\\\\\\x826\\x87^\\xd7i9\\x8d\\x8d\\x7f\\x95\\xcf#@\\xb4\\t\\xf8BGt\\'L\\xe6\\xdd\\xde\\x99\\x1c\\xe4>\\x03C\\xe1\\xae\\xce6\\x1a\\x08\\x91E\\x12\\xd9\\x1dh\\x11]m\\xa08\\xfd\\x88<\\xc6T\\\\\\x0e\\xbdl\\xad\\xe0l\\xc0\\xf5wqO}\\xf7%O\\xe7\\xf2o\\x8d\\xea\\x1b6\\xdc\\xc0\\\\gO:\\x92\\x9fk$eqg\\x97\\xfc\\xd24s\\xdd\\x97#S\\xac\\xd6\\x8d\\x1fnq\\x1c\\xa3n\\xcb\\x95\\x9f[x\\x10\\x91&\\xe8\\x0e\\xcahy\\xb5\\xdem/\\xc0\\xdf\\xce\\xe0\\xa6\\x13\\x8a&7h'\n"
     ]
    }
   ],
   "source": [
    "import base64\n",
    "with open('cyphertext.txt', mode = 'rb') as file:\n",
    "    cyphertext = base64.decodebytes(file.read())\n",
    "\n",
    "print(cyphertext[:1000])"
   ]
  },
  {
   "cell_type": "code",
   "execution_count": 16,
   "id": "2602f3e9-be90-4c37-90a2-5753c05ec6cb",
   "metadata": {},
   "outputs": [
    {
     "name": "stdout",
     "output_type": "stream",
     "text": [
      "I'm back and I'm ringin' the bell \n",
      "A rockin' on the mike while the fly girls yell \n",
      "In ecstasy in the back of me \n",
      "Well that's my DJ Deshay cuttin' all them Z's \n",
      "Hittin' hard and the girlies goin' crazy \n",
      "Vanilla's on the mike, man I'm not lazy. \n",
      "\n",
      "I'm lettin' my drug kick in \n",
      "It controls my mouth and I begin \n",
      "To just let it flow, let my concepts go \n",
      "My posse's to the side yellin', Go Vanilla Go! \n",
      "\n",
      "Smooth 'cause that's the way I will be \n",
      "And if you don't give a damn, then \n",
      "Why you starin' at me \n",
      "So get off 'cause I control the stage \n",
      "There's no dissin' allowed \n",
      "I'm in my own phase \n",
      "The girlies sa y they love me and that is ok \n",
      "And I can dance better than any kid n' play \n",
      "\n",
      "Stage 2 -- Yea the one ya' wanna listen to \n",
      "It's off my head so let the beat play through \n",
      "So I can funk it up and make it sound good \n",
      "1-2-3 Yo -- Knock on some wood \n",
      "For good luck, I like my rhymes atrocious \n",
      "Supercalafragilisticexpialidocious \n",
      "I'm an effect and that you can bet \n",
      "I can take a fly girl and make her wet. \n",
      "\n",
      "I'm like Samson -- Samson to Delilah \n",
      "There's no denyin', You can try to hang \n",
      "But you'll keep tryin' to get my style \n",
      "Over and over, practice makes perfect \n",
      "But not if you're a loafer. \n",
      "\n",
      "You'll get nowhere, no place, no time, no girls \n",
      "Soon -- Oh my God, homebody, you probably eat \n",
      "Spaghetti with a spoon! Come on and say it! \n",
      "\n",
      "VIP. Vanilla Ice yep, yep, I'm comin' hard like a rhino \n",
      "Intoxicating so you stagger like a wino \n",
      "So punks stop trying and girl stop cryin' \n",
      "Vanilla Ice is sellin' and you people are buyin' \n",
      "'Cause why the freaks are jockin' like Crazy Glue \n",
      "Movin' and groovin' trying to sing along \n",
      "All through the ghetto groovin' this here song \n",
      "Now you're amazed by the VIP posse. \n",
      "\n",
      "Steppin' so hard like a German Nazi \n",
      "Startled by the bases hittin' ground \n",
      "There's no trippin' on mine, I'm just gettin' down \n",
      "Sparkamatic, I'm hangin' tight like a fanatic \n",
      "You trapped me once and I thought that \n",
      "You might have it \n",
      "So step down and lend me your ear \n",
      "'89 in my time! You, '90 is my year. \n",
      "\n",
      "You're weakenin' fast, YO! and I can tell it \n",
      "Your body's gettin' hot, so, so I can smell it \n",
      "So don't be mad and don't be sad \n",
      "'Cause the lyrics belong to ICE, You can call me Dad \n",
      "You're pitchin' a fit, so step back and endure \n",
      "Let the witch doctor, Ice, do the dance to cure \n",
      "So come up close and don't be square \n",
      "You wanna battle me -- Anytime, anywhere \n",
      "\n",
      "You thought that I was weak, Boy, you're dead wrong \n",
      "So come on, everybody and sing this song \n",
      "\n",
      "Say -- Play that funky music Say, go white boy, go white boy go \n",
      "play that funky music Go white boy, go white boy, go \n",
      "Lay down and boogie and play that funky music till you die. \n",
      "\n",
      "Play that funky music Come on, Come on, let me hear \n",
      "Play that funky music white boy you say it, say it \n",
      "Play that funky music A little louder now \n",
      "Play that funky music, white boy Come on, Come on, Come on \n",
      "Play that funky music \n",
      "\u0004\u0004\u0004\u0004\n"
     ]
    }
   ],
   "source": [
    "plaintext = cipher.decrypt(cyphertext)\n",
    "print(plaintext.decode('ascii'))"
   ]
  }
 ],
 "metadata": {
  "kernelspec": {
   "display_name": "Python 3 (ipykernel)",
   "language": "python",
   "name": "python3"
  },
  "language_info": {
   "codemirror_mode": {
    "name": "ipython",
    "version": 3
   },
   "file_extension": ".py",
   "mimetype": "text/x-python",
   "name": "python",
   "nbconvert_exporter": "python",
   "pygments_lexer": "ipython3",
   "version": "3.10.6"
  }
 },
 "nbformat": 4,
 "nbformat_minor": 5
}
