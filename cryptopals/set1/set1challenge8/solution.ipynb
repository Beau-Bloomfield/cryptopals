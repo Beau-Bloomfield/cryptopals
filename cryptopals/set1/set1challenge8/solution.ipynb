{
 "cells": [
  {
   "cell_type": "code",
   "execution_count": 1,
   "id": "7ae123a4-0210-40c4-aa32-3c5fa9bc4442",
   "metadata": {},
   "outputs": [],
   "source": [
    "import base64\n",
    "with open('ciphertexts.txt', mode = 'r') as file:\n",
    "    ciphertexts = [ bytes.fromhex(line) for line in file ]"
   ]
  },
  {
   "cell_type": "code",
   "execution_count": 2,
   "id": "fb86534c-8495-4bfc-8896-83374a5faa80",
   "metadata": {},
   "outputs": [
    {
     "data": {
      "text/plain": [
       "b'\\x8a\\x10$\\x7f\\x90\\xd0\\xa0U8\\x88\\x8a\\xd6 X\\x82\\x19o_m\\x05\\xc2\\x1e\\xc8\\xdc\\xa0\\xcb\\x0b\\xe0,?\\x8b\\t\\xe3\\x82\\x96?D:\\xa5\\x14\\xda\\xa5\\x01%{\\t\\xa3k\\xf8\\xc4\\xc3\\x92\\xd8\\xca\\x1b\\xf49_\\r_%B\\x14\\x8c~_\\xf2\"7\\x96\\x98t\\xbff\\xcb\\x855~\\xf9\\x99V\\xac\\xcf\\x13\\xba\\x1a\\xf3l\\xa7\\xa9\\x1aPS<M\\x89\\xb75?\\x90\\x8cZ\\x16gt);\\x0b\\xf6$s\\x91\\xdfi\\xc8}\\xac\\xc4\\x12Z\\x99\\xecAr!\\xb5\\x81p\\xe638\\x1e8G\\xc6\\xb1\\xc2\\x8d\\xda)\\x13\\xc0\\x11\\xe1?\\xc4@o\\x8f\\xe7;\\xbfx\\xe8\\x03\\xe1\\xd9\\x95\\xceM'"
      ]
     },
     "execution_count": 2,
     "metadata": {},
     "output_type": "execute_result"
    }
   ],
   "source": [
    "ciphertexts[0]"
   ]
  },
  {
   "cell_type": "code",
   "execution_count": 5,
   "id": "8cf5041d-6686-4345-9956-9003c6b548f9",
   "metadata": {},
   "outputs": [],
   "source": [
    "def Chunkerize(x, chunksize, strict = True):\n",
    "    x = list(x)\n",
    "    assert len(x) % chunksize == 0 if strict else True\n",
    "    for n in range( len(x) // chunksize ):\n",
    "        yield x[ n*chunksize : (n+1)*chunksize ]"
   ]
  },
  {
   "cell_type": "code",
   "execution_count": 6,
   "id": "99ce8472-65af-45be-8f61-0d2f5a6d86ef",
   "metadata": {},
   "outputs": [
    {
     "name": "stdout",
     "output_type": "stream",
     "text": [
      "For ciphertext 132 ratio is 0.70\n"
     ]
    }
   ],
   "source": [
    "chunksize = 16\n",
    "for n, ciphertext in enumerate(ciphertexts):\n",
    "    unique_chunks = { bytes(chunk) for chunk in Chunkerize(ciphertext, chunksize, strict = True) }\n",
    "    ratio = len(unique_chunks) * 16 / len(ciphertext)\n",
    "    print(f'For ciphertext {n} ratio is {ratio:.2f}') if ratio < 0.99 else None"
   ]
  },
  {
   "cell_type": "code",
   "execution_count": null,
   "id": "29c17e2a-0d02-478c-a7fb-81d0ac28a51e",
   "metadata": {},
   "outputs": [],
   "source": []
  }
 ],
 "metadata": {
  "kernelspec": {
   "display_name": "Python 3 (ipykernel)",
   "language": "python",
   "name": "python3"
  },
  "language_info": {
   "codemirror_mode": {
    "name": "ipython",
    "version": 3
   },
   "file_extension": ".py",
   "mimetype": "text/x-python",
   "name": "python",
   "nbconvert_exporter": "python",
   "pygments_lexer": "ipython3",
   "version": "3.10.6"
  }
 },
 "nbformat": 4,
 "nbformat_minor": 5
}
